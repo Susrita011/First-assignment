{
 "cells": [
  {
   "cell_type": "markdown",
   "id": "84c1c231-de9b-480d-8182-c81179eb9a36",
   "metadata": {},
   "source": [
    "1 Discuss string slicing and provide examples\n",
    "\n",
    "ans. String slicing in Python is a method to extract a specific portion of a string using the syntax\n",
    "string[start:stop:step]. The start index is where the slice begins (inclusive), the stop index is \n",
    "where it ends (exclusive), and step is the interval between characters (optional). This allows\n",
    "efficient string manipulation, such as extracting substrings or reversing a string."
   ]
  },
  {
   "cell_type": "code",
   "execution_count": 1,
   "id": "61e2ddad-428f-4979-bcb4-6c287a87987a",
   "metadata": {},
   "outputs": [
    {
     "name": "stdout",
     "output_type": "stream",
     "text": [
      "Harry Potter And The Goblet Of Fire\n",
      "Harry\n",
      "Potter\n",
      "Harry \n",
      "otter And The Goblet Of Fire\n",
      "HryPte n h oltO ie\n",
      "t Of Fir\n",
      "eriF fO telboG ehT dnA rettoP yrraH\n",
      "Hry\n",
      "\n"
     ]
    }
   ],
   "source": [
    "#examples of string slicing\n",
    "a = \"Harry Potter And The Goblet Of Fire\"\n",
    "print(a)\n",
    "print(a[0:5])\n",
    "print(a[6:12])\n",
    "print(a[:6])\n",
    "print(a[7:])\n",
    "print(a[::2])\n",
    "print(a[-9:-1])\n",
    "print(a[::-1])\n",
    "print(a[0:5:2])\n",
    "print(a[-7:-2:-2])"
   ]
  },
  {
   "cell_type": "code",
   "execution_count": 2,
   "id": "01e91eab-9666-4dd7-a2c0-2498ff91fbaa",
   "metadata": {},
   "outputs": [
    {
     "name": "stdout",
     "output_type": "stream",
     "text": [
      "0123456789\n",
      "0369\n",
      "0246\n",
      "9876543210\n",
      "6543210\n"
     ]
    }
   ],
   "source": [
    "#another example\n",
    "b = \"0123456789\"\n",
    "print(b)\n",
    "print(b[::3])\n",
    "print(b[:7:2])\n",
    "print(b[::-1])\n",
    "print(b[6::-1])"
   ]
  },
  {
   "cell_type": "markdown",
   "id": "318b3dac-fb15-4078-aef9-5b779f993d94",
   "metadata": {},
   "source": [
    "2.  Explain the key features of lists in Python.\n",
    "\n",
    "ans. i)A list is one of the most versatile and commonly used data structures in Python. \n",
    "It is an ordered collectionof elements that can be of any data type, such as integers,\n",
    "strings, or other lists.\n",
    "     ii) Lists are mutable, which means you can change their contents after creation.\n",
    "     iii)You can access elements by their index, and you can perform various operations\n",
    "     like adding,removing, or sorting elements.\n",
    "     iv)Common operations include appending, inserting, and removing elements. You can \n",
    "     access elements via indexing and slicing, and list comprehensions provide a \n",
    "     concise way to create lists."
   ]
  },
  {
   "cell_type": "markdown",
   "id": "ec6440dc-1c9a-46a5-bf03-55f2540130e2",
   "metadata": {},
   "source": [
    "3. Describe how to access, modify, and delete elements an a list with examples."
   ]
  },
  {
   "cell_type": "code",
   "execution_count": 3,
   "id": "e9b2bcec-9b38-4797-9675-0066e27c6c21",
   "metadata": {},
   "outputs": [
    {
     "name": "stdout",
     "output_type": "stream",
     "text": [
      "10\n",
      "50\n",
      "[20, 30, 40]\n",
      "[10, 20, 35, 40, 50]\n",
      "[10, 35, 40, 50]\n",
      "[10, 35, 50]\n",
      "50\n",
      "[10, 35]\n"
     ]
    }
   ],
   "source": [
    "#answer \n",
    "my_list = [10, 20, 30, 40, 50]\n",
    "\n",
    "# Accessing elements\n",
    "print(my_list[0])     \n",
    "print(my_list[-1])    \n",
    "print(my_list[1:4])   \n",
    "\n",
    "# Modifying elements\n",
    "my_list[2] = 35\n",
    "print(my_list)        \n",
    "        \n",
    "# Deleting elements\n",
    "del my_list[1]\n",
    "print(my_list)        \n",
    "my_list.remove(40)\n",
    "print(my_list)        \n",
    "popped_element = my_list.pop()\n",
    "print(popped_element) \n",
    "print(my_list)  \n",
    "\n"
   ]
  },
  {
   "cell_type": "markdown",
   "id": "52b28210-da11-41c9-8c62-729b4073305a",
   "metadata": {},
   "source": [
    "4. Compare and contrast tuples and lists with examples.\n",
    "\n",
    "   ans. A)Similarities :\n",
    "i)Ordered Collections: Both tuples and lists maintain the order of elements.\n",
    "ii)Indexed Access: You can access elements in both tuples and lists using indices.\n",
    "iii)Heterogeneous Elements: Both can store elements of different types (e.g., integers, strings, other lists, etc.).\n",
    "iv)Slicing: Both support slicing to create sub-sequences.\n",
    "\n",
    "\n",
    "      B) Differences: \n",
    "i) Mutability:\n",
    "\n",
    "Lists are mutable, meaning you can change their content (add, remove, or modify elements) after creation.\n",
    "Tuples are immutable, meaning once created, their content cannot be changed.\n",
    "\n",
    "ii) Syntax:\n",
    "Lists use square brackets [].\n",
    "Tuples use parentheses ().\n",
    "\n",
    "\n",
    "iii) Methods:\n",
    "Lists have many built-in methods for modification like append(), remove(), pop(), sort(), etc.\n",
    "Tuples have fewer built-in methods, primarily count() and index().\n",
    "\n",
    "\n",
    "iv) Use Cases:\n",
    "Lists are used when you need a collection of items that can change.\n",
    "Tuples are used when you need a collection of items that should not change (e.g., to ensure data integrity, or for use as dictionary keys).\n",
    "\n"
   ]
  },
  {
   "cell_type": "code",
   "execution_count": 14,
   "id": "803de5fb-20d8-4787-a137-45852cdd08ea",
   "metadata": {},
   "outputs": [
    {
     "name": "stdout",
     "output_type": "stream",
     "text": [
      "[2, 4, 5, (7+8j), 'susrita', True, 2.2]\n",
      "[2, 4, 'yuki', (7+8j), 'susrita', True, 2.2]\n",
      "[2, 4, 'yuki', (7+8j), 'susrita', True, 2.2, 7]\n",
      "[2, 4, 'yuki', 'susrita', True, 2.2, 7]\n"
     ]
    }
   ],
   "source": [
    "# example of list :\n",
    "list = [2,4,5,7+8j,\"susrita\",True,2.2]\n",
    "print(list)\n",
    "list[2] = \"yuki\"     #list are mutable\n",
    "print(list)\n",
    "list.append(7)\n",
    "print(list)\n",
    "list.remove(7+8j)\n",
    "print(list)"
   ]
  },
  {
   "cell_type": "code",
   "execution_count": 16,
   "id": "1a6fd920-acc6-4f51-8268-19bb0acbc616",
   "metadata": {},
   "outputs": [
    {
     "name": "stdout",
     "output_type": "stream",
     "text": [
      "(1, 2, 3, 'hello', (4, 5))\n",
      "(2, 3, 'hello')\n"
     ]
    }
   ],
   "source": [
    "#example of tuple \n",
    "eris = (1, 2, 3, \"hello\", (4, 5))\n",
    "print(eris) \n",
    "print(eris[1:4])\n"
   ]
  },
  {
   "cell_type": "code",
   "execution_count": 11,
   "id": "a0f850a4-2d2e-42cf-a30b-8a7d8a1c0234",
   "metadata": {},
   "outputs": [
    {
     "ename": "TypeError",
     "evalue": "'tuple' object does not support item assignment",
     "output_type": "error",
     "traceback": [
      "\u001b[1;31m---------------------------------------------------------------------------\u001b[0m",
      "\u001b[1;31mTypeError\u001b[0m                                 Traceback (most recent call last)",
      "Cell \u001b[1;32mIn[11], line 2\u001b[0m\n\u001b[0;32m      1\u001b[0m eris \u001b[38;5;241m=\u001b[39m (\u001b[38;5;241m1\u001b[39m, \u001b[38;5;241m2\u001b[39m, \u001b[38;5;241m3\u001b[39m, \u001b[38;5;124m\"\u001b[39m\u001b[38;5;124mhello\u001b[39m\u001b[38;5;124m\"\u001b[39m, (\u001b[38;5;241m4\u001b[39m, \u001b[38;5;241m5\u001b[39m))\n\u001b[1;32m----> 2\u001b[0m \u001b[43meris\u001b[49m\u001b[43m[\u001b[49m\u001b[38;5;241;43m2\u001b[39;49m\u001b[43m]\u001b[49m \u001b[38;5;241m=\u001b[39m \u001b[38;5;124m\"\u001b[39m\u001b[38;5;124msus\u001b[39m\u001b[38;5;124m\"\u001b[39m\n\u001b[0;32m      3\u001b[0m \u001b[38;5;28mprint\u001b[39m(sus)\n",
      "\u001b[1;31mTypeError\u001b[0m: 'tuple' object does not support item assignment"
     ]
    }
   ],
   "source": [
    "eris = (1, 2, 3, \"hello\", (4, 5))    # tuples are immutable\n",
    "eris[2] = \"sus\"\n",
    "print(sus)"
   ]
  },
  {
   "cell_type": "markdown",
   "id": "601f65f3-b388-4bd9-979c-14230ddcf8c1",
   "metadata": {},
   "source": [
    "5.  Describe the key features of sets and provide examples of their uses.\n",
    "\n",
    "ans.  i)Unordered:\n",
    "Sets do not maintain any order of elements. This means that the elements in a set are not indexed \n",
    "and cannot be accessed via position.\n",
    "\n",
    "ii)Unique Elements:\n",
    "Sets automatically eliminate duplicate entries. Each element in a set is unique.\n",
    "\n",
    "iii)Mutable:\n",
    "Sets are mutable, meaning you can add or remove elements from them.\n",
    "\n",
    "iv)Immutable Elements:\n",
    "While sets themselves are mutable, the elements within a set must be immutable. This means you can \n",
    "have numbers, strings, and tuples as set elements, but not lists or dictionaries.\n",
    "\n",
    "iv)No Duplicates:\n",
    "Sets automatically handle duplicate elements by ensuring that each element appears only once.\n",
    "\n",
    "v)Set Operations:\n",
    "Sets support mathematical operations such as union, intersection, difference, and symmetric difference."
   ]
  },
  {
   "cell_type": "code",
   "execution_count": 17,
   "id": "afc04fc3-5ba3-423f-981f-211037f899bb",
   "metadata": {},
   "outputs": [
    {
     "name": "stdout",
     "output_type": "stream",
     "text": [
      "{'banana', 'orange', 'grapes', 'potato', 'cherry', 'apple'}\n"
     ]
    }
   ],
   "source": [
    "# example of sets\n",
    "fruits = {\"apple\",\"banana\",\"orange\",\"apple\",\"cherry\",\"grapes\",\"grapes\",\"potato\"}\n",
    "print(fruits)"
   ]
  },
  {
   "cell_type": "code",
   "execution_count": 19,
   "id": "039b13b7-9682-47c6-8df8-cd0642c260f0",
   "metadata": {},
   "outputs": [
    {
     "name": "stdout",
     "output_type": "stream",
     "text": [
      "{'banana', 'orange', 'mango', 'grapes', 'potato', 'cherry', 'apple'}\n"
     ]
    }
   ],
   "source": [
    "#add\n",
    "fruits.add(\"mango\")\n",
    "print(fruits)"
   ]
  },
  {
   "cell_type": "code",
   "execution_count": 20,
   "id": "2331e6cd-dcd4-44bf-a27c-da73fa0b708e",
   "metadata": {},
   "outputs": [
    {
     "name": "stdout",
     "output_type": "stream",
     "text": [
      "{'banana', 'orange', 'mango', 'grapes', 'cherry', 'apple'}\n"
     ]
    }
   ],
   "source": [
    "#remove\n",
    "fruits.remove(\"potato\")\n",
    "print(fruits)"
   ]
  },
  {
   "cell_type": "code",
   "execution_count": 21,
   "id": "952b153b-7e01-4fdc-9ed6-12f5edced17e",
   "metadata": {},
   "outputs": [
    {
     "name": "stdout",
     "output_type": "stream",
     "text": [
      "{'orange', 'mango', 'grapes', 'cherry', 'apple'}\n"
     ]
    }
   ],
   "source": [
    "#discard\n",
    "fruits.discard(\"banana\")\n",
    "print(fruits)"
   ]
  },
  {
   "cell_type": "code",
   "execution_count": 22,
   "id": "03697ec1-e4d0-44ad-8f49-32f4ea50fcda",
   "metadata": {},
   "outputs": [
    {
     "name": "stdout",
     "output_type": "stream",
     "text": [
      "{'mango', 'grapes', 'cherry', 'apple'}\n"
     ]
    }
   ],
   "source": [
    "fruits.pop()\n",
    "print(fruits)"
   ]
  },
  {
   "cell_type": "code",
   "execution_count": 23,
   "id": "8b373a16-d61b-420d-8c3f-8ef791403414",
   "metadata": {},
   "outputs": [
    {
     "name": "stdout",
     "output_type": "stream",
     "text": [
      "{1, 2, 3, 4, 5}\n",
      "{3}\n",
      "{1, 2}\n",
      "{1, 2, 4, 5}\n"
     ]
    }
   ],
   "source": [
    "# another example of set operations\n",
    "set1 = {1,2,3}\n",
    "set2 = {3,4,5}\n",
    "print(set1 | set2)       # union\n",
    "print(set1 & set2)       # intersection\n",
    "print(set1 - set2)       #difference\n",
    "print(set1 ^ set2)       #symetric difference\n"
   ]
  },
  {
   "cell_type": "markdown",
   "id": "37519292-6ce7-4350-b3fa-e33a9d275e65",
   "metadata": {},
   "source": [
    "6. Discuss the use cases of tuples and sets in Python programming.\n",
    "\n",
    "ans.  A) USE CASES OF TUPLE\n",
    "\n",
    "     i)Immutable Collections:\n",
    "           When you need to store a collection of items that should not change throughout the program.\n"
   ]
  },
  {
   "cell_type": "code",
   "execution_count": 2,
   "id": "f4082c69-80c4-4018-a55a-a49964e30fa3",
   "metadata": {},
   "outputs": [
    {
     "name": "stdout",
     "output_type": "stream",
     "text": [
      "(255, 0, 0)\n"
     ]
    }
   ],
   "source": [
    "#example\n",
    "number = (255, 0, 0)  # Red color\n",
    "print(number)"
   ]
  },
  {
   "cell_type": "code",
   "execution_count": 3,
   "id": "bae63b49-4580-4d23-8c5d-a07a1445b459",
   "metadata": {},
   "outputs": [
    {
     "ename": "TypeError",
     "evalue": "'tuple' object does not support item assignment",
     "output_type": "error",
     "traceback": [
      "\u001b[1;31m---------------------------------------------------------------------------\u001b[0m",
      "\u001b[1;31mTypeError\u001b[0m                                 Traceback (most recent call last)",
      "Cell \u001b[1;32mIn[3], line 1\u001b[0m\n\u001b[1;32m----> 1\u001b[0m \u001b[43mnumber\u001b[49m\u001b[43m[\u001b[49m\u001b[38;5;241;43m0\u001b[39;49m\u001b[43m]\u001b[49m \u001b[38;5;241m=\u001b[39m \u001b[38;5;241m2\u001b[39m\n\u001b[0;32m      2\u001b[0m \u001b[38;5;28mprint\u001b[39m(number)\n",
      "\u001b[1;31mTypeError\u001b[0m: 'tuple' object does not support item assignment"
     ]
    }
   ],
   "source": [
    "number[0] = 2\n",
    "print(number)      #  it will throw an error as tuples are immutable"
   ]
  },
  {
   "cell_type": "markdown",
   "id": "14eacf9a-f1ad-499a-b9d2-fa1bb01d623c",
   "metadata": {},
   "source": [
    "ii) Returning multiple values :\n",
    "       Functions that need to return multiple values can return them as a tuple."
   ]
  },
  {
   "cell_type": "code",
   "execution_count": 4,
   "id": "522b71d8-d1df-449a-93fb-b540c8e5d0de",
   "metadata": {},
   "outputs": [
    {
     "name": "stdout",
     "output_type": "stream",
     "text": [
      "(8, 15)\n"
     ]
    }
   ],
   "source": [
    "# example\n",
    "def sum_and_product(a, b):\n",
    "    return (a + b, a * b)\n",
    "\n",
    "result = sum_and_product(3, 5)\n",
    "print(result)  \n"
   ]
  },
  {
   "cell_type": "markdown",
   "id": "2a25da92-60ff-43a0-bd8c-c8be8bf94d80",
   "metadata": {},
   "source": [
    "iii) Data Integrity:\n",
    "        When you want to ensure that the data structure remains unchanged, using tuples provides a level of data integrity.\n"
   ]
  },
  {
   "cell_type": "code",
   "execution_count": 12,
   "id": "a47eaf88-281c-480c-a01d-635bd3e1d788",
   "metadata": {},
   "outputs": [
    {
     "name": "stdout",
     "output_type": "stream",
     "text": [
      "('John', 'Doe', 30)\n"
     ]
    }
   ],
   "source": [
    "#example\n",
    "user_info = (\"John\", \"Doe\", 30)\n",
    "print(user_info)"
   ]
  },
  {
   "cell_type": "markdown",
   "id": "33a40137-5fb1-4a68-a05c-1ddf89677969",
   "metadata": {},
   "source": [
    "iv) Unpacking: \n",
    "         Tuples support unpacking, allowing you to assign multiple variables at once.\n",
    "        "
   ]
  },
  {
   "cell_type": "code",
   "execution_count": 9,
   "id": "9f66a8df-3927-4ff5-8e1b-dabcb27f5021",
   "metadata": {},
   "outputs": [
    {
     "name": "stdout",
     "output_type": "stream",
     "text": [
      "Alice 25\n"
     ]
    }
   ],
   "source": [
    "name, age = (\"Alice\", 25)\n",
    "print(name, age)\n"
   ]
  },
  {
   "cell_type": "markdown",
   "id": "532c538e-4fa2-42b0-8668-9f8f16e3eaf0",
   "metadata": {},
   "source": [
    "     B) USE CASES OF SETS\n",
    "       i) Unique Collections:\n",
    "              When you need to store a collection of unique items, sets are the perfect choice \n",
    "              since they automatically eliminate duplicates."
   ]
  },
  {
   "cell_type": "code",
   "execution_count": 10,
   "id": "dcebab2b-0c7f-4c9d-9cc4-eecdbc5439ef",
   "metadata": {},
   "outputs": [
    {
     "name": "stdout",
     "output_type": "stream",
     "text": [
      "{1, 2, 3, 4, 5}\n"
     ]
    }
   ],
   "source": [
    "# example\n",
    "user_ids = {1, 2, 3, 4, 5}\n",
    "print(user_ids)"
   ]
  },
  {
   "cell_type": "markdown",
   "id": "bacd207a-fdca-4ce9-90fe-b88c807de43c",
   "metadata": {},
   "source": [
    "ii) Membership Testing:\n",
    "        Sets provide efficient membership testing (checking if an item is in the collection) because\n",
    "        they are implemented using hash tables."
   ]
  },
  {
   "cell_type": "code",
   "execution_count": 11,
   "id": "28df2539-ea4d-4a8f-bfcd-4ac4095dfa0d",
   "metadata": {},
   "outputs": [
    {
     "name": "stdout",
     "output_type": "stream",
     "text": [
      "True\n"
     ]
    }
   ],
   "source": [
    "# example\n",
    "allowed_users = {1, 2, 3}\n",
    "print(1 in allowed_users)   "
   ]
  },
  {
   "cell_type": "markdown",
   "id": "7ff1d631-21da-466b-901d-c8ddd2bedb40",
   "metadata": {},
   "source": [
    "iii)Set Operations:\n",
    "        Performing mathematical set operations like union, intersection, and difference is \n",
    "        straightforward and efficient with sets.\n"
   ]
  },
  {
   "cell_type": "code",
   "execution_count": 13,
   "id": "ce7afb5b-b464-41be-adc2-46df13dbbcad",
   "metadata": {},
   "outputs": [
    {
     "name": "stdout",
     "output_type": "stream",
     "text": [
      "{1, 2, 3, 4, 5}\n",
      "{3}\n",
      "{1, 2}\n",
      "{1, 2, 4, 5}\n"
     ]
    }
   ],
   "source": [
    "# example\n",
    "set1 = {1,2,3}\n",
    "set2 = {3,4,5}\n",
    "print(set1 | set2)       # union\n",
    "print(set1 & set2)       # intersection\n",
    "print(set1 - set2)       #difference\n",
    "print(set1 ^ set2)       #symetric difference\n",
    "\n"
   ]
  },
  {
   "cell_type": "markdown",
   "id": "2b92822c-b10f-4ead-a7eb-a96a64ee387b",
   "metadata": {},
   "source": [
    "iv)Removing Duplicates from a Collection:\n",
    "        When processing lists with possible duplicates, converting them to a set is an efficient\n",
    "        way to eliminate duplicates."
   ]
  },
  {
   "cell_type": "code",
   "execution_count": 14,
   "id": "74df00bf-69e6-40bd-b5f1-3e610e12f27d",
   "metadata": {},
   "outputs": [
    {
     "name": "stdout",
     "output_type": "stream",
     "text": [
      "{'spinach', 'radish', 'cabbage', 'potato', 'onion'}\n",
      "<class 'set'>\n"
     ]
    }
   ],
   "source": [
    "vegetables = {\"potato\",\"onion\",\"spinach\",\"cabbage\",\"potato\",\"cabbage\",\"radish\"}\n",
    "print(vegetables)\n",
    "print(type(vegetables))      "
   ]
  },
  {
   "cell_type": "markdown",
   "id": "c02ef581-f836-4ab7-9142-4a245a06a8d9",
   "metadata": {},
   "source": [
    "7. Describe how to add, modify, and delete items in a dictionary with examples.\n",
    "\n",
    "ans. Dictionaries in Python are unordered collections of key-value pairs. Each key is unique, \n",
    "and it maps to a specific value. They are mutable, which means you can add, modify, and delete items. "
   ]
  },
  {
   "cell_type": "code",
   "execution_count": 15,
   "id": "9cbda4d5-85f0-4c8a-b324-3c1abbfa2307",
   "metadata": {},
   "outputs": [
    {
     "name": "stdout",
     "output_type": "stream",
     "text": [
      "{'name': 'Alice', 'age': 25, 'city': 'New York'}\n"
     ]
    }
   ],
   "source": [
    "#adding items\n",
    "my_dict = {}\n",
    "my_dict[\"name\"] = \"Alice\"\n",
    "my_dict[\"age\"] = 25\n",
    "my_dict[\"city\"] = \"New York\"\n",
    "print(my_dict)  "
   ]
  },
  {
   "cell_type": "code",
   "execution_count": 16,
   "id": "e93c0b42-f715-4e0d-967d-35a01c69dc43",
   "metadata": {},
   "outputs": [
    {
     "name": "stdout",
     "output_type": "stream",
     "text": [
      "{'name': 'Alice', 'age': 26, 'city': 'San Francisco'}\n"
     ]
    }
   ],
   "source": [
    "# modify items\n",
    "my_dict = {\"name\": \"Alice\", \"age\": 25, \"city\": \"New York\"}\n",
    "my_dict[\"age\"] = 26\n",
    "my_dict[\"city\"] = \"San Francisco\"\n",
    "print(my_dict)  "
   ]
  },
  {
   "cell_type": "code",
   "execution_count": 17,
   "id": "347bc9dc-d70e-488b-813e-f04b92c403be",
   "metadata": {},
   "outputs": [
    {
     "name": "stdout",
     "output_type": "stream",
     "text": [
      "{'name': 'Alice', 'city': 'San Francisco'}\n"
     ]
    }
   ],
   "source": [
    "#deleting items using del\n",
    "my_dict = {\"name\": \"Alice\", \"age\": 26, \"city\": \"San Francisco\"}\n",
    "del my_dict[\"age\"]\n",
    "print(my_dict)  "
   ]
  },
  {
   "cell_type": "code",
   "execution_count": 22,
   "id": "b44f2abe-e268-4255-b86c-a009fc50fb09",
   "metadata": {},
   "outputs": [
    {
     "name": "stdout",
     "output_type": "stream",
     "text": [
      "26\n",
      "{'name': 'Alice', 'city': 'San Francisco'}\n"
     ]
    }
   ],
   "source": [
    "#another example of deleting items using pop\n",
    "my_dict = {\"name\": \"Alice\", \"age\": 26, \"city\": \"San Francisco\"}\n",
    "age = my_dict.pop(\"age\")\n",
    "print(age)\n",
    "print(my_dict) "
   ]
  },
  {
   "cell_type": "code",
   "execution_count": 24,
   "id": "5f924e68-cd7c-4b34-859e-85cc239eb4c6",
   "metadata": {},
   "outputs": [
    {
     "name": "stdout",
     "output_type": "stream",
     "text": [
      "('city', 'San Francisco')\n",
      "{'name': 'Alice', 'age': 26}\n"
     ]
    }
   ],
   "source": [
    "#another example of deleting items using popitem\n",
    "my_dict = {\"name\": \"Alice\", \"age\": 26, \"city\": \"San Francisco\"}\n",
    "item = my_dict.popitem()\n",
    "print(item)      \n",
    "print(my_dict)   \n"
   ]
  },
  {
   "cell_type": "code",
   "execution_count": 25,
   "id": "8c3e503a-2efc-45a2-9603-427c46d034d2",
   "metadata": {},
   "outputs": [
    {
     "name": "stdout",
     "output_type": "stream",
     "text": [
      "{}\n"
     ]
    }
   ],
   "source": [
    "#another example of deleting items using clear\n",
    "my_dict = {\"name\": \"Alice\", \"age\": 26, \"city\": \"San Francisco\"}\n",
    "my_dict.clear()\n",
    "print(my_dict)   \n"
   ]
  },
  {
   "cell_type": "markdown",
   "id": "349e310f-e7ad-4d7a-ac91-b5f252a656fd",
   "metadata": {},
   "source": [
    "8) Discuss the importance of dictionary keys being immutable and provide examples.\n",
    "\n",
    " ans.  In Python, dictionary keys must be immutable because the keys are used in a hash table\n",
    "        to provide fast access to values. The immutability ensures that the hash value of a key remains\n",
    "         constant, allowing the dictionary to retrieve and store data efficiently. If keys were mutable,\n",
    "        their hash values could change, leading to inconsistencies and unpredictable behavior in the dictionary."
   ]
  },
  {
   "cell_type": "markdown",
   "id": "f58d95cd-ca5a-492f-b2cd-b8d09b706a26",
   "metadata": {},
   "source": [
    "* Examples of Immutable and Mutable Types\n",
    "Immutable Types (can be used as dictionary keys):\n",
    "i)Strings\n",
    "ii)Numbers (integers, floats)\n",
    "iii)Tuples (containing only immutable elements)\n",
    "\n",
    "* Mutable Types (cannot be used as dictionary keys):\n",
    "i)Lists\n",
    "ii)Dictionaries\n",
    "iii)Sets"
   ]
  },
  {
   "cell_type": "code",
   "execution_count": null,
   "id": "f9682a9d-5939-484f-92a0-10ed73f6c5a1",
   "metadata": {},
   "outputs": [],
   "source": [
    "#Examples of Using Immutable Keys in Dictionaries\n"
   ]
  },
  {
   "cell_type": "code",
   "execution_count": 26,
   "id": "9e802881-4ff7-4a4d-a826-2081557b25a2",
   "metadata": {},
   "outputs": [
    {
     "name": "stdout",
     "output_type": "stream",
     "text": [
      "Alice\n"
     ]
    }
   ],
   "source": [
    "#i) Strings as Keys:\n",
    "my_dict = {\"name\": \"Alice\",\"age\": 30,\"city\": \"New York\"}\n",
    "print(my_dict[\"name\"])  "
   ]
  },
  {
   "cell_type": "code",
   "execution_count": 27,
   "id": "50b77d47-b7db-456d-9700-45411f2ca28a",
   "metadata": {},
   "outputs": [
    {
     "name": "stdout",
     "output_type": "stream",
     "text": [
      "two\n"
     ]
    }
   ],
   "source": [
    "#ii) Numbers as Keys:\n",
    "my_dict = { 1: \"one\",2: \"two\",3: \"three\"}\n",
    "print(my_dict[2])  "
   ]
  },
  {
   "cell_type": "code",
   "execution_count": 28,
   "id": "06e025af-0805-4fe3-9423-5439a4f47be8",
   "metadata": {},
   "outputs": [
    {
     "name": "stdout",
     "output_type": "stream",
     "text": [
      "tuple2\n"
     ]
    }
   ],
   "source": [
    "#iii) Tuples as Keys:\n",
    "my_dict = {(1, 2): \"tuple1\",(3, 4): \"tuple2\",(5, 6): \"tuple3\"}\n",
    "print(my_dict[(3, 4)]) "
   ]
  },
  {
   "cell_type": "markdown",
   "id": "3f3a4a8a-7893-4505-9b05-b990b6eac9c8",
   "metadata": {},
   "source": [
    "  Problems with Mutable Keys "
   ]
  },
  {
   "cell_type": "code",
   "execution_count": 29,
   "id": "8c0a169d-d9a7-450d-bae9-94b4417ea6b1",
   "metadata": {},
   "outputs": [
    {
     "ename": "TypeError",
     "evalue": "unhashable type: 'list'",
     "output_type": "error",
     "traceback": [
      "\u001b[1;31m---------------------------------------------------------------------------\u001b[0m",
      "\u001b[1;31mTypeError\u001b[0m                                 Traceback (most recent call last)",
      "Cell \u001b[1;32mIn[29], line 2\u001b[0m\n\u001b[0;32m      1\u001b[0m \u001b[38;5;66;03m#Using Lists as Keys:\u001b[39;00m\n\u001b[1;32m----> 2\u001b[0m my_dict \u001b[38;5;241m=\u001b[39m {[\u001b[38;5;241m1\u001b[39m, \u001b[38;5;241m2\u001b[39m]: \u001b[38;5;124m\"\u001b[39m\u001b[38;5;124mlist1\u001b[39m\u001b[38;5;124m\"\u001b[39m, [\u001b[38;5;241m3\u001b[39m, \u001b[38;5;241m4\u001b[39m]: \u001b[38;5;124m\"\u001b[39m\u001b[38;5;124mlist2\u001b[39m\u001b[38;5;124m\"\u001b[39m}\n\u001b[0;32m      3\u001b[0m \u001b[38;5;28mprint\u001b[39m(my_dict)\n",
      "\u001b[1;31mTypeError\u001b[0m: unhashable type: 'list'"
     ]
    }
   ],
   "source": [
    "#Using Lists as Keys:\n",
    "my_dict = {[1, 2]: \"list1\", [3, 4]: \"list2\"}\n",
    "print(my_dict)                                           #  it will raise an error bcz lists can not be used as dictionary keys"
   ]
  },
  {
   "cell_type": "code",
   "execution_count": 30,
   "id": "085d881d-a1cc-4b58-ab00-0e4e6cc9314c",
   "metadata": {},
   "outputs": [
    {
     "ename": "TypeError",
     "evalue": "unhashable type: 'set'",
     "output_type": "error",
     "traceback": [
      "\u001b[1;31m---------------------------------------------------------------------------\u001b[0m",
      "\u001b[1;31mTypeError\u001b[0m                                 Traceback (most recent call last)",
      "Cell \u001b[1;32mIn[30], line 2\u001b[0m\n\u001b[0;32m      1\u001b[0m \u001b[38;5;66;03m#ii) Illustrating the Issues with Mutable Keys:\u001b[39;00m\n\u001b[1;32m----> 2\u001b[0m my_dict \u001b[38;5;241m=\u001b[39m {{\u001b[38;5;124m\"\u001b[39m\u001b[38;5;124mmutable\u001b[39m\u001b[38;5;124m\"\u001b[39m}: \u001b[38;5;124m\"\u001b[39m\u001b[38;5;124mvalue\u001b[39m\u001b[38;5;124m\"\u001b[39m}\n\u001b[0;32m      3\u001b[0m \u001b[38;5;28mprint\u001b[39m(my_dict)\n",
      "\u001b[1;31mTypeError\u001b[0m: unhashable type: 'set'"
     ]
    }
   ],
   "source": [
    "#ii) Illustrating the Issues with Mutable Keys:\n",
    "my_dict = {{\"mutable\"}: \"value\"}\n",
    "print(my_dict)                                 #  it will raise an error bcz set can not be used as dictionary keys"
   ]
  },
  {
   "cell_type": "code",
   "execution_count": 31,
   "id": "a4dcc5ab-98cf-4e14-8eff-69a6929ffa78",
   "metadata": {},
   "outputs": [
    {
     "ename": "TypeError",
     "evalue": "unhashable type: 'dict'",
     "output_type": "error",
     "traceback": [
      "\u001b[1;31m---------------------------------------------------------------------------\u001b[0m",
      "\u001b[1;31mTypeError\u001b[0m                                 Traceback (most recent call last)",
      "Cell \u001b[1;32mIn[31], line 1\u001b[0m\n\u001b[1;32m----> 1\u001b[0m my_dict \u001b[38;5;241m=\u001b[39m {{\u001b[38;5;124m\"\u001b[39m\u001b[38;5;124mkey\u001b[39m\u001b[38;5;124m\"\u001b[39m:\u001b[38;5;241m125\u001b[39m}: \u001b[38;5;124m\"\u001b[39m\u001b[38;5;124mvalue\u001b[39m\u001b[38;5;124m\"\u001b[39m}\n\u001b[0;32m      2\u001b[0m \u001b[38;5;28mprint\u001b[39m(my_dict)                                 \u001b[38;5;66;03m#  it will raise an error bcz set can not be used as dictionary keys\u001b[39;00m\n",
      "\u001b[1;31mTypeError\u001b[0m: unhashable type: 'dict'"
     ]
    }
   ],
   "source": [
    "my_dict = {{\"key\":125}: \"value\"}\n",
    "print(my_dict)                                 #  it will raise an error bcz dictionary can not be used as dictionary keys"
   ]
  }
 ],
 "metadata": {
  "kernelspec": {
   "display_name": "Python 3 (ipykernel)",
   "language": "python",
   "name": "python3"
  },
  "language_info": {
   "codemirror_mode": {
    "name": "ipython",
    "version": 3
   },
   "file_extension": ".py",
   "mimetype": "text/x-python",
   "name": "python",
   "nbconvert_exporter": "python",
   "pygments_lexer": "ipython3",
   "version": "3.11.4"
  }
 },
 "nbformat": 4,
 "nbformat_minor": 5
}
