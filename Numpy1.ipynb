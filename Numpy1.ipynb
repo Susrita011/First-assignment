{
 "cells": [
  {
   "cell_type": "raw",
   "id": "7caa962f-a279-44e1-8de4-4f6cc0253a68",
   "metadata": {},
   "source": [
    "                                                      THEORY QUESTIONS "
   ]
  },
  {
   "cell_type": "markdown",
   "id": "bba84c04-4a15-4f37-8127-b2783e9d9ee4",
   "metadata": {},
   "source": [
    "1. Explain the purpose and advantages of NumPy in scientific computing and data analysis. How does it\n",
    "enhance Python's capabilities for numerical operations?"
   ]
  },
  {
   "cell_type": "markdown",
   "id": "c8661e55-6120-42f9-b4fb-c2d02a9a3678",
   "metadata": {},
   "source": [
    "ans. NumPy is a crucial library for scientific computing and data analysis in Python, providing efficient support for large, multi-dimensional arrays and a wide range of mathematical functions. Here's a brief overview of its purpose and advantages:\n",
    "\n",
    "*) Purpose of NumPy:\n",
    "    \n",
    "     i) Efficient Array Computations: Optimized for performance with n-dimensional arrays.\n",
    "     ii) Mathematical Functions: Extensive library for complex calculations.\n",
    "     iii) Linear Algebra and Random Number Generation: Tools for common scientific tasks.\n",
    "     iv) Interoperability: Works seamlessly with other Python libraries.\n",
    "*) Advantages of NumPy:\n",
    "     \n",
    "     i) Performance: Up to 50 times faster than native Python lists.\n",
    "     ii) Memory Efficiency: More compact than Python lists.\n",
    "     iii) Vectorization: Element-wise operations without explicit loops.\n",
    "     iv) Broadcasting: Simplifies operations between arrays of different shapes.\n",
    "     v) Comprehensive Library: Extensive functions for various tasks.\n",
    "     vi) Integration: Works well with libraries like pandas, Matplotlib, and TensorFlow.\n",
    "*) Enhancing Python's Capabilities:\n",
    "     \n",
    "     i) Ease of Use: Intuitive and straightforward API.\n",
    "     ii) Standardization: Consistent array structure across scientific libraries.\n",
    "     iii) High-Level Operations: Simple syntax for complex tasks.\n",
    "     iv) Support for Multi-Dimensional Data: Efficient handling of complex data structures.\n",
    "     v) In summary, NumPy boosts Python's efficiency, performance, and capability for numerical operations, making it indispensable for          data scientists and researchers."
   ]
  },
  {
   "cell_type": "markdown",
   "id": "9e98dd0e-7f6a-40fa-a588-24105e79b7fb",
   "metadata": {},
   "source": [
    "2. Compare and contrast np.mean() and np.average() functions in NumPy. When would you use one over the\n",
    "other?"
   ]
  },
  {
   "cell_type": "markdown",
   "id": "1be622c3-b084-4cba-be07-fbd81917d5d5",
   "metadata": {},
   "source": [
    "np.mean() vs. np.average()\n",
    " \n",
    " I) np.mean():\n",
    "\n",
    "     i) Purpose: Computes the arithmetic mean (simple average).\n",
    "     ii) Syntax: np.mean(a, axis=None, dtype=None, out=None, keepdims=False)\n",
    "    iii) Usage: Use when all elements are equally important, and no weights are needed.\n",
    "\n",
    "II) np.average():\n",
    "\n",
    "        i) Purpose: Computes the weighted average.\n",
    "        ii) Syntax: np.average(a, axis=None, weights=None, returned=False)\n",
    "        iii) Usage: Use when elements have different weights or importance.\n",
    "\n",
    "*)key Differences:\n",
    "  a) Weights:\n",
    "        i) np.mean() does not use weights.\n",
    "        ii) np.average() can use a weights parameter.\n",
    "  b)Return Values:\n",
    "        i)np.mean() returns a single mean value.\n",
    "        ii)np.average() can return both the weighted average and the sum of weights (if returned=True).\n",
    "*) When to Use:\n",
    "       i) Use np.mean():\n",
    "             * For simple, unweighted averages.\n",
    "       ii) Use np.average():\n",
    "             * For weighted averages where elements contribute differently."
   ]
  },
  {
   "cell_type": "code",
   "execution_count": 3,
   "id": "d4ce8d73-e201-48f8-9aa9-9a7479ff57aa",
   "metadata": {},
   "outputs": [
    {
     "name": "stdout",
     "output_type": "stream",
     "text": [
      "Mean: 2.5\n",
      "Weighted Average: 3.0\n"
     ]
    }
   ],
   "source": [
    "import numpy as np\n",
    "\n",
    "data = np.array([1, 2, 3, 4])\n",
    "mean_value = np.mean(data)  # Simple average\n",
    "weights = np.array([1, 2, 3, 4])\n",
    "weighted_average = np.average(data, weights=weights)  # Weighted average\n",
    "\n",
    "print(\"Mean:\", mean_value)\n",
    "print(\"Weighted Average:\", weighted_average)\n"
   ]
  },
  {
   "cell_type": "markdown",
   "id": "97716239-8c53-4ba4-b10f-741e5ccece17",
   "metadata": {},
   "source": [
    "3. Describe the methods for reversing a NumPy array along different axes. Provide examples for 1D and 2D\n",
    "arrays."
   ]
  },
  {
   "cell_type": "markdown",
   "id": "645ecb6a-8281-4cb6-90ca-fb5014321d52",
   "metadata": {},
   "source": [
    "ans. Reversing a NumPy array can be done using slicing or the np.flip() function.\n",
    "\n",
    "*) Methods for Reversing a NumPy Array:\n",
    "\n",
    "        i)Using Slicing: This is the most straightforward way to reverse an array.\n",
    "        ii) Using np.flip(): This function allows you to reverse the order of elements along specified axes."
   ]
  },
  {
   "cell_type": "code",
   "execution_count": 5,
   "id": "075750d2-2d3c-4777-af19-5aa1d4c746d1",
   "metadata": {},
   "outputs": [
    {
     "name": "stdout",
     "output_type": "stream",
     "text": [
      "Original 1D array: [1 2 3 4 5]\n",
      "Reversed 1D array using slicing: [5 4 3 2 1]\n"
     ]
    }
   ],
   "source": [
    "#1D array example\n",
    "\n",
    "# i) using slicing\n",
    "import numpy as np\n",
    "\n",
    "# 1D array\n",
    "arr_1d = np.array([1, 2, 3, 4, 5])\n",
    "\n",
    "# Reverse using slicing\n",
    "reversed_1d_slicing = arr_1d[::-1]\n",
    "\n",
    "print(\"Original 1D array:\", arr_1d)\n",
    "print(\"Reversed 1D array using slicing:\", reversed_1d_slicing)\n"
   ]
  },
  {
   "cell_type": "code",
   "execution_count": 6,
   "id": "3755388c-986b-4eb0-b26f-d174784411dc",
   "metadata": {},
   "outputs": [
    {
     "name": "stdout",
     "output_type": "stream",
     "text": [
      "Reversed 1D array using np.flip: [5 4 3 2 1]\n"
     ]
    }
   ],
   "source": [
    "# using np.flip()\n",
    "# Reverse using np.flip\n",
    "reversed_1d_flip = np.flip(arr_1d)\n",
    "\n",
    "print(\"Reversed 1D array using np.flip:\", reversed_1d_flip)\n"
   ]
  },
  {
   "cell_type": "code",
   "execution_count": 7,
   "id": "dbb46a2a-46b5-4407-9d7a-0e0468dc6ac6",
   "metadata": {},
   "outputs": [
    {
     "name": "stdout",
     "output_type": "stream",
     "text": [
      "[[7 8 9]\n",
      " [4 5 6]\n",
      " [1 2 3]]\n"
     ]
    }
   ],
   "source": [
    "# 2D Array\n",
    "# reveraing rows\n",
    "arr2d = np.array([[1, 2, 3],\n",
    "                  [4, 5, 6],\n",
    "                  [7, 8, 9]])\n",
    "\n",
    "reversed_rows = arr2d[::-1, :]\n",
    "print(reversed_rows)  \n"
   ]
  },
  {
   "cell_type": "code",
   "execution_count": 8,
   "id": "51741ff8-3813-436c-b9ca-91215475c3d6",
   "metadata": {},
   "outputs": [
    {
     "name": "stdout",
     "output_type": "stream",
     "text": [
      "[[3 2 1]\n",
      " [6 5 4]\n",
      " [9 8 7]]\n"
     ]
    }
   ],
   "source": [
    "# reversing columns\n",
    "reversed_cols = arr2d[:, ::-1]\n",
    "print(reversed_cols) "
   ]
  },
  {
   "cell_type": "code",
   "execution_count": 12,
   "id": "61ca105b-76c7-4667-b9d3-3692939e1730",
   "metadata": {},
   "outputs": [
    {
     "name": "stdout",
     "output_type": "stream",
     "text": [
      "[[7 8 9]\n",
      " [4 5 6]\n",
      " [1 2 3]]\n",
      "[[3 2 1]\n",
      " [6 5 4]\n",
      " [9 8 7]]\n"
     ]
    }
   ],
   "source": [
    "#using n.flip()\n",
    "\n",
    "# Reversing rows of 2D array\n",
    "reversed_rows = np.flip(arr2d, axis=0)\n",
    "print(reversed_rows)\n",
    "\n",
    "# Reversing columns of 2D array\n",
    "reversed_cols = np.flip(arr2d, axis=1)\n",
    "print(reversed_cols)\n"
   ]
  },
  {
   "cell_type": "markdown",
   "id": "488d369f-e352-4d45-a5d9-8b703fab42dd",
   "metadata": {},
   "source": [
    "4. How can you determine the data type of elements in a NumPy array? Discuss the importance of data types\n",
    "in memory management and performance."
   ]
  },
  {
   "cell_type": "markdown",
   "id": "b8a23ba7-9df6-4e96-80cb-1633b69409a2",
   "metadata": {},
   "source": [
    "ans. To determine the data type of elements in a NumPy array, you can use the dtype attribute:"
   ]
  },
  {
   "cell_type": "code",
   "execution_count": 13,
   "id": "9c139e89-a277-4260-932d-5ca61435008d",
   "metadata": {},
   "outputs": [
    {
     "name": "stdout",
     "output_type": "stream",
     "text": [
      "int64\n"
     ]
    }
   ],
   "source": [
    "import numpy as np\n",
    "\n",
    "arr = np.array([1, 2, 3, 4, 5])\n",
    "print(arr.dtype)  "
   ]
  },
  {
   "cell_type": "markdown",
   "id": "21260c69-40fc-4e6d-8331-35ab5119b3da",
   "metadata": {},
   "source": [
    "*) Importance of Data Types in Memory Management and Performance:\n",
    "Data types play a crucial role in memory management and performance optimization in NumPy:\n",
    "\n",
    "   i) Memory Efficiency:\n",
    "\n",
    "        a)Smaller Data Types: Using smaller data types (e.g., int16, float32) can significantly reduce memory consumption, especially for large arrays.\n",
    "        b)Memory Allocation: NumPy allocates contiguous memory blocks for arrays. The data type determines the size of each element, which directly impacts the overall memory footprint.\n",
    "\n",
    "   ii) Computational Efficiency:\n",
    "\n",
    "      a)Optimized Operations: NumPy's operations are often optimized for specific data types. Using appropriate data types can lead to faster computations.\n",
    "       b)Cache Efficiency: Smaller data types can fit more elements into cache, improving performance by reducing memory access times.\n",
    "\n",
    "   iii)Precision:\n",
    "\n",
    "      a) Data Loss: Choosing a data type with insufficient precision can lead to data loss or inaccurate results.\n",
    "      b) Balance: It's essential to balance precision and memory usage. For example, if high precision is not required,\n",
    "          using float32 instead of float64 can save memory.\n",
    "\n",
    "\n",
    "    iv) Considerations for Data Type Selection:\n",
    "\n",
    "        a) Range of Values: The data type should be able to represent the full range of values in the array.\n",
    "        b) Precision Requirements: The data type should provide sufficient precision for the calculations.\n",
    "        c) Memory Constraints: If memory is limited, consider using smaller data types.\n",
    "        d) Performance Considerations: The data type can impact computational performance, especially for large arrays.\n",
    "\n",
    "*)By carefully considering these factors, you can optimize your NumPy arrays for both memory usage and computational efficiency.\n"
   ]
  },
  {
   "cell_type": "markdown",
   "id": "15b5c01d-f78f-4d9a-90c4-7d698fdd70fb",
   "metadata": {},
   "source": [
    "5. Define ndarrays in NumPy and explain their key features. How do they differ from standard Python lists?"
   ]
  },
  {
   "cell_type": "markdown",
   "id": "ccda1c8e-ebd1-43c7-83ad-1ea34c615ec8",
   "metadata": {},
   "source": [
    "ans. Defining ndarray in NumPy:\n",
    "     In NumPy, an ndarray (n-dimensional array) is a powerful multi-dimensional array object that forms the core of the library. \n",
    "     It is designed to handle large data sets efficiently and supports a variety of mathematical operations.\n",
    "\n",
    "\n",
    "A) Key Features of ndarray\n",
    "\n",
    "i) N-Dimensional:\n",
    "\n",
    "    Supports arrays of any dimension (1D, 2D, 3D, etc.), making it versatile for various types of data structures like vectors, matrices, and tensors.\n",
    "\n",
    "ii) Homogeneous Data Types:\n",
    "\n",
    "    All elements in an ndarray are of the same type, ensuring efficient memory use and performance. The data type (dtype) can be specified at the time of array creation.\n",
    "\n",
    "iii) Efficient Memory Storage:\n",
    "\n",
    "    Elements are stored in contiguous memory blocks, which enhances performance for operations and allows for efficient use of the CPU cache.\n",
    "\n",
    "\n",
    "iv) Vectorized Operations:\n",
    "\n",
    "    supports element-wise operations and broadcasting, which means operations can be applied simultaneously across all elements of the array without explicit loops.\n",
    "\n",
    "v) Mathematical Functions:\n",
    "\n",
    "      NumPy provides a rich library of functions to perform complex mathematical operations directly on ndarray objects.\n",
    "\n",
    "\n",
    "vi) Shape and Reshape:\n",
    "\n",
    "      The shape of an ndarray can be altered without copying the data, allowing for flexible manipulation of data structures.\n",
    "\n",
    "vii) Indexing and Slicing:\n",
    "\n",
    "        Supports advanced indexing and slicing, enabling easy access and manipulation of subsets of the array.\n",
    "\n",
    "\n",
    "B) How ndarray Differs from Standard Python Lists\n",
    "\n",
    "I)Homogeneity:\n",
    "\n",
    "    i) ndarray: Elements must be of the same data type.\n",
    "    ii) Python Lists: Can contain elements of different data types.\n",
    "\n",
    "II) Memory Efficiency:\n",
    "\n",
    "     i) ndarray: Stores elements in contiguous memory, reducing overhead and improving access speed.\n",
    "     ii) Python Lists: Elements are stored as separate objects, leading to higher memory overhead and slower access.\n",
    "\n",
    "III)Performance:\n",
    "\n",
    "      i) ndarray: Optimized for numerical operations, supporting vectorized operations that are much faster than loops\n",
    "          in standard Python.\n",
    "      ii) Python Lists: Not optimized for numerical operations, requiring explicit loops for element-wise operations, which are slower.\n",
    "\n",
    "IV) Built-in Functions:\n",
    "\n",
    "     i) ndarray: Comes with a wide range of built-in functions for mathematical, statistical, and linear algebra operations.\n",
    "     ii) Python Lists: Limited built-in functionality; external libraries or manual implementations are often required\n",
    "     for advanced operations.\n",
    "\n",
    "V) Broadcasting:\n",
    "\n",
    "    i)ndarray: Supports broadcasting, allowing operations on arrays of different shapes.\n",
    "    ii) Python Lists: No native support for broadcasting; manual handling is needed.\n",
    "\n",
    "VI)Shape Manipulation:\n",
    "\n",
    "    i)ndarray: Easy to reshape, flatten, and manipulate the structure of the array without data copying.\n",
    "    ii)Python Lists: Reshaping or changing the structure often requires nested loops and is not straightforward."
   ]
  },
  {
   "cell_type": "markdown",
   "id": "036033d2-90ad-4a9e-bbe8-d87822f69847",
   "metadata": {},
   "source": [
    "6. Analyze the performance benefits of NumPy arrays over Python lists for large-scale numerical operations\n",
    "\n",
    "ans. NumPy Arrays vs. Python Lists: \n",
    "NumPy arrays offer significant performance advantages over Python lists, especially for large-scale numerical operations. Here's a breakdown of the key reasons:\n",
    "\n",
    "1. Memory Efficiency:\n",
    "\n",
    "       i) Homogeneous Data Type: NumPy arrays store elements of the same data type contiguously in memory, reducing memory overhead.\n",
    "       ii) Fixed-Size Allocation: NumPy allocates memory for the entire array upfront, avoiding dynamic memory allocation\n",
    "           and deallocation, which can be expensive.\n",
    "\n",
    "3. Vectorization:\n",
    "\n",
    "        i)Element-wise Operations: NumPy allows you to perform operations on entire arrays at once, without explicit looping.\n",
    "          This is significantly faster than using Python loops.\n",
    "        ii) Optimized C Implementation: NumPy's core operations are implemented in C, providing a significant speedup.\n",
    "\n",
    "3. Broadcasting:\n",
    "\n",
    "       Flexible Operations: NumPy's broadcasting rules enable operations on arrays of different shapes, simplifying complex calculations.\n",
    "\n",
    "4. Specialized Functions:\n",
    "\n",
    "        Optimized Libraries: NumPy leverages highly optimized libraries like BLAS and LAPACK for linear algebra operations."
   ]
  },
  {
   "cell_type": "markdown",
   "id": "bf439aae-d4ae-4d20-a928-2c1320e38c3c",
   "metadata": {},
   "source": [
    "7. Compare vstack() and hstack() functions in NumPy. Provide examples demonstrating their usage and\n",
    "output.\n",
    "\n",
    "ans. Vstack and hstack in Numpy:\n",
    "\n",
    "*)NumPy's vstack() and hstack() functions are used to stack arrays vertically and horizontally, respectively.\n",
    "\n",
    "A) vStack(): Vertical Stacking\n",
    "\n",
    "i) Purpose: Stacks arrays vertically, row-wise.\n",
    "ii) Syntax: np.vstack((array1, array2, ...))\n",
    "\n",
    "B)hStack(): Horizontal Stacking\n",
    "\n",
    "i) Purpose: Stacks arrays horizontally, column-wise.\n",
    "ii) Syntax: np.hstack((array1, array2, ...))"
   ]
  },
  {
   "cell_type": "code",
   "execution_count": 14,
   "id": "05161f87-6ec5-4d8d-931c-249ee0e1540b",
   "metadata": {},
   "outputs": [
    {
     "name": "stdout",
     "output_type": "stream",
     "text": [
      "[[ 1  2  3]\n",
      " [ 4  5  6]\n",
      " [ 7  8  9]\n",
      " [10 11 12]]\n"
     ]
    }
   ],
   "source": [
    "# example of Vstack\n",
    "import numpy as np\n",
    "\n",
    "array1 = np.array([[1, 2, 3],\n",
    "                   [4, 5, 6]])\n",
    "\n",
    "array2 = np.array([[7, 8, 9],\n",
    "                   [10, 11, 12]])\n",
    "\n",
    "stacked_array = np.vstack((array1, array2))\n",
    "print(stacked_array)"
   ]
  },
  {
   "cell_type": "code",
   "execution_count": 15,
   "id": "63284f91-e538-4263-8668-033654b9b94c",
   "metadata": {},
   "outputs": [
    {
     "name": "stdout",
     "output_type": "stream",
     "text": [
      "[[1 2 5 6]\n",
      " [3 4 7 8]]\n"
     ]
    }
   ],
   "source": [
    "# example of Hstack\n",
    "array1 = np.array([[1, 2],\n",
    "                   [3, 4]])\n",
    "\n",
    "array2 = np.array([[5, 6],\n",
    "                   [7, 8]])\n",
    "\n",
    "stacked_array = np.hstack((array1, array2))\n",
    "print(stacked_array)"
   ]
  },
  {
   "cell_type": "markdown",
   "id": "a80e5e56-f0a8-4203-874e-30dfe7de32e5",
   "metadata": {},
   "source": [
    "a) Summary of vstack() and hstack()\n",
    "i) np.vstack():\n",
    "* Stacks arrays vertically.\n",
    "* The result has more rows and the same number of columns.\n",
    "ii) np.hstack():\n",
    "* Stacks arrays horizontally.\n",
    "* The result has more columns and the same number of rows.\n",
    "\n",
    "b) Use Cases:\n",
    "* Use vstack() when you want to combine datasets with the same number of features (columns) into a larger dataset.\n",
    "* Use hstack() when you want to combine datasets with the same number of samples (rows) by adding more features (columns)."
   ]
  },
  {
   "cell_type": "markdown",
   "id": "b249cdd1-32a0-4161-b9d7-d574a91116ac",
   "metadata": {},
   "source": [
    "8. Explain the differences between fliplr() and flipud() methods in NumPy, including their effects on various\n",
    "array dimensions.\n",
    "\n",
    "ans. In NumPy, the methods fliplr() and flipud() are used to flip arrays along different axes. They serve to reverse the order of elements in an array but do so in distinct ways based on the array's dimensions.\n",
    "\n",
    "*) Differences between fliplr() and flipud()\n",
    "\n",
    "I) fliplr() (Flip Left to Right):\n",
    "\n",
    "     * Purpose: Flips an array horizontally (left to right).\n",
    "     * Effect: The columns of the array are reversed, while the rows remain in their original order.\n",
    "     * Applicable Dimensions: This method can only be applied to 2D arrays (matrices). If used on a 1D array, \n",
    "         it will return the same array as there are no columns to flip. \n",
    "        \n",
    "\n",
    "II) flipud() (Flip Up to Down):\n",
    "\n",
    "     * Purpose: Flips an array vertically (up to down).\n",
    "     * Effect: The rows of the array are reversed, while the columns remain in their original order.\n",
    "     * Applicable Dimensions: This method can also be applied to 2D arrays. Like fliplr(), if applied to a 1D array,\n",
    "        it willreturn the same array."
   ]
  },
  {
   "cell_type": "code",
   "execution_count": 16,
   "id": "ce555912-4c67-412b-b857-f0f1f03b2e62",
   "metadata": {},
   "outputs": [
    {
     "name": "stdout",
     "output_type": "stream",
     "text": [
      "Original Array:\n",
      " [[1 2 3]\n",
      " [4 5 6]\n",
      " [7 8 9]]\n",
      "Flipped Left to Right:\n",
      " [[3 2 1]\n",
      " [6 5 4]\n",
      " [9 8 7]]\n"
     ]
    }
   ],
   "source": [
    "# example of fliplr()\n",
    "import numpy as np\n",
    "\n",
    "# Create a 2D array\n",
    "array_2d = np.array([[1, 2, 3],\n",
    "                     [4, 5, 6],\n",
    "                     [7, 8, 9]])\n",
    "\n",
    "# Flip left to right\n",
    "flipped_lr = np.fliplr(array_2d)\n",
    "\n",
    "print(\"Original Array:\\n\", array_2d)\n",
    "print(\"Flipped Left to Right:\\n\", flipped_lr)\n"
   ]
  },
  {
   "cell_type": "code",
   "execution_count": 17,
   "id": "2baf5f19-d201-4f2e-aea0-07e4899762ac",
   "metadata": {},
   "outputs": [
    {
     "name": "stdout",
     "output_type": "stream",
     "text": [
      "Flipped Up to Down:\n",
      " [[7 8 9]\n",
      " [4 5 6]\n",
      " [1 2 3]]\n"
     ]
    }
   ],
   "source": [
    "# example of flipud()\n",
    "# Flip up to down\n",
    "flipped_ud = np.flipud(array_2d)\n",
    "\n",
    "print(\"Flipped Up to Down:\\n\", flipped_ud)\n"
   ]
  },
  {
   "cell_type": "markdown",
   "id": "f028839c-bbd8-42f6-8f8d-0c783d123d76",
   "metadata": {},
   "source": [
    "* Effects on Various Array Dimensions\n",
    "\n",
    "i) 1D Arrays:\n",
    "* fliplr(): Returns the same 1D array as there are no columns to flip.\n",
    "* flipud(): Also returns the same 1D array, as there are no rows to flip.\n",
    "\n",
    "ii) 3D Arrays:\n",
    "\n",
    "*For 3D arrays, fliplr() and flipud() only operate along the last two dimensions. Specifically, fliplr() flips the last dimension (usually columns), and flipud() flips the second last dimension (usually rows) across the first axis (depth)."
   ]
  },
  {
   "cell_type": "markdown",
   "id": "bd0003d9-06f7-495a-a38f-e3b1b4d90e41",
   "metadata": {},
   "source": [
    "9. Discuss the functionality of the array_split() method in NumPy. How does it handle uneven splits?\n",
    "\n",
    "ans. array_split() in NumPy: \n",
    "\n",
    " NumPy's array_split() function is used to split an array into multiple sub-arrays. It's particularly useful for dividing large arrays into smaller chunks for parallel processing or for specific data analysis tasks.\n",
    "\n",
    "* Key Features:\n",
    "\n",
    "        i) Uneven Splits: It can handle uneven splits, ensuring that each sub-array has approximately the same number of elements,\n",
    "          but the last sub-array might have fewer elements.\n",
    "        ii) Flexible Splitting: You can specify the number of splits or the size of each split.\n",
    "        iii) Preserves Array Structure: The resulting sub-arrays maintain the original array's data type and shape,\n",
    "              except for the first dimension, which is split."
   ]
  },
  {
   "cell_type": "code",
   "execution_count": 19,
   "id": "b581072f-2c61-485f-b3ad-1a6c3a6b2385",
   "metadata": {},
   "outputs": [
    {
     "name": "stdout",
     "output_type": "stream",
     "text": [
      "[array([0, 1, 2, 3]), array([4, 5, 6]), array([7, 8, 9])]\n",
      "[array([0, 1, 2, 3, 4]), array([5, 6, 7, 8, 9])]\n"
     ]
    }
   ],
   "source": [
    "# example\n",
    "import numpy as np\n",
    "\n",
    "arr = np.arange(10)\n",
    "\n",
    "# Split into 3 sub-arrays\n",
    "split_arr = np.array_split(arr, 3)\n",
    "print(split_arr)\n",
    "\n",
    "# Split into sub-arrays of size 2, with the last sub-array having the remaining elements\n",
    "split_arr = np.array_split(arr, 2)\n",
    "print(split_arr)"
   ]
  },
  {
   "cell_type": "markdown",
   "id": "fba6809c-76c1-4239-9a36-49af3b104b1a",
   "metadata": {},
   "source": [
    "* Handling Uneven Splits:\n",
    "\n",
    "When the array cannot be evenly divided into the specified number of sub-arrays, array_split() ensures that the last sub-array might have fewer elements. This behavior is particularly useful when dealing with arrays of varying sizes or when you need to distribute data across multiple processes.By understanding the array_split() function and its handling of uneven splits, you can effectively divide and conquer your data analysis tasks, making them more efficient and manageable."
   ]
  },
  {
   "cell_type": "markdown",
   "id": "686059d8-cf80-47d4-9eaa-0c3984ed1e9c",
   "metadata": {},
   "source": [
    "10. Explain the concepts of vectorization and broadcasting in NumPy. How do they contribute to efficient array\n",
    "operations?\n",
    "\n",
    "ans.A) Vectorization:\n",
    " * Definition: Vectorization converts operations that would normally use loops into single operations that apply to entire arrays.\n",
    " * Benefits:\n",
    "\n",
    "       i) Performance: Significantly faster than loops due to optimized low-level implementations.\n",
    "       ii) Conciseness: Leads to more readable and maintainable code.\n",
    "\n",
    "B)Broadcasting:\n",
    " * Definition: Broadcasting allows NumPy to perform operations on arrays of different shapes by expanding the smaller array to match the larger one.\n",
    " * Benefits:\n",
    "   \n",
    "        i) Efficiency: Reduces the need for manual shape adjustments, enabling direct operations on arrays of different sizes.\n",
    "        ii) Flexibility: Simplifies operations involving scalars and arrays or arrays of different dimensions.\n"
   ]
  },
  {
   "cell_type": "code",
   "execution_count": 21,
   "id": "c512f4ed-82a2-40dc-9a81-78e7d7436317",
   "metadata": {},
   "outputs": [
    {
     "name": "stdout",
     "output_type": "stream",
     "text": [
      "[5 7 9]\n"
     ]
    }
   ],
   "source": [
    "# example of vectorization\n",
    "import numpy as np\n",
    "\n",
    "# Vectorized operation\n",
    "arr1 = np.array([1, 2, 3])\n",
    "arr2 = np.array([4, 5, 6])\n",
    "result = arr1 + arr2\n",
    "print(result)  # Output: [5 7 9]"
   ]
  },
  {
   "cell_type": "code",
   "execution_count": 22,
   "id": "acea8cf8-d5cc-4c29-8e69-8b79dcf27fe5",
   "metadata": {},
   "outputs": [
    {
     "name": "stdout",
     "output_type": "stream",
     "text": [
      "[[11 22 33]\n",
      " [14 25 36]]\n"
     ]
    }
   ],
   "source": [
    "# example of broadcasting\n",
    "import numpy as np\n",
    "\n",
    "arr1 = np.array([[1, 2, 3],\n",
    "                [4, 5, 6]])\n",
    "\n",
    "arr2 = np.array([10, 20, 30])\n",
    "\n",
    "result = arr1 + arr2\n",
    "print(result)"
   ]
  },
  {
   "cell_type": "markdown",
   "id": "8b401fbd-ec47-4f18-ac97-24831379d897",
   "metadata": {},
   "source": [
    "* Contribution to Efficient Array Operations:\n",
    "\n",
    "i) Reduced Computation Time: Both vectorization and broadcasting leverage low-level optimizations, which reduce computation times significantly compared to traditional iterative approaches.\n",
    "\n",
    "ii) Simplified Code: These concepts allow for more concise, readable, and maintainable code by avoiding explicit loops, which can be prone to errors and less efficient.\n",
    "\n",
    "iii) Memory Efficiency: Broadcasting eliminates the need to create large temporary arrays, as the operations are performed in a way that efficiently utilizes memory."
   ]
  },
  {
   "cell_type": "raw",
   "id": "6adee4ed-8a2e-4c4a-98c2-c5a2b8057088",
   "metadata": {},
   "source": [
    "                                                PRACTICAL QUESTIONS"
   ]
  },
  {
   "cell_type": "markdown",
   "id": "1e2bc700-f61c-47cf-ad5f-0012cd1acbd1",
   "metadata": {},
   "source": [
    "1. Create a 3x3 NumPy array with random integers between 1 and 100. Then, interchange its rows and columns."
   ]
  },
  {
   "cell_type": "code",
   "execution_count": 2,
   "id": "aa7c5920-0c10-4fab-85d9-834e9f32b3e4",
   "metadata": {},
   "outputs": [
    {
     "name": "stdout",
     "output_type": "stream",
     "text": [
      "Original array:\n",
      "[[ 51 100   4]\n",
      " [ 90  63  20]\n",
      " [ 20  30  77]]\n",
      "\n",
      "Transposed array:\n",
      "[[ 51  90  20]\n",
      " [100  63  30]\n",
      " [  4  20  77]]\n"
     ]
    }
   ],
   "source": [
    "import numpy as np\n",
    "\n",
    "# Create a 3x3 array with random integers between 1 and 100\n",
    "arr = np.random.randint(1, 101, size=(3, 3))\n",
    "\n",
    "print(\"Original array:\")\n",
    "print(arr)\n",
    "\n",
    "# Interchange rows and columns (transpose)\n",
    "transposed_arr = arr.T\n",
    "\n",
    "print(\"\\nTransposed array:\")\n",
    "print(transposed_arr)"
   ]
  },
  {
   "cell_type": "markdown",
   "id": "45231e47-7d74-4c78-ab64-0d779c2c71a6",
   "metadata": {},
   "source": [
    "2. Generate a 1D NumPy array with 10 elements. Reshape it into a 2x5 array, then into a 5x2 array."
   ]
  },
  {
   "cell_type": "code",
   "execution_count": 3,
   "id": "0639ff78-e7f2-4571-aa66-9f84eee8dd14",
   "metadata": {},
   "outputs": [
    {
     "name": "stdout",
     "output_type": "stream",
     "text": [
      "2x5 array:\n",
      "[[0 1 2 3 4]\n",
      " [5 6 7 8 9]]\n",
      "\n",
      "5x2 array:\n",
      "[[0 1]\n",
      " [2 3]\n",
      " [4 5]\n",
      " [6 7]\n",
      " [8 9]]\n"
     ]
    }
   ],
   "source": [
    "import numpy as np\n",
    "\n",
    "# Generate a 1D array with 10 elements\n",
    "arr = np.arange(10)\n",
    "\n",
    "# Reshape it into a 2x5 array\n",
    "arr_2x5 = arr.reshape(2, 5)\n",
    "\n",
    "print(\"2x5 array:\")\n",
    "print(arr_2x5)\n",
    "\n",
    "# Reshape it into a 5x2 array\n",
    "arr_5x2 = arr.reshape(5, 2)\n",
    "\n",
    "print(\"\\n5x2 array:\")\n",
    "print(arr_5x2)"
   ]
  },
  {
   "cell_type": "markdown",
   "id": "86099c7a-9606-4269-84e6-8f877ca1296b",
   "metadata": {},
   "source": [
    "3. Create a 4x4 NumPy array with random float values. Add a border of zeros around it, resulting in a 6x6 array"
   ]
  },
  {
   "cell_type": "code",
   "execution_count": 5,
   "id": "3b9e7a72-3411-4c37-aa9b-16fb482397fd",
   "metadata": {},
   "outputs": [
    {
     "name": "stdout",
     "output_type": "stream",
     "text": [
      "Original 4x4 Array:\n",
      " [[0.25558344 0.35181777 0.50417518 0.99433914]\n",
      " [0.19335841 0.58682783 0.04657539 0.40337027]\n",
      " [0.88573267 0.38839841 0.9204615  0.15579227]\n",
      " [0.80362399 0.6818603  0.35213736 0.68204452]]\n",
      "6x6 Array with Border of Zeros:\n",
      " [[0.         0.         0.         0.         0.         0.        ]\n",
      " [0.         0.25558344 0.35181777 0.50417518 0.99433914 0.        ]\n",
      " [0.         0.19335841 0.58682783 0.04657539 0.40337027 0.        ]\n",
      " [0.         0.88573267 0.38839841 0.9204615  0.15579227 0.        ]\n",
      " [0.         0.80362399 0.6818603  0.35213736 0.68204452 0.        ]\n",
      " [0.         0.         0.         0.         0.         0.        ]]\n"
     ]
    }
   ],
   "source": [
    "import numpy as np\n",
    "\n",
    "# Create a 4x4 NumPy array with random float values\n",
    "array_4x4 = np.random.rand(4, 4)\n",
    "\n",
    "# Add a border of zeros around the 4x4 array to create a 6x6 array\n",
    "array_6x6 = np.pad(array_4x4, pad_width=1, mode='constant', constant_values=0)\n",
    "\n",
    "print(\"Original 4x4 Array:\\n\", array_4x4)\n",
    "print(\"6x6 Array with Border of Zeros:\\n\", array_6x6)\n"
   ]
  },
  {
   "cell_type": "markdown",
   "id": "d42617d4-db23-406f-be05-2f22998ac13d",
   "metadata": {},
   "source": [
    "4. Using NumPy, create an array of integers from 10 to 60 with a step of 5"
   ]
  },
  {
   "cell_type": "code",
   "execution_count": 6,
   "id": "5703abf2-0f4f-4e66-8a28-8d0a1bc0e5ce",
   "metadata": {},
   "outputs": [
    {
     "name": "stdout",
     "output_type": "stream",
     "text": [
      "[10 15 20 25 30 35 40 45 50 55 60]\n"
     ]
    }
   ],
   "source": [
    "import numpy as np\n",
    "\n",
    "# Create an array of integers from 10 to 60 with a step of 5\n",
    "array = np.arange(10, 65, 5)\n",
    "\n",
    "print(array)\n"
   ]
  },
  {
   "cell_type": "markdown",
   "id": "f0f60add-79bd-462e-b1e2-2b79f6365748",
   "metadata": {},
   "source": [
    "5. Create a NumPy array of strings ['python', 'numpy', 'pandas']. Apply different case transformations\n",
    "(uppercase, lowercase, title case, etc.) to each element."
   ]
  },
  {
   "cell_type": "code",
   "execution_count": 8,
   "id": "8c5984df-9519-4718-b896-ed04f3c3eef5",
   "metadata": {},
   "outputs": [
    {
     "name": "stdout",
     "output_type": "stream",
     "text": [
      "Original Array: ['python' 'numpy' 'pandas']\n",
      "Uppercase Array: ['PYTHON' 'NUMPY' 'PANDAS']\n",
      "Lowercase Array: ['python' 'numpy' 'pandas']\n",
      "Title Case Array: ['Python' 'Numpy' 'Pandas']\n",
      "Capitalize Array: ['Python' 'Numpy' 'Pandas']\n"
     ]
    }
   ],
   "source": [
    "import numpy as np\n",
    "\n",
    "# Create a NumPy array of strings\n",
    "array = np.array(['python', 'numpy', 'pandas'])\n",
    "\n",
    "# Apply different case transformations\n",
    "uppercase_array = np.char.upper(array)\n",
    "lowercase_array = np.char.lower(array)\n",
    "titlecase_array = np.char.title(array)\n",
    "capitalize_array = np.char.capitalize(array)\n",
    "\n",
    "# Print the results\n",
    "print(\"Original Array:\", array)\n",
    "print(\"Uppercase Array:\", uppercase_array)\n",
    "print(\"Lowercase Array:\", lowercase_array)\n",
    "print(\"Title Case Array:\", titlecase_array)\n",
    "print(\"Capitalize Array:\", capitalize_array)\n"
   ]
  },
  {
   "cell_type": "markdown",
   "id": "488279ef-879b-4a5c-a7ef-8966b31f5810",
   "metadata": {},
   "source": [
    "6. Generate a NumPy array of words. Insert a space between each character of every word in the array"
   ]
  },
  {
   "cell_type": "code",
   "execution_count": 9,
   "id": "914ba09b-6213-4de2-9c17-06812e11a997",
   "metadata": {},
   "outputs": [
    {
     "name": "stdout",
     "output_type": "stream",
     "text": [
      "[' h e l l o ' ' w o r l d ' ' n u m p y ']\n"
     ]
    }
   ],
   "source": [
    "import numpy as np\n",
    "\n",
    "words = np.array([\"hello\", \"world\", \"numpy\"])\n",
    "\n",
    "# Insert a space between each character\n",
    "spaced_words = np.char.replace(words, '', ' ')\n",
    "\n",
    "print(spaced_words)"
   ]
  },
  {
   "cell_type": "markdown",
   "id": "594e1700-d240-4f66-b60a-ca013d8ce964",
   "metadata": {},
   "source": [
    "7. Create two 2D NumPy arrays and perform element-wise addition, subtraction, multiplication, and division."
   ]
  },
  {
   "cell_type": "code",
   "execution_count": 10,
   "id": "66fc2634-d62d-4d92-a365-b83ce073dfd3",
   "metadata": {},
   "outputs": [
    {
     "name": "stdout",
     "output_type": "stream",
     "text": [
      "Array 1:\n",
      " [[1 2 3]\n",
      " [4 5 6]]\n",
      "Array 2:\n",
      " [[ 7  8  9]\n",
      " [10 11 12]]\n",
      "Element-wise Addition:\n",
      " [[ 8 10 12]\n",
      " [14 16 18]]\n",
      "Element-wise Subtraction:\n",
      " [[-6 -6 -6]\n",
      " [-6 -6 -6]]\n",
      "Element-wise Multiplication:\n",
      " [[ 7 16 27]\n",
      " [40 55 72]]\n",
      "Element-wise Division:\n",
      " [[0.14285714 0.25       0.33333333]\n",
      " [0.4        0.45454545 0.5       ]]\n"
     ]
    }
   ],
   "source": [
    "import numpy as np\n",
    "\n",
    "# Create two 2D NumPy arrays\n",
    "array1 = np.array([[1, 2, 3], [4, 5, 6]])\n",
    "array2 = np.array([[7, 8, 9], [10, 11, 12]])\n",
    "\n",
    "# Element-wise addition\n",
    "addition_result = np.add(array1, array2)\n",
    "\n",
    "# Element-wise subtraction\n",
    "subtraction_result = np.subtract(array1, array2)\n",
    "\n",
    "# Element-wise multiplication\n",
    "multiplication_result = np.multiply(array1, array2)\n",
    "\n",
    "# Element-wise division\n",
    "division_result = np.divide(array1, array2)\n",
    "\n",
    "# Print the results\n",
    "print(\"Array 1:\\n\", array1)\n",
    "print(\"Array 2:\\n\", array2)\n",
    "print(\"Element-wise Addition:\\n\", addition_result)\n",
    "print(\"Element-wise Subtraction:\\n\", subtraction_result)\n",
    "print(\"Element-wise Multiplication:\\n\", multiplication_result)\n",
    "print(\"Element-wise Division:\\n\", division_result)\n"
   ]
  },
  {
   "cell_type": "markdown",
   "id": "4fe1eeb8-327f-46d7-a383-8f267e2fabce",
   "metadata": {},
   "source": [
    "8. Use NumPy to create a 5x5 identity matrix, then extract its diagonal elements."
   ]
  },
  {
   "cell_type": "code",
   "execution_count": 11,
   "id": "cc1d02c6-494f-4f1a-b9ba-052d86e8ae97",
   "metadata": {},
   "outputs": [
    {
     "name": "stdout",
     "output_type": "stream",
     "text": [
      "5x5 Identity Matrix:\n",
      " [[1. 0. 0. 0. 0.]\n",
      " [0. 1. 0. 0. 0.]\n",
      " [0. 0. 1. 0. 0.]\n",
      " [0. 0. 0. 1. 0.]\n",
      " [0. 0. 0. 0. 1.]]\n",
      "Diagonal Elements: [1. 1. 1. 1. 1.]\n"
     ]
    }
   ],
   "source": [
    "import numpy as np\n",
    "\n",
    "# Create a 5x5 identity matrix\n",
    "identity_matrix = np.eye(5)\n",
    "\n",
    "# Extract the diagonal elements\n",
    "diagonal_elements = np.diag(identity_matrix)\n",
    "\n",
    "# Print the results\n",
    "print(\"5x5 Identity Matrix:\\n\", identity_matrix)\n",
    "print(\"Diagonal Elements:\", diagonal_elements)\n"
   ]
  },
  {
   "cell_type": "markdown",
   "id": "2b0fe40f-4248-43f0-a22a-e9b070b563cf",
   "metadata": {},
   "source": [
    "9. Generate a NumPy array of 100 random integers between 0 and 1000. Find and display all prime numbers in\n",
    "this array"
   ]
  },
  {
   "cell_type": "code",
   "execution_count": 13,
   "id": "6a494918-9723-45ba-bb2d-036a5ae3688b",
   "metadata": {},
   "outputs": [
    {
     "name": "stdout",
     "output_type": "stream",
     "text": [
      "Prime numbers in the array:\n",
      "[787 467 401 359 601  89 787 631 937 619 797 179 167 269 761 797 419 499]\n"
     ]
    }
   ],
   "source": [
    "import numpy as np\n",
    "\n",
    "def is_prime(num):\n",
    "    if num <= 1:\n",
    "        return False\n",
    "    for i in range(2, int(num**0.5) + 1):\n",
    "        if num % i == 0:\n",
    "            return False\n",
    "    return True\n",
    "\n",
    "# Generate a NumPy array of 100 random integers\n",
    "arr = np.random.randint(0, 1001, 100)\n",
    "\n",
    "# Find prime numbers\n",
    "prime_numbers = arr[np.vectorize(is_prime)(arr)]\n",
    "\n",
    "print(\"Prime numbers in the array:\")\n",
    "print(prime_numbers)"
   ]
  },
  {
   "cell_type": "markdown",
   "id": "eb6d8f0a-6bb9-47b9-ac08-9cccb30c23f2",
   "metadata": {},
   "source": [
    "10. Create a NumPy array representing daily temperatures for a month. Calculate and display the weekly\n",
    "averages"
   ]
  },
  {
   "cell_type": "code",
   "execution_count": 19,
   "id": "881011ec-b052-4cb8-b9af-1a9b5c0f491e",
   "metadata": {},
   "outputs": [
    {
     "name": "stdout",
     "output_type": "stream",
     "text": [
      "Daily Temperatures (first 28 days):\n",
      " [22 23 16 38 16 27 23 36 29 13 34 39 34 15 33 40 32 32 14 37 25 11 22 16\n",
      " 40 10 30 37]\n",
      "Weekly Temperatures:\n",
      " [[22 23 16 38 16 27 23]\n",
      " [36 29 13 34 39 34 15]\n",
      " [33 40 32 32 14 37 25]\n",
      " [11 22 16 40 10 30 37]]\n",
      "Weekly Averages:\n",
      " [23.57142857 28.57142857 30.42857143 23.71428571]\n"
     ]
    }
   ],
   "source": [
    "import numpy as np\n",
    "\n",
    "# Generate a NumPy array representing daily temperatures for a 30-day month\n",
    "daily_temperatures = np.random.randint(10, 41, size=30)  # Temperatures between 10 and 40 degrees\n",
    "\n",
    "# Reshape the array to fit 4 full weeks (4x7) and ignore last two days\n",
    "weeks = daily_temperatures[:28].reshape(4, 7)\n",
    "\n",
    "# Calculate the weekly averages\n",
    "weekly_averages = np.mean(weeks, axis=1)\n",
    "\n",
    "# Display the results\n",
    "print(\"Daily Temperatures (first 28 days):\\n\", daily_temperatures[:28])\n",
    "print(\"Weekly Temperatures:\\n\", weeks)\n",
    "print(\"Weekly Averages:\\n\", weekly_averages)\n"
   ]
  },
  {
   "cell_type": "code",
   "execution_count": null,
   "id": "73f7681a-7216-4f2d-b7bf-162fb2c23202",
   "metadata": {},
   "outputs": [],
   "source": []
  }
 ],
 "metadata": {
  "kernelspec": {
   "display_name": "Python 3 (ipykernel)",
   "language": "python",
   "name": "python3"
  },
  "language_info": {
   "codemirror_mode": {
    "name": "ipython",
    "version": 3
   },
   "file_extension": ".py",
   "mimetype": "text/x-python",
   "name": "python",
   "nbconvert_exporter": "python",
   "pygments_lexer": "ipython3",
   "version": "3.11.4"
  }
 },
 "nbformat": 4,
 "nbformat_minor": 5
}
