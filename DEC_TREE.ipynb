{
  "nbformat": 4,
  "nbformat_minor": 0,
  "metadata": {
    "colab": {
      "provenance": []
    },
    "kernelspec": {
      "name": "python3",
      "display_name": "Python 3"
    },
    "language_info": {
      "name": "python"
    }
  },
  "cells": [
    {
      "cell_type": "markdown",
      "source": [
        "***THEORITICAL***"
      ],
      "metadata": {
        "id": "LuD4cKDigXqz"
      }
    },
    {
      "cell_type": "markdown",
      "source": [
        "1. What is a Decision Tree, and how does it work.\n",
        "\n",
        "ans. A decision tree is a powerful and versatile machine learning algorithm used for both classification and regression tasks. Essentially, it's a flowchart-like structure that helps in making decisions based on a series of questions. Here's a breakdown of how it works:\n",
        "\n",
        "**Core Concepts:**\n",
        "\n",
        "* **Tree Structure:**\n",
        "    * The structure resembles an upside-down tree, with a root node at the top, branches, and leaf nodes at the bottom.\n",
        "    * **Nodes:** Represent points where decisions are made.\n",
        "    * **Branches:** Represent the outcomes of those decisions.\n",
        "    * **Leaf Nodes:** Represent the final predictions or classifications.\n",
        "* **Decision Rules:**\n",
        "    * Each internal node in the tree represents a test on an attribute (a feature of the data).\n",
        "    * Based on the outcome of the test, the process moves down a specific branch.\n",
        "    * This continues until a leaf node is reached, which provides the final prediction.\n",
        "\n",
        "**How it Works:**\n",
        "\n",
        "1.  **Data Partitioning:**\n",
        "    * The algorithm starts by selecting the best attribute to split the data at the root node.\n",
        "    * \"Best\" is determined by metrics like:\n",
        "        * **Gini impurity:** Measures the impurity of a set of data.\n",
        "        * **Information gain:** Measures the reduction in entropy (uncertainty) after a split.\n",
        "        * These metrics help to create the most homogenous groups possible.\n",
        "2.  **Recursive Splitting:**\n",
        "    * The process of splitting is repeated recursively for each branch, creating sub-branches and sub-nodes.\n",
        "    * At each node, the algorithm chooses the best remaining attribute to split the data further.\n",
        "    * This \"divide and conquer\" method continues until a stopping criteria is met.\n",
        "3.  **Leaf Node Assignment:**\n",
        "    * When a stopping criterion is met (e.g., all data points in a node belong to the same class, or a maximum tree depth is reached), the node becomes a leaf node.\n",
        "    * For classification, the leaf node is assigned the class that is most prevalent in the data points within that node.\n",
        "    * For regression, the leaf node holds the average value of the values of the data points within that node.\n",
        "4.  **Prediction:**\n",
        "    * To make a prediction for a new data point, the algorithm starts at the root node and follows the branches according to the data point's attribute values.\n",
        "    * It continues traversing the tree until it reaches a leaf node, which provides the predicted class or value.\n",
        "\n",
        "**Key Advantages:**\n",
        "\n",
        "* **Easy to Understand:** Decision trees are highly interpretable, making it easy to understand how decisions are made.\n",
        "* **Handles Both Categorical and Numerical Data:** They can work with various data types.\n",
        "* **Minimal Data Preparation:** They require relatively little data preprocessing.\n",
        "* **Visual Representation:** They can be easily visualized, making them useful for explaining complex decision-making processes.\n",
        "\n",
        "**Key Disadvantages:**\n",
        "\n",
        "* **Overfitting:** Decision trees can easily overfit the training data, leading to poor performance on unseen data.\n",
        "* **Instability:** Small changes in the data can lead to significant changes in the tree structure.\n",
        "* **Bias:** Decision trees can be biased towards attributes with more levels.\n",
        "\n",
        "\n"
      ],
      "metadata": {
        "id": "ZnSPrRoqgbnp"
      }
    },
    {
      "cell_type": "markdown",
      "source": [
        " 2. What are impurity measures in Decision Trees .\n",
        "\n",
        " ans. In the context of decision trees, \"impurity measures\" are crucial tools used to determine the best way to split the data at each node. They quantify how mixed or \"impure\" a set of data points is with respect to their class labels. The goal is to minimize impurity, creating subsets of data that are as homogeneous as possible.\n",
        "\n",
        "Here's a breakdown of key impurity measures:\n",
        "\n",
        "**1. Gini Impurity:**\n",
        "\n",
        "* **What it is:**\n",
        "    * The Gini impurity measures the probability of incorrectly classifying a randomly chosen element in a dataset if it were randomly labeled according to the distribution of labels in the subset.\n",
        "    * It ranges from 0 (perfect purity, all elements belong to the same class) to a maximum value (maximum impurity, classes are evenly distributed).\n",
        "* **How it's used:**\n",
        "    * Decision tree algorithms use the Gini impurity to evaluate potential splits. The split that results in the lowest Gini impurity for the resulting subsets is chosen.\n",
        "* **Key points:**\n",
        "    * Computationally efficient.\n",
        "    * Widely used in practice.\n",
        "\n",
        "**2. Entropy:**\n",
        "\n",
        "* **What it is:**\n",
        "    * Entropy measures the amount of disorder or uncertainty in a dataset. In the context of decision trees, it quantifies the uncertainty of class labels.\n",
        "    * It also ranges from 0 (perfect purity) to a maximum value (maximum uncertainty).\n",
        "* **How it's used:**\n",
        "    * Similar to the Gini impurity, entropy is used to evaluate splits. The algorithm aims to maximize information gain, which is the reduction in entropy achieved by a split.\n",
        "* **Key points:**\n",
        "    * Rooted in information theory.\n",
        "    * Used in algorithms like ID3 and C4.5.\n",
        "\n",
        "**In essence:**\n",
        "\n",
        "* These impurity measures help decision tree algorithms make informed decisions about how to partition the data.\n",
        "* By minimizing impurity, the algorithm creates branches that lead to more accurate and reliable predictions.\n",
        "\n",
        "Both Gini impurity and entropy serve the same fundamental purpose: to guide the decision tree in creating optimal splits. While they differ in their mathematical formulas, they often produce similar results in practice.\n"
      ],
      "metadata": {
        "id": "vvT6iiKUgpji"
      }
    },
    {
      "cell_type": "markdown",
      "source": [
        "3. What is the mathematical formula for Gini Impurity ?\n",
        "\n",
        "ans. The mathematical formula for Gini impurity helps quantify the \"impurity\" of a dataset, which is essential for decision tree algorithms. Here's how it's expressed:\n",
        "\n",
        "**General Formula:**\n",
        "\n",
        "* If we have 'C' classes, and 'p(i)' represents the probability of an element belonging to class 'i', then the Gini impurity is calculated as:\n",
        "\n",
        "    * Gini Impurity = 1 - Σ (p(i))^2 (where Σ means the sum of, and the sum is for i going from 1 to C)\n",
        "\n",
        "**Breaking it down:**\n",
        "\n",
        "* **p(i):**\n",
        "    * This is the proportion of data points that belong to class 'i' within a given node or dataset.\n",
        "* **Σ (p(i))^2:**\n",
        "    * This part involves squaring the probability of each class and then summing up those squared probabilities.\n",
        "* **1 - Σ (p(i))^2:**\n",
        "    * Finally, we subtract the sum of squared probabilities from 1.\n",
        "\n",
        "**In simpler terms:**\n",
        "\n",
        "* The formula essentially calculates the probability of misclassifying a randomly chosen element if it were randomly labeled according to the class distribution in the dataset.\n",
        "* A Gini impurity of 0 means the node is perfectly pure (all elements belong to the same class).\n",
        "* A higher Gini impurity value indicates a more mixed or impure node.\n",
        "\n",
        "Therefore, when a decision tree algorithm is deciding how to split a node, it will choose the split that results in the lowest Gini impurity in the resulting child nodes.\n"
      ],
      "metadata": {
        "id": "ZPMKQvv2g3-1"
      }
    },
    {
      "cell_type": "markdown",
      "source": [
        "4. What is the mathematical formula for Entropy ?\n",
        "\n",
        "ans. When discussing decision trees, entropy is a measure of the impurity or disorder within a set of data. Here's the mathematical formula and an explanation:\n",
        "\n",
        "**Formula:**\n",
        "\n",
        "* If we have 'c' classes, and 'p(i)' represents the probability of an element belonging to class 'i', then the entropy is calculated as:\n",
        "\n",
        "    * Entropy = - Σ [p(i) * log₂(p(i))] (where Σ means the sum of, and the sum is for i going from 1 to c)\n",
        "\n",
        "**Explanation:**\n",
        "\n",
        "* **p(i):**\n",
        "    * This represents the proportion of data points that belong to class 'i' within a given node.\n",
        "* **log₂(p(i)):**\n",
        "    * This is the base-2 logarithm of p(i). It essentially quantifies the amount of information needed to represent the probability of class 'i'.\n",
        "* **- [p(i) * log₂(p(i))]:**\n",
        "    * This part calculates the weighted information content for each class.\n",
        "* **- Σ [p(i) * log₂(p(i))]:**\n",
        "    * Finally, we sum up the weighted information content for all classes and negate the result.\n",
        "\n",
        "**Key Points:**\n",
        "\n",
        "* Entropy measures the level of uncertainty.\n",
        "* A high entropy value indicates a high level of disorder (the classes are mixed).\n",
        "* A low entropy value (approaching 0) indicates a high level of order (the data points mostly belong to a single class).\n",
        "* In decision trees, the goal is to reduce entropy at each split, leading to more homogeneous subsets of data.\n",
        "\n",
        "In essence, entropy provides a way to quantify the amount of \"surprise\" or uncertainty associated with the distribution of class labels in a dataset.\n"
      ],
      "metadata": {
        "id": "koowQMlMhASg"
      }
    },
    {
      "cell_type": "markdown",
      "source": [
        " 5. What is Information Gain, and how is it used in Decision Trees?\n",
        "\n",
        " ans. In decision trees, information gain is a crucial metric used to determine the best attribute to split a node. It essentially measures how much \"information\" or reduction in uncertainty is gained by splitting the data based on a particular attribute. Here's a breakdown:\n",
        "\n",
        "**What Information Gain Is:**\n",
        "\n",
        "* Information gain quantifies the reduction in entropy (or uncertainty) from the parent node to the child nodes after a split.\n",
        "* In simpler terms, it tells you how much more \"organized\" the data becomes after you split it based on a certain feature.\n",
        "* The goal of a decision tree algorithm is to maximize information gain, meaning it aims to create splits that lead to the most homogeneous subsets of data.\n",
        "\n",
        "**How It's Used in Decision Trees:**\n",
        "\n",
        "1.  **Attribute Selection:**\n",
        "    * At each node in the decision tree, the algorithm evaluates all available attributes to determine which one provides the highest information gain.\n",
        "    * The attribute with the highest information gain is selected to split the node.\n",
        "2.  **Splitting Process:**\n",
        "    * By choosing the attribute with the highest information gain, the algorithm ensures that it's creating splits that effectively separate the data into distinct classes.\n",
        "    * This process is repeated recursively for each child node, building the decision tree in a way that maximizes information gain at each step.\n",
        "3.  **Reducing Uncertainty:**\n",
        "    * Essentially, information gain helps to reduce the uncertainty about the class labels of the data points.\n",
        "    * By creating splits that lead to more homogeneous subsets, the algorithm increases the likelihood of making accurate predictions.\n",
        "\n",
        "**In essence:**\n",
        "\n",
        "* Information gain is the key metric that guides the construction of decision trees.\n",
        "* It helps the algorithm to make intelligent decisions about how to split the data, leading to more accurate and efficient models.\n",
        "\n",
        "Therefore, when a decision tree algorithm is deciding how to split a node, it will choose the split that results in the highest Information gain.\n"
      ],
      "metadata": {
        "id": "SFv5_1HxhL4A"
      }
    },
    {
      "cell_type": "markdown",
      "source": [
        "6. What is the difference between Gini Impurity and Entropy ?\n",
        "\n",
        "ans. When comparing Gini impurity and entropy in the context of decision trees, it's important to understand that they both serve the same fundamental purpose: to measure the impurity of a dataset. However, they do so with slightly different approaches, leading to some key distinctions. Here's a breakdown of the differences:\n",
        "\n",
        "**Key Differences:**\n",
        "\n",
        "* **Computational Complexity:**\n",
        "    * Gini impurity is generally computationally less expensive than entropy. This is because the Gini impurity calculation involves simpler mathematical operations (squaring), whereas entropy involves logarithms. This makes Gini impurity faster, especially with large datasets.\n",
        "    * Therefore, Gini impurity is often preferred in practical implementations of decision trees where computational efficiency is a concern.\n",
        "* **Mathematical Formulation:**\n",
        "    * They use different mathematical formulas to quantify impurity.\n",
        "    * This results in slightly different numerical values, although the overall trends are very similar.\n",
        "* **Sensitivity:**\n",
        "    * While both measures are sensitive to the distribution of classes, entropy is sometimes considered slightly more sensitive to changes in class probabilities.\n",
        "* **Range of Values:**\n",
        "    * Gini impurity has a range of [0, 0.5]\n",
        "    * Entropy has a range of [0, log(c)] where c is the number of classes.\n",
        "\n",
        "**Similarities:**\n",
        "\n",
        "* **Purpose:**\n",
        "    * Both Gini impurity and entropy are used to determine the best split at each node of a decision tree.\n",
        "    * They both aim to minimize impurity, leading to more homogeneous subsets of data.\n",
        "* **Effectiveness:**\n",
        "    * In most practical applications, the difference in performance between decision trees using Gini impurity and those using entropy is often negligible.\n",
        "\n",
        "**In summary:**\n",
        "\n",
        "* If computational speed is a primary concern, Gini impurity is often the preferred choice.\n",
        "* If you're working in a context where a slightly more nuanced measure of information disorder is desired, entropy may be preferred.\n",
        "* In many cases the results from using either method will be very similar.\n",
        "\n",
        "\n"
      ],
      "metadata": {
        "id": "K8QiZjHVhVxI"
      }
    },
    {
      "cell_type": "markdown",
      "source": [
        " 7. What is the mathematical explanation behind Decision Trees ?\n",
        "\n",
        " ans. The mathematical explanation behind decision trees revolves primarily around how the algorithm selects the best attributes for splitting the data. Here's a breakdown of the key mathematical concepts:\n",
        "\n",
        "**1. Impurity Measures:**\n",
        "\n",
        "* **Gini Impurity:**\n",
        "    * As previously discussed, this measures the probability of misclassifying a randomly chosen element.\n",
        "    * The formula: Gini = 1 - Σ (pᵢ)², where pᵢ is the probability of class i.\n",
        "    * The goal is to minimize the Gini impurity.\n",
        "* **Entropy:**\n",
        "    * This measures the disorder or uncertainty in the data.\n",
        "    * The formula: Entropy = - Σ pᵢ * log₂(pᵢ).\n",
        "    * The goal is to minimize entropy.\n",
        "\n",
        "**2. Information Gain:**\n",
        "\n",
        "* This is the core concept used to determine the best attribute for splitting.\n",
        "* It measures the reduction in entropy (or the decrease in Gini impurity) achieved by splitting the data based on a particular attribute.\n",
        "* Formula: Information Gain = Entropy(parent) - Σ [(|child| / |parent|) * Entropy(child)]\n",
        "    * Where:\n",
        "        * Entropy(parent) is the entropy of the parent node.\n",
        "        * |child| and |parent| are the number of samples in the child and parent nodes, respectively.\n",
        "        * Entropy(child) is the entropy of the child node.\n",
        "* The algorithm selects the attribute that maximizes information gain.\n",
        "\n",
        "**3. Recursive Partitioning:**\n",
        "\n",
        "* The process of splitting the data is recursive. This means that after each split, the algorithm repeats the process for each of the resulting child nodes.\n",
        "* This recursive process continues until a stopping criterion is met, such as:\n",
        "    * All samples in a node belong to the same class.\n",
        "    * The maximum depth of the tree is reached.\n",
        "    * The number of samples in a node falls below a certain threshold.\n",
        "\n",
        "**4. Mathematical Foundation:**\n",
        "\n",
        "* Decision trees are rooted in information theory, which provides the mathematical framework for quantifying information and uncertainty.\n",
        "* Probability theory is also essential, as it underlies the calculation of impurity measures and information gain.\n",
        "* In regression trees, the mathematics involves calculating the variance of the target variable and using it to determine the best splits.\n",
        "\n",
        "**In essence:**\n",
        "\n",
        "* The mathematical foundation of decision trees is based on the principles of information theory and probability.\n",
        "* The algorithm uses impurity measures and information gain to make data-driven decisions about how to split the data.\n",
        "* This recursive partitioning process allows the algorithm to build a tree-like structure that effectively models the relationships between the features and the target variable.\n"
      ],
      "metadata": {
        "id": "nnbHjkP3hgaI"
      }
    },
    {
      "cell_type": "markdown",
      "source": [
        " 8. What is Pre-Pruning in Decision Trees ?\n",
        "\n",
        " ans. In decision trees, pre-pruning is a technique used to prevent overfitting by stopping the growth of the tree early. It's also known as \"early stopping.\" Here's a breakdown of what it entails:\n",
        "\n",
        "**The Problem: Overfitting**\n",
        "\n",
        "* Decision trees, if allowed to grow unchecked, can become very complex and memorize the training data, including its noise. This leads to overfitting, where the model performs very well on the training data but poorly on unseen data.\n",
        "\n",
        "**Pre-Pruning: The Solution**\n",
        "\n",
        "* Pre-pruning aims to avoid this by setting constraints on the tree's growth during the training process. Instead of allowing the tree to grow to its full potential, it stops the splitting of nodes when certain conditions are met.\n",
        "\n",
        "**Common Pre-Pruning Techniques:**\n",
        "\n",
        "* **Maximum Depth:**\n",
        "    * Limits the maximum number of levels in the tree.\n",
        "* **Minimum Samples per Leaf:**\n",
        "    * Requires that each leaf node contain a minimum number of data points. This prevents the creation of leaf nodes with very few samples, which are more likely to be influenced by noise.\n",
        "* **Minimum Samples per Split:**\n",
        "    * Specifies the minimum number of data points required to split an internal node. This prevents splits that are based on very small subsets of data.\n",
        "* **Maximum Number of Leaves:**\n",
        "    * limits the total amount of leaf nodes that the tree can produce.\n",
        "* **Minimum Impurity Decrease:**\n",
        "    * Only allowing a node to split if the split causes the impurity to decrease by a certian amount.\n",
        "\n",
        "**Advantages of Pre-Pruning:**\n",
        "\n",
        "* **Efficiency:**\n",
        "    * It can be computationally less expensive than post-pruning, as it avoids building a fully grown tree.\n",
        "* **Simplicity:**\n",
        "    * It's relatively straightforward to implement by setting constraints on the tree-building process.\n",
        "\n",
        "**Disadvantages of Pre-Pruning:**\n",
        "\n",
        "* **Underfitting:**\n",
        "    * If the constraints are too strict, pre-pruning can lead to underfitting, where the model is too simple to capture the underlying patterns in the data.\n",
        "* **Difficulty in Finding Optimal Parameters:**\n",
        "    * Determining the optimal values for the pre-pruning parameters can be challenging and may require careful tuning.\n",
        "\n",
        "**In essence:**\n",
        "\n",
        "* Pre-pruning is a proactive approach to preventing overfitting in decision trees by setting limitations on the tree's growth.\n",
        "* It involves stopping the tree-building process early based on predefined conditions.\n",
        "* It is very important to tune the hyper parameters correctly, or the model could underfit the data.\n"
      ],
      "metadata": {
        "id": "Vz-rhbJfhpWD"
      }
    },
    {
      "cell_type": "markdown",
      "source": [
        "9. What is Post-Pruning in Decision Trees ?\n",
        "\n",
        "ans. Post-pruning is a technique used in decision trees to combat overfitting by simplifying a fully grown tree. Unlike pre-pruning, which stops the tree's growth early, post-pruning allows the tree to grow to its maximum depth and then removes branches that do not contribute to improving accuracy on unseen data.\n",
        "\n",
        "Here's a breakdown of post-pruning:\n",
        "\n",
        "**The Concept:**\n",
        "\n",
        "* **Full Growth:**\n",
        "    * The decision tree is initially allowed to grow to its full potential, potentially resulting in a very complex tree that perfectly fits the training data.\n",
        "* **Branch Removal:**\n",
        "    * After the tree is fully grown, the post-pruning process begins. It involves identifying and removing branches or subtrees that do not significantly improve the tree's performance on a validation dataset or based on certain criteria.\n",
        "* **Simplification:**\n",
        "    * The goal is to create a simpler, more generalized tree that performs better on unseen data by avoiding the memorization of noise in the training data.\n",
        "\n",
        "**How it Works:**\n",
        "\n",
        "* **Validation Data:**\n",
        "    * Post-pruning typically requires a separate validation dataset to evaluate the performance of the tree after each pruning step.\n",
        "* **Cost-Complexity Pruning:**\n",
        "    * A common post-pruning technique is cost-complexity pruning, which involves finding a balance between the tree's complexity and its accuracy.\n",
        "    * This method introduces a cost-complexity parameter (alpha) that controls the trade-off between the tree's size and its error rate.\n",
        "    * By varying the value of alpha, a series of pruned trees are generated, and the best tree is selected based on its performance on the validation dataset.\n",
        "* **Error Reduction:**\n",
        "    * Another form of post pruning involves checking if the error rate of the tree increases when a branch is removed. If the error rate does not increase, or increases by a very small amount, the branch is removed.\n",
        "\n",
        "**Advantages:**\n",
        "\n",
        "* **Improved Generalization:**\n",
        "    * Post-pruning often results in better generalization to unseen data compared to unpruned trees.\n",
        "* **Flexibility:**\n",
        "    * It allows the tree to explore all possible patterns in the data before simplifying it.\n",
        "\n",
        "**Disadvantages:**\n",
        "\n",
        "* **Computational Cost:**\n",
        "    * Post-pruning can be computationally expensive because it requires building a fully grown tree and then performing pruning operations.\n",
        "* **Validation Data Requirement:**\n",
        "    * It typically requires a separate validation dataset, which reduces the amount of data available for training.\n",
        "\n",
        "In essence, post-pruning is a valuable technique for preventing overfitting and improving the performance of decision trees.\n"
      ],
      "metadata": {
        "id": "EUB173eSh14k"
      }
    },
    {
      "cell_type": "markdown",
      "source": [
        " 10. What is the difference between Pre-Pruning and Post-Pruning ?\n",
        "\n",
        " ans,The core difference between pre-pruning and post-pruning in decision trees lies in when the pruning process occurs during the tree's construction. Here's a concise breakdown:\n",
        "\n",
        "**Pre-Pruning (Early Stopping):**\n",
        "\n",
        "* **When:**\n",
        "    * This occurs *during* the tree-building process.\n",
        "    * It involves setting conditions to halt the tree's growth before it fully develops.\n",
        "* **How:**\n",
        "    * It uses criteria like maximum tree depth, minimum samples per leaf, or minimum information gain to stop further splitting.\n",
        "* **Goal:**\n",
        "    * To prevent the tree from growing too complex and overfitting the training data.\n",
        "* **Pros:**\n",
        "    * Can be computationally efficient.\n",
        "    * Relatively simple to implement.\n",
        "* **Cons:**\n",
        "    * May lead to underfitting if the stopping criteria are too strict.\n",
        "    * Finding optimal parameter values can be difficult.\n",
        "\n",
        "**Post-Pruning (Pruning After Full Growth):**\n",
        "\n",
        "* **When:**\n",
        "    * This occurs *after* the tree has been fully grown.\n",
        "    * It involves removing branches or subtrees from a complete tree.\n",
        "* **How:**\n",
        "    * It uses techniques like cost-complexity pruning or error reduction, often relying on a validation dataset.\n",
        "* **Goal:**\n",
        "    * To simplify a complex tree and improve its generalization to unseen data.\n",
        "* **Pros:**\n",
        "    * Often leads to better generalization than pre-pruning.\n",
        "    * Allows the tree to explore all potential patterns.\n",
        "* **Cons:**\n",
        "    * Can be computationally expensive.\n",
        "    * Typically requires a separate validation dataset.\n",
        "\n"
      ],
      "metadata": {
        "id": "P3L5_T0oh_eN"
      }
    },
    {
      "cell_type": "markdown",
      "source": [
        "11. What is a Decision Tree Regressor ?\n",
        "\n",
        "ans. A Decision Tree Regressor is a type of supervised machine learning algorithm that uses a tree-like structure to predict continuous numerical values. It's the regression counterpart to decision tree classifiers, which predict categorical values.\n",
        "\n",
        "Here's a breakdown of its key aspects:\n",
        "\n",
        "**Core Function:**\n",
        "\n",
        "* **Predicting Continuous Values:**\n",
        "    * Instead of classifying data into categories, a Decision Tree Regressor predicts numerical values, such as house prices, stock values, or temperature.\n",
        "* **Tree Structure:**\n",
        "    * Like all decision trees, it uses a hierarchical, tree-like structure with nodes and branches.\n",
        "    * Internal nodes represent decision rules based on features, and leaf nodes represent the predicted numerical values.\n",
        "\n",
        "**How it Works:**\n",
        "\n",
        "1.  **Data Partitioning:**\n",
        "    * The algorithm recursively splits the data into subsets based on feature values.\n",
        "    * The goal is to create subsets where the target variable (the numerical value being predicted) has minimal variance.\n",
        "2.  **Splitting Criteria:**\n",
        "    * Unlike classification trees that use impurity measures like Gini impurity or entropy, regression trees typically use:\n",
        "        * **Mean Squared Error (MSE):** Measures the average squared difference between the predicted and actual values.\n",
        "        * **Mean Absolute Error (MAE):** Measures the average absolute difference between the predicted and actual values.\n",
        "    * The algorithm selects the splits that minimize these error metrics.\n",
        "3.  **Leaf Node Predictions:**\n",
        "    * When a leaf node is reached, the predicted value is typically the average (mean) of the target values within that node.\n",
        "\n",
        "**Key Characteristics:**\n",
        "\n",
        "* **Non-linear Relationships:**\n",
        "    * Decision Tree Regressors can capture complex, non-linear relationships between features and the target variable.\n",
        "* **Interpretability:**\n",
        "    * The tree structure makes it relatively easy to understand how the model makes predictions.\n",
        "* **Overfitting:**\n",
        "    * Like other decision trees, they are prone to overfitting, which can be mitigated using techniques like pruning.\n",
        "\n",
        "**In essence:**\n",
        "\n",
        "* A Decision Tree Regressor is a powerful tool for predicting numerical values by creating a tree-based model that partitions the data based on feature values.\n",
        "* It is very important to remember that just like with classification decision trees, that overfitting is a large concern.\n"
      ],
      "metadata": {
        "id": "jE52Vh7FiJKy"
      }
    },
    {
      "cell_type": "markdown",
      "source": [
        " 12. What are the advantages and disadvantages of Decision Trees ?\n",
        "\n",
        " ans. Decision trees, while powerful and versatile, come with their own set of advantages and disadvantages. Here's a summary:\n",
        "\n",
        "**Advantages:**\n",
        "\n",
        "* **Interpretability:**\n",
        "    * Decision trees are easy to understand and visualize, making them highly interpretable. This is a significant advantage, especially when explaining model predictions to non-technical stakeholders.\n",
        "* **Handles Both Categorical and Numerical Data:**\n",
        "    * They can effectively handle both categorical and numerical features without requiring extensive data preprocessing.\n",
        "* **Minimal Data Preparation:**\n",
        "    * They require relatively little data preparation compared to some other algorithms. For example, feature scaling is often not necessary.\n",
        "* **Non-linear Relationships:**\n",
        "    * Decision trees can capture complex, non-linear relationships between features and the target variable.\n",
        "* **Versatility:**\n",
        "    * They can be used for both classification and regression tasks.\n",
        "* **Robust to Outliers:**\n",
        "    * Decision trees are relatively robust to outliers, because of the nature of how they partition the data.\n",
        "\n",
        "**Disadvantages:**\n",
        "\n",
        "* **Overfitting:**\n",
        "    * Decision trees are prone to overfitting, especially when they are allowed to grow too deep. This can lead to poor performance on unseen data.\n",
        "* **High Variance:**\n",
        "    * Decision trees can be sensitive to small variations in the training data, leading to high variance. This means that small changes in the data can result in significantly different trees.\n",
        "* **Instability:**\n",
        "    * Slight variations in the data can cause large variations in the resulting decision tree.\n",
        "* **Bias:**\n",
        "    * Decision trees can be biased towards features with more levels.\n",
        "* **Difficulty in Capturing Linear Relationships:**\n",
        "    * While they excel at non-linear relationships, they may struggle to accurately model linear relationships.\n",
        "* **Computational Cost:**\n",
        "    * Decision tree learning algorithms can be computationally expensive, especially for large datasets.\n",
        "\n",
        "**Key Considerations:**\n",
        "\n",
        "* To mitigate the problem of overfitting, techniques like pruning (pre-pruning and post-pruning) and setting constraints on tree depth are commonly used.\n",
        "* Ensemble methods, such as Random Forests and Gradient Boosting, can also be used to improve the stability and performance of decision trees.\n",
        "\n",
        "In summary, decision trees are valuable tools in machine learning, but it's essential to be aware of their limitations and take appropriate measures to address them.\n"
      ],
      "metadata": {
        "id": "c80alhn5iUQD"
      }
    },
    {
      "cell_type": "markdown",
      "source": [
        " 13. How does a Decision Tree handle missing values ?\n",
        "\n",
        " ans. Decision trees have some inherent capabilities for handling missing values, which contributes to their robustness in real-world scenarios. Here's how they generally approach this challenge:\n",
        "\n",
        "**Key Strategies:**\n",
        "\n",
        "* **Surrogate Splits:**\n",
        "    * When a decision tree is being built, and a particular feature is selected for a split, the algorithm can also identify \"surrogate splits.\" These are alternative features that closely mimic the splits created by the primary feature.\n",
        "    * If a data point has a missing value for the primary feature, the tree can use the surrogate splits to determine which branch to follow. This allows the tree to still make a decision even when a crucial feature is missing.\n",
        "* **Weighted Impurity Calculations:**\n",
        "    * During the calculation of impurity measures (like Gini impurity or entropy), decision tree algorithms can adjust the calculations to account for missing values.\n",
        "    * Essentially, data points with missing values might be given weights that reflect their proportion in the dataset. This ensures that the missing values don't completely distort the impurity calculations.\n",
        "* **Handling During Training:**\n",
        "    * Some implementations of decision tree algorithms can handle missing values directly during the training process. For example, when deciding on a split, the algorithm might consider how different ways of handling missing values would affect the impurity of the resulting subsets.\n",
        "* **Handling During Prediction:**\n",
        "    * When a new data point with a missing value is presented for prediction, the decision tree can use the previously learned surrogate splits or other strategies to navigate the tree and arrive at a prediction.\n",
        "\n",
        "**Important Considerations:**\n",
        "\n",
        "* While decision trees can handle missing values to some extent, it's still generally good practice to address missing data through appropriate preprocessing techniques when possible.\n",
        "* The effectiveness of how decision trees handle missing values can vary depending on the specific algorithm implementation.\n",
        "\n",
        "\n"
      ],
      "metadata": {
        "id": "7H7ZLWZlii15"
      }
    },
    {
      "cell_type": "markdown",
      "source": [
        " 14. How does a Decision Tree handle categorical features.\n",
        "\n",
        " ans. Decision trees are quite versatile in their ability to handle categorical features, though the specific methods can vary. Here's a breakdown of how they generally approach this:\n",
        "\n",
        "**Understanding the Challenge:**\n",
        "\n",
        "* Categorical features represent data that falls into distinct categories (e.g., colors, types of fruit, geographical locations).\n",
        "* Decision trees work by splitting data based on feature values, so they need a way to determine how to split based on these categories.\n",
        "\n",
        "**Methods for Handling Categorical Features:**\n",
        "\n",
        "* **Direct Splitting:**\n",
        "    * Some decision tree algorithms can directly handle categorical features by creating splits based on subsets of the categories. For example, a split might be \"Color is (red, blue)\" versus \"Color is (green, yellow).\"\n",
        "    * This approach avoids the need to convert categorical features into numerical ones.\n",
        "* **Binary Splits:**\n",
        "    * Often, decision trees create binary splits. For categorical features, this can involve creating splits like \"Category equals X\" versus \"Category does not equal X.\"\n",
        "    * For categories with many unique values, this can lead to a large number of potential splits.\n",
        "* **Encoding Techniques:**\n",
        "    * **One-Hot Encoding:**\n",
        "        * This is a common preprocessing technique where each category is converted into a separate binary column.\n",
        "        * For example, a \"Color\" feature with values \"red,\" \"blue,\" and \"green\" would be transformed into three columns: \"Color_red,\" \"Color_blue,\" and \"Color_green.\"\n",
        "        * This allows the decision tree to make binary decisions based on the presence or absence of each category.\n",
        "    * **Label Encoding:**\n",
        "        * This involves assigning a unique numerical value to each category.\n",
        "        * However, this can sometimes introduce unintended ordinal relationships between the categories, which might not be appropriate.\n",
        "* **Considerations:**\n",
        "    * The choice of method can depend on the specific decision tree algorithm and the nature of the categorical data.\n",
        "    * One-hot encoding can be effective but can also lead to a high-dimensional dataset, especially with categorical features that have many unique values.\n",
        "\n",
        "**In summary:**\n",
        "\n",
        "* Decision trees have capabilities that enable them to work with categorical data.\n",
        "* preprocessing steps, like one hot encoding, are very common.\n",
        "* The algorithms can directly split data based on categorical values or use encoding techniques to convert them into a suitable numerical format.\n"
      ],
      "metadata": {
        "id": "OjmNM19zixLV"
      }
    },
    {
      "cell_type": "markdown",
      "source": [
        " 15. What are some real-world applications of Decision Trees?\n",
        "\n",
        " ans. Decision trees are incredibly versatile and find applications in a wide range of real-world scenarios. Here are some key areas where they're frequently used:\n",
        "\n",
        "**1. Healthcare:**\n",
        "\n",
        "* **Diagnosis:**\n",
        "    * Decision trees can assist medical professionals in diagnosing diseases based on patient symptoms, medical history, and test results. They can help identify patterns and risk factors.\n",
        "* **Risk Assessment:**\n",
        "    * They can be used to assess patient risk for developing certain conditions, allowing for preventative measures.\n",
        "\n",
        "**2. Finance:**\n",
        "\n",
        "* **Credit Scoring:**\n",
        "    * Banks and financial institutions use decision trees to evaluate the creditworthiness of loan applicants. Factors like income, credit history, and debt are analyzed to predict the likelihood of default.\n",
        "* **Fraud Detection:**\n",
        "    * Decision trees can identify unusual patterns in financial transactions, helping to detect fraudulent activity.\n",
        "* **Investment Decisions:**\n",
        "    * Decision trees can be used to model potential investment outcomes, helping investors make informed choices.\n",
        "\n",
        "**3. Marketing:**\n",
        "\n",
        "* **Customer Segmentation:**\n",
        "    * Businesses use decision trees to segment customers based on demographics, purchasing behavior, and other factors. This allows for targeted marketing campaigns.\n",
        "* **Customer Churn Prediction:**\n",
        "    * They can predict which customers are likely to stop using a product or service, enabling companies to take proactive retention measures.\n",
        "\n",
        "**4. Business and Decision Making:**\n",
        "\n",
        "* **Strategic Planning:**\n",
        "    * Decision trees help businesses evaluate potential growth opportunities, assess risks, and make strategic decisions.\n",
        "* **Quality Control:**\n",
        "    * In manufacturing, decision trees can be used to identify factors that contribute to product defects.\n",
        "\n",
        "**5. Environmental Science:**\n",
        "\n",
        "* **Ecological Modeling:**\n",
        "    * Decision trees can be used to model and predict ecological phenomena, such as species distribution and habitat suitability.\n",
        "\n",
        "**6. Computer Science:**\n",
        "\n",
        "* **Recommendation Systems:**\n",
        "    * Decision trees can be a component of recommendation systems, helping to suggest products or content that users might like.\n",
        "\n",
        "**Key Advantages in Real-World Applications:**\n",
        "\n",
        "* **Interpretability:**\n",
        "    * The ability to understand and explain how decisions are made is crucial in many fields, especially healthcare and finance.\n",
        "* **Handling Diverse Data:**\n",
        "    * Decision trees can handle both numerical and categorical data, which is common in real-world datasets.\n",
        "\n",
        "\n"
      ],
      "metadata": {
        "id": "CvcMFxtKi6_7"
      }
    },
    {
      "cell_type": "markdown",
      "source": [
        "***PRACTICAL QUESTIONS ***"
      ],
      "metadata": {
        "id": "poQlF5z4jDtN"
      }
    },
    {
      "cell_type": "markdown",
      "source": [
        "16. Write a Python program to train a Decision Tree Classifier on the Iris dataset and print the model accuracy.\n"
      ],
      "metadata": {
        "id": "-yp0Gw_LjKun"
      }
    },
    {
      "cell_type": "code",
      "source": [
        "from sklearn.datasets import load_iris\n",
        "from sklearn.model_selection import train_test_split\n",
        "from sklearn.tree import DecisionTreeClassifier\n",
        "from sklearn.metrics import accuracy_score\n",
        "\n",
        "# Load the Iris dataset\n",
        "iris = load_iris()\n",
        "X, y = iris.data, iris.target\n",
        "\n",
        "# Split the dataset into training and testing sets\n",
        "X_train, X_test, y_train, y_test = train_test_split(X, y, test_size=0.2, random_state=42)\n",
        "\n",
        "# Create a Decision Tree classifier\n",
        "clf = DecisionTreeClassifier()\n",
        "\n",
        "# Train the classifier\n",
        "clf.fit(X_train, y_train)\n",
        "\n",
        "# Make predictions on the test set\n",
        "y_pred = clf.predict(X_test)\n",
        "\n",
        "# Calculate and print the accuracy\n",
        "accuracy = accuracy_score(y_test, y_pred)\n",
        "print(f\"Model Accuracy: {accuracy:.2f}\")\n",
        "\n"
      ],
      "metadata": {
        "colab": {
          "base_uri": "https://localhost:8080/"
        },
        "id": "toKM7JkOjSwT",
        "outputId": "7e0a14fa-7910-4945-cad1-97d30407e29c"
      },
      "execution_count": 1,
      "outputs": [
        {
          "output_type": "stream",
          "name": "stdout",
          "text": [
            "Model Accuracy: 1.00\n"
          ]
        }
      ]
    },
    {
      "cell_type": "markdown",
      "source": [
        "17. Write a Python program to train a Decision Tree Classifier using Gini Impurity as the criterion and print the\n",
        "feature importances"
      ],
      "metadata": {
        "id": "gFp13xd1jeH1"
      }
    },
    {
      "cell_type": "code",
      "source": [
        "from sklearn.datasets import load_iris\n",
        "from sklearn.model_selection import train_test_split\n",
        "from sklearn.tree import DecisionTreeClassifier\n",
        "from sklearn.metrics import accuracy_score\n",
        "\n",
        "# Load the Iris dataset\n",
        "iris = load_iris()\n",
        "X, y = iris.data, iris.target\n",
        "\n",
        "# Split the dataset into training and testing sets\n",
        "X_train, X_test, y_train, y_test = train_test_split(X, y, test_size=0.2, random_state=42)\n",
        "\n",
        "# Create a Decision Tree classifier with Gini Impurity as the criterion\n",
        "clf = DecisionTreeClassifier(criterion='gini')\n",
        "\n",
        "# Train the classifier\n",
        "clf.fit(X_train, y_train)\n",
        "\n",
        "# Make predictions on the test set\n",
        "y_pred = clf.predict(X_test)\n",
        "\n",
        "# Calculate and print the accuracy\n",
        "accuracy = accuracy_score(y_test, y_pred)\n",
        "print(f\"Model Accuracy: {accuracy:.2f}\")\n",
        "\n",
        "# Print feature importances\n",
        "print(\"Feature Importances:\")\n",
        "print(clf.feature_importances_)\n"
      ],
      "metadata": {
        "colab": {
          "base_uri": "https://localhost:8080/"
        },
        "id": "oM3-skGljivH",
        "outputId": "1fe3ac49-dfff-4c46-c67a-5766aed9d41f"
      },
      "execution_count": 2,
      "outputs": [
        {
          "output_type": "stream",
          "name": "stdout",
          "text": [
            "Model Accuracy: 1.00\n",
            "Feature Importances:\n",
            "[0.         0.01667014 0.40593501 0.57739485]\n"
          ]
        }
      ]
    },
    {
      "cell_type": "markdown",
      "source": [
        " 18. Write a Python program to train a Decision Tree Classifier using Entropy as the splitting criterion and print the\n",
        "model accuracy."
      ],
      "metadata": {
        "id": "iRXE4mNRjq_z"
      }
    },
    {
      "cell_type": "code",
      "source": [
        "from sklearn.datasets import load_iris\n",
        "from sklearn.model_selection import train_test_split\n",
        "from sklearn.tree import DecisionTreeClassifier\n",
        "from sklearn.metrics import accuracy_score\n",
        "\n",
        "# Load the Iris dataset\n",
        "iris = load_iris()\n",
        "X, y = iris.data, iris.target\n",
        "\n",
        "# Split the dataset into training and testing sets\n",
        "X_train, X_test, y_train, y_test = train_test_split(X, y, test_size=0.2, random_state=42)\n",
        "\n",
        "# Create a Decision Tree classifier with Entropy as the splitting criterion\n",
        "clf = DecisionTreeClassifier(criterion='entropy')\n",
        "\n",
        "# Train the classifier\n",
        "clf.fit(X_train, y_train)\n",
        "\n",
        "# Make predictions on the test set\n",
        "y_pred = clf.predict(X_test)\n",
        "\n",
        "# Calculate and print the accuracy\n",
        "accuracy = accuracy_score(y_test, y_pred)\n",
        "print(f\"Model Accuracy: {accuracy:.2f}\")\n",
        "\n",
        "# Print feature importances\n",
        "print(\"Feature Importances:\")\n",
        "print(clf.feature_importances_)\n"
      ],
      "metadata": {
        "colab": {
          "base_uri": "https://localhost:8080/"
        },
        "id": "XJ1PUxO4j29u",
        "outputId": "91f0b428-8014-4dc9-b83f-fbc8898883ed"
      },
      "execution_count": 3,
      "outputs": [
        {
          "output_type": "stream",
          "name": "stdout",
          "text": [
            "Model Accuracy: 1.00\n",
            "Feature Importances:\n",
            "[0.01448725 0.01448725 0.30142845 0.66959704]\n"
          ]
        }
      ]
    },
    {
      "cell_type": "markdown",
      "source": [
        " 19. Write a Python program to train a Decision Tree Regressor on a housing dataset and evaluate using Mean\n",
        "Squared Error (MSE)"
      ],
      "metadata": {
        "id": "IHj55_Lnj6rk"
      }
    },
    {
      "cell_type": "code",
      "source": [
        "from sklearn.datasets import fetch_california_housing\n",
        "from sklearn.model_selection import train_test_split\n",
        "from sklearn.tree import DecisionTreeRegressor\n",
        "from sklearn.metrics import mean_squared_error\n",
        "\n",
        "# Load the California housing dataset\n",
        "housing = fetch_california_housing()\n",
        "X, y = housing.data, housing.target\n",
        "\n",
        "# Split the dataset into training and testing sets\n",
        "X_train, X_test, y_train, y_test = train_test_split(X, y, test_size=0.2, random_state=42)\n",
        "\n",
        "# Create a Decision Tree Regressor\n",
        "regressor = DecisionTreeRegressor()\n",
        "\n",
        "# Train the regressor\n",
        "regressor.fit(X_train, y_train)\n",
        "\n",
        "# Make predictions on the test set\n",
        "y_pred = regressor.predict(X_test)\n",
        "\n",
        "# Calculate and print the Mean Squared Error (MSE)\n",
        "mse = mean_squared_error(y_test, y_pred)\n",
        "print(f\"Mean Squared Error: {mse:.2f}\")\n",
        "\n",
        "# Print feature importances\n",
        "print(\"Feature Importances:\")\n",
        "print(regressor.feature_importances_)\n"
      ],
      "metadata": {
        "colab": {
          "base_uri": "https://localhost:8080/"
        },
        "id": "ObWnFLoHj_Hw",
        "outputId": "63996d25-1c7e-45e9-cccc-0671b135dff0"
      },
      "execution_count": 4,
      "outputs": [
        {
          "output_type": "stream",
          "name": "stdout",
          "text": [
            "Mean Squared Error: 0.50\n",
            "Feature Importances:\n",
            "[0.52787078 0.05197704 0.05426727 0.02813819 0.03069371 0.13010949\n",
            " 0.09344774 0.08349579]\n"
          ]
        }
      ]
    },
    {
      "cell_type": "markdown",
      "source": [
        "20. Write a Python program to train a Decision Tree Classifier and visualize the tree using graphviz"
      ],
      "metadata": {
        "id": "zYrY_iUtkDHF"
      }
    },
    {
      "cell_type": "code",
      "source": [
        "from sklearn.datasets import load_iris\n",
        "from sklearn.model_selection import train_test_split\n",
        "from sklearn.tree import DecisionTreeClassifier, export_graphviz\n",
        "from sklearn.metrics import accuracy_score\n",
        "import graphviz\n",
        "import numpy as np\n",
        "\n",
        "# Load the Iris dataset\n",
        "iris = load_iris()\n",
        "X, y = iris.data, iris.target\n",
        "\n",
        "# Split the dataset into training and testing sets\n",
        "X_train, X_test, y_train, y_test = train_test_split(X, y, test_size=0.2, random_state=42)\n",
        "\n",
        "# Create a Decision Tree classifier\n",
        "clf = DecisionTreeClassifier()\n",
        "\n",
        "# Train the classifier\n",
        "clf.fit(X_train, y_train)\n",
        "\n",
        "# Make predictions on the test set\n",
        "y_pred = clf.predict(X_test)\n",
        "\n",
        "# Calculate and print the accuracy\n",
        "accuracy = accuracy_score(y_test, y_pred)\n",
        "print(f\"Model Accuracy: {accuracy:.2f}\")\n",
        "\n",
        "# Visualize the decision tree\n",
        "dot_data = export_graphviz(clf, out_file=None, feature_names=iris.feature_names, class_names=iris.target_names, filled=True, rounded=True, special_characters=True)\n",
        "graph = graphviz.Source(dot_data)\n",
        "graph.render(\"decision_tree\")  # Saves the tree visualization as a file"
      ],
      "metadata": {
        "colab": {
          "base_uri": "https://localhost:8080/",
          "height": 53
        },
        "id": "lfITmvRSkG3M",
        "outputId": "f902f7a2-28b5-4f62-bc37-dc2ff46e71c3"
      },
      "execution_count": 5,
      "outputs": [
        {
          "output_type": "stream",
          "name": "stdout",
          "text": [
            "Model Accuracy: 1.00\n"
          ]
        },
        {
          "output_type": "execute_result",
          "data": {
            "text/plain": [
              "'decision_tree.pdf'"
            ],
            "application/vnd.google.colaboratory.intrinsic+json": {
              "type": "string"
            }
          },
          "metadata": {},
          "execution_count": 5
        }
      ]
    },
    {
      "cell_type": "markdown",
      "source": [
        "21. Write a Python program to train a Decision Tree Classifier with a maximum depth of 3 and compare its\n",
        "accuracy with a fully grown tree"
      ],
      "metadata": {
        "id": "ldX9z3cekaRZ"
      }
    },
    {
      "cell_type": "code",
      "source": [
        "from sklearn.datasets import load_iris\n",
        "from sklearn.model_selection import train_test_split\n",
        "from sklearn.tree import DecisionTreeClassifier, export_graphviz\n",
        "from sklearn.metrics import accuracy_score\n",
        "import graphviz\n",
        "import numpy as np\n",
        "\n",
        "# Load the Iris dataset\n",
        "iris = load_iris()\n",
        "X, y = iris.data, iris.target\n",
        "\n",
        "# Split the dataset into training and testing sets\n",
        "X_train, X_test, y_train, y_test = train_test_split(X, y, test_size=0.2, random_state=42)\n",
        "\n",
        "# Create a Decision Tree classifier with max depth of 3\n",
        "clf_limited = DecisionTreeClassifier(max_depth=3)\n",
        "clf_limited.fit(X_train, y_train)\n",
        "y_pred_limited = clf_limited.predict(X_test)\n",
        "accuracy_limited = accuracy_score(y_test, y_pred_limited)\n",
        "print(f\"Model Accuracy with max depth 3: {accuracy_limited:.2f}\")\n",
        "\n",
        "# Create a fully grown Decision Tree classifier\n",
        "clf_full = DecisionTreeClassifier()\n",
        "clf_full.fit(X_train, y_train)\n",
        "y_pred_full = clf_full.predict(X_test)\n",
        "accuracy_full = accuracy_score(y_test, y_pred_full)\n",
        "print(f\"Model Accuracy with fully grown tree: {accuracy_full:.2f}\")\n",
        "\n",
        "# Visualize the decision tree with max depth 3\n",
        "dot_data_limited = export_graphviz(clf_limited, out_file=None, feature_names=iris.feature_names, class_names=iris.target_names, filled=True, rounded=True, special_characters=True)\n",
        "graph_limited = graphviz.Source(dot_data_limited)\n",
        "graph_limited.render(\"decision_tree_limited\")  # Saves the limited depth tree visualization as a file\n",
        "\n",
        "# Visualize the fully grown decision tree\n",
        "dot_data_full = export_graphviz(clf_full, out_file=None, feature_names=iris.feature_names, class_names=iris.target_names, filled=True, rounded=True, special_characters=True)\n",
        "graph_full = graphviz.Source(dot_data_full)\n",
        "graph_full.render(\"decision_tree_full\")  # Saves the full tree visualization as a file"
      ],
      "metadata": {
        "colab": {
          "base_uri": "https://localhost:8080/",
          "height": 70
        },
        "id": "4H--fjvUkfrD",
        "outputId": "5bbe2bfd-e47d-4cf4-aa70-62a92406aa30"
      },
      "execution_count": 7,
      "outputs": [
        {
          "output_type": "stream",
          "name": "stdout",
          "text": [
            "Model Accuracy with max depth 3: 1.00\n",
            "Model Accuracy with fully grown tree: 1.00\n"
          ]
        },
        {
          "output_type": "execute_result",
          "data": {
            "text/plain": [
              "'decision_tree_full.pdf'"
            ],
            "application/vnd.google.colaboratory.intrinsic+json": {
              "type": "string"
            }
          },
          "metadata": {},
          "execution_count": 7
        }
      ]
    },
    {
      "cell_type": "markdown",
      "source": [
        " 22. Write a Python program to train a Decision Tree Classifier using min_samples_split=5 and compare its\n",
        "accuracy with a default tree"
      ],
      "metadata": {
        "id": "MFy8KJWZkm6L"
      }
    },
    {
      "cell_type": "code",
      "source": [
        "from sklearn.datasets import load_iris\n",
        "from sklearn.model_selection import train_test_split\n",
        "from sklearn.tree import DecisionTreeClassifier\n",
        "from sklearn.metrics import accuracy_score\n",
        "\n",
        "# Load the Iris dataset\n",
        "iris = load_iris()\n",
        "X = iris.data\n",
        "y = iris.target\n",
        "\n",
        "# Split the dataset into training and testing sets\n",
        "X_train, X_test, y_train, y_test = train_test_split(X, y, test_size=0.2, random_state=42)\n",
        "\n",
        "# Create a Decision Tree Classifier with default parameters\n",
        "default_clf = DecisionTreeClassifier(random_state=42)\n",
        "default_clf.fit(X_train, y_train)\n",
        "default_y_pred = default_clf.predict(X_test)\n",
        "default_accuracy = accuracy_score(y_test, default_y_pred)\n",
        "\n",
        "# Create a Decision Tree Classifier with min_samples_split=5\n",
        "custom_clf = DecisionTreeClassifier(min_samples_split=5, random_state=42)\n",
        "custom_clf.fit(X_train, y_train)\n",
        "custom_y_pred = custom_clf.predict(X_test)\n",
        "custom_accuracy = accuracy_score(y_test, custom_y_pred)\n",
        "\n",
        "# Print the accuracies\n",
        "print(f\"Default Decision Tree Accuracy: {default_accuracy:.4f}\")\n",
        "print(f\"Decision Tree with min_samples_split=5 Accuracy: {custom_accuracy:.4f}\")\n",
        "\n",
        "# Compare the accuracies\n",
        "if default_accuracy > custom_accuracy:\n",
        "    print(\"The default decision tree performed better.\")\n",
        "elif default_accuracy < custom_accuracy:\n",
        "    print(\"The decision tree with min_samples_split=5 performed better.\")\n",
        "else:\n",
        "    print(\"Both decision trees performed equally well.\")"
      ],
      "metadata": {
        "colab": {
          "base_uri": "https://localhost:8080/"
        },
        "id": "_jGurkv5kpVQ",
        "outputId": "78459d7b-05bc-42a2-a740-911b347e0f11"
      },
      "execution_count": 8,
      "outputs": [
        {
          "output_type": "stream",
          "name": "stdout",
          "text": [
            "Default Decision Tree Accuracy: 1.0000\n",
            "Decision Tree with min_samples_split=5 Accuracy: 1.0000\n",
            "Both decision trees performed equally well.\n"
          ]
        }
      ]
    },
    {
      "cell_type": "markdown",
      "source": [
        "23.  Write a Python program to apply feature scaling before training a Decision Tree Classifier and compare its\n",
        "accuracy with unscaled data"
      ],
      "metadata": {
        "id": "DMESo9vhkwEZ"
      }
    },
    {
      "cell_type": "code",
      "source": [
        "from sklearn.datasets import load_iris\n",
        "from sklearn.model_selection import train_test_split\n",
        "from sklearn.tree import DecisionTreeClassifier\n",
        "from sklearn.metrics import accuracy_score\n",
        "from sklearn.preprocessing import StandardScaler\n",
        "\n",
        "# Load the Iris dataset\n",
        "iris = load_iris()\n",
        "X = iris.data\n",
        "y = iris.target\n",
        "\n",
        "# Split the dataset into training and testing sets\n",
        "X_train, X_test, y_train, y_test = train_test_split(X, y, test_size=0.2, random_state=42)\n",
        "\n",
        "# Train a Decision Tree Classifier with unscaled data\n",
        "unscaled_clf = DecisionTreeClassifier(random_state=42)\n",
        "unscaled_clf.fit(X_train, y_train)\n",
        "unscaled_y_pred = unscaled_clf.predict(X_test)\n",
        "unscaled_accuracy = accuracy_score(y_test, unscaled_y_pred)\n",
        "\n",
        "# Apply feature scaling (StandardScaler)\n",
        "scaler = StandardScaler()\n",
        "X_train_scaled = scaler.fit_transform(X_train)\n",
        "X_test_scaled = scaler.transform(X_test)\n",
        "\n",
        "# Train a Decision Tree Classifier with scaled data\n",
        "scaled_clf = DecisionTreeClassifier(random_state=42)\n",
        "scaled_clf.fit(X_train_scaled, y_train)\n",
        "scaled_y_pred = scaled_clf.predict(X_test_scaled)\n",
        "scaled_accuracy = accuracy_score(y_test, scaled_y_pred)\n",
        "\n",
        "# Print the accuracies\n",
        "print(f\"Unscaled Decision Tree Accuracy: {unscaled_accuracy:.4f}\")\n",
        "print(f\"Scaled Decision Tree Accuracy: {scaled_accuracy:.4f}\")\n",
        "\n",
        "# Compare the accuracies\n",
        "if unscaled_accuracy > scaled_accuracy:\n",
        "    print(\"The unscaled decision tree performed better.\")\n",
        "elif unscaled_accuracy < scaled_accuracy:\n",
        "    print(\"The scaled decision tree performed better.\")\n",
        "else:\n",
        "    print(\"Both decision trees performed equally well.\")"
      ],
      "metadata": {
        "colab": {
          "base_uri": "https://localhost:8080/"
        },
        "id": "qzM3A5HJkzRe",
        "outputId": "4e91a518-a83a-4d18-a8f5-3d8deecfe4ad"
      },
      "execution_count": 9,
      "outputs": [
        {
          "output_type": "stream",
          "name": "stdout",
          "text": [
            "Unscaled Decision Tree Accuracy: 1.0000\n",
            "Scaled Decision Tree Accuracy: 1.0000\n",
            "Both decision trees performed equally well.\n"
          ]
        }
      ]
    },
    {
      "cell_type": "markdown",
      "source": [
        " 24. Write a Python program to train a Decision Tree Classifier using One-vs-Rest (OvR) strategy for multiclass\n",
        "classification"
      ],
      "metadata": {
        "id": "poO9PFTzk4pP"
      }
    },
    {
      "cell_type": "code",
      "source": [
        "from sklearn.datasets import load_iris\n",
        "from sklearn.model_selection import train_test_split\n",
        "from sklearn.tree import DecisionTreeClassifier\n",
        "from sklearn.multiclass import OneVsRestClassifier\n",
        "from sklearn.metrics import accuracy_score\n",
        "\n",
        "# Load the Iris dataset\n",
        "iris = load_iris()\n",
        "X = iris.data\n",
        "y = iris.target\n",
        "\n",
        "# Split the dataset into training and testing sets\n",
        "X_train, X_test, y_train, y_test = train_test_split(X, y, test_size=0.2, random_state=42)\n",
        "\n",
        "# Create a Decision Tree Classifier\n",
        "base_clf = DecisionTreeClassifier(random_state=42)\n",
        "\n",
        "# Create an OvR classifier using the Decision Tree Classifier as the base estimator\n",
        "ovr_clf = OneVsRestClassifier(base_clf)\n",
        "\n",
        "# Train the OvR classifier\n",
        "ovr_clf.fit(X_train, y_train)\n",
        "\n",
        "# Make predictions on the test set\n",
        "y_pred = ovr_clf.predict(X_test)\n",
        "\n",
        "# Calculate the accuracy of the model\n",
        "accuracy = accuracy_score(y_test, y_pred)\n",
        "\n",
        "# Print the accuracy\n",
        "print(f\"One-vs-Rest Decision Tree Classifier Accuracy: {accuracy:.4f}\")"
      ],
      "metadata": {
        "colab": {
          "base_uri": "https://localhost:8080/"
        },
        "id": "3BF0l0oFlFP-",
        "outputId": "23772c97-4f09-471b-fae4-2c8a067c9f17"
      },
      "execution_count": 11,
      "outputs": [
        {
          "output_type": "stream",
          "name": "stdout",
          "text": [
            "One-vs-Rest Decision Tree Classifier Accuracy: 1.0000\n"
          ]
        }
      ]
    },
    {
      "cell_type": "markdown",
      "source": [
        " 25. Write a Python program to train a Decision Tree Classifier and display the feature importance scores"
      ],
      "metadata": {
        "id": "QNt48-QAlGXZ"
      }
    },
    {
      "cell_type": "code",
      "source": [
        "from sklearn.datasets import load_iris\n",
        "from sklearn.model_selection import train_test_split\n",
        "from sklearn.tree import DecisionTreeClassifier\n",
        "import matplotlib.pyplot as plt\n",
        "import numpy as np\n",
        "\n",
        "# Load the dataset\n",
        "iris = load_iris()\n",
        "X = iris.data\n",
        "y = iris.target\n",
        "\n",
        "# Split the dataset into training and testing sets\n",
        "X_train, X_test, y_train, y_test = train_test_split(X, y, test_size=0.2, random_state=42)\n",
        "\n",
        "# Create and train the Decision Tree Classifier\n",
        "clf = DecisionTreeClassifier(random_state=42)\n",
        "clf.fit(X_train, y_train)\n",
        "\n",
        "# Get feature importance scores\n",
        "feature_importances = clf.feature_importances_\n",
        "\n",
        "# Display feature importance\n",
        "features = iris.feature_names\n",
        "\n",
        "# Plot feature importance\n",
        "plt.figure(figsize=(8, 6))\n",
        "plt.barh(features, feature_importances, color='skyblue')\n",
        "plt.xlabel('Feature Importance Score')\n",
        "plt.ylabel('Features')\n",
        "plt.title('Feature Importance in Decision Tree')\n",
        "plt.show()\n",
        "\n",
        "# Print feature importance values\n",
        "for feature, importance in zip(features, feature_importances):\n",
        "    print(f'{feature}: {importance:.4f}')\n"
      ],
      "metadata": {
        "colab": {
          "base_uri": "https://localhost:8080/",
          "height": 633
        },
        "id": "3FNiTrVUlKQR",
        "outputId": "6b7db8d4-419c-410b-e93c-65f99496d925"
      },
      "execution_count": 12,
      "outputs": [
        {
          "output_type": "display_data",
          "data": {
            "text/plain": [
              "<Figure size 800x600 with 1 Axes>"
            ],
            "image/png": "[encoded data removed]"
          },
          "metadata": {}
        },
        {
          "output_type": "stream",
          "name": "stdout",
          "text": [
            "sepal length (cm): 0.0000\n",
            "sepal width (cm): 0.0167\n",
            "petal length (cm): 0.9061\n",
            "petal width (cm): 0.0772\n"
          ]
        }
      ]
    },
    {
      "cell_type": "markdown",
      "source": [
        " 26. Write a Python program to train a Decision Tree Regressor with max_depth=5 and compare its performance\n",
        "with an unrestricted tree"
      ],
      "metadata": {
        "id": "9GfWkubMlR9r"
      }
    },
    {
      "cell_type": "code",
      "source": [
        "from sklearn.datasets import fetch_california_housing\n",
        "from sklearn.model_selection import train_test_split\n",
        "from sklearn.tree import DecisionTreeRegressor\n",
        "from sklearn.metrics import mean_squared_error\n",
        "\n",
        "# Load the California housing dataset\n",
        "housing = fetch_california_housing()\n",
        "X = housing.data\n",
        "y = housing.target\n",
        "\n",
        "# Split the dataset into training and testing sets\n",
        "X_train, X_test, y_train, y_test = train_test_split(X, y, test_size=0.2, random_state=42)\n",
        "\n",
        "# Train a Decision Tree Regressor with max_depth=5\n",
        "restricted_tree = DecisionTreeRegressor(max_depth=5, random_state=42)\n",
        "restricted_tree.fit(X_train, y_train)\n",
        "restricted_y_pred = restricted_tree.predict(X_test)\n",
        "restricted_mse = mean_squared_error(y_test, restricted_y_pred)\n",
        "\n",
        "# Train an unrestricted Decision Tree Regressor\n",
        "unrestricted_tree = DecisionTreeRegressor(random_state=42)\n",
        "unrestricted_tree.fit(X_train, y_train)\n",
        "unrestricted_y_pred = unrestricted_tree.predict(X_test)\n",
        "unrestricted_mse = mean_squared_error(y_test, unrestricted_y_pred)\n",
        "\n",
        "# Print the Mean Squared Errors\n",
        "print(f\"Restricted Tree (max_depth=5) MSE: {restricted_mse:.4f}\")\n",
        "print(f\"Unrestricted Tree MSE: {unrestricted_mse:.4f}\")\n",
        "\n",
        "# Compare the performance\n",
        "if restricted_mse < unrestricted_mse:\n",
        "    print(\"The restricted tree performed better.\")\n",
        "elif restricted_mse > unrestricted_mse:\n",
        "    print(\"The unrestricted tree performed better.\")\n",
        "else:\n",
        "    print(\"Both trees performed equally.\")\n",
        "\n",
        "#Optional: Print the difference in MSE to show the magnitude of the change.\n",
        "print(f\"Difference in MSE: {abs(restricted_mse - unrestricted_mse):.4f}\")"
      ],
      "metadata": {
        "colab": {
          "base_uri": "https://localhost:8080/"
        },
        "id": "d10E-XDtlp7v",
        "outputId": "451d044f-4cb7-4479-96ac-8762ed9ce8ea"
      },
      "execution_count": 14,
      "outputs": [
        {
          "output_type": "stream",
          "name": "stdout",
          "text": [
            "Restricted Tree (max_depth=5) MSE: 0.5245\n",
            "Unrestricted Tree MSE: 0.4952\n",
            "The unrestricted tree performed better.\n",
            "Difference in MSE: 0.0293\n"
          ]
        }
      ]
    },
    {
      "cell_type": "markdown",
      "source": [
        " 27. Write a Python program to train a Decision Tree Classifier, apply Cost Complexity Pruning (CCP), and\n",
        "visualize its effect on accuracy"
      ],
      "metadata": {
        "id": "mrE7cg0Eltax"
      }
    },
    {
      "cell_type": "code",
      "source": [
        "import matplotlib.pyplot as plt\n",
        "from sklearn.datasets import load_iris\n",
        "from sklearn.model_selection import train_test_split\n",
        "from sklearn.tree import DecisionTreeClassifier\n",
        "from sklearn.metrics import accuracy_score\n",
        "\n",
        "# Load the Iris dataset\n",
        "iris = load_iris()\n",
        "X = iris.data\n",
        "y = iris.target\n",
        "\n",
        "# Split the dataset into training and testing sets\n",
        "X_train, X_test, y_train, y_test = train_test_split(X, y, test_size=0.2, random_state=42)\n",
        "\n",
        "# Train a Decision Tree Classifier\n",
        "clf = DecisionTreeClassifier(random_state=42)\n",
        "clf.fit(X_train, y_train)\n",
        "\n",
        "# Apply Cost Complexity Pruning (CCP)\n",
        "path = clf.cost_complexity_pruning_path(X_train, y_train)\n",
        "ccp_alphas, impurities = path.ccp_alphas, path.impurities\n",
        "\n",
        "# Train classifiers with different ccp_alphas\n",
        "clfs = []\n",
        "for ccp_alpha in ccp_alphas:\n",
        "    clf = DecisionTreeClassifier(random_state=42, ccp_alpha=ccp_alpha)\n",
        "    clf.fit(X_train, y_train)\n",
        "    clfs.append(clf)\n",
        "\n",
        "# Calculate accuracy scores\n",
        "train_scores = [clf.score(X_train, y_train) for clf in clfs]\n",
        "test_scores = [clf.score(X_test, y_test) for clf in clfs]\n",
        "\n",
        "# Visualize the effect of CCP on accuracy\n",
        "fig, ax = plt.subplots()\n",
        "ax.set_xlabel(\"alpha\")\n",
        "ax.set_ylabel(\"accuracy\")\n",
        "ax.set_title(\"Accuracy vs alpha for training and testing sets\")\n",
        "ax.plot(ccp_alphas, train_scores, marker=\"o\", label=\"train\", drawstyle=\"steps-post\")\n",
        "ax.plot(ccp_alphas, test_scores, marker=\"o\", label=\"test\", drawstyle=\"steps-post\")\n",
        "ax.legend()\n",
        "plt.show()\n",
        "\n",
        "#Find the alpha that produces the highest test accuracy\n",
        "best_alpha_index = test_scores.index(max(test_scores))\n",
        "best_alpha = ccp_alphas[best_alpha_index]\n",
        "best_clf = clfs[best_alpha_index]\n",
        "\n",
        "print(f\"Best alpha: {best_alpha:.4f}\")\n",
        "print(f\"Best test accuracy: {max(test_scores):.4f}\")\n",
        "\n",
        "#Optional: Print the tree depth of the best classifier\n",
        "print(f\"Best classifier depth: {best_clf.get_depth()}\")"
      ],
      "metadata": {
        "colab": {
          "base_uri": "https://localhost:8080/",
          "height": 524
        },
        "id": "8CajKZhZlwf0",
        "outputId": "94fdc665-3a2f-46e1-cfed-68d464be8f59"
      },
      "execution_count": 15,
      "outputs": [
        {
          "output_type": "display_data",
          "data": {
            "text/plain": [
              "<Figure size 640x480 with 1 Axes>"
            ],
            "image/png": "[encoded data removed]"
          },
          "metadata": {}
        },
        {
          "output_type": "stream",
          "name": "stdout",
          "text": [
            "Best alpha: 0.0000\n",
            "Best test accuracy: 1.0000\n",
            "Best classifier depth: 6\n"
          ]
        }
      ]
    },
    {
      "cell_type": "markdown",
      "source": [
        "28. Write a Python program to train a Decision Tree Classifier and evaluate its performance using Precision,\n",
        "Recall, and F1-Score"
      ],
      "metadata": {
        "id": "T_Q_GIk-l20e"
      }
    },
    {
      "cell_type": "code",
      "source": [
        "from sklearn.datasets import load_iris\n",
        "from sklearn.model_selection import train_test_split\n",
        "from sklearn.tree import DecisionTreeClassifier\n",
        "from sklearn.metrics import precision_score, recall_score, f1_score\n",
        "\n",
        "# Load the Iris dataset\n",
        "iris = load_iris()\n",
        "X = iris.data\n",
        "y = iris.target\n",
        "\n",
        "# Split the dataset into training and testing sets\n",
        "X_train, X_test, y_train, y_test = train_test_split(X, y, test_size=0.2, random_state=42)\n",
        "\n",
        "# Create a Decision Tree Classifier\n",
        "clf = DecisionTreeClassifier(random_state=42)\n",
        "\n",
        "# Train the classifier\n",
        "clf.fit(X_train, y_train)\n",
        "\n",
        "# Make predictions on the test set\n",
        "y_pred = clf.predict(X_test)\n",
        "\n",
        "# Calculate Precision, Recall, and F1-Score\n",
        "precision = precision_score(y_test, y_pred, average='weighted')  # Use 'weighted' for multiclass\n",
        "recall = recall_score(y_test, y_pred, average='weighted')\n",
        "f1 = f1_score(y_test, y_pred, average='weighted')\n",
        "\n",
        "# Print the evaluation metrics\n",
        "print(f\"Precision: {precision:.4f}\")\n",
        "print(f\"Recall: {recall:.4f}\")\n",
        "print(f\"F1-Score: {f1:.4f}\")"
      ],
      "metadata": {
        "colab": {
          "base_uri": "https://localhost:8080/"
        },
        "id": "VnqxLph5l6IL",
        "outputId": "b19ae0c4-7a5f-45e2-bdf9-05c4697f4c29"
      },
      "execution_count": 16,
      "outputs": [
        {
          "output_type": "stream",
          "name": "stdout",
          "text": [
            "Precision: 1.0000\n",
            "Recall: 1.0000\n",
            "F1-Score: 1.0000\n"
          ]
        }
      ]
    },
    {
      "cell_type": "markdown",
      "source": [
        " 29. Write a Python program to train a Decision Tree Classifier and visualize the confusion matrix using seaborn"
      ],
      "metadata": {
        "id": "R4mZKfD1mAo1"
      }
    },
    {
      "cell_type": "code",
      "source": [
        "import matplotlib.pyplot as plt\n",
        "import seaborn as sns\n",
        "from sklearn.datasets import load_iris\n",
        "from sklearn.model_selection import train_test_split\n",
        "from sklearn.tree import DecisionTreeClassifier\n",
        "from sklearn.metrics import confusion_matrix\n",
        "\n",
        "# Load the Iris dataset\n",
        "iris = load_iris()\n",
        "X = iris.data\n",
        "y = iris.target\n",
        "\n",
        "# Split the dataset into training and testing sets\n",
        "X_train, X_test, y_train, y_test = train_test_split(X, y, test_size=0.2, random_state=42)\n",
        "\n",
        "# Create a Decision Tree Classifier\n",
        "clf = DecisionTreeClassifier(random_state=42)\n",
        "\n",
        "# Train the classifier\n",
        "clf.fit(X_train, y_train)\n",
        "\n",
        "# Make predictions on the test set\n",
        "y_pred = clf.predict(X_test)\n",
        "\n",
        "# Generate the confusion matrix\n",
        "cm = confusion_matrix(y_test, y_pred)\n",
        "\n",
        "# Visualize the confusion matrix using seaborn\n",
        "plt.figure(figsize=(8, 6))\n",
        "sns.heatmap(cm, annot=True, fmt='d', cmap='Blues', xticklabels=iris.target_names, yticklabels=iris.target_names)\n",
        "plt.xlabel('Predicted Labels')\n",
        "plt.ylabel('True Labels')\n",
        "plt.title('Confusion Matrix')\n",
        "plt.show()"
      ],
      "metadata": {
        "colab": {
          "base_uri": "https://localhost:8080/",
          "height": 564
        },
        "id": "2OX3DrXyl_4r",
        "outputId": "5dbefb25-32f8-4615-907f-81f29a3bb069"
      },
      "execution_count": 17,
      "outputs": [
        {
          "output_type": "display_data",
          "data": {
            "text/plain": [
              "<Figure size 800x600 with 2 Axes>"
            ],
            "image/png": "[encoded data removed]"
          },
          "metadata": {}
        }
      ]
    },
    {
      "cell_type": "markdown",
      "source": [
        " 30. Write a Python program to train a Decision Tree Classifier and use GridSearchCV to find the optimal values\n",
        "for max_depth and min_samples_split"
      ],
      "metadata": {
        "id": "pjjtos0tmJ1M"
      }
    },
    {
      "cell_type": "code",
      "source": [
        "from sklearn.datasets import load_iris\n",
        "from sklearn.model_selection import train_test_split, GridSearchCV\n",
        "from sklearn.tree import DecisionTreeClassifier\n",
        "\n",
        "# Load the Iris dataset\n",
        "iris = load_iris()\n",
        "X = iris.data\n",
        "y = iris.target\n",
        "\n",
        "# Split the dataset into training and testing sets\n",
        "X_train, X_test, y_train, y_test = train_test_split(X, y, test_size=0.2, random_state=42)\n",
        "\n",
        "# Create a Decision Tree Classifier\n",
        "clf = DecisionTreeClassifier(random_state=42)\n",
        "\n",
        "# Define the parameter grid for GridSearchCV\n",
        "param_grid = {\n",
        "    'max_depth': [3, 5, 7, 10, None],  # None means no maximum depth\n",
        "    'min_samples_split': [2, 5, 10, 15]\n",
        "}\n",
        "\n",
        "# Create GridSearchCV object\n",
        "grid_search = GridSearchCV(clf, param_grid, cv=5, scoring='accuracy')  # cv=5 for 5-fold cross-validation\n",
        "\n",
        "# Perform the grid search\n",
        "grid_search.fit(X_train, y_train)\n",
        "\n",
        "# Print the best parameters and best score\n",
        "print(\"Best Parameters:\", grid_search.best_params_)\n",
        "print(\"Best Score (Accuracy):\", grid_search.best_score_)\n",
        "\n",
        "# Get the best estimator (trained model)\n",
        "best_clf = grid_search.best_estimator_\n",
        "\n",
        "# Evaluate the best model on the test set (optional)\n",
        "test_accuracy = best_clf.score(X_test, y_test)\n",
        "print(\"Test Set Accuracy with Best Model:\", test_accuracy)"
      ],
      "metadata": {
        "colab": {
          "base_uri": "https://localhost:8080/"
        },
        "id": "20SX7prOmMuC",
        "outputId": "0458bb39-2ea7-4bb1-c82b-157d38c01ebc"
      },
      "execution_count": 18,
      "outputs": [
        {
          "output_type": "stream",
          "name": "stdout",
          "text": [
            "Best Parameters: {'max_depth': 7, 'min_samples_split': 2}\n",
            "Best Score (Accuracy): 0.9416666666666668\n",
            "Test Set Accuracy with Best Model: 1.0\n"
          ]
        }
      ]
    }
  ]
}