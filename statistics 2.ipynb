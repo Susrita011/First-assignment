{
 "cells": [
  {
   "cell_type": "markdown",
   "id": "22b20012-9ecd-40f5-82f8-f1d44b97e34b",
   "metadata": {},
   "source": [
    "1) Generate a list of 100 integers containing values between 90 to 130 and store it in the variable `int_list`.\n",
    "After generating the list, find the following:\n",
    "\n",
    "  \n",
    "\n",
    "  (i) Write a Python function to calculate the mean of a given list of numbers.\n",
    "\n",
    "Create a function to find the median of a list of numbers.\n",
    "\n",
    "  \n",
    "\n",
    "  (ii) Develop a program to compute the mode of a list of integers.\n",
    "\n",
    "  \n",
    "\n",
    "  (iii) Implement a function to calculate the weighted mean of a list of values and their corresponding weights.\n",
    "\n",
    "  \n",
    "\n",
    "  (iv) Write a Python function to find the geometric mean of a list of positive numbers.\n",
    "\n",
    "  \n",
    "\n",
    "  (v) Create a program to calculate the harmonic mean of a list of values.\n",
    "\n",
    "  \n",
    "\n",
    "  (vi) Build a function to determine the midrange of a list of numbers (average of the minimum and maximum).\n",
    "\n",
    "  \n",
    "\n",
    "  (vii) Implement a Python program to find the trimmed mean of a list, excluding a certain percentage of\n",
    "outliers."
   ]
  },
  {
   "cell_type": "code",
   "execution_count": 43,
   "id": "408d9a86-e280-4b2f-af22-8910e511af75",
   "metadata": {},
   "outputs": [
    {
     "name": "stdout",
     "output_type": "stream",
     "text": [
      "Generated List: [119, 124, 93, 108, 115, 112, 96, 91, 100, 94, 101, 120, 118, 100, 92, 94, 122, 123, 107, 119, 126, 130, 116, 116, 129, 128, 90, 96, 112, 97, 101, 114, 129, 115, 90, 96, 128, 93, 117, 102, 126, 123, 125, 101, 105, 128, 103, 106, 122, 102, 119, 106, 115, 94, 113, 116, 112, 108, 96, 113, 107, 107, 91, 96, 94, 97, 103, 125, 119, 98, 100, 123, 94, 113, 107, 104, 94, 127, 100, 122, 103, 91, 106, 121, 120, 90, 120, 94, 129, 130, 124, 100, 125, 103, 96, 100, 91, 94, 99, 106]\n",
      "Mean: 108.69\n",
      "Median: 107.0\n",
      "Mode: 94\n",
      "Weighted Mean: 108.24067164179104\n",
      "Geometric Mean: 107.9893413327024\n",
      "Harmonic Mean: 107.2954361583697\n",
      "Midrange: 110.0\n",
      "Trimmed Mean (10%): 108.4125\n"
     ]
    }
   ],
   "source": [
    "import random\n",
    "import numpy as np\n",
    "from scipy import stats\n",
    "\n",
    "# Generate a list of 100 integers between 90 and 130\n",
    "int_list = [random.randint(90, 130) for _ in range(100)]\n",
    "\n",
    "# Print the generated list for reference\n",
    "print(\"Generated List:\", int_list)\n",
    "\n",
    "# (i) Function to calculate the mean of a list of numbers\n",
    "def calculate_mean(numbers):\n",
    "    return sum(numbers) / len(numbers)\n",
    "\n",
    "# Function to calculate the median\n",
    "def calculate_median(numbers):\n",
    "    return np.median(numbers)\n",
    "\n",
    "# (ii) Function to calculate the mode of a list of integers\n",
    "def calculate_mode(numbers):\n",
    "    mode_result = stats.mode(numbers)  # This returns an object with mode and count\n",
    "    return mode_result.mode[0] if isinstance(mode_result.mode, np.ndarray) else mode_result.mode\n",
    "\n",
    "# (iii) Function to calculate the weighted mean of a list of values and their corresponding weights\n",
    "def calculate_weighted_mean(values, weights):\n",
    "    return np.average(values, weights=weights)\n",
    "\n",
    "# (iv) Function to find the geometric mean of a list of positive numbers\n",
    "def calculate_geometric_mean(numbers):\n",
    "    return stats.gmean(numbers)\n",
    "\n",
    "# (v) Function to calculate the harmonic mean of a list of values\n",
    "def calculate_harmonic_mean(numbers):\n",
    "    return stats.hmean(numbers)\n",
    "\n",
    "# (vi) Function to determine the midrange of a list of numbers\n",
    "def calculate_midrange(numbers):\n",
    "    return (min(numbers) + max(numbers)) / 2\n",
    "\n",
    "# (vii) Function to find the trimmed mean of a list, excluding a certain percentage of outliers\n",
    "def calculate_trimmed_mean(numbers, proportion_to_cut=0.1):\n",
    "    return stats.trim_mean(numbers, proportion_to_cut)\n",
    "\n",
    "# Using the functions with the generated list\n",
    "\n",
    "# (i) Calculate the mean\n",
    "mean_value = calculate_mean(int_list)\n",
    "print(f\"Mean: {mean_value}\")\n",
    "\n",
    "# Calculate the median\n",
    "median_value = calculate_median(int_list)\n",
    "print(f\"Median: {median_value}\")\n",
    "\n",
    "# (ii) Calculate the mode\n",
    "mode_value = calculate_mode(int_list)\n",
    "print(f\"Mode: {mode_value}\")\n",
    "\n",
    "# (iii) Calculate weighted mean (example: using random weights between 1 and 10 for demonstration)\n",
    "weights = [random.randint(1, 10) for _ in range(100)]\n",
    "weighted_mean_value = calculate_weighted_mean(int_list, weights)\n",
    "print(f\"Weighted Mean: {weighted_mean_value}\")\n",
    "\n",
    "# (iv) Calculate geometric mean\n",
    "geometric_mean_value = calculate_geometric_mean(int_list)\n",
    "print(f\"Geometric Mean: {geometric_mean_value}\")\n",
    "\n",
    "# (v) Calculate harmonic mean\n",
    "harmonic_mean_value = calculate_harmonic_mean(int_list)\n",
    "print(f\"Harmonic Mean: {harmonic_mean_value}\")\n",
    "\n",
    "# (vi) Calculate midrange\n",
    "midrange_value = calculate_midrange(int_list)\n",
    "print(f\"Midrange: {midrange_value}\")\n",
    "\n",
    "# (vii) Calculate trimmed mean (removing 10% of the outliers)\n",
    "trimmed_mean_value = calculate_trimmed_mean(int_list, proportion_to_cut=0.1)\n",
    "print(f\"Trimmed Mean (10%): {trimmed_mean_value}\")\n"
   ]
  },
  {
   "cell_type": "markdown",
   "id": "17fd9952-f82c-42b1-95fc-4c3f2fbcd2dd",
   "metadata": {},
   "source": [
    " 2. Generate a list o> 500 integers containing values between 200 to 300 and store it in the variable `int_list2`.\n",
    "A>ter generating the list, >ind the >ollowing:\n",
    "\n",
    "\n",
    "  (i) Compare the given list of visualization for the given data:\n",
    "\n",
    "    \n",
    "\n",
    "    1. Frequency & Gaussian distribution\n",
    "\n",
    "    2. Frequency smoothened KDE plot\n",
    "\n",
    "    3. Gaussian distribution & smoothened KDE plot\n",
    "\n",
    "\n",
    "  (ii) Write a Python function to calculate the range of a given list of numbers.\n",
    "\n",
    "\n",
    "  (iii) Create a program to find the variance and standard deviation of a list of numbers.\n",
    "\n",
    "\n",
    "  (iv) Implement a function to compute the interquartile range (IQR) of a list of values.\n",
    "\n",
    "\n",
    "  (v) Build a program to calculate the coefficient of variation for a dataset.\n",
    "\n",
    "  \n",
    "\n",
    "  (vi) Write a Python function to find the mean absolute deviation (MAD) of a list of numbers.\n",
    "\n",
    "\n",
    "  (vii) Create a program to calculate the quartile deviation of a list of values.\n",
    "\n",
    "  \n",
    "\n",
    "  (viii) Implement a function to find the range-based coefficient of dispersion for a dataset."
   ]
  },
  {
   "cell_type": "code",
   "execution_count": 4,
   "id": "8b5c7292-b926-4f12-bdfa-3c779595b9a8",
   "metadata": {},
   "outputs": [
    {
     "data": {
      "image/png": "[encoded data removed]",
      "text/plain": [
       "<Figure size 640x480 with 1 Axes>"
      ]
     },
     "metadata": {},
     "output_type": "display_data"
    },
    {
     "data": {
      "image/png": "[encoded data removed]",
      "text/plain": [
       "<Figure size 640x480 with 1 Axes>"
      ]
     },
     "metadata": {},
     "output_type": "display_data"
    },
    {
     "data": {
      "image/png": "[encoded data removed]",
      "text/plain": [
       "<Figure size 640x480 with 1 Axes>"
      ]
     },
     "metadata": {},
     "output_type": "display_data"
    }
   ],
   "source": [
    "import random\n",
    "import numpy as np\n",
    "import matplotlib.pyplot as plt\n",
    "import seaborn as sns\n",
    "\n",
    "# Generate a list of 500 integers between 200 and 300\n",
    "int_list2 = [random.randint(200, 300) for _ in range(500)]\n",
    "\n",
    "# (i) Visualization\n",
    "# Convert to NumPy array for easier handling\n",
    "data = np.array(int_list2)\n",
    "\n",
    "# 1. Frequency & Gaussian distribution\n",
    "plt.hist(data, bins=20, density=True, alpha=0.6, color='g', label='Frequency')\n",
    "sns.kdeplot(data, color='b', label='Gaussian Distribution')\n",
    "plt.title('Frequency and Gaussian Distribution')\n",
    "plt.legend()\n",
    "plt.show()\n",
    "\n",
    "# 2. Frequency smoothened KDE plot\n",
    "sns.histplot(data, kde=True, stat='density', color='r')\n",
    "plt.title('Frequency Smoothened KDE Plot')\n",
    "plt.show()\n",
    "\n",
    "# 3. Gaussian distribution & smoothened KDE plot\n",
    "sns.kdeplot(data, color='b', label='Gaussian Distribution')\n",
    "sns.histplot(data, kde=True, stat='density', color='r', label='Smoothened KDE')\n",
    "plt.title('Gaussian Distribution & Smoothened KDE Plot')\n",
    "plt.legend()\n",
    "plt.show()\n",
    "\n",
    "# (ii) Range\n",
    "def calculate_range(numbers):\n",
    "    return max(numbers) - min(numbers)\n",
    "\n",
    "# (iii) Variance and Standard Deviation\n",
    "def calculate_variance_std(numbers):\n",
    "    variance = np.var(numbers)\n",
    "    std_dev = np.std(numbers)\n",
    "    return variance, std_dev\n",
    "\n",
    "# (iv) Interquartile Range (IQR)\n",
    "def calculate_iqr(numbers):\n",
    "    q1 = np.percentile(numbers, 25)\n",
    "    q3 = np.percentile(numbers, 75)\n",
    "    return q3 - q1\n",
    "\n",
    "# (v) Coefficient of Variation\n",
    "def calculate_coefficient_of_variation(numbers):\n",
    "    mean = np.mean(numbers)\n",
    "    std_dev = np.std(numbers)\n",
    "    return (std_dev / mean) * 100\n",
    "\n",
    "# (vi) Mean Absolute Deviation (MAD)\n",
    "def calculate_mad(numbers):\n",
    "    mean = np.mean(numbers)\n",
    "    mad = np.mean(np.abs(numbers - mean))\n",
    "    return mad\n",
    "\n",
    "# (vii) Quartile Deviation\n",
    "def calculate_quartile_deviation(numbers):\n",
    "    q1 = np.percentile(numbers, 25)\n",
    "    q3 = np.percentile(numbers, 75)\n",
    "    qd = (q3 - q1) / 2\n",
    "    return qd\n",
    "\n",
    "# (viii) Range-Based Coefficient of Dispersion\n",
    "def calculate_range_based_coefficient_of_dispersion(numbers):\n",
    "    range_ = calculate_range(numbers)\n",
    "    mean = np.mean(numbers)\n",
    "    return range_ / mean"
   ]
  },
  {
   "cell_type": "markdown",
   "id": "6fb2da62-e713-4476-a110-b2eb477d1528",
   "metadata": {},
   "source": [
    "3)  Write a Python class representing a discrete random variable with methods to calculate its expected\n",
    "value and variance."
   ]
  },
  {
   "cell_type": "code",
   "execution_count": 8,
   "id": "ba76ecc6-174a-4bbd-a807-d9bef3ade5b4",
   "metadata": {},
   "outputs": [
    {
     "name": "stdout",
     "output_type": "stream",
     "text": [
      "Expected Value: 2.3\n",
      "Variance: 0.61\n"
     ]
    }
   ],
   "source": [
    "class DiscreteRandomVariable:\n",
    "    def __init__(self, pmf):\n",
    "        \"\"\"\n",
    "        Initializes a DiscreteRandomVariable object.\n",
    "\n",
    "        Args:\n",
    "            pmf (dict): A dictionary representing the probability mass function (PMF) of the random variable.\n",
    "                The keys are the possible values of the random variable, and the values are their corresponding probabilities.\n",
    "        \"\"\"\n",
    "        self.pmf = pmf\n",
    "\n",
    "    def expected_value(self):\n",
    "        \"\"\"\n",
    "        Calculates the expected value (mean) of the random variable.\n",
    "\n",
    "        Returns:\n",
    "            float: The expected value.\n",
    "        \"\"\"\n",
    "        expected_value = 0\n",
    "        for x, p in self.pmf.items():\n",
    "            expected_value += x * p\n",
    "        return expected_value\n",
    "\n",
    "    def variance(self):\n",
    "        \"\"\"\n",
    "        Calculates the variance of the random variable.\n",
    "\n",
    "        Returns:\n",
    "            float: The variance.\n",
    "        \"\"\"\n",
    "        expected_value = self.expected_value()\n",
    "        variance = 0\n",
    "        for x, p in self.pmf.items():\n",
    "            variance += p * (x - expected_value)**2\n",
    "        return variance\n",
    "\n",
    "\n",
    "pmf = {1: 0.2, 2: 0.3, 3: 0.5}\n",
    "rv = DiscreteRandomVariable(pmf)\n",
    "\n",
    "print(\"Expected Value:\", rv.expected_value())\n",
    "print(\"Variance:\", rv.variance())"
   ]
  },
  {
   "cell_type": "markdown",
   "id": "c9ac564d-bb1d-48f8-8c57-00d27d7c4bff",
   "metadata": {},
   "source": [
    "4) Implement a program to simulate the rolling o6 a 6air six-sided die and calculate the expected value and\n",
    "variance o6 the outcomes."
   ]
  },
  {
   "cell_type": "code",
   "execution_count": 11,
   "id": "68bef75e-b729-4e0b-8227-368e5ba85f08",
   "metadata": {},
   "outputs": [
    {
     "name": "stdout",
     "output_type": "stream",
     "text": [
      "Expected Value: 3.5046\n",
      "Variance: 2.910269866986699\n"
     ]
    }
   ],
   "source": [
    "import random\n",
    "import statistics\n",
    "\n",
    "def simulate_dice_rolls(num_rolls):\n",
    "    \"\"\"Simulates rolling a six-sided die a specified number of times.\n",
    "\n",
    "    Args:\n",
    "        num_rolls (int): The number of times to roll the die.\n",
    "\n",
    "    Returns:\n",
    "        list: A list of the rolled values.\n",
    "    \"\"\"\n",
    "\n",
    "    rolls = []\n",
    "    for _ in range(num_rolls):\n",
    "        roll = random.randint(1, 6)\n",
    "        rolls.append(roll)\n",
    "    return rolls\n",
    "\n",
    "def calculate_expected_value_and_variance(rolls):\n",
    "    \"\"\"Calculates the expected value and variance of a list of rolls.\n",
    "\n",
    "    Args:\n",
    "        rolls (list): A list of rolled values.\n",
    "\n",
    "    Returns:\n",
    "        tuple: A tuple containing the expected value and variance.\n",
    "    \"\"\"\n",
    "\n",
    "    expected_value = sum(rolls) / len(rolls)\n",
    "    variance = statistics.variance(rolls)\n",
    "    return expected_value, variance\n",
    "\n",
    "if __name__ == \"__main__\":\n",
    "    num_rolls = 10000  # Adjust the number of rolls as needed\n",
    "    rolls = simulate_dice_rolls(num_rolls)\n",
    "\n",
    "    expected_value, variance = calculate_expected_value_and_variance(rolls)\n",
    "\n",
    "    print(\"Expected Value:\", expected_value)\n",
    "    print(\"Variance:\", variance)"
   ]
  },
  {
   "cell_type": "markdown",
   "id": "02bbcd87-d1f0-40bc-ae90-77a08b5145fe",
   "metadata": {},
   "source": [
    "5) Create a Python function to generate random samples 6rom a given probability distribution (e.g.,\n",
    "binomial, Poisson) and calculate their mean and variance"
   ]
  },
  {
   "cell_type": "code",
   "execution_count": 12,
   "id": "624ca8cc-6580-4dd7-a174-ea531762e0b5",
   "metadata": {},
   "outputs": [
    {
     "name": "stdout",
     "output_type": "stream",
     "text": [
      "Binomial Distribution\n",
      "Samples: [7 4 6 7 8 8 3 6 7 6]...\n",
      "Mean: 5.106\n",
      "Variance: 2.736764\n",
      "\n",
      "Poisson Distribution\n",
      "Samples: [5 1 4 3 6 7 1 3 2 1]...\n",
      "Mean: 2.872\n",
      "Variance: 2.9636160000000005\n"
     ]
    }
   ],
   "source": [
    "import numpy as np\n",
    "\n",
    "def generate_samples(distribution, params, sample_size):\n",
    "    if distribution == 'binomial':\n",
    "        n, p = params\n",
    "        samples = np.random.binomial(n, p, sample_size)\n",
    "    elif distribution == 'poisson':\n",
    "        lam = params[0]\n",
    "        samples = np.random.poisson(lam, sample_size)\n",
    "    else:\n",
    "        raise ValueError(\"Unsupported distribution type\")\n",
    "\n",
    "    sample_mean = np.mean(samples)\n",
    "    sample_variance = np.var(samples)\n",
    "\n",
    "    return samples, sample_mean, sample_variance\n",
    "\n",
    "if __name__ == \"__main__\":\n",
    "    # Example usage\n",
    "\n",
    "    # Parameters for binomial distribution\n",
    "    binomial_params = (10, 0.5)  # n=10, p=0.5\n",
    "    sample_size = 1000\n",
    "    binomial_samples, binomial_mean, binomial_variance = generate_samples('binomial', binomial_params, sample_size)\n",
    "    print(\"Binomial Distribution\")\n",
    "    print(f\"Samples: {binomial_samples[:10]}...\")  # Print first 10 samples for brevity\n",
    "    print(f\"Mean: {binomial_mean}\")\n",
    "    print(f\"Variance: {binomial_variance}\\n\")\n",
    "\n",
    "    # Parameters for Poisson distribution\n",
    "    poisson_params = (3,)  # lambda=3\n",
    "    poisson_samples, poisson_mean, poisson_variance = generate_samples('poisson', poisson_params, sample_size)\n",
    "    print(\"Poisson Distribution\")\n",
    "    print(f\"Samples: {poisson_samples[:10]}...\")  # Print first 10 samples for brevity\n",
    "    print(f\"Mean: {poisson_mean}\")\n",
    "    print(f\"Variance: {poisson_variance}\")\n"
   ]
  },
  {
   "cell_type": "markdown",
   "id": "f966686b-3e35-4b2e-9cca-4907398ab60a",
   "metadata": {},
   "source": [
    "6) Write a Python script to generate random numbers from a Gaussian (normal) distribution and compute\n",
    "the mean, variance, and standard deviation of the samples."
   ]
  },
  {
   "cell_type": "code",
   "execution_count": 13,
   "id": "7e2572c9-f78f-4bc5-932a-6665d42a466f",
   "metadata": {},
   "outputs": [
    {
     "name": "stdout",
     "output_type": "stream",
     "text": [
      "Gaussian Distribution\n",
      "Samples: [ 0.49290155 -0.22110076  0.46498044 -0.02088082 -0.34539416 -0.65497422\n",
      " -1.12596373  0.74264604  0.63045155  0.24196554]...\n",
      "Mean: -0.030421275351178785\n",
      "Variance: 0.9430942994297913\n",
      "Standard Deviation: 0.9711304234909909\n"
     ]
    }
   ],
   "source": [
    "import numpy as np\n",
    "\n",
    "def generate_gaussian_samples(mean, std_dev, sample_size):\n",
    "    samples = np.random.normal(mean, std_dev, sample_size)\n",
    "    sample_mean = np.mean(samples)\n",
    "    sample_variance = np.var(samples)\n",
    "    sample_std_dev = np.std(samples)\n",
    "    return samples, sample_mean, sample_variance, sample_std_dev\n",
    "\n",
    "if __name__ == \"__main__\":\n",
    "    # Parameters for the Gaussian distribution\n",
    "    mean = 0  # Mean of the distribution\n",
    "    std_dev = 1  # Standard deviation of the distribution\n",
    "    sample_size = 1000  # Number of samples to generate\n",
    "\n",
    "    # Generate samples and compute statistics\n",
    "    samples, sample_mean, sample_variance, sample_std_dev = generate_gaussian_samples(mean, std_dev, sample_size)\n",
    "\n",
    "    # Print results\n",
    "    print(\"Gaussian Distribution\")\n",
    "    print(f\"Samples: {samples[:10]}...\")  # Print first 10 samples for brevity\n",
    "    print(f\"Mean: {sample_mean}\")\n",
    "    print(f\"Variance: {sample_variance}\")\n",
    "    print(f\"Standard Deviation: {sample_std_dev}\")\n"
   ]
  },
  {
   "cell_type": "markdown",
   "id": "01b7ec49-95b2-444c-8325-2642714cca24",
   "metadata": {},
   "source": [
    "7) Use seaborn library to load tips dataset. Find the following from the dataset for the columns total_bill\n",
    "and tip`:\n",
    "\n",
    "  \n",
    "\n",
    "  (i) Write a Python function that calculates their skewness.\n",
    "\n",
    "\n",
    "  (ii) Create a program that determines whether the columns exhibit positive skewness, negative skewness, or is\n",
    "approximately symmetric.\n",
    "\n",
    "\n",
    "  (iii) Write a function that calculates the covariance between two columns.\n",
    "\n",
    "\n",
    "  (iv) Implement a Python program that calculates the Pearson correlation coefficient between two columns.\n",
    "\n",
    "\n",
    "  (v) Write a script to visualize the correlation between two specific columns in a Pandas DataFrame using\n",
    "scatter plots."
   ]
  },
  {
   "cell_type": "code",
   "execution_count": 14,
   "id": "f10eede7-d79a-4a66-90ea-9b73e35d5719",
   "metadata": {},
   "outputs": [
    {
     "name": "stdout",
     "output_type": "stream",
     "text": [
      "Total Bill Skewness: 1.1332130376158205\n",
      "Tip Skewness: 1.4654510370979401\n",
      "Total Bill Skewness Type: Positive skewness\n",
      "Tip Skewness Type: Positive skewness\n",
      "Covariance between Total Bill and Tip: 8.323501629224854\n",
      "Pearson Correlation between Total Bill and Tip: 0.6757341092113645\n"
     ]
    },
    {
     "data": {
      "image/png": "[encoded data removed]",
      "text/plain": [
       "<Figure size 1000x600 with 1 Axes>"
      ]
     },
     "metadata": {},
     "output_type": "display_data"
    }
   ],
   "source": [
    "import seaborn as sns\n",
    "import pandas as pd\n",
    "import numpy as np\n",
    "import matplotlib.pyplot as plt\n",
    "\n",
    "# Load the tips dataset\n",
    "tips = sns.load_dataset(\"tips\")\n",
    "\n",
    "# Function to calculate skewness\n",
    "def calculate_skewness(column):\n",
    "    return column.skew()\n",
    "\n",
    "# Function to determine skewness type\n",
    "def skewness_type(column):\n",
    "    skewness = calculate_skewness(column)\n",
    "    if skewness > 0:\n",
    "        return \"Positive skewness\"\n",
    "    elif skewness < 0:\n",
    "        return \"Negative skewness\"\n",
    "    else:\n",
    "        return \"Approximately symmetric\"\n",
    "\n",
    "# Function to calculate covariance\n",
    "def calculate_covariance(column1, column2):\n",
    "    return np.cov(column1, column2)[0, 1]\n",
    "\n",
    "# Function to calculate Pearson correlation coefficient\n",
    "def calculate_pearson_correlation(column1, column2):\n",
    "    return column1.corr(column2)\n",
    "\n",
    "# Function to visualize correlation using scatter plot\n",
    "def visualize_correlation(column1, column2, xlabel, ylabel):\n",
    "    plt.figure(figsize=(10, 6))\n",
    "    sns.scatterplot(x=column1, y=column2)\n",
    "    plt.xlabel(xlabel)\n",
    "    plt.ylabel(ylabel)\n",
    "    plt.title(f\"Scatter plot of {xlabel} vs {ylabel}\")\n",
    "    plt.show()\n",
    "\n",
    "# Calculate skewness for 'total_bill' and 'tip' columns\n",
    "total_bill_skewness = calculate_skewness(tips['total_bill'])\n",
    "tip_skewness = calculate_skewness(tips['tip'])\n",
    "print(f\"Total Bill Skewness: {total_bill_skewness}\")\n",
    "print(f\"Tip Skewness: {tip_skewness}\")\n",
    "\n",
    "# Determine skewness type for 'total_bill' and 'tip' columns\n",
    "total_bill_skewness_type = skewness_type(tips['total_bill'])\n",
    "tip_skewness_type = skewness_type(tips['tip'])\n",
    "print(f\"Total Bill Skewness Type: {total_bill_skewness_type}\")\n",
    "print(f\"Tip Skewness Type: {tip_skewness_type}\")\n",
    "\n",
    "# Calculate covariance between 'total_bill' and 'tip'\n",
    "covariance = calculate_covariance(tips['total_bill'], tips['tip'])\n",
    "print(f\"Covariance between Total Bill and Tip: {covariance}\")\n",
    "\n",
    "# Calculate Pearson correlation coefficient between 'total_bill' and 'tip'\n",
    "pearson_correlation = calculate_pearson_correlation(tips['total_bill'], tips['tip'])\n",
    "print(f\"Pearson Correlation between Total Bill and Tip: {pearson_correlation}\")\n",
    "\n",
    "# Visualize correlation using scatter plot\n",
    "visualize_correlation(tips['total_bill'], tips['tip'], 'Total Bill', 'Tip')\n"
   ]
  },
  {
   "cell_type": "markdown",
   "id": "8bcb3b1b-a664-41af-a818-dfddc5933481",
   "metadata": {},
   "source": [
    "8) Write a Python 6unction to calculate the probability density function (PDF) of a continuous random\n",
    "variable for a given normal distribution.\n"
   ]
  },
  {
   "cell_type": "code",
   "execution_count": 21,
   "id": "96329155-5988-4b87-a5ca-c132c84341f8",
   "metadata": {},
   "outputs": [
    {
     "name": "stdout",
     "output_type": "stream",
     "text": [
      "Defaulting to user installation because normal site-packages is not writeable\n",
      "Requirement already satisfied: scipy in c:\\users\\tanma\\appdata\\roaming\\python\\python311\\site-packages (1.14.1)\n",
      "Requirement already satisfied: numpy<2.3,>=1.23.5 in c:\\users\\tanma\\appdata\\roaming\\python\\python311\\site-packages (from scipy) (2.0.0)\n"
     ]
    },
    {
     "data": {
      "image/png": "[encoded data removed]",
      "text/plain": [
       "<Figure size 1000x600 with 1 Axes>"
      ]
     },
     "metadata": {},
     "output_type": "display_data"
    }
   ],
   "source": [
    "!pip install scipy\n",
    "\n",
    "import numpy as np\n",
    "import matplotlib.pyplot as plt\n",
    "from scipy.stats import norm\n",
    "\n",
    "def calculate_pdf(mean, std_dev, x_values):\n",
    "    pdf_values = norm.pdf(x_values, mean, std_dev)\n",
    "    return pdf_values\n",
    "\n",
    "if __name__ == \"__main__\":\n",
    "    # Parameters for the normal distribution\n",
    "    mean = 0  # Mean of the distribution\n",
    "    std_dev = 1  # Standard deviation of the distribution\n",
    "\n",
    "    # Generate a range of x values\n",
    "    x_values = np.linspace(mean - 4 * std_dev, mean + 4 * std_dev, 1000)\n",
    "\n",
    "    # Calculate the PDF values for the given x values\n",
    "    pdf_values = calculate_pdf(mean, std_dev, x_values)\n",
    "\n",
    "    # Plot the PDF\n",
    "    plt.figure(figsize=(10, 6))\n",
    "    plt.plot(x_values, pdf_values, label=f'Normal Distribution (mean={mean}, std_dev={std_dev})')\n",
    "    plt.xlabel('X values')\n",
    "    plt.ylabel('Probability Density')\n",
    "    plt.title('Probability Density Function of a Normal Distribution')\n",
    "    plt.legend()\n",
    "    plt.grid(True)\n",
    "    plt.show()\n"
   ]
  },
  {
   "cell_type": "markdown",
   "id": "fc112e06-3508-4e9c-8fb1-5943ccbd69e6",
   "metadata": {},
   "source": [
    "9) Create a program to calculate the cumulative distribution function (CDF) of exponential distribution."
   ]
  },
  {
   "cell_type": "code",
   "execution_count": 23,
   "id": "c936f93d-d4f4-464d-a82a-f5168323abc1",
   "metadata": {},
   "outputs": [
    {
     "data": {
      "image/png": "[encoded data removed]",
      "text/plain": [
       "<Figure size 640x480 with 1 Axes>"
      ]
     },
     "metadata": {},
     "output_type": "display_data"
    }
   ],
   "source": [
    "import numpy as np\n",
    "import matplotlib.pyplot as plt\n",
    "from scipy.stats import expon\n",
    "\n",
    "def exponential_cdf(x, lam):\n",
    "  \"\"\"Calculates the cumulative distribution function (CDF) of an exponential distribution.\n",
    "\n",
    "  Args:\n",
    "    x: The value at which to evaluate the CDF.\n",
    "    lam: The rate parameter of the exponential distribution.\n",
    "\n",
    "  Returns:\n",
    "    The CDF value at the given x.\n",
    "  \"\"\"\n",
    "\n",
    "  cdf = 1 - np.exp(-lam * x)\n",
    "  return cdf\n",
    "\n",
    "# Example usage:\n",
    "lam = 2  # Rate parameter\n",
    "x = np.linspace(0, 5, 100)  # Range of x values\n",
    "\n",
    "# Calculate the CDF values\n",
    "cdf_values = exponential_cdf(x, lam)\n",
    "\n",
    "# Plot the CDF\n",
    "plt.plot(x, cdf_values)\n",
    "plt.xlabel('x')\n",
    "plt.ylabel('CDF(x)')\n",
    "plt.title('Exponential Distribution CDF')\n",
    "plt.grid(True)\n",
    "plt.show()"
   ]
  },
  {
   "cell_type": "markdown",
   "id": "9c36e5f4-58f1-460c-85b3-e2befe929fa7",
   "metadata": {},
   "source": [
    "10) Write a Python function to calculate the probability mass function (PMF) of Poisson distribution.\n"
   ]
  },
  {
   "cell_type": "code",
   "execution_count": 24,
   "id": "e021cac5-dd16-4565-94c9-f21a887bff57",
   "metadata": {},
   "outputs": [
    {
     "data": {
      "image/png": "[encoded data removed]",
      "text/plain": [
       "<Figure size 1000x600 with 1 Axes>"
      ]
     },
     "metadata": {},
     "output_type": "display_data"
    },
    {
     "name": "stdout",
     "output_type": "stream",
     "text": [
      "Poisson PMF Values:\n",
      "P(X = 0) = 0.049787068367863944\n",
      "P(X = 1) = 0.14936120510359185\n",
      "P(X = 2) = 0.22404180765538775\n",
      "P(X = 3) = 0.22404180765538775\n",
      "P(X = 4) = 0.16803135574154085\n",
      "P(X = 5) = 0.10081881344492458\n",
      "P(X = 6) = 0.05040940672246224\n",
      "P(X = 7) = 0.02160403145248382\n",
      "P(X = 8) = 0.008101511794681432\n",
      "P(X = 9) = 0.002700503931560479\n"
     ]
    }
   ],
   "source": [
    "import numpy as np\n",
    "import matplotlib.pyplot as plt\n",
    "from scipy.stats import poisson\n",
    "\n",
    "def calculate_poisson_pmf(lam, k_values):\n",
    "    pmf_values = poisson.pmf(k_values, lam)\n",
    "    return pmf_values\n",
    "\n",
    "if __name__ == \"__main__\":\n",
    "    # Parameters for the Poisson distribution\n",
    "    lam = 3  # Mean (λ) of the distribution, can be changed\n",
    "    \n",
    "    # Generate a range of k values (number of occurrences)\n",
    "    k_values = np.arange(0, 10)  # For k = 0 to 9\n",
    "\n",
    "    # Calculate the PMF values for the given k values\n",
    "    pmf_values = calculate_poisson_pmf(lam, k_values)\n",
    "\n",
    "    # Plot the PMF\n",
    "    plt.figure(figsize=(10, 6))\n",
    "    plt.bar(k_values, pmf_values, alpha=0.7, color='blue', label=f'Poisson PMF (λ={lam})')\n",
    "    plt.xlabel('k (Number of Occurrences)')\n",
    "    plt.ylabel('Probability')\n",
    "    plt.title(f'Probability Mass Function (PMF) of Poisson Distribution (λ={lam})')\n",
    "    plt.xticks(k_values)\n",
    "    plt.legend()\n",
    "    plt.grid(True)\n",
    "    plt.show()\n",
    "\n",
    "    # Print the PMF values\n",
    "    print(\"Poisson PMF Values:\")\n",
    "    for k, pmf in zip(k_values, pmf_values):\n",
    "        print(f\"P(X = {k}) = {pmf}\")\n"
   ]
  },
  {
   "cell_type": "markdown",
   "id": "3bc67f66-d856-4099-a717-f2c4877fc87c",
   "metadata": {},
   "source": [
    "11)  A company wants to test if a new website layout leads to a higher conversion rate (percentage of visitors\n",
    "who make a purchase). They collect data from the old and new layouts to compare.\n",
    "\n",
    "\n",
    "To generate the data use the following command:\n",
    "\n",
    "```python\n",
    "\n",
    "import <umpy as <p\n",
    "\n",
    "# 50 purchases out of 1000 visitors\n",
    "\n",
    "old_layout = <p.array([1] * 50 + [0] * 950)\n",
    "\n",
    "# 70 purchases out of 1000 visitors  \n",
    "\n",
    "new_layout = <p.array([1] * 70 + [0] * 930)\n",
    "\n",
    "  ```\n",
    "\n",
    "Apply z-test to find which layout is successful."
   ]
  },
  {
   "cell_type": "code",
   "execution_count": 26,
   "id": "7fc86d19-7881-46fb-b7dd-9f6acee11d67",
   "metadata": {},
   "outputs": [
    {
     "name": "stdout",
     "output_type": "stream",
     "text": [
      "Proportion of purchases (old layout): 0.0500\n",
      "Proportion of purchases (new layout): 0.0700\n",
      "Z-statistic: 1.8831\n",
      "P-value: 0.0298\n",
      "Reject the null hypothesis: The new layout has a higher conversion rate.\n"
     ]
    }
   ],
   "source": [
    "import numpy as np\n",
    "import scipy.stats as stats\n",
    "\n",
    "# Data\n",
    "old_layout = np.array([1] * 50 + [0] * 950)  # 50 purchases out of 1000 visitors\n",
    "new_layout = np.array([1] * 70 + [0] * 930)  # 70 purchases out of 1000 visitors\n",
    "\n",
    "# Number of purchases and total visitors\n",
    "x_old = np.sum(old_layout)  # number of purchases in old layout\n",
    "x_new = np.sum(new_layout)  # number of purchases in new layout\n",
    "n_old = len(old_layout)  # total visitors in old layout\n",
    "n_new = len(new_layout)  # total visitors in new layout\n",
    "\n",
    "# Proportions\n",
    "p_old = x_old / n_old\n",
    "p_new = x_new / n_new\n",
    "\n",
    "# Pooled proportion\n",
    "p_pooled = (x_old + x_new) / (n_old + n_new)\n",
    "\n",
    "# Z-statistic\n",
    "z = (p_new - p_old) / np.sqrt(p_pooled * (1 - p_pooled) * (1/n_old + 1/n_new))\n",
    "\n",
    "# p-value (one-tailed test)\n",
    "p_value = 1 - stats.norm.cdf(z)\n",
    "\n",
    "# Print results\n",
    "print(f\"Proportion of purchases (old layout): {p_old:.4f}\")\n",
    "print(f\"Proportion of purchases (new layout): {p_new:.4f}\")\n",
    "print(f\"Z-statistic: {z:.4f}\")\n",
    "print(f\"P-value: {p_value:.4f}\")\n",
    "\n",
    "# Conclusion based on a 95% confidence level (z-critical = 1.96 for a one-tailed test)\n",
    "if p_value < 0.05:\n",
    "    print(\"Reject the null hypothesis: The new layout has a higher conversion rate.\")\n",
    "else:\n",
    "    print(\"Fail to reject the null hypothesis: No significant difference in conversion rates.\")\n"
   ]
  },
  {
   "cell_type": "markdown",
   "id": "667fade4-859f-4434-a696-bbe5beb6a0b9",
   "metadata": {},
   "source": [
    "12) A tutoring service claims that its program improves students' exam scores. A sample of students who\n",
    "participated in the program was taken, and their scores beNore and after the program were recorded.\n",
    "\n",
    "\n",
    "Use the below code to generate samples of respective arrays of marks:\n",
    "\n",
    "```python\n",
    "\n",
    "before_program = <p.array([75, 80, 85, 70, 90, 78, 92, 88, 82, 87])\n",
    "\n",
    "after_program = <p.array([80, 85, 90, 80, 92, 80, 95, 90, 85, 88])\n",
    "\n",
    "```\n",
    "\n",
    "Use z-test to find if the claims made by tutor are true or false."
   ]
  },
  {
   "cell_type": "code",
   "execution_count": 27,
   "id": "bceb8747-5508-427e-950c-4f6419998468",
   "metadata": {},
   "outputs": [
    {
     "name": "stdout",
     "output_type": "stream",
     "text": [
      "Mean difference: 3.8000\n",
      "Standard deviation of differences: 2.6162\n",
      "Z-statistic: 4.5932\n",
      "P-value: 0.0000\n",
      "Reject the null hypothesis: The tutoring program improves exam scores.\n"
     ]
    }
   ],
   "source": [
    "import numpy as np\n",
    "import scipy.stats as stats\n",
    "\n",
    "# Data\n",
    "before_program = np.array([75, 80, 85, 70, 90, 78, 92, 88, 82, 87])\n",
    "after_program = np.array([80, 85, 90, 80, 92, 80, 95, 90, 85, 88])\n",
    "\n",
    "# Calculate the differences\n",
    "differences = after_program - before_program\n",
    "\n",
    "# Mean and standard deviation of the differences\n",
    "mean_diff = np.mean(differences)\n",
    "std_diff = np.std(differences, ddof=1)  # sample standard deviation\n",
    "\n",
    "# Sample size\n",
    "n = len(differences)\n",
    "\n",
    "# Z-statistic\n",
    "z = mean_diff / (std_diff / np.sqrt(n))\n",
    "\n",
    "# p-value (one-tailed test, since we're testing if after > before)\n",
    "p_value = 1 - stats.norm.cdf(z)\n",
    "\n",
    "# Print results\n",
    "print(f\"Mean difference: {mean_diff:.4f}\")\n",
    "print(f\"Standard deviation of differences: {std_diff:.4f}\")\n",
    "print(f\"Z-statistic: {z:.4f}\")\n",
    "print(f\"P-value: {p_value:.4f}\")\n",
    "\n",
    "# Conclusion based on a 95% confidence level (z-critical = 1.96 for a one-tailed test)\n",
    "if p_value < 0.05:\n",
    "    print(\"Reject the null hypothesis: The tutoring program improves exam scores.\")\n",
    "else:\n",
    "    print(\"Fail to reject the null hypothesis: No significant improvement in exam scores.\")\n"
   ]
  },
  {
   "cell_type": "markdown",
   "id": "302f8335-0926-48b9-bb46-eea639e21389",
   "metadata": {},
   "source": [
    "13) A pharmaceutical company wants to determine if a new drug is effective in reducing blood pressure. They\n",
    "conduct a study and record blood pressure measurements before and after administering the drug.\n",
    "\n",
    "\n",
    "Use the below code to generate samples of respective arrays of blood pressure:\n",
    "\n",
    "\n",
    "```python\n",
    "\n",
    "before_drug = <p.array([145, 150, 140, 135, 155, 160, 152, 148, 130, 138])\n",
    "\n",
    "after_drug = <p.array([130, 140, 132, 128, 145, 148, 138, 136, 125, 130])\n",
    "\n",
    "  ```\n",
    "\n",
    "\n",
    "Implement z-test to find if the drug really works or not."
   ]
  },
  {
   "cell_type": "code",
   "execution_count": 28,
   "id": "95cb0af8-0664-4aea-a3f7-8ce4b684e722",
   "metadata": {},
   "outputs": [
    {
     "name": "stdout",
     "output_type": "stream",
     "text": [
      "Mean difference: 10.1000\n",
      "Standard deviation of differences: 3.1780\n",
      "Z-statistic: 10.0499\n",
      "P-value: 0.0000\n",
      "Reject the null hypothesis: The drug is effective in reducing blood pressure.\n"
     ]
    }
   ],
   "source": [
    "import numpy as np\n",
    "import scipy.stats as stats\n",
    "\n",
    "# Data\n",
    "before_drug = np.array([145, 150, 140, 135, 155, 160, 152, 148, 130, 138])\n",
    "after_drug = np.array([130, 140, 132, 128, 145, 148, 138, 136, 125, 130])\n",
    "\n",
    "# Calculate the differences (after - before)\n",
    "differences = before_drug - after_drug\n",
    "\n",
    "# Mean and standard deviation of the differences\n",
    "mean_diff = np.mean(differences)\n",
    "std_diff = np.std(differences, ddof=1)  # sample standard deviation\n",
    "\n",
    "# Sample size\n",
    "n = len(differences)\n",
    "\n",
    "# Z-statistic\n",
    "z = mean_diff / (std_diff / np.sqrt(n))\n",
    "\n",
    "# p-value (one-tailed test, since we're testing if after < before)\n",
    "p_value = 1 - stats.norm.cdf(z)\n",
    "\n",
    "# Print results\n",
    "print(f\"Mean difference: {mean_diff:.4f}\")\n",
    "print(f\"Standard deviation of differences: {std_diff:.4f}\")\n",
    "print(f\"Z-statistic: {z:.4f}\")\n",
    "print(f\"P-value: {p_value:.4f}\")\n",
    "\n",
    "# Conclusion based on a 95% confidence level (z-critical = 1.96 for a one-tailed test)\n",
    "if p_value < 0.05:\n",
    "    print(\"Reject the null hypothesis: The drug is effective in reducing blood pressure.\")\n",
    "else:\n",
    "    print(\"Fail to reject the null hypothesis: No significant reduction in blood pressure.\")\n"
   ]
  },
  {
   "cell_type": "markdown",
   "id": "a786515d-a6d7-4cc8-8a88-b4ab20d84b0f",
   "metadata": {},
   "source": [
    "14) A customer service department claims that their average response time is less than 5 minutes. A sample\n",
    "of recent customer interactions was taken, and the response times were recorded.\n",
    "\n",
    "\n",
    "Implement the below code to generate the array of response time:\n",
    "\n",
    "```python\n",
    "\n",
    "response_times = np.array([4.3, 3.8, 5.1, 4.9, 4.7, 4.2, 5.2, 4.5, 4.6, 4.4])\n",
    "\n",
    "```\n",
    "\n",
    "Implement z-test to find the claims made by customer service department are true or false."
   ]
  },
  {
   "cell_type": "code",
   "execution_count": 29,
   "id": "3b5d8557-3c81-467d-82f3-50faa6916717",
   "metadata": {},
   "outputs": [
    {
     "name": "stdout",
     "output_type": "stream",
     "text": [
      "Reject the null hypothesis. The average response time is significantly less than 5 minutes.\n"
     ]
    }
   ],
   "source": [
    "import numpy as np\n",
    "from scipy.stats import ttest_1samp\n",
    "\n",
    "# Given data\n",
    "response_times = np.array([4.3, 3.8, 5.1, 4.9, 4.7, 4.2, 5.2, 4.5, 4.6, 4.4])\n",
    "\n",
    "# Set the hypothesized mean\n",
    "hypothesized_mean = 5\n",
    "\n",
    "# Perform one-sample t-test\n",
    "t_stat, p_value = ttest_1samp(response_times, hypothesized_mean)\n",
    "\n",
    "# Set significance level (alpha)\n",
    "alpha = 0.05\n",
    "\n",
    "# Compare p-value with alpha\n",
    "if p_value < alpha:\n",
    "    print(\"Reject the null hypothesis. The average response time is significantly less than 5 minutes.\")\n",
    "else:\n",
    "    print(\"Fail to reject the null hypothesis. There is no significant difference in average response time.\")"
   ]
  },
  {
   "cell_type": "markdown",
   "id": "de473811-5bae-4cde-9600-bd97a14b4f76",
   "metadata": {},
   "source": [
    "15) A company is testing two different website layouts to see which one leads to higher click-through rates.\n",
    "Write a Python function to perform an A/B test analysis, including calculating the t-statistic, degrees of\n",
    "freedom, and p-value.\n",
    "\n",
    "\n",
    "Use the following data:\n",
    "\n",
    "```python\n",
    "\n",
    "layout_a_clicks = [28, 32, 33, 29, 31, 34, 30, 35, 36, 37]\n",
    "\n",
    "layout_b_clicks = [40, 41, 38, 42, 39, 44, 43, 41, 45, 47]"
   ]
  },
  {
   "cell_type": "code",
   "execution_count": 30,
   "id": "4c7ac39d-24c2-4921-8376-a2140ed11edc",
   "metadata": {},
   "outputs": [
    {
     "name": "stdout",
     "output_type": "stream",
     "text": [
      "t-statistic: -7.298102156175071\n",
      "Degrees of freedom: 18\n",
      "p-value: 8.833437608301987e-07\n",
      "Reject the null hypothesis. Layout B has a significantly higher click-through rate.\n"
     ]
    }
   ],
   "source": [
    "import numpy as np\n",
    "from scipy.stats import ttest_ind\n",
    "\n",
    "def ab_test(layout_a, layout_b):\n",
    "  \"\"\"Performs an A/B test to compare the means of two independent samples.\n",
    "\n",
    "  Args:\n",
    "    layout_a: A list of values for layout A.\n",
    "    layout_b: A list of values for layout B.\n",
    "\n",
    "  Returns:\n",
    "    A tuple containing the t-statistic, degrees of freedom, and p-value.\n",
    "  \"\"\"\n",
    "\n",
    "  t_stat, p_value = ttest_ind(layout_a, layout_b)\n",
    "  df = len(layout_a) + len(layout_b) - 2  # Degrees of freedom\n",
    "\n",
    "  return t_stat, df, p_value\n",
    "\n",
    "# Example usage:\n",
    "layout_a_clicks = [28, 32, 33, 29, 31, 34, 30, 35, 36, 37]\n",
    "layout_b_clicks = [40, 41, 38, 42, 39, 44, 43, 41, 45, 47]\n",
    "\n",
    "t_stat, df, p_value = ab_test(layout_a_clicks, layout_b_clicks)\n",
    "\n",
    "print(\"t-statistic:\", t_stat)\n",
    "print(\"Degrees of freedom:\", df)\n",
    "print(\"p-value:\", p_value)\n",
    "\n",
    "# Interpret the results:\n",
    "alpha = 0.05  # Significance level\n",
    "if p_value < alpha:\n",
    "  print(\"Reject the null hypothesis. Layout B has a significantly higher click-through rate.\")\n",
    "else:\n",
    "  print(\"Fail to reject the null hypothesis. There is no significant difference in click-through rates.\")"
   ]
  },
  {
   "cell_type": "markdown",
   "id": "cc0d93f0-6b01-479b-b648-5875d2766f80",
   "metadata": {},
   "source": [
    "16) A pharmaceutical company wants to determine if a new drug is more effective than an existing drug in\n",
    "reducing cholesterol levels. Create a program to analyze the clinical trial data and calculate the tstatistic and p-value for the treatment effect.\n",
    "\n",
    "\n",
    "Use the following data of cholestrol level:\n",
    "\n",
    "```python\n",
    "\n",
    "existing_drug_levels = [180, 182, 175, 185, 178, 176, 172, 184, 179, 183]\n",
    "\n",
    "new_drug_levels = [170, 172, 165, 168, 175, 173, 170, 178, 172, 176]\n",
    "\n",
    "```"
   ]
  },
  {
   "cell_type": "code",
   "execution_count": 31,
   "id": "d0554a6f-5af9-4132-87fc-e6ba3e819f8b",
   "metadata": {},
   "outputs": [
    {
     "name": "stdout",
     "output_type": "stream",
     "text": [
      "t-statistic: -4.14048098620866\n",
      "p-value: 0.0006143398442372505\n",
      "Reject the null hypothesis. The new drug is significantly more effective in reducing cholesterol levels.\n"
     ]
    }
   ],
   "source": [
    "import numpy as np\n",
    "from scipy.stats import ttest_ind\n",
    "\n",
    "# Given data\n",
    "existing_drug_levels = [180, 182, 175, 185, 178, 176, 172, 184, 179, 183]\n",
    "new_drug_levels = [170, 172, 165, 168, 175, 173, 170, 178, 172, 176]\n",
    "\n",
    "# Perform independent t-test\n",
    "t_stat, p_value = ttest_ind(new_drug_levels, existing_drug_levels)\n",
    "\n",
    "# Print the results\n",
    "print(\"t-statistic:\", t_stat)\n",
    "print(\"p-value:\", p_value)\n",
    "\n",
    "# Interpret the results\n",
    "alpha = 0.05  # Significance level\n",
    "if p_value < alpha:\n",
    "  print(\"Reject the null hypothesis. The new drug is significantly more effective in reducing cholesterol levels.\")\n",
    "else:\n",
    "  print(\"Fail to reject the null hypothesis. There is no significant difference in the effectiveness of the two drugs.\")"
   ]
  },
  {
   "cell_type": "markdown",
   "id": "e9f11e07-f71f-4652-89cf-487fd96c8304",
   "metadata": {},
   "source": [
    "  17) A school district introduces an educational intervention program to improve math scores. Write a Python\n",
    "function to analyze pre- and post-intervention test scores, calculating the t-statistic and p-value to\n",
    "determine if the intervention had a significant impact.\n",
    "\n",
    "\n",
    "Use the following data of test score:\n",
    "\n",
    "\n",
    "  ```python\n",
    "\n",
    "  pre_intervention_scores = [80, 85, 90, 75, 88, 82, 92, 78, 85, 87]\n",
    "\n",
    "  post_intervention_scores = [90, 92, 88, 92, 95, 91, 96, 93, 89, 93]\n",
    "\n",
    "  ```"
   ]
  },
  {
   "cell_type": "code",
   "execution_count": 32,
   "id": "dc227cc7-c28d-4f59-b166-a388b48ebe58",
   "metadata": {},
   "outputs": [
    {
     "name": "stdout",
     "output_type": "stream",
     "text": [
      "t-statistic: 4.42840883965761\n",
      "p-value: 0.0016509548165795493\n",
      "Reject the null hypothesis. The intervention significantly improved math scores.\n"
     ]
    }
   ],
   "source": [
    "import numpy as np\n",
    "from scipy.stats import ttest_rel\n",
    "\n",
    "def analyze_intervention(pre_scores, post_scores):\n",
    "  \"\"\"Analyzes the impact of an intervention using a paired t-test.\n",
    "\n",
    "  Args:\n",
    "    pre_scores: A list of pre-intervention scores.\n",
    "    post_scores: A list of post-intervention scores.\n",
    "\n",
    "  Returns:\n",
    "    A tuple containing the t-statistic and p-value.\n",
    "  \"\"\"\n",
    "\n",
    "  t_stat, p_value = ttest_rel(post_scores, pre_scores)\n",
    "\n",
    "  return t_stat, p_value\n",
    "\n",
    "# Example usage:\n",
    "pre_intervention_scores = [80, 85, 90, 75, 88, 82, 92, 78, 85, 87]\n",
    "post_intervention_scores = [90, 92, 88, 92, 95, 91, 96, 93, 89, 93]\n",
    "\n",
    "t_stat, p_value = analyze_intervention(pre_intervention_scores, post_intervention_scores)\n",
    "\n",
    "print(\"t-statistic:\", t_stat)\n",
    "print(\"p-value:\", p_value)\n",
    "\n",
    "# Interpret the results:\n",
    "alpha = 0.05  # Significance level\n",
    "if p_value < alpha:\n",
    "  print(\"Reject the null hypothesis. The intervention significantly improved math scores.\")\n",
    "else:\n",
    "  print(\"Fail to reject the null hypothesis. There is no significant difference in math scores.\")"
   ]
  },
  {
   "cell_type": "markdown",
   "id": "c890f236-4b9b-49b0-82b1-f734d36e85de",
   "metadata": {},
   "source": [
    "18) An HR department wants to investigate if there's a gender-based salary gap within the company. Develop\n",
    "a program to analyze salary data, calculate the t-statistic, and determine if there's a statistically\n",
    "significant difference between the average salaries of male and female employees.\n",
    "\n",
    "\n",
    "Use the below code to generate synthetic data:\n",
    "```python\n",
    "\n",
    "# Generate synthetic salary data for male and female employees\n",
    "\n",
    "np.random.seed(0)  # For reproducibility\n",
    "\n",
    "male_salaries = np.random.normal(loc=50000, scale=10000, size=20)\n",
    "\n",
    "female_salaries = np.random.normal(loc=55000, scale=9000, size=20)\n",
    "\n",
    "  ```"
   ]
  },
  {
   "cell_type": "code",
   "execution_count": 33,
   "id": "7f547559-060d-4679-be90-fcb090a4335a",
   "metadata": {},
   "outputs": [
    {
     "name": "stdout",
     "output_type": "stream",
     "text": [
      "Fail to reject the null hypothesis. There is no significant gender-based salary gap.\n"
     ]
    }
   ],
   "source": [
    "import numpy as np\n",
    "from scipy.stats import ttest_ind\n",
    "\n",
    "# Generate synthetic salary data\n",
    "np.random.seed(0)\n",
    "male_salaries = np.random.normal(loc=50000, scale=10000, size=20)\n",
    "female_salaries = np.random.normal(loc=55000, scale=9000, size=20)\n",
    "\n",
    "# Perform independent t-test\n",
    "t_stat, p_value = ttest_ind(male_salaries, female_salaries)\n",
    "\n",
    "# Set significance level (alpha)\n",
    "alpha = 0.05\n",
    "\n",
    "# Compare p-value with alpha\n",
    "if p_value < alpha:\n",
    "    print(\"Reject the null hypothesis. There is a significant gender-based salary gap.\")\n",
    "else:\n",
    "    print(\"Fail to reject the null hypothesis. There is no significant gender-based salary gap.\")"
   ]
  },
  {
   "cell_type": "markdown",
   "id": "db09f364-a8f6-4bad-b6e4-c85925bc6412",
   "metadata": {},
   "source": [
    "19) A manufacturer produces two different versions of a product and wants to compare their quality scores.\n",
    "Create a Python function to analyze quality assessment data, calculate the t-statistic, and decide\n",
    "whether there's a significant difference in quality between the two versions.\n",
    "\n",
    "\n",
    "Use the following data:\n",
    "```python\n",
    "\n",
    "version1_scores = [85, 88, 82, 89, 87, 84, 90, 88, 85, 86, 91, 83, 87, 84, 89, 86, 84, 88, 85, 86, 89, 90, 87, 88, 85]\n",
    "\n",
    "version2_scores = [80, 78, 83, 81, 79, 82, 76, 80, 78, 81, 77, 82, 80, 79, 82, 79, 80, 81, 79, 82, 79, 78, 80, 81, 82]\n",
    "\n",
    "```"
   ]
  },
  {
   "cell_type": "code",
   "execution_count": 34,
   "id": "ae74a804-da22-4f24-83cb-02efe670efca",
   "metadata": {},
   "outputs": [
    {
     "name": "stdout",
     "output_type": "stream",
     "text": [
      "t-statistic: 11.325830417646698\n",
      "p-value: 3.6824250702873965e-15\n",
      "Reject the null hypothesis. There is a significant difference in quality between the two versions.\n"
     ]
    }
   ],
   "source": [
    "import numpy as np\n",
    "from scipy.stats import ttest_ind\n",
    "\n",
    "def compare_versions(version1, version2):\n",
    "  \"\"\"Compares the quality scores of two product versions using a t-test.\n",
    "\n",
    "  Args:\n",
    "    version1: A list of quality scores for version 1.\n",
    "    version2: A list of quality scores for version 2.\n",
    "\n",
    "  Returns:\n",
    "    A tuple containing the t-statistic and p-value.\n",
    "  \"\"\"\n",
    "\n",
    "  t_stat, p_value = ttest_ind(version1, version2)\n",
    "\n",
    "  return t_stat, p_value\n",
    "\n",
    "# Example usage:\n",
    "version1_scores = [85, 88, 82, 89, 87, 84, 90, 88, 85, 86, 91, 83, 87, 84, 89, 86, 84, 88, 85, 86, 89, 90, 87, 88, 85]\n",
    "version2_scores = [80, 78, 83, 81, 79, 82, 76, 80, 78, 81, 77, 82, 80, 79, 82, 79, 80, 81, 79, 82, 79, 78, 80, 81, 82]\n",
    "\n",
    "t_stat, p_value = compare_versions(version1_scores, version2_scores)\n",
    "\n",
    "print(\"t-statistic:\", t_stat)\n",
    "print(\"p-value:\", p_value)\n",
    "\n",
    "# Interpret the results:\n",
    "alpha = 0.05  # Significance level\n",
    "if p_value < alpha:\n",
    "  print(\"Reject the null hypothesis. There is a significant difference in quality between the two versions.\")\n",
    "else:\n",
    "  print(\"Fail to reject the null hypothesis. There is no significant difference in quality between the two versions.\")"
   ]
  },
  {
   "cell_type": "markdown",
   "id": "5d7253cb-a772-4e99-a599-eed32964da65",
   "metadata": {},
   "source": [
    " 20. A restaurant chain collects customer satisfaction scores for two different branches. Write a program to\n",
    "analyze the scores, calculate the t-statistic, and determine if there's a statistically significant difference in\n",
    "customer satisfaction between the branches.\n",
    "\n",
    "\n",
    "Use the below data of scores:\n",
    "\n",
    "  ```python\n",
    "\n",
    "branch_a_scores = [4, 5, 3, 4, 5, 4, 5, 3, 4, 4, 5, 4, 4, 3, 4, 5, 5, 4, 3, 4, 5, 4, 3, 5, 4, 4, 5, 3, 4, 5, 4]\n",
    "\n",
    "branch_b_scores = [3, 4, 2, 3, 4, 3, 4, 2, 3, 3, 4, 3, 3, 2, 3, 4, 4, 3, 2, 3, 4, 3, 2, 4, 3, 3, 4, 2, 3, 4, 3]\n",
    "\n"
   ]
  },
  {
   "cell_type": "code",
   "execution_count": 35,
   "id": "fed283f1-f8f7-44f6-97ed-b60a3530a5bd",
   "metadata": {},
   "outputs": [
    {
     "name": "stdout",
     "output_type": "stream",
     "text": [
      "Reject the null hypothesis. There is a significant difference in customer satisfaction between the two branches.\n"
     ]
    }
   ],
   "source": [
    "import numpy as np\n",
    "from scipy.stats import ttest_ind\n",
    "\n",
    "# Given data\n",
    "branch_a_scores = [4, 5, 3, 4, 5, 4, 5, 3, 4, 4, 5, 4, 4, 3, 4, 5, 5, 4, 3, 4, 5, 4, 3, 5, 4, 4, 5, 3, 4, 5, 4]\n",
    "branch_b_scores = [3, 4, 2, 3, 4, 3, 4, 2, 3, 3, 4, 3, 3, 2, 3, 4, 4, 3, 2, 3, 4, 3, 2, 4, 3, 3, 4, 2, 3, 4, 3]\n",
    "\n",
    "# Perform independent t-test\n",
    "t_stat, p_value = ttest_ind(branch_a_scores, branch_b_scores)\n",
    "\n",
    "# Set significance level (alpha)\n",
    "alpha = 0.05\n",
    "\n",
    "# Compare p-value with alpha\n",
    "if p_value < alpha:\n",
    "    print(\"Reject the null hypothesis. There is a significant difference in customer satisfaction between the two branches.\")\n",
    "else:\n",
    "    print(\"Fail to reject the null hypothesis. There is no significant difference in customer satisfaction between the two branches.\")"
   ]
  },
  {
   "cell_type": "markdown",
   "id": "5b1be4a8-7cec-4446-bff6-6641a509ba78",
   "metadata": {},
   "source": [
    "21) A political analyst wants to determine if there is a significant association between age groups and voter\n",
    "preferences (Candidate A or Candidate B). They collect data from a sample of 500 voters and classify\n",
    "them into different age groups and candidate preferences. Perform a Chi-Square test to determine if\n",
    "there is a significant association between age groups and voter preferences.\n",
    "\n",
    "\n",
    "Use the below code to generate data:\n",
    "\n",
    "```python\n",
    "\n",
    "np.random.seed(0)\n",
    "\n",
    "age_groups = np.random.choice([ 18 30 , 31 50 , 51+', 51+'], size=30)\n",
    "\n",
    "voter_preferences = np.random.choice(['Candidate A', 'Candidate B'], size=30)"
   ]
  },
  {
   "cell_type": "code",
   "execution_count": 36,
   "id": "72e9a333-09cc-4f4c-be88-00116b2bd095",
   "metadata": {},
   "outputs": [
    {
     "name": "stdout",
     "output_type": "stream",
     "text": [
      "Fail to reject the null hypothesis. There is no significant association between age groups and voter preferences.\n"
     ]
    }
   ],
   "source": [
    "import numpy as np\n",
    "from scipy.stats import chi2_contingency\n",
    "\n",
    "# Generate synthetic data (adjust sample size as needed)\n",
    "np.random.seed(0)\n",
    "age_groups = np.random.choice(['18-30', '31-50', '51+'], size=500)\n",
    "voter_preferences = np.random.choice(['Candidate A', 'Candidate B'], size=500)\n",
    "\n",
    "# Create a contingency table\n",
    "contingency_table = pd.crosstab(age_groups, voter_preferences)\n",
    "\n",
    "# Perform the Chi-Square test\n",
    "chi2, p, dof, expected = chi2_contingency(contingency_table)\n",
    "\n",
    "# Set significance level (alpha)\n",
    "alpha = 0.05\n",
    "\n",
    "# Compare p-value with alpha\n",
    "if p < alpha:\n",
    "    print(\"Reject the null hypothesis. There is a significant association between age groups and voter preferences.\")\n",
    "else:\n",
    "    print(\"Fail to reject the null hypothesis. There is no significant association between age groups and voter preferences.\")"
   ]
  },
  {
   "cell_type": "markdown",
   "id": "f7f5c509-3223-4034-99e9-7139c7bdff84",
   "metadata": {},
   "source": [
    " 22. A company conducted a customer satisfaction survey to determine if there is a significant relationship\n",
    "between product satisfaction levels (Satisfied, Neutral, Dissatisfied) and the region where customers are\n",
    "located (East, West, North, South). The survey data is summarized in a contingency table. Conduct a ChiSquare test to determine if there is a significant relationship between product satisfaction levels and\n",
    "customer regions.\n",
    "\n",
    "\n",
    "Sample data:\n",
    "\n",
    "```python\n",
    "\n",
    "#Sample data: Product satisfaction levels (rows) vs. Customer regions (columns)\n",
    "\n",
    "data = np.array([[50, 30, 40, 20], [30, 40, 30, 50], [20, 30, 40, 30]])\n",
    "\n",
    "``"
   ]
  },
  {
   "cell_type": "code",
   "execution_count": 37,
   "id": "c9379e0b-4d9e-4577-bf8d-dfd6e705bf09",
   "metadata": {},
   "outputs": [
    {
     "name": "stdout",
     "output_type": "stream",
     "text": [
      "Reject the null hypothesis. There is a significant relationship between product satisfaction levels and customer regions.\n"
     ]
    }
   ],
   "source": [
    "import numpy as np\n",
    "from scipy.stats import chi2_contingency\n",
    "\n",
    "# Sample data\n",
    "data = np.array([[50, 30, 40, 20],\n",
    "                 [30, 40, 30, 50],\n",
    "                 [20, 30, 40, 30]])\n",
    "\n",
    "# Perform Chi-Square test\n",
    "chi2, p, dof, expected = chi2_contingency(data)\n",
    "\n",
    "# Set significance level (alpha)\n",
    "alpha = 0.05\n",
    "\n",
    "# Compare p-value with alpha\n",
    "if p < alpha:\n",
    "    print(\"Reject the null hypothesis. There is a significant relationship between product satisfaction levels and customer regions.\")\n",
    "else:\n",
    "    print(\"Fail to reject the null hypothesis. There is no significant relationship between product satisfaction levels and customer regions.\")"
   ]
  },
  {
   "cell_type": "markdown",
   "id": "5c949ee1-ef24-468f-a373-e28e910ffe9a",
   "metadata": {},
   "source": [
    " 23. A company implemented an employee training program to improve job performance (Effective, Neutral,\n",
    "Ineffective). After the training, they collected data from a sample of employees and classified them based\n",
    "on their job performance before and after the training. Perform a Chi-Square test to determine if there is a\n",
    "significant difference between job performance levels before and after the training.\n",
    "\n",
    "\n",
    "Sample data:\n",
    "\n",
    "```python\n",
    "\n",
    "# Sample data: Job performance levels before (rows) and after (columns) training\n",
    "\n",
    "data = np.array([[50, 30, 20], [30, 40, 30], [20, 30, 40]])\n",
    "\n",
    "`"
   ]
  },
  {
   "cell_type": "code",
   "execution_count": 38,
   "id": "bca120ef-28ca-4b3f-b8ac-3eeaa991affe",
   "metadata": {},
   "outputs": [
    {
     "name": "stdout",
     "output_type": "stream",
     "text": [
      "Reject the null hypothesis. There is a significant difference in job performance levels before and after the training.\n"
     ]
    }
   ],
   "source": [
    "import numpy as np\n",
    "from scipy.stats import chi2_contingency\n",
    "\n",
    "# Sample data: Job performance levels before (rows) and after (columns) training\n",
    "data = np.array([[50, 30, 20],\n",
    "                 [30, 40, 30],\n",
    "                 [20, 30, 40]])\n",
    "\n",
    "# Perform Chi-Square test\n",
    "chi2, p, dof, expected = chi2_contingency(data)\n",
    "\n",
    "# Set significance level (alpha)\n",
    "alpha = 0.05\n",
    "\n",
    "# Compare p-value with alpha\n",
    "if p < alpha:\n",
    "    print(\"Reject the null hypothesis. There is a significant difference in job performance levels before and after the training.\")\n",
    "else:\n",
    "    print(\"Fail to reject the null hypothesis. There is no significant difference in job performance levels before and after the training.\")"
   ]
  },
  {
   "cell_type": "markdown",
   "id": "9b4d1483-0931-415e-be90-128be4cd0e1b",
   "metadata": {},
   "source": [
    " 24. A company produces three different versions of a product: Standard, Premium, and Deluxe. The\n",
    "company wants to determine if there is a significant difference in customer satisfaction scores among the\n",
    "three product versions. They conducted a survey and collected customer satisfaction scores for each\n",
    "version from a random sample of customers. Perform an ANOVA test to determine if there is a significant\n",
    "difference in customer satisfaction scores.\n",
    "\n",
    "\n",
    "  Use the following data:\n",
    "\n",
    "  ```python\n",
    "\n",
    "  # Sample data: Customer satisfaction scores for each product version\n",
    "\n",
    "  standard_scores = [80, 85, 90, 78, 88, 82, 92, 78, 85, 87]\n",
    "\n",
    "  premium_scores = [90, 92, 88, 92, 95, 91, 96, 93, 89, 93]\n",
    "\n",
    "  deluxe_scores = [95, 98, 92, 97, 96, 94, 98, 97, 92, 99]\n",
    "\n"
   ]
  },
  {
   "cell_type": "code",
   "execution_count": 39,
   "id": "e338ac81-a0d6-49ea-9f5a-d8cf0c31526d",
   "metadata": {},
   "outputs": [
    {
     "name": "stdout",
     "output_type": "stream",
     "text": [
      "Reject the null hypothesis. There is a significant difference in customer satisfaction scores among the three product versions.\n"
     ]
    }
   ],
   "source": [
    "import numpy as np\n",
    "from scipy.stats import f_oneway\n",
    "\n",
    "# Sample data: Customer satisfaction scores for each product version\n",
    "standard_scores = [80, 85, 90, 78, 88, 82, 92, 78, 85, 87]\n",
    "premium_scores = [90, 92, 88, 92, 95, 91, 96, 93, 89, 93]\n",
    "deluxe_scores = [95, 98, 92, 97, 96, 94, 98, 97, 92, 99]\n",
    "\n",
    "# Perform one-way ANOVA\n",
    "f_statistic, p_value = f_oneway(standard_scores, premium_scores, deluxe_scores)\n",
    "\n",
    "# Set significance level (alpha)\n",
    "alpha = 0.05\n",
    "\n",
    "# Compare p-value with alpha\n",
    "if p_value < alpha:\n",
    "    print(\"Reject the null hypothesis. There is a significant difference in customer satisfaction scores among the three product versions.\")\n",
    "else:\n",
    "    print(\"Fail to reject the null hypothesis. There is no significant difference in customer satisfaction scores among the three product versions.\")"
   ]
  },
  {
   "cell_type": "code",
   "execution_count": null,
   "id": "e5505f97-6dcd-423a-ba95-e276da56f297",
   "metadata": {},
   "outputs": [],
   "source": []
  }
 ],
 "metadata": {
  "kernelspec": {
   "display_name": "Python 3 (ipykernel)",
   "language": "python",
   "name": "python3"
  },
  "language_info": {
   "codemirror_mode": {
    "name": "ipython",
    "version": 3
   },
   "file_extension": ".py",
   "mimetype": "text/x-python",
   "name": "python",
   "nbconvert_exporter": "python",
   "pygments_lexer": "ipython3",
   "version": "3.11.4"
  }
 },
 "nbformat": 4,
 "nbformat_minor": 5
}
