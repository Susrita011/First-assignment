{
  "cells": [
    {
      "cell_type": "markdown",
      "metadata": {
        "id": "RoWhDSEZkWd8"
      },
      "source": [
        "THEORITICAL QUESTION"
      ]
    },
    {
      "cell_type": "markdown",
      "metadata": {
        "id": "d3ofon5wkd53"
      },
      "source": [
        "1. What is Logistic Regression, and how does it differ from Linear Regression.\n"
      ]
    },
    {
      "cell_type": "markdown",
      "metadata": {
        "id": "-FZPJPgIkwjL"
      },
      "source": [
        "ans . Logistic Regression is a statistical method used for binary classification problems, where the goal is to predict the probability of a binary outcome (e.g., yes/no, 0/1) based on a set of input features. It's a popular and interpretable algorithm, often used in various fields like healthcare, finance, and marketing.\n",
        "\n",
        "**How it works:**\n",
        "\n",
        "1. **Sigmoid Function:** Logistic Regression uses the sigmoid function to map the linear combination of input features to a probability between 0 and 1. The sigmoid function is an S-shaped curve that ensures the output is always within this range.\n",
        "2. **Linear Combination:** It calculates a weighted sum of the input features, similar to Linear Regression. However, instead of directly outputting this sum, it passes it through the sigmoid function.\n",
        "3. **Probability Threshold:** Based on the predicted probability, a threshold is set to classify the outcome. If the probability is above the threshold (usually 0.5), the outcome is classified as one category (e.g., 1 or \"yes\"), and if it's below, it's classified as the other category (e.g., 0 or \"no\").\n",
        "4. **Model Training:** The model is trained using labeled data, where the algorithm learns the optimal weights for the input features that minimize the difference between the predicted probabilities and the actual outcomes.\n",
        "\n",
        "**Differences from Linear Regression:**\n",
        "\n",
        "| Feature | Logistic Regression | Linear Regression |\n",
        "|---|---|---|\n",
        "| **Output** | Probability of a binary outcome (0-1) | Continuous value |\n",
        "| **Type of Problem** | Binary classification | Regression |\n",
        "| **Function** | Sigmoid function | Linear function |\n",
        "| **Use Case** | Predicting categories (e.g., spam/not spam) | Predicting values (e.g., house prices) |\n",
        "\n",
        "**In essence:**\n",
        "\n",
        "- Linear Regression predicts a continuous value, while Logistic Regression predicts the probability of a binary outcome.\n",
        "- Linear Regression uses a linear function to model the relationship between features and the outcome, while Logistic Regression uses the sigmoid function.\n",
        "- Linear Regression is used for regression tasks, while Logistic Regression is used for classification tasks.\n",
        "\n",
        "\n"
      ]
    },
    {
      "cell_type": "markdown",
      "metadata": {
        "id": "sU_dfjJMlZBg"
      },
      "source": [
        "2. What is the mathematical equation of Logistic Regression."
      ]
    },
    {
      "cell_type": "markdown",
      "metadata": {
        "id": "K4YC8qWAmLkY"
      },
      "source": [
        "ans. The mathematical equation for Logistic Regression can be expressed in a few ways, but here's the most common and fundamental one:\n",
        "\n",
        "**Probability of a positive outcome (y=1):**\n",
        "\n",
        "```\n",
        "P(y=1 | x) = 1 / (1 + exp(-z))\n",
        "```\n",
        "\n",
        "where:\n",
        "\n",
        "*  `P(y=1 | x)` is the probability of the outcome being 1 (e.g., \"yes\", \"success\") given the input features `x`.\n",
        "*  `x` is a vector of input features (independent variables).\n",
        "*  `exp()` is the exponential function (e raised to the power of).\n",
        "*  `z` is the linear combination of the input features and their weights:\n",
        "\n",
        "```\n",
        "z = w₀ + w₁x₁ + w₂x₂ + ... + wₙxₙ\n",
        "```\n",
        "\n",
        "where:\n",
        "\n",
        "*  `w₀` is the intercept (or bias).\n",
        "*  `w₁, w₂, ..., wₙ` are the weights (or coefficients) associated with the input features.\n",
        "*  `x₁, x₂, ..., xₙ` are the values of the input features.\n",
        "\n",
        "**In simpler terms:**\n",
        "\n",
        "1. **Linear Combination:** The equation first calculates a weighted sum of the input features (`z`), similar to linear regression. Each feature is multiplied by its corresponding weight, and these products are added together along with the intercept.\n",
        "\n",
        "2. **Sigmoid Function:** This linear combination (`z`) is then passed through the sigmoid function (the `1 / (1 + exp(-z))` part). The sigmoid function squashes any real-valued number into a probability between 0 and 1.\n",
        "\n",
        "**Why this equation works:**\n",
        "\n",
        "* **Probability:** The sigmoid function ensures that the output is always a valid probability (between 0 and 1).\n",
        "* **Linearity in the Log-Odds:** If you take the log of the odds (the logit) of the probability, you get a linear combination of the input features. This means that Logistic Regression models a linear relationship between the features and the log-odds of the outcome.\n",
        "* **Interpretability:** The weights (`wᵢ`) can be interpreted as the change in the log-odds of the outcome for a one-unit change in the corresponding feature, holding other features constant.\n",
        "\n",
        "**Key takeaway:**\n",
        "\n",
        "The Logistic Regression equation combines a linear combination of input features with the sigmoid function to produce a probability of a binary outcome.\n"
      ]
    },
    {
      "cell_type": "markdown",
      "metadata": {
        "id": "PV6jpAmJmZJf"
      },
      "source": [
        "3. Why do we use the Sigmoid function in Logistic Regression.\n"
      ]
    },
    {
      "cell_type": "markdown",
      "metadata": {
        "id": "ELku7iCBmoPF"
      },
      "source": [
        "ans. The sigmoid function is a crucial component of Logistic Regression, and here's why:\n",
        "\n",
        "**1. Probability Output:**\n",
        "\n",
        "- Logistic Regression aims to predict the probability of a binary outcome (e.g., yes/no, 0/1). The sigmoid function's unique property is that it maps any real-valued number to a value between 0 and 1. This perfectly aligns with the concept of probability, which always falls within this range.\n",
        "\n",
        "**2. Non-linearity:**\n",
        "\n",
        "- The sigmoid function introduces non-linearity into the model. This is essential because many real-world relationships between features and outcomes are not linear. The non-linearity allows Logistic Regression to model more complex patterns in the data.\n",
        "\n",
        "**3. Smoothness and Differentiability:**\n",
        "\n",
        "- The sigmoid function is a smooth and differentiable function. This is important for the optimization algorithms used to train the Logistic Regression model. These algorithms rely on gradients (derivatives) to find the optimal weights for the features, and the smoothness of the sigmoid function ensures that these gradients are well-behaved.\n",
        "\n",
        "**4. Interpretability:**\n",
        "\n",
        "- The output of the sigmoid function can be directly interpreted as the probability of the positive class (y=1). This makes it easy to understand the model's predictions and to make decisions based on the predicted probabilities.\n",
        "\n",
        "**5. Historical Reasons:**\n",
        "\n",
        "- The sigmoid function has been used in various fields for a long time, including statistics and biology. It was a natural choice to use it in Logistic Regression when it was first developed.\n",
        "\n",
        "**In summary:**\n",
        "\n",
        "The sigmoid function is used in Logistic Regression because it:\n",
        "\n",
        "- Produces probability outputs between 0 and 1.\n",
        "- Introduces non-linearity to model complex relationships.\n",
        "- Is smooth and differentiable for optimization.\n",
        "- Provides interpretable probabilities.\n",
        "\n",
        "While other functions could potentially be used, the sigmoid function has proven to be a very effective and widely used choice for Logistic Regression.\n"
      ]
    },
    {
      "cell_type": "markdown",
      "metadata": {
        "id": "Ati5SpSpm4eQ"
      },
      "source": [
        "4. What is the cost function of Logistic Regression."
      ]
    },
    {
      "cell_type": "markdown",
      "metadata": {
        "id": "AhGkXt6cm_TT"
      },
      "source": [
        "ans. The cost function for Logistic Regression is called **Log Loss** or **Cross-Entropy Loss**. It measures the difference between the predicted probabilities and the actual outcomes.\n",
        "\n",
        "It uses logarithms to penalize incorrect predictions more heavily, ensuring the model learns to make accurate probability estimations.\n",
        "\n",
        "**Why this specific cost function?**\n",
        "\n",
        "* **Convexity:** It's a convex function, meaning it has a single minimum point. This is crucial for optimization algorithms to find the best model parameters.\n",
        "* **Sensitivity to Errors:** It heavily penalizes confident but wrong predictions, encouraging the model to be more cautious.\n",
        "\n",
        "**The goal:**\n",
        "\n",
        "The goal during training is to minimize this cost function, leading to a model that makes accurate predictions.\n"
      ]
    },
    {
      "cell_type": "markdown",
      "metadata": {
        "id": "PZGoTU6YngW7"
      },
      "source": [
        "5. What is Regularization in Logistic Regression/ Why is it needed."
      ]
    },
    {
      "cell_type": "markdown",
      "metadata": {
        "id": "sy24vym2numh"
      },
      "source": [
        "In Logistic Regression, regularization is a technique used to prevent **overfitting**.\n",
        "\n",
        "**What is Overfitting?**\n",
        "\n",
        "Overfitting happens when your model learns the training data *too* well, including its noise and outliers. This leads to a model that performs great on the training data but poorly on new, unseen data. It's like memorizing answers for a test instead of understanding the concepts.\n",
        "\n",
        "**How Regularization Helps**\n",
        "\n",
        "Regularization adds a penalty to the cost function of Logistic Regression. This penalty discourages the model from having very large weights for the features. By keeping the weights smaller, the model becomes simpler and less prone to overfitting.\n",
        "\n",
        "**Why is it Needed?**\n",
        "\n",
        "* **Improved Generalization:** Regularization helps the model generalize better to new data, making it more reliable in real-world applications.\n",
        "* **Handles High Dimensionality:** When you have many features (high dimensionality), regularization becomes especially important to prevent the model from becoming too complex and overfitting.\n",
        "\n",
        "**Types of Regularization**\n",
        "\n",
        "There are two main types of regularization used in Logistic Regression:\n",
        "\n",
        "* **L1 Regularization (Lasso):** This type can actually shrink some feature weights to zero, effectively performing feature selection.\n",
        "* **L2 Regularization (Ridge):** This type shrinks the weights towards zero but usually doesn't eliminate them completely.\n",
        "\n",
        "**In essence:**\n",
        "\n",
        "Regularization is like adding a \"complexity control\" to your Logistic Regression model. It helps the model find a sweet spot where it learns the underlying patterns in the data without memorizing the noise, leading to better predictions on unseen data.\n"
      ]
    },
    {
      "cell_type": "markdown",
      "metadata": {
        "id": "fiDmaAsToQ6T"
      },
      "source": [
        "6. Explain the difference between Lasso, Ridge, and elastic Net regression ?"
      ]
    },
    {
      "cell_type": "markdown",
      "metadata": {
        "id": "wY1KmVGbor_Y"
      },
      "source": [
        "Lasso, Ridge, and Elastic Net are all regularization techniques used in linear regression to prevent overfitting and improve the model's generalization ability. They achieve this by adding a penalty term to the cost function, which discourages the model from having very large weights for the features. Here's a breakdown of their differences:\n",
        "\n",
        "**1. Ridge Regression (L2 Regularization)**\n",
        "\n",
        "* **Penalty:** Adds the sum of the *squares* of the coefficients to the cost function.\n",
        "* **Effect:** Shrinks the coefficients towards zero, but usually doesn't eliminate them completely.\n",
        "* **Use Case:** Useful when you have many features, some of which might be correlated. Ridge helps to reduce the impact of less important features without completely removing them.\n",
        "\n",
        "**2. Lasso Regression (L1 Regularization)**\n",
        "\n",
        "* **Penalty:** Adds the sum of the *absolute values* of the coefficients to the cost function.\n",
        "* **Effect:** Can shrink some coefficients to exactly zero, effectively performing feature selection.\n",
        "* **Use Case:** Useful when you suspect that only a few features are truly important, and the rest are noise or redundant. Lasso helps to identify and select the most relevant features.\n",
        "\n",
        "**3. Elastic Net Regression**\n",
        "\n",
        "* **Penalty:** Combines both L1 (Lasso) and L2 (Ridge) penalties in the cost function.\n",
        "* **Effect:** Balances the properties of Lasso and Ridge. It can perform feature selection like Lasso while also handling multicollinearity like Ridge.\n",
        "* **Use Case:** Useful when you have many features, some of which might be correlated, and you also want to perform feature selection. Elastic Net provides a more stable and robust model compared to using Lasso or Ridge alone in such situations.\n",
        "\n",
        "**Here's a table summarizing the key differences:**\n",
        "\n",
        "| Feature | Ridge Regression | Lasso Regression | Elastic Net Regression |\n",
        "|---|---|---|---|\n",
        "| Penalty | L2 (sum of squared coefficients) | L1 (sum of absolute values of coefficients) | L1 + L2 |\n",
        "| Coefficient Shrinkage | Shrinks coefficients towards zero | Shrinks coefficients towards zero, can shrink some to zero | Shrinks coefficients towards zero, can shrink some to zero |\n",
        "| Feature Selection | No | Yes | Yes |\n",
        "| Handles Multicollinearity | Yes | To some extent | Yes |\n",
        "| Use Case | Many features, some correlated | Few important features, others noise | Many features, some correlated, feature selection needed |\n",
        "\n",
        "**In essence:**\n",
        "\n",
        "* Ridge is like a gentle nudge, reducing the impact of less important features.\n",
        "* Lasso is like a stricter teacher, kicking out the least useful features.\n",
        "* Elastic Net is like a wise mediator, balancing the strengths of both Ridge and Lasso.\n",
        "\n",
        "The choice between these techniques depends on the specific dataset and the goals of the analysis.\n"
      ]
    },
    {
      "cell_type": "markdown",
      "metadata": {
        "id": "6-Vi6m5No42N"
      },
      "source": [
        "7. When should we use elastic Net instead of Lasso or Ridge."
      ]
    },
    {
      "cell_type": "markdown",
      "metadata": {
        "id": "ULXUCrH9pH0A"
      },
      "source": [
        "Elastic Net is a powerful regularization technique that combines the strengths of both Lasso and Ridge regression. It's particularly useful in situations where you face challenges that neither Lasso nor Ridge can fully address on their own. Here's when you should consider using Elastic Net:\n",
        "\n",
        "**1. When you have many features, some of which are correlated:**\n",
        "\n",
        "- **Lasso's Limitation:** Lasso excels at feature selection, but it can struggle with correlated features. It might arbitrarily pick one feature from a group of correlated features and discard the others, even if they all carry valuable information.\n",
        "- **Ridge's Limitation:** Ridge handles multicollinearity well, but it doesn't perform feature selection. It keeps all features, even if they are not very important.\n",
        "- **Elastic Net's Advantage:** Elastic Net combines the best of both worlds. It can handle correlated features like Ridge while still performing feature selection like Lasso. It's more likely to keep groups of correlated features together, rather than arbitrarily discarding some of them.\n",
        "\n",
        "**2. When you want a balance between feature selection and coefficient shrinkage:**\n",
        "\n",
        "- **Lasso's Focus:** Lasso is heavily focused on feature selection. It can aggressively shrink coefficients to zero, potentially removing useful features if not tuned carefully.\n",
        "- **Ridge's Focus:** Ridge primarily focuses on shrinking coefficients. It keeps all features, which might not be ideal when you have many irrelevant features.\n",
        "- **Elastic Net's Balance:** Elastic Net allows you to control the balance between feature selection and coefficient shrinkage. You can tune the parameters to favor either feature selection or coefficient shrinkage, depending on your needs.\n",
        "\n",
        "**3. When you're not sure whether feature selection is crucial:**\n",
        "\n",
        "- **Lasso's Assumption:** Lasso assumes that only a few features are truly important. If this assumption doesn't hold, Lasso might remove valuable features.\n",
        "- **Ridge's Approach:** Ridge keeps all features, which might lead to a more complex model with reduced interpretability.\n",
        "- **Elastic Net's Flexibility:** Elastic Net provides a more flexible approach. You can start with Elastic Net and then tune the parameters to see if feature selection improves the model's performance.\n",
        "\n",
        "**In summary:**\n",
        "\n",
        "Elastic Net is a versatile regularization technique that's particularly useful when you have a dataset with many features, some of which are correlated, and you want to balance feature selection with coefficient shrinkage. It offers a more robust and flexible approach compared to using Lasso or Ridge alone in such situations.\n"
      ]
    },
    {
      "cell_type": "markdown",
      "metadata": {
        "id": "um2bXQjpEdAD"
      },
      "source": [
        "8. What is the impact of the regularization parameter (λ) in Logistic Regression."
      ]
    },
    {
      "cell_type": "markdown",
      "metadata": {
        "id": "_xE-1M5_EqpZ"
      },
      "source": [
        "ans. The regularization parameter, often denoted as λ (lambda), plays a crucial role in Logistic Regression by controlling the strength of regularization. It directly influences the trade-off between model complexity and its ability to fit the training data. Here's a breakdown of its impact:\n",
        "\n",
        "**1. Controlling Model Complexity:**\n",
        "\n",
        "- **Higher λ:** Increasing the value of λ strengthens the regularization effect. This leads to a simpler model with smaller coefficients. The model becomes less prone to overfitting, as it's discouraged from learning intricate details of the training data, including noise and outliers.\n",
        "- **Lower λ:** Decreasing λ weakens regularization. The model becomes more complex, with larger coefficients. It can fit the training data more closely, potentially capturing even the noise, which increases the risk of overfitting.\n",
        "\n",
        "**2. Balancing Bias and Variance:**\n",
        "\n",
        "- **Higher λ:** Stronger regularization (high λ) increases the bias of the model. It becomes more constrained and might underfit the data if λ is too high. Underfitting occurs when the model is too simple to capture the underlying patterns in the data.\n",
        "- **Lower λ:** Weaker regularization (low λ) reduces bias but increases variance. The model becomes more flexible and can fit the training data very well. However, this can lead to high variance, meaning the model is very sensitive to the specific training data and might not generalize well to unseen data.\n",
        "\n",
        "**3. Impact on Coefficients:**\n",
        "\n",
        "- **Higher λ:** Larger λ values push the coefficients towards zero. In L1 regularization (Lasso), some coefficients might even become exactly zero, effectively performing feature selection. In L2 regularization (Ridge), coefficients become smaller but rarely reach zero.\n",
        "- **Lower λ:** Smaller λ values allow the coefficients to grow larger. The model relies more on the features and can potentially overfit if λ is too low.\n",
        "\n",
        "**4. Finding the Optimal λ:**\n",
        "\n",
        "- The optimal value of λ depends on the specific dataset and the goals of the analysis. It's typically determined using techniques like cross-validation. Cross-validation involves splitting the data into multiple subsets, training the model with different λ values on some subsets, and evaluating its performance on the remaining subsets. The λ value that results in the best performance on the validation sets is chosen as the optimal value.\n",
        "\n",
        "**In summary:**\n",
        "\n",
        "The regularization parameter λ controls the balance between model complexity and its ability to fit the training data. A higher λ leads to a simpler model with smaller coefficients, reducing the risk of overfitting but potentially increasing bias. A lower λ makes the model more complex, increasing the risk of overfitting but reducing bias. Finding the optimal λ is crucial for building a well-performing Logistic Regression model that generalizes well to unseen data.\n"
      ]
    },
    {
      "cell_type": "markdown",
      "metadata": {
        "id": "BvRdkTSPE4zr"
      },
      "source": [
        "9. What are the key assumptions of Logistic Regression."
      ]
    },
    {
      "cell_type": "markdown",
      "metadata": {
        "id": "KEC_yMqGFCOh"
      },
      "source": [
        "Logistic regression, while a powerful and versatile tool, relies on certain key assumptions to ensure its results are valid and reliable. Here are the main ones:\n",
        "\n",
        "**1. Binary Outcome:**\n",
        "\n",
        "- The dependent variable (the one you're trying to predict) must be binary or dichotomous. This means it can only take two values, such as 0 or 1, yes or no, true or false.\n",
        "\n",
        "**2. Independence of Observations:**\n",
        "\n",
        "- The observations in your dataset should be independent of each other. This means that each data point should be unrelated to the others. For example, if you're analyzing customer behavior, each customer's actions should not influence another customer's actions.\n",
        "\n",
        "**3. No Multicollinearity:**\n",
        "\n",
        "- The independent variables (the ones you're using to make predictions) should not be highly correlated with each other. Multicollinearity can distort the results and make it difficult to determine the individual effect of each variable on the outcome.\n",
        "\n",
        "**4. Linearity of the Logit:**\n",
        "\n",
        "- While logistic regression doesn't assume a linear relationship between the independent variables and the outcome itself, it does assume a linear relationship between the independent variables and the *log-odds* (or logit) of the outcome. This means that if you were to plot the log-odds of the outcome against each independent variable, you should see a roughly linear pattern.\n",
        "\n",
        "**5. Sufficient Sample Size:**\n",
        "\n",
        "- Logistic regression generally requires a larger sample size compared to linear regression. A common rule of thumb is to have at least 10-20 events (the less frequent outcome) per independent variable in your model.\n",
        "\n",
        "**Important Notes:**\n",
        "\n",
        "- **These are assumptions, not strict requirements:** While it's ideal for these assumptions to hold, logistic regression can still be useful even if some assumptions are slightly violated. However, significant violations can lead to misleading results.\n",
        "- **Checking assumptions is crucial:** Before drawing conclusions from your logistic regression model, it's essential to check whether these assumptions are met. There are various diagnostic tools and techniques available to assess these assumptions.\n",
        "\n",
        "**In summary:**\n",
        "\n",
        "By understanding and checking these key assumptions, you can ensure that your logistic regression model is appropriate for your data and that the results you obtain are reliable and meaningful.\n"
      ]
    },
    {
      "cell_type": "markdown",
      "metadata": {
        "id": "_M1VsRb8FHrK"
      },
      "source": [
        "10. What are some alternatives to Logistic Regression for classification tasks."
      ]
    },
    {
      "cell_type": "markdown",
      "metadata": {
        "id": "RGapvf2IFUei"
      },
      "source": [
        "ans. You're right to think beyond logistic regression! While it's a workhorse, there are many other classification algorithms with their own strengths. Here are some popular alternatives:\n",
        "\n",
        "**1. Tree-Based Methods:**\n",
        "\n",
        "* **Decision Trees:** These create a set of rules to classify data based on feature values. They are easy to visualize and interpret but can be prone to overfitting.\n",
        "* **Random Forests:** This is an ensemble method that combines multiple decision trees. It's more robust than a single tree and often provides higher accuracy.\n",
        "* **Gradient Boosting Machines (GBM):** Another ensemble method that builds trees sequentially, with each tree correcting the errors of the previous ones. Popular GBM implementations include XGBoost, LightGBM, and CatBoost.\n",
        "\n",
        "**2. Support Vector Machines (SVM):**\n",
        "\n",
        "* SVMs find an optimal hyperplane that maximally separates data points of different classes. They are effective in high-dimensional spaces and can handle non-linear relationships using kernel tricks.\n",
        "\n",
        "**3. K-Nearest Neighbors (KNN):**\n",
        "\n",
        "* KNN classifies a data point based on the classes of its k-nearest neighbors in the feature space. It's simple to understand and implement but can be computationally expensive for large datasets.\n",
        "\n",
        "**4. Naive Bayes:**\n",
        "\n",
        "* Based on Bayes' theorem, Naive Bayes assumes that features are independent of each other. It's computationally efficient and works well for high-dimensional data, such as text classification.\n",
        "\n",
        "**5. Neural Networks:**\n",
        "\n",
        "* Neural networks are complex models inspired by the human brain. They can learn very complex patterns and are particularly useful for tasks like image recognition and natural language processing.\n",
        "\n",
        "**6. Other Notable Alternatives:**\n",
        "\n",
        "* **Discriminant Analysis:** A statistical method that finds linear combinations of features to separate classes.\n",
        "* **Rule-Based Classifiers:** These use a set of predefined rules to classify data.\n",
        "* **Bayesian Networks:** These represent probabilistic relationships between variables and can be used for classification.\n",
        "\n",
        "**Choosing the Right Algorithm:**\n",
        "\n",
        "The best alternative to logistic regression depends on several factors, including:\n",
        "\n",
        "* **Data characteristics:** The size, type, and distribution of your data.\n",
        "* **Problem complexity:** The complexity of the relationship between features and the outcome.\n",
        "* **Interpretability:** Whether you need to understand how the model makes predictions.\n",
        "* **Computational resources:** The amount of computing power and time available.\n",
        "\n",
        "**It's often a good idea to try multiple algorithms and compare their performance using appropriate evaluation metrics.**\n",
        "\n",
        "\n"
      ]
    },
    {
      "cell_type": "markdown",
      "metadata": {
        "id": "CaV95_z4FfCB"
      },
      "source": [
        "11. What are classification evaluation Metrics."
      ]
    },
    {
      "cell_type": "markdown",
      "metadata": {
        "id": "y9_wzRN6FpK-"
      },
      "source": [
        "ans. You're right to ask about evaluation metrics! They're essential for understanding how well your classification model is performing. Here's a breakdown of some key metrics:\n",
        "\n",
        "**1. Confusion Matrix:**\n",
        "\n",
        "* This is the foundation for many other metrics. It's a table that summarizes the model's predictions compared to the actual outcomes.\n",
        "\n",
        "|  | Predicted Positive | Predicted Negative |\n",
        "|---|---|---|\n",
        "| **Actual Positive** | True Positive (TP) | False Negative (FN) |\n",
        "| **Actual Negative** | False Positive (FP) | True Negative (TN) |\n",
        "\n",
        "**2. Accuracy:**\n",
        "\n",
        "* The most straightforward metric. It measures the overall correctness of the model's predictions.\n",
        "    * **Formula:** (TP + TN) / (TP + TN + FP + FN)\n",
        "    * **Limitation:** Can be misleading if the classes are imbalanced (e.g., many more negatives than positives).\n",
        "\n",
        "**3. Precision:**\n",
        "\n",
        "* Measures how many of the positive predictions were actually correct.\n",
        "    * **Formula:** TP / (TP + FP)\n",
        "    * **Use case:** Important when false positives are costly (e.g., spam detection).\n",
        "\n",
        "**4. Recall (Sensitivity or True Positive Rate):**\n",
        "\n",
        "* Measures how many of the actual positives were correctly identified.\n",
        "    * **Formula:** TP / (TP + FN)\n",
        "    * **Use case:** Important when false negatives are costly (e.g., disease diagnosis).\n",
        "\n",
        "**5. F1-Score:**\n",
        "\n",
        "* The harmonic mean of precision and recall. It balances both metrics.\n",
        "    * **Formula:** 2 * (Precision * Recall) / (Precision + Recall)\n",
        "    * **Use case:** Useful when you want a single metric that considers both false positives and false negatives.\n",
        "\n",
        "**6. Specificity (True Negative Rate):**\n",
        "\n",
        "* Measures how many of the actual negatives were correctly identified.\n",
        "    * **Formula:** TN / (TN + FP)\n",
        "    * **Use case:** Important when correctly identifying negatives is crucial.\n",
        "\n",
        "**7. ROC Curve and AUC:**\n",
        "\n",
        "* **ROC Curve:** A graphical representation of the model's performance at different classification thresholds.\n",
        "* **AUC (Area Under the Curve):** A single value summarizing the ROC curve. Higher AUC indicates better performance.\n",
        "* **Use case:** Useful for understanding the trade-off between true positive rate and false positive rate.\n",
        "\n",
        "**Choosing the Right Metric:**\n",
        "\n",
        "The best metric depends on your specific problem and priorities. Consider:\n",
        "\n",
        "* **Class balance:** If classes are imbalanced, accuracy might not be the best choice.\n",
        "* **Costs of errors:** Are false positives or false negatives more costly in your application?\n",
        "* **Overall goals:** What are you trying to achieve with your model?\n",
        "\n",
        "\n"
      ]
    },
    {
      "cell_type": "markdown",
      "metadata": {
        "id": "APC4vd86FyC_"
      },
      "source": [
        "12. How does class imbalance affect Logistic Regression."
      ]
    },
    {
      "cell_type": "markdown",
      "metadata": {
        "id": "j64QQt1pF6_R"
      },
      "source": [
        "ans. Class imbalance, where one class has significantly more examples than the other, can indeed affect Logistic Regression. Here's how:\n",
        "\n",
        "**1. Bias Towards the Majority Class:**\n",
        "\n",
        "- Logistic Regression, by default, tries to minimize the overall error rate. In imbalanced datasets, it might achieve this by simply predicting the majority class most of the time. This leads to a model that performs well on the majority class but poorly on the minority class, which is often the class of interest.\n",
        "\n",
        "**2. Misleading Accuracy:**\n",
        "\n",
        "- Accuracy, a common evaluation metric, can be misleading in imbalanced scenarios. A model that always predicts the majority class might have high accuracy, even if it completely fails to identify the minority class.\n",
        "\n",
        "**3. Difficulty in Learning Minority Class Patterns:**\n",
        "\n",
        "- With fewer examples, the model has less information to learn the patterns of the minority class. This can result in poor predictions for this class, even if the model performs well overall.\n",
        "\n",
        "**4. Impact on Coefficients:**\n",
        "\n",
        "- Class imbalance can affect the coefficients learned by the model. The coefficients might be biased towards the majority class, making it difficult to interpret their true impact on the minority class.\n",
        "\n",
        "**How to Address Class Imbalance in Logistic Regression:**\n",
        "\n",
        "Several techniques can be used to mitigate the effects of class imbalance:\n",
        "\n",
        "* **Resampling Techniques:**\n",
        "    - **Oversampling:** Increase the number of examples in the minority class by duplicating existing instances or creating synthetic samples (e.g., SMOTE).\n",
        "    - **Undersampling:** Reduce the number of examples in the majority class by randomly removing instances.\n",
        "* **Cost-Sensitive Learning:**\n",
        "    - Assign higher weights to the minority class during training, making the model pay more attention to it.\n",
        "* **Probability Threshold Adjustment:**\n",
        "    - Instead of using the default threshold of 0.5 for classification, adjust the threshold to optimize for metrics like precision, recall, or F1-score, which are more informative in imbalanced scenarios.\n",
        "* **Ensemble Methods:**\n",
        "    - Use ensemble methods like Random Forests or Gradient Boosting Machines, which are less sensitive to class imbalance.\n",
        "\n",
        "**In summary:**\n",
        "\n",
        "Class imbalance can significantly impact Logistic Regression by biasing the model towards the majority class and making accuracy a misleading metric. However, several techniques can be used to address this issue and improve the model's performance on the minority class.\n"
      ]
    },
    {
      "cell_type": "markdown",
      "metadata": {
        "id": "RexeJ1VfGGnw"
      },
      "source": [
        "13.  What is hyperparameter Tuning in Logistic Regression."
      ]
    },
    {
      "cell_type": "markdown",
      "metadata": {
        "id": "npLRUQACGV8w"
      },
      "source": [
        "ans. Hyperparameter tuning in Logistic Regression is the process of finding the best set of values for the model's hyperparameters. These are parameters that are set *before* the training process and control the learning behavior of the model. Unlike model parameters (like the coefficients), hyperparameters are not learned from the data.\n",
        "\n",
        "**Why is it important?**\n",
        "\n",
        "The performance of your Logistic Regression model can be significantly affected by the choice of hyperparameters. Tuning them correctly can lead to:\n",
        "\n",
        "* **Improved accuracy:** A well-tuned model can make more accurate predictions.\n",
        "* **Better generalization:** It can perform better on unseen data.\n",
        "* **Reduced overfitting:** It can prevent the model from memorizing noise in the training data.\n",
        "\n",
        "**Key Hyperparameters in Logistic Regression:**\n",
        "\n",
        "1. **Regularization (Penalty):**\n",
        "   - `penalty`: Specifies the type of regularization to use ('l1' for Lasso, 'l2' for Ridge, 'none' for no regularization).\n",
        "   - `C`: Inverse of regularization strength. Smaller values indicate stronger regularization.\n",
        "\n",
        "2. **Solver:**\n",
        "   - `solver`: Algorithm used for optimization (e.g., 'liblinear', 'lbfgs', 'sag'). Different solvers work better with different datasets and penalties.\n",
        "\n",
        "3. **Maximum Iterations:**\n",
        "   - `max_iter`: Maximum number of iterations for the solver to converge.\n",
        "\n",
        "**Techniques for Hyperparameter Tuning:**\n",
        "\n",
        "1. **Grid Search:**\n",
        "   - Define a grid of possible hyperparameter values.\n",
        "   - Train and evaluate the model for all combinations in the grid.\n",
        "   - Select the combination with the best performance.\n",
        "\n",
        "2. **Randomized Search:**\n",
        "   - Similar to grid search, but samples random combinations from the hyperparameter space.\n",
        "   - More efficient than grid search when the hyperparameter space is large.\n",
        "\n",
        "3. **Cross-Validation:**\n",
        "   - Used in conjunction with grid search or randomized search.\n",
        "   - Splits the data into multiple folds.\n",
        "   - Trains and evaluates the model on different combinations of folds to get a more robust estimate of performance.\n",
        "\n",
        "**Tools for Hyperparameter Tuning:**\n",
        "\n",
        "* **Scikit-learn:** Provides tools like `GridSearchCV` and `RandomizedSearchCV` for hyperparameter tuning.\n",
        "\n",
        "**In summary:**\n",
        "\n",
        "Hyperparameter tuning is a crucial step in building a high-performing Logistic Regression model. By systematically exploring different hyperparameter values, you can find the optimal configuration that maximizes the model's accuracy and generalization ability.\n"
      ]
    },
    {
      "cell_type": "markdown",
      "metadata": {
        "id": "QIY2uDs4GhT_"
      },
      "source": [
        "14. What are different solvers in Logistic Regression ? Which one should be used."
      ]
    },
    {
      "cell_type": "markdown",
      "metadata": {
        "id": "z5TdzqF4Gy76"
      },
      "source": [
        "ans. You're asking a great question! The `solver` parameter in Logistic Regression (specifically in libraries like scikit-learn) determines the optimization algorithm used to find the best coefficients for your model.  Different solvers have different strengths and weaknesses, making them suitable for various situations. Here's a breakdown:\n",
        "\n",
        "**Common Solvers and Their Characteristics:**\n",
        "\n",
        "* **`liblinear`:**\n",
        "    * **Pros:** Works well with L1 and L2 regularization. Efficient for large datasets.  Good for linear problems.\n",
        "    * **Cons:** Doesn't support `penalty='none'` (no regularization). Can struggle with very complex, non-linear relationships.\n",
        "* **`lbfgs` (Limited-memory Broyden-Fletcher-Goldfarb-Shanno):**\n",
        "    * **Pros:**  A good all-around solver. Handles L2 regularization well.  Often a good default choice.  Generally faster than `newton-cg` for many problems.\n",
        "    * **Cons:** Doesn't support L1 regularization. Can be sensitive to scaling of features.\n",
        "* **`newton-cg` (Newton-Conjugate Gradient):**\n",
        "    * **Pros:**  Handles L2 regularization. Can be more accurate than `lbfgs` for some problems, especially when convergence is difficult.\n",
        "    * **Cons:** Doesn't support L1 regularization. Can be slower than `lbfgs`.\n",
        "* **`sag` (Stochastic Average Gradient):**\n",
        "    * **Pros:**  Scales well to very large datasets.  Supports L1 and L2 regularization (but L1 is often slower).\n",
        "    * **Cons:** Can be slower than `liblinear` for smaller datasets.  Convergence can be slow for some problems.\n",
        "* **`saga` (Stochastic Average Gradient - improved):**\n",
        "    * **Pros:**  Improved version of `sag`.  Supports L1 and L2 regularization.  Often converges faster and more reliably than `sag`.  Generally a good choice for large datasets with L1 or L2 regularization.\n",
        "    * **Cons:** Can still be slower than `liblinear` for smaller datasets.\n",
        "\n",
        "**Which Solver Should You Use?**\n",
        "\n",
        "The best solver depends on your specific situation:\n",
        "\n",
        "1. **Small to Medium Datasets, L1 or L2 Regularization:**  `liblinear` is often a good first choice due to its efficiency.\n",
        "\n",
        "2. **Small to Medium Datasets, L2 Regularization:** `lbfgs` is usually a strong contender and often the default.\n",
        "\n",
        "3. **Large Datasets, L1 or L2 Regularization:** `saga` is usually the best option due to its scalability. `sag` is also an option, but `saga` is generally preferred.\n",
        "\n",
        "4. **No Regularization (`penalty='none'`):**  `lbfgs`, `newton-cg`, `sag`, and `saga` are the only options. `lbfgs` is usually a good starting point.\n",
        "\n",
        "5. **Complex or Non-linear Relationships:** If you suspect a more complex relationship, `newton-cg` or `lbfgs` (with careful feature scaling) may be worth trying, but consider other models altogether if linearity is a major issue.\n",
        "\n",
        "\n",
        "\n"
      ]
    },
    {
      "cell_type": "markdown",
      "metadata": {
        "id": "gmrpjyW3HMVY"
      },
      "source": [
        "15. How is Logistic Regression  extended for multiclass classification."
      ]
    },
    {
      "cell_type": "markdown",
      "metadata": {
        "id": "tit36zkeHZrD"
      },
      "source": [
        "ans. You're right to think about how Logistic Regression can handle more than two classes! It's a common need. Here's how it's extended for multiclass classification:\n",
        "\n",
        "**1. Softmax Regression (Multinomial Logistic Regression):**\n",
        "\n",
        "* **The Idea:** This is the most common extension. Instead of the sigmoid function (which works for two classes), it uses the *softmax function*. Softmax calculates the probability of each class, and these probabilities sum up to 1.\n",
        "* **How it Works:**\n",
        "    * It learns a set of coefficients for each class.\n",
        "    * For a given data point, it calculates a score for each class using these coefficients.\n",
        "    * The softmax function converts these scores into probabilities.\n",
        "    * The class with the highest probability is assigned as the prediction.\n",
        "* **Use Case:** When the classes are mutually exclusive (an item can belong to only one class). Examples: classifying different types of fruits, categorizing news articles into topics.\n",
        "\n",
        "**2. One-vs-All (OvA) or One-vs-Rest:**\n",
        "\n",
        "* **The Idea:** This approach trains a separate Logistic Regression classifier for each class. Each classifier predicts whether a data point belongs to that specific class or not (treating all other classes as \"not this class\").\n",
        "* **How it Works:**\n",
        "    * For each class, it creates a binary classification problem (class vs. all others).\n",
        "    * It trains a Logistic Regression model on this binary problem.\n",
        "    * To make a prediction, it runs all the classifiers and chooses the class with the highest probability.\n",
        "* **Use Case:** Can be used when classes are not necessarily mutually exclusive (an item could belong to multiple categories).\n",
        "\n",
        "**3. Ordinal Logistic Regression:**\n",
        "\n",
        "* **The Idea:** This is used when the classes have an inherent order (e.g., low, medium, high). It takes this order into account when making predictions.\n",
        "* **How it Works:**\n",
        "    * It uses a different model formulation that considers the cumulative probabilities of belonging to a class or below.\n",
        "* **Use Case:** Rating scales, customer satisfaction levels, disease severity.\n",
        "\n",
        "**Key Differences:**\n",
        "\n",
        "| Method | Function | Class Relationship |\n",
        "|---|---|---|\n",
        "| Softmax Regression | Softmax | Mutually exclusive |\n",
        "| One-vs-All | Sigmoid (multiple times) | Not necessarily mutually exclusive |\n",
        "| Ordinal Logistic Regression | Specialized for ordered categories | Ordered |\n",
        "\n",
        "**Which to Use:**\n",
        "\n",
        "* **Softmax:** Most common and generally preferred for mutually exclusive classes.\n",
        "* **One-vs-All:** Useful when classes might overlap.\n",
        "* **Ordinal:** Specifically for ordered categories.\n",
        "\n"
      ]
    },
    {
      "cell_type": "markdown",
      "metadata": {
        "id": "xImvFAIvHvx7"
      },
      "source": [
        "16. What are the advantages and disadvantage of Logistic Regression."
      ]
    },
    {
      "cell_type": "markdown",
      "metadata": {
        "id": "kTTXvN-IH-oL"
      },
      "source": [
        "ans. You're right to weigh the pros and cons! Logistic Regression is a valuable tool, but it's important to understand its limitations. Here's a breakdown:\n",
        "\n",
        "**Advantages of Logistic Regression:**\n",
        "\n",
        "* **Interpretability:** One of the biggest strengths. The coefficients of the model can be easily interpreted in terms of their impact on the outcome. This is very valuable in fields like healthcare or finance where understanding *why* a prediction is made is crucial.\n",
        "* **Efficiency:** Logistic Regression is computationally efficient, both in training and prediction. It can handle large datasets relatively quickly.\n",
        "* **Simplicity:** It's a relatively simple model to understand and implement, making it a good starting point for many classification problems.\n",
        "* **Probability Output:** It provides probability estimates for each class, which can be useful for decision-making.\n",
        "* **Handles Different Data Types:** Can handle both categorical and numerical features.\n",
        "* **Widely Available:** Implemented in most machine learning libraries.\n",
        "\n",
        "**Disadvantages of Logistic Regression:**\n",
        "\n",
        "* **Linearity Assumption:** Assumes a linear relationship between the features and the log-odds of the outcome. This assumption might not hold in many real-world scenarios, limiting its ability to capture complex relationships.\n",
        "* **Sensitivity to Outliers:** Can be sensitive to outliers in the data, which can affect the model's coefficients.\n",
        "* **Overfitting:** Prone to overfitting, especially with high-dimensional datasets. Regularization techniques are often needed to mitigate this.\n",
        "* **Limited Complexity:** Can struggle with complex, non-linear problems. More complex models like neural networks might be necessary in such cases.\n",
        "* **Multicollinearity:** Sensitive to multicollinearity (high correlation between features). This can make it difficult to interpret the individual effects of features.\n",
        "* **Class Imbalance:** Can be affected by class imbalance, where one class has significantly more examples than the other.\n",
        "\n",
        "**When to Use Logistic Regression:**\n",
        "\n",
        "* **Binary classification problems:** Where the outcome has only two possible values.\n",
        "* **When interpretability is important:** When you need to understand the relationship between features and the outcome.\n",
        "* **When you have a relatively simple dataset:** Where the relationship between features and the outcome is roughly linear.\n",
        "* **As a baseline model:** To compare the performance of more complex models.\n",
        "\n",
        "**When Not to Use Logistic Regression:**\n",
        "\n",
        "* **Non-linear relationships:** When the relationship between features and the outcome is highly non-linear.\n",
        "* **Complex problems:** When the problem requires capturing intricate patterns in the data.\n",
        "* **High-dimensional datasets with many irrelevant features:** When feature selection is crucial.\n",
        "* **When you need very high accuracy:** In some cases, more complex models might provide better accuracy.\n",
        "\n",
        "**In summary:**\n",
        "\n",
        "Logistic Regression is a valuable tool for many classification tasks, especially when interpretability and efficiency are important. However, it's crucial to be aware of its limitations and consider alternative models when the assumptions of linearity and simplicity don't hold.\n"
      ]
    },
    {
      "cell_type": "markdown",
      "metadata": {
        "id": "1jKP4qYgILTS"
      },
      "source": [
        "17. What are some use cases of Logistic Regression."
      ]
    },
    {
      "cell_type": "markdown",
      "metadata": {
        "id": "09wtC8DMITqb"
      },
      "source": [
        "ans. Logistic Regression is a versatile algorithm with applications across various domains. Here are some common use cases:\n",
        "\n",
        "**Healthcare:**\n",
        "\n",
        "* **Disease Prediction:** Predicting the likelihood of a patient having a certain disease based on their symptoms and medical history.  For example, predicting the risk of diabetes, heart disease, or cancer.\n",
        "* **Patient Readmission:** Predicting the probability of a patient being readmitted to the hospital after discharge.\n",
        "* **Treatment Response:** Predicting whether a patient will respond positively to a particular treatment.\n",
        "* **Risk Assessment:** Assessing the risk of a patient developing a specific condition.\n",
        "\n",
        "**Finance:**\n",
        "\n",
        "* **Credit Scoring:** Determining the creditworthiness of loan applicants based on their financial history and demographics.\n",
        "* **Fraud Detection:** Identifying potentially fraudulent transactions.\n",
        "* **Customer Churn Prediction:** Predicting the likelihood of customers canceling their services.\n",
        "* **Market Analysis:** Analyzing market trends and predicting the success of new products.\n",
        "\n",
        "**Marketing:**\n",
        "\n",
        "* **Customer Segmentation:** Grouping customers based on their demographics, behavior, and preferences.\n",
        "* **Targeted Advertising:** Predicting which customers are most likely to respond to a particular advertisement.\n",
        "* **Lead Scoring:** Ranking leads based on their likelihood of converting into customers.\n",
        "* **Campaign Optimization:** Optimizing marketing campaigns by predicting which channels and messages are most effective.\n",
        "\n",
        "**E-commerce:**\n",
        "\n",
        "* **Product Recommendation:** Recommending products to customers based on their past purchases and browsing history.\n",
        "* **Purchase Prediction:** Predicting whether a customer will make a purchase.\n",
        "* **Customer Lifetime Value Prediction:** Predicting the total value a customer will bring to the business over their relationship.\n",
        "\n",
        "**Other Applications:**\n",
        "\n",
        "* **Spam Detection:** Classifying emails as spam or not spam.\n",
        "* **Natural Language Processing:** Sentiment analysis (determining the sentiment of a text), text classification.\n",
        "* **Image Recognition:**  In simpler image classification tasks (though deep learning is more common now).\n",
        "* **Risk Management:** Assessing the risk of various events occurring in different industries.\n",
        "\n",
        "**Key Considerations:**\n",
        "\n",
        "* **Binary Outcomes:** Logistic Regression is most suitable when the outcome variable is binary (two classes).\n",
        "* **Interpretability:** Its interpretability makes it valuable in situations where understanding the relationship between features and the outcome is important.\n",
        "* **Simplicity:** It's often used as a baseline model to compare the performance of more complex models.\n",
        "\n"
      ]
    },
    {
      "cell_type": "markdown",
      "metadata": {
        "id": "_yJBVqSHIe_R"
      },
      "source": [
        "18. What is the difference between Softmax Regression and Logistic Regression."
      ]
    },
    {
      "cell_type": "markdown",
      "metadata": {
        "id": "hUcPjcnlIq6I"
      },
      "source": [
        "ans. You're right to ask for the distinction! While they're closely related, there's a key difference between Softmax Regression and Logistic Regression:\n",
        "\n",
        "**Logistic Regression:**\n",
        "\n",
        "* **Binary Classification:** It's designed for problems where the outcome has only two possible classes (e.g., yes/no, 0/1).\n",
        "* **Sigmoid Function:** It uses the sigmoid function to map a linear combination of features to a probability between 0 and 1, representing the probability of belonging to one of the two classes.\n",
        "\n",
        "**Softmax Regression:**\n",
        "\n",
        "* **Multiclass Classification:** It's a generalization of Logistic Regression for problems where the outcome can have more than two classes (e.g., classifying images of different types of animals).\n",
        "* **Softmax Function:** It uses the softmax function to map a linear combination of features to a probability distribution over all the classes. The softmax function ensures that these probabilities sum up to 1.\n",
        "\n",
        "**Here's a table summarizing the key differences:**\n",
        "\n",
        "| Feature | Logistic Regression | Softmax Regression |\n",
        "|---|---|---|\n",
        "| **Number of Classes** | Two | More than two |\n",
        "| **Function** | Sigmoid | Softmax |\n",
        "| **Output** | Probability of one class (the other is implied) | Probabilities for each class |\n",
        "\n",
        "\n",
        "\n"
      ]
    },
    {
      "cell_type": "markdown",
      "metadata": {
        "id": "6xFeQ7_zWMXP"
      },
      "source": [
        "19. How do we choose between One-vs-Rest (OvR) and Softmax for multiclass classification."
      ]
    },
    {
      "cell_type": "markdown",
      "metadata": {
        "id": "U8h01EgkWekm"
      },
      "source": [
        "ans. That's a great question, and the choice between One-vs-Rest (OvR) and Softmax for multiclass classification depends on the specifics of your problem. Here's a breakdown to help you decide:\n",
        "\n",
        "**One-vs-Rest (OvR):**\n",
        "\n",
        "* **How it works:** Trains a separate binary classifier for each class against all the other classes.\n",
        "* **Pros:**\n",
        "    * Simple to implement and understand.\n",
        "    * Can be used with any binary classifier, not just Logistic Regression.\n",
        "    * Works well when the number of classes is not too large.\n",
        "* **Cons:**\n",
        "    * Can suffer from \"class imbalance\" problems, as each classifier is trained on a dataset where one class is much smaller than the rest.\n",
        "    * Can lead to inconsistent probabilities, as the probabilities from different classifiers don't necessarily sum up to 1.\n",
        "\n",
        "**Softmax Regression:**\n",
        "\n",
        "* **How it works:** Directly extends Logistic Regression to handle multiple classes using the softmax function.\n",
        "* **Pros:**\n",
        "    * More elegant and unified approach.\n",
        "    * Produces well-calibrated probabilities that sum up to 1.\n",
        "    * Often more efficient than OvR, as it trains only one model.\n",
        "* **Cons:**\n",
        "    * Can only be used with models that support multiclass classification directly (like Logistic Regression).\n",
        "    * Might be less suitable when the classes are not mutually exclusive (an instance can belong to multiple classes).\n",
        "\n",
        "**Here's a table summarizing the key differences:**\n",
        "\n",
        "| Feature | One-vs-Rest (OvR) | Softmax Regression |\n",
        "|---|---|---|\n",
        "| **Number of Models** | One per class | Single model |\n",
        "| **Probability Output** | Not necessarily calibrated, don't sum to 1 | Calibrated, sum to 1 |\n",
        "| **Class Imbalance** | Can be more susceptible | Less susceptible |\n",
        "| **Model Compatibility** | Works with any binary classifier | Requires native multiclass support |\n",
        "| **Efficiency** | Can be less efficient | Generally more efficient |\n",
        "\n",
        "**When to choose OvR:**\n",
        "\n",
        "* When you have a large number of classes.\n",
        "* When you want to use a binary classifier that doesn't have native multiclass support (e.g., Support Vector Machines).\n",
        "* When you don't need well-calibrated probabilities.\n",
        "\n",
        "**When to choose Softmax:**\n",
        "\n",
        "* When you have a moderate number of classes.\n",
        "* When you want well-calibrated probabilities.\n",
        "* When you're using a model that supports multiclass classification directly (e.g., Logistic Regression, Neural Networks).\n",
        "* When efficiency is a concern.\n",
        "\n",
        "\n"
      ]
    },
    {
      "cell_type": "markdown",
      "metadata": {
        "id": "weayCYzsWtCV"
      },
      "source": [
        "20. How do we interpret coefficients in Logistic Regression ?"
      ]
    },
    {
      "cell_type": "markdown",
      "metadata": {
        "id": "AUBi8BMlW-Y_"
      },
      "source": [
        "ans. Interpreting coefficients in Logistic Regression requires a bit of nuance, as they don't have the same straightforward interpretation as in linear regression. Here's a breakdown:\n",
        "\n",
        "**Understanding the Basics**\n",
        "\n",
        "* **Log-Odds:** Logistic Regression models the relationship between the independent variables and the *log-odds* of the outcome. The log-odds (or logit) is the natural logarithm of the odds ratio, where the odds ratio is the probability of the event occurring divided by the probability of it not occurring.\n",
        "* **Coefficients and Log-Odds:** The coefficients in Logistic Regression represent the change in the log-odds of the outcome for a one-unit change in the predictor variable, *holding all other variables constant*.\n",
        "\n",
        "**Interpreting the Coefficients**\n",
        "\n",
        "1. **Direction:**\n",
        "   * **Positive Coefficient:** A positive coefficient indicates that an increase in the predictor variable is associated with an increase in the log-odds of the outcome, making the event more likely.\n",
        "   * **Negative Coefficient:** A negative coefficient indicates that an increase in the predictor variable is associated with a decrease in the log-odds of the outcome, making the event less likely.\n",
        "\n",
        "2. **Magnitude:**\n",
        "   * The magnitude of the coefficient reflects the strength of the relationship between the predictor and the outcome. Larger coefficients (in absolute value) indicate a stronger effect. However, the interpretation of the magnitude is not linear, as it's in terms of log-odds.\n",
        "\n",
        "3. **Odds Ratio:**\n",
        "   * To make the interpretation more intuitive, we often convert the coefficients to *odds ratios* by exponentiating them (e.g., `exp(coefficient)`).\n",
        "   * The odds ratio represents the factor by which the odds of the outcome change for a one-unit change in the predictor.\n",
        "   * For example, an odds ratio of 2 means that a one-unit increase in the predictor doubles the odds of the outcome occurring. An odds ratio of 0.5 means that a one-unit increase in the predictor halves the odds of the outcome occurring.\n",
        "\n",
        "**Example**\n",
        "\n",
        "Let's say we're predicting the probability of a customer clicking on an ad based on their age. The Logistic Regression model gives us a coefficient of 0.1 for the age variable.\n",
        "\n",
        "* **Log-Odds Interpretation:** For every one-year increase in age, the log-odds of clicking on the ad increase by 0.1.\n",
        "* **Odds Ratio Interpretation:** `exp(0.1) ≈ 1.105`. For every one-year increase in age, the odds of clicking on the ad increase by approximately 1.105 times (or by 10.5%).\n",
        "\n",
        "**Important Considerations**\n",
        "\n",
        "* **Units:** The interpretation depends on the units of the predictor variable.\n",
        "* **Scaling:** If the predictor variables are scaled (e.g., standardized), the interpretation will be in terms of standard deviations.\n",
        "* **Ceteris Paribus:** The interpretation assumes that all other variables in the model are held constant.\n",
        "* **Statistical Significance:** It's essential to consider the statistical significance of the coefficients (p-values) to determine if the observed relationships are likely to be real or due to chance.\n",
        "\n",
        "**In summary:**\n",
        "\n",
        "Interpreting coefficients in Logistic Regression involves understanding their relationship with log-odds and converting them to odds ratios for more intuitive interpretation. The direction and magnitude of the coefficients, along with their statistical significance, provide insights into the relationship between the predictor variables and the probability of the outcome.\n",
        "\n"
      ]
    },
    {
      "cell_type": "markdown",
      "metadata": {
        "id": "aO7DWUpIXUKE"
      },
      "source": [
        "PRACTICAL QUESTIONS\n"
      ]
    },
    {
      "cell_type": "markdown",
      "metadata": {
        "id": "gv-LEfFkXX-F"
      },
      "source": [
        "1. Write a Python program that loads a dataset, splits it into training and testing sets, applies Logistic\n",
        "Regression, and prints the model accuracy ?"
      ]
    },
    {
      "cell_type": "code",
      "execution_count": null,
      "metadata": {
        "colab": {
          "base_uri": "https://localhost:8080/"
        },
        "id": "cxKONR44Ymbb",
        "outputId": "4d835e22-c13d-401b-93bc-0a75edf7fb19"
      },
      "outputs": [
        {
          "name": "stdout",
          "output_type": "stream",
          "text": [
            "Model Accuracy: 1.00\n"
          ]
        }
      ],
      "source": [
        "from sklearn.model_selection import train_test_split\n",
        "from sklearn.linear_model import LogisticRegression\n",
        "from sklearn.metrics import accuracy_score\n",
        "from sklearn.datasets import load_iris\n",
        "\n",
        "# Load dataset\n",
        "iris = load_iris()\n",
        "X = iris.data\n",
        "y = iris.target\n",
        "\n",
        "# Split into training and testing sets\n",
        "X_train, X_test, y_train, y_test = train_test_split(X, y, test_size=0.2, random_state=42)\n",
        "\n",
        "# Initialize and train Logistic Regression model\n",
        "model = LogisticRegression(max_iter=200)\n",
        "model.fit(X_train, y_train)\n",
        "\n",
        "# Predict on test set\n",
        "y_pred = model.predict(X_test)\n",
        "\n",
        "# Calculate and print accuracy\n",
        "accuracy = accuracy_score(y_test, y_pred)\n",
        "print(f\"Model Accuracy: {accuracy:.2f}\")\n"
      ]
    },
    {
      "cell_type": "markdown",
      "metadata": {
        "id": "UZJr2tTLYtbP"
      },
      "source": [
        "2. Write a Python program to apply L1 regularization (Lasso) on a dataset using LogisticRegression(penalty='l1')\n",
        "and print the model accuracy ?"
      ]
    },
    {
      "cell_type": "code",
      "execution_count": null,
      "metadata": {
        "colab": {
          "base_uri": "https://localhost:8080/"
        },
        "id": "gIsO65EmY9DE",
        "outputId": "bf3665ac-0ba1-42f8-b027-c9ca5c860f1e"
      },
      "outputs": [
        {
          "name": "stdout",
          "output_type": "stream",
          "text": [
            "Model Accuracy: 1.00\n"
          ]
        }
      ],
      "source": [
        "from sklearn.model_selection import train_test_split\n",
        "from sklearn.linear_model import LogisticRegression\n",
        "from sklearn.metrics import accuracy_score\n",
        "from sklearn.datasets import load_iris\n",
        "\n",
        "# Load dataset\n",
        "iris = load_iris()\n",
        "X = iris.data\n",
        "y = iris.target\n",
        "\n",
        "# Split into training and testing sets\n",
        "X_train, X_test, y_train, y_test = train_test_split(X, y, test_size=0.2, random_state=42)\n",
        "\n",
        "# Initialize and train Logistic Regression model\n",
        "model = LogisticRegression(max_iter=200)\n",
        "model.fit(X_train, y_train)\n",
        "\n",
        "# Predict on test set\n",
        "y_pred = model.predict(X_test)\n",
        "\n",
        "# Calculate and print accuracy\n",
        "accuracy = accuracy_score(y_test, y_pred)\n",
        "print(f\"Model Accuracy: {accuracy:.2f}\")"
      ]
    },
    {
      "cell_type": "markdown",
      "metadata": {
        "id": "jI7tC2xDZgqm"
      },
      "source": [
        "3. Write a Python program to train Logistic Regression with L2 regularization (Ridge) using\n",
        "LogisticRegression(penalty='l2'). Print model accuracy and coefficients."
      ]
    },
    {
      "cell_type": "code",
      "execution_count": null,
      "metadata": {
        "colab": {
          "base_uri": "https://localhost:8080/"
        },
        "id": "JSZAxQnMZ43t",
        "outputId": "c321aad2-fbfe-4af3-e55a-d831e8e999cb"
      },
      "outputs": [
        {
          "name": "stdout",
          "output_type": "stream",
          "text": [
            "Model Accuracy with L2 Regularization: 1.00\n",
            "Model Coefficients:\n",
            "[[-0.39340204  0.96258576 -2.37510761 -0.99874603]\n",
            " [ 0.50840364 -0.25486503 -0.21301366 -0.77575487]\n",
            " [-0.1150016  -0.70772072  2.58812127  1.77450091]]\n"
          ]
        }
      ],
      "source": [
        "from sklearn.model_selection import train_test_split\n",
        "from sklearn.linear_model import LogisticRegression\n",
        "from sklearn.metrics import accuracy_score\n",
        "from sklearn.datasets import load_iris\n",
        "import warnings\n",
        "\n",
        "# Ignore warnings related to solver compatibility\n",
        "warnings.filterwarnings(\"ignore\", category=UserWarning)\n",
        "\n",
        "# Load dataset\n",
        "iris = load_iris()\n",
        "X = iris.data\n",
        "y = iris.target\n",
        "\n",
        "# Split into training and testing sets\n",
        "X_train, X_test, y_train, y_test = train_test_split(X, y, test_size=0.2, random_state=42)\n",
        "\n",
        "# Initialize and train Logistic Regression model with L2 regularization\n",
        "model = LogisticRegression(penalty='l2', solver='lbfgs', max_iter=200)\n",
        "model.fit(X_train, y_train)\n",
        "\n",
        "# Predict on test set\n",
        "y_pred = model.predict(X_test)\n",
        "\n",
        "# Calculate and print accuracy\n",
        "accuracy = accuracy_score(y_test, y_pred)\n",
        "print(f\"Model Accuracy with L2 Regularization: {accuracy:.2f}\")\n",
        "\n",
        "# Print model coefficients\n",
        "print(\"Model Coefficients:\")\n",
        "print(model.coef_)"
      ]
    },
    {
      "cell_type": "markdown",
      "metadata": {
        "id": "9TvyxdN5aOgg"
      },
      "source": [
        "4. Write a Python program to train Logistic Regression with elastic Net Regularization (penalty='elasticnet')?"
      ]
    },
    {
      "cell_type": "code",
      "execution_count": null,
      "metadata": {
        "colab": {
          "base_uri": "https://localhost:8080/"
        },
        "id": "3iZWo7v8acYo",
        "outputId": "7ef2796a-ea8a-4c86-a33d-415c6ca32e71"
      },
      "outputs": [
        {
          "name": "stdout",
          "output_type": "stream",
          "text": [
            "Accuracy: 0.8550\n",
            "Classification Report:\n",
            "              precision    recall  f1-score   support\n",
            "\n",
            "           0       0.80      0.91      0.85        93\n",
            "           1       0.91      0.80      0.86       107\n",
            "\n",
            "    accuracy                           0.85       200\n",
            "   macro avg       0.86      0.86      0.85       200\n",
            "weighted avg       0.86      0.85      0.86       200\n",
            "\n"
          ]
        }
      ],
      "source": [
        "import numpy as np\n",
        "import pandas as pd\n",
        "from sklearn.model_selection import train_test_split\n",
        "from sklearn.preprocessing import StandardScaler\n",
        "from sklearn.linear_model import LogisticRegression\n",
        "from sklearn.metrics import accuracy_score, classification_report\n",
        "\n",
        "# Generate synthetic dataset\n",
        "from sklearn.datasets import make_classification\n",
        "X, y = make_classification(n_samples=1000, n_features=20, random_state=42)\n",
        "\n",
        "# Split dataset into training and test sets\n",
        "X_train, X_test, y_train, y_test = train_test_split(X, y, test_size=0.2, random_state=42)\n",
        "\n",
        "# Standardize features\n",
        "scaler = StandardScaler()\n",
        "X_train = scaler.fit_transform(X_train)\n",
        "X_test = scaler.transform(X_test)\n",
        "\n",
        "# Train logistic regression model with elastic net regularization\n",
        "log_reg = LogisticRegression(penalty='elasticnet', solver='saga', l1_ratio=0.5, C=1.0, max_iter=1000)\n",
        "log_reg.fit(X_train, y_train)\n",
        "\n",
        "# Make predictions\n",
        "y_pred = log_reg.predict(X_test)\n",
        "\n",
        "# Evaluate the model\n",
        "accuracy = accuracy_score(y_test, y_pred)\n",
        "print(f'Accuracy: {accuracy:.4f}')\n",
        "print('Classification Report:')\n",
        "print(classification_report(y_test, y_pred))\n"
      ]
    },
    {
      "cell_type": "markdown",
      "metadata": {
        "id": "5dxliTfca5HZ"
      },
      "source": [
        "5. Write a Python program to train a Logistic Regression model for multiclass classification using\n",
        "multi_class='ovr'"
      ]
    },
    {
      "cell_type": "code",
      "execution_count": null,
      "metadata": {
        "colab": {
          "base_uri": "https://localhost:8080/"
        },
        "id": "IUzdc0gHbO3_",
        "outputId": "ddbd0864-0e80-482c-e568-31e38fdc6b99"
      },
      "outputs": [
        {
          "name": "stdout",
          "output_type": "stream",
          "text": [
            "Accuracy: 0.8550\n",
            "Classification Report:\n",
            "              precision    recall  f1-score   support\n",
            "\n",
            "           0       0.80      0.91      0.85        93\n",
            "           1       0.91      0.80      0.86       107\n",
            "\n",
            "    accuracy                           0.85       200\n",
            "   macro avg       0.86      0.86      0.85       200\n",
            "weighted avg       0.86      0.85      0.86       200\n",
            "\n"
          ]
        }
      ],
      "source": [
        "import numpy as np\n",
        "import pandas as pd\n",
        "from sklearn.model_selection import train_test_split\n",
        "from sklearn.preprocessing import StandardScaler\n",
        "from sklearn.linear_model import LogisticRegression\n",
        "from sklearn.metrics import accuracy_score, classification_report\n",
        "\n",
        "# Generate synthetic dataset\n",
        "from sklearn.datasets import make_classification\n",
        "X, y = make_classification(n_samples=1000, n_features=20, random_state=42)\n",
        "\n",
        "# Split dataset into training and test sets\n",
        "X_train, X_test, y_train, y_test = train_test_split(X, y, test_size=0.2, random_state=42)\n",
        "\n",
        "# Standardize features\n",
        "scaler = StandardScaler()\n",
        "X_train = scaler.fit_transform(X_train)\n",
        "X_test = scaler.transform(X_test)\n",
        "\n",
        "# Train logistic regression model with elastic net regularization\n",
        "log_reg = LogisticRegression(penalty='elasticnet', solver='saga', l1_ratio=0.5, C=1.0, max_iter=1000)\n",
        "log_reg.fit(X_train, y_train)\n",
        "\n",
        "# Make predictions\n",
        "y_pred = log_reg.predict(X_test)\n",
        "\n",
        "# Evaluate the model\n",
        "accuracy = accuracy_score(y_test, y_pred)\n",
        "print(f'Accuracy: {accuracy:.4f}')\n",
        "print('Classification Report:')\n",
        "print(classification_report(y_test, y_pred))\n"
      ]
    },
    {
      "cell_type": "markdown",
      "metadata": {
        "id": "jzZe6pCabSuY"
      },
      "source": [
        "6. Write a Python program to apply GridSearchCV to tune the hyperparameters (C and penalty) of Logistic\n",
        "Regression. Print the best parameters and accuracy ?"
      ]
    },
    {
      "cell_type": "code",
      "source": [
        "from sklearn.model_selection import GridSearchCV, train_test_split\n",
        "from sklearn.linear_model import LogisticRegression\n",
        "from sklearn.datasets import load_iris\n",
        "from sklearn.preprocessing import StandardScaler\n",
        "from sklearn.pipeline import Pipeline\n",
        "\n",
        "# Load dataset\n",
        "data = load_iris()\n",
        "X, y = data.data, data.target\n",
        "\n",
        "# Split dataset into training and testing sets\n",
        "X_train, X_test, y_train, y_test = train_test_split(X, y, test_size=0.2, random_state=42)\n",
        "\n",
        "# Define a pipeline with scaling and logistic regression\n",
        "pipeline = Pipeline([\n",
        "    ('scaler', StandardScaler()),\n",
        "    ('logreg', LogisticRegression(solver='liblinear'))  # 'liblinear' supports l1 and l2 penalty\n",
        "])\n",
        "\n",
        "# Define parameter grid\n",
        "param_grid = {\n",
        "    'logreg__C': [0.01, 0.1, 1, 10, 100],\n",
        "    'logreg__penalty': ['l1', 'l2']\n",
        "}\n",
        "\n",
        "# Apply GridSearchCV\n",
        "grid_search = GridSearchCV(pipeline, param_grid, cv=5, scoring='accuracy', n_jobs=-1)\n",
        "grid_search.fit(X_train, y_train)\n",
        "\n",
        "# Print best parameters and accuracy\n",
        "print(\"Best Parameters:\", grid_search.best_params_)\n",
        "print(\"Best Accuracy:\", grid_search.best_score_)\n"
      ],
      "metadata": {
        "colab": {
          "base_uri": "https://localhost:8080/"
        },
        "id": "UMPrpXB1_0wd",
        "outputId": "116d0432-752d-4d74-eb60-3219c9d8f60c"
      },
      "execution_count": null,
      "outputs": [
        {
          "output_type": "stream",
          "name": "stdout",
          "text": [
            "Best Parameters: {'logreg__C': 10, 'logreg__penalty': 'l1'}\n",
            "Best Accuracy: 0.9583333333333334\n"
          ]
        }
      ]
    },
    {
      "cell_type": "markdown",
      "source": [
        "7. Write a Python program to evaluate Logistic Regression using Stratified K-fold cross-Validation. Print the\n",
        "average accuracy."
      ],
      "metadata": {
        "id": "Cxk5mleO_-zZ"
      }
    },
    {
      "cell_type": "code",
      "source": [
        "from sklearn.model_selection import StratifiedKFold, cross_val_score\n",
        "from sklearn.linear_model import LogisticRegression\n",
        "from sklearn.datasets import load_iris\n",
        "from sklearn.preprocessing import StandardScaler\n",
        "from sklearn.pipeline import Pipeline\n",
        "import numpy as np\n",
        "\n",
        "# Load dataset\n",
        "data = load_iris()\n",
        "X, y = data.data, data.target\n",
        "\n",
        "# Define a pipeline with scaling and logistic regression\n",
        "pipeline = Pipeline([\n",
        "    ('scaler', StandardScaler()),\n",
        "    ('logreg', LogisticRegression(solver='liblinear'))\n",
        "])\n",
        "\n",
        "# Define Stratified K-Fold cross-validation\n",
        "skf = StratifiedKFold(n_splits=5, shuffle=True, random_state=42)\n",
        "\n",
        "# Evaluate model using cross-validation\n",
        "scores = cross_val_score(pipeline, X, y, cv=skf, scoring='accuracy')\n",
        "\n",
        "# Print average accuracy\n",
        "print(\"Average Accuracy:\", np.mean(scores))\n"
      ],
      "metadata": {
        "colab": {
          "base_uri": "https://localhost:8080/"
        },
        "id": "kSg74NtrAc9_",
        "outputId": "0ccfc7ef-bbeb-457d-c349-2c7508025d5c"
      },
      "execution_count": null,
      "outputs": [
        {
          "output_type": "stream",
          "name": "stdout",
          "text": [
            "Average Accuracy: 0.9\n"
          ]
        }
      ]
    },
    {
      "cell_type": "code",
      "source": [
        "import pandas as pd\n",
        "\n",
        "# Define the data as a list of lists\n",
        "data = [\n",
        "    [5.1, 3.5, 1.4, 0.2, 0],\n",
        "    [4.9, 3.0, 1.4, 0.2, 0],\n",
        "    [6.2, 3.4, 5.4, 2.3, 1],\n",
        "    [5.9, 3.0, 5.1, 1.8, 1],\n",
        "    [5.0, 3.6, 1.4, 0.2, 0],\n",
        "    [6.7, 3.1, 4.7, 1.5, 1],\n",
        "    [6.3, 2.9, 5.6, 1.8, 1],\n",
        "    [5.8, 2.7, 4.1, 1.0, 1],\n",
        "    [7.1, 3.0, 5.9, 2.1, 1],\n",
        "    [6.3, 2.5, 5.0, 1.9, 1]\n",
        "]\n",
        "\n",
        "# Create a pandas DataFrame\n",
        "df = pd.DataFrame(data, columns=['feature1', 'feature2', 'feature3', 'feature4', 'target'])\n",
        "\n",
        "# Save the DataFrame to a CSV file\n",
        "df.to_csv('my_data.csv', index=False)  # index=False prevents writing row indices to the CSV\n",
        "\n",
        "print(\"CSV file 'my_data.csv' created successfully.\")"
      ],
      "metadata": {
        "colab": {
          "base_uri": "https://localhost:8080/"
        },
        "id": "xoNmhMOCGlNf",
        "outputId": "37ccb9e5-7807-481a-854d-abc02ce0be02"
      },
      "execution_count": 2,
      "outputs": [
        {
          "output_type": "stream",
          "name": "stdout",
          "text": [
            "CSV file 'my_data.csv' created successfully.\n"
          ]
        }
      ]
    },
    {
      "cell_type": "markdown",
      "source": [
        "8. Write a Python program to load a dataset from a CSV file, apply Logistic Regression, and evaluate its\n",
        "accuracy"
      ],
      "metadata": {
        "id": "TLkC3fsJAz3T"
      }
    },
    {
      "cell_type": "code",
      "source": [
        "import pandas as pd\n",
        "from sklearn.model_selection import train_test_split\n",
        "from sklearn.linear_model import LogisticRegression\n",
        "from sklearn.preprocessing import StandardScaler\n",
        "from sklearn.pipeline import Pipeline\n",
        "from sklearn.metrics import accuracy_score\n",
        "\n",
        "# Load dataset from CSV file\n",
        "df = pd.read_csv('my_data.csv')\n",
        "\n",
        "# Assume the last column is the target variable\n",
        "y = df.iloc[:, -1]\n",
        "X = df.iloc[:, :-1]\n",
        "\n",
        "# Split dataset into training and testing sets\n",
        "X_train, X_test, y_train, y_test = train_test_split(X, y, test_size=0.2, random_state=42)\n",
        "\n",
        "# Define a pipeline with scaling and logistic regression\n",
        "pipeline = Pipeline([\n",
        "    ('scaler', StandardScaler()),\n",
        "    ('logreg', LogisticRegression(solver='liblinear'))\n",
        "])\n",
        "\n",
        "# Train the model\n",
        "pipeline.fit(X_train, y_train)\n",
        "\n",
        "# Make predictions\n",
        "y_pred = pipeline.predict(X_test)\n",
        "\n",
        "# Evaluate accuracy\n",
        "accuracy = accuracy_score(y_test, y_pred)\n",
        "print(\"Accuracy:\", accuracy)\n"
      ],
      "metadata": {
        "colab": {
          "base_uri": "https://localhost:8080/"
        },
        "id": "Rgtb42fiA_Qv",
        "outputId": "e960e343-82a8-4782-ec7e-5e3a2fba1466"
      },
      "execution_count": null,
      "outputs": [
        {
          "output_type": "stream",
          "name": "stdout",
          "text": [
            "Accuracy: 1.0\n"
          ]
        }
      ]
    },
    {
      "cell_type": "markdown",
      "source": [
        "9. write a Python program to apply RandomizedSearchCV for tuning hyperparameters (C, penalty, solver) in\n",
        "Logistic Regression. Print the best parameters and accuracy."
      ],
      "metadata": {
        "id": "tfhXn-CnG2lP"
      }
    },
    {
      "cell_type": "code",
      "source": [
        "import pandas as pd\n",
        "from sklearn.model_selection import train_test_split, RandomizedSearchCV\n",
        "from sklearn.linear_model import LogisticRegression\n",
        "from sklearn.preprocessing import StandardScaler\n",
        "from sklearn.pipeline import Pipeline\n",
        "from sklearn.metrics import accuracy_score\n",
        "import numpy as np\n",
        "\n",
        "# Load dataset from CSV file\n",
        "df = pd.read_csv('my_data.csv')\n",
        "\n",
        "# Assume the last column is the target variable\n",
        "y = df.iloc[:, -1]\n",
        "X = df.iloc[:, :-1]\n",
        "\n",
        "# Split dataset into training and testing sets\n",
        "X_train, X_test, y_train, y_test = train_test_split(X, y, test_size=0.2, random_state=42)\n",
        "\n",
        "# Define a pipeline with scaling and logistic regression\n",
        "pipeline = Pipeline([\n",
        "    ('scaler', StandardScaler()),\n",
        "    ('logreg', LogisticRegression())\n",
        "])\n",
        "\n",
        "# Define parameter grid for RandomizedSearchCV\n",
        "param_dist = {\n",
        "    'logreg__C': np.logspace(-4, 4, 10),\n",
        "    'logreg__penalty': ['l1', 'l2'],\n",
        "    'logreg__solver': ['liblinear', 'saga']\n",
        "}\n",
        "\n",
        "# Apply RandomizedSearchCV\n",
        "random_search = RandomizedSearchCV(pipeline, param_distributions=param_dist, n_iter=10, cv=5, scoring='accuracy', random_state=42, n_jobs=-1)\n",
        "random_search.fit(X_train, y_train)\n",
        "\n",
        "# Print best parameters and accuracy\n",
        "print(\"Best Parameters:\", random_search.best_params_)\n",
        "print(\"Best Accuracy:\", random_search.best_score_)\n"
      ],
      "metadata": {
        "colab": {
          "base_uri": "https://localhost:8080/"
        },
        "id": "nsNF-3ZJHjWW",
        "outputId": "bad94ffe-f99f-4861-9a24-30eb67a620c0"
      },
      "execution_count": null,
      "outputs": [
        {
          "output_type": "stream",
          "name": "stderr",
          "text": [
            "/usr/local/lib/python3.11/dist-packages/sklearn/model_selection/_split.py:805: UserWarning: The least populated class in y has only 2 members, which is less than n_splits=5.\n",
            "  warnings.warn(\n"
          ]
        },
        {
          "output_type": "stream",
          "name": "stdout",
          "text": [
            "Best Parameters: {'logreg__solver': 'saga', 'logreg__penalty': 'l2', 'logreg__C': 0.3593813663804626}\n",
            "Best Accuracy: 1.0\n"
          ]
        }
      ]
    },
    {
      "cell_type": "markdown",
      "source": [
        "10. Write a Python program to implement One-vs-One (OvO) Multiclass logistic Regression and print accuracy."
      ],
      "metadata": {
        "id": "qWf7OY14ICwT"
      }
    },
    {
      "cell_type": "code",
      "source": [
        "from sklearn.model_selection import train_test_split\n",
        "from sklearn.linear_model import LogisticRegression\n",
        "from sklearn.datasets import load_digits\n",
        "from sklearn.preprocessing import StandardScaler\n",
        "from sklearn.pipeline import Pipeline\n",
        "from sklearn.metrics import accuracy_score\n",
        "from sklearn.multiclass import OneVsOneClassifier\n",
        "\n",
        "# Load dataset\n",
        "data = load_digits()\n",
        "X, y = data.data, data.target\n",
        "\n",
        "# Split dataset into training and testing sets\n",
        "X_train, X_test, y_train, y_test = train_test_split(X, y, test_size=0.2, random_state=42)\n",
        "\n",
        "# Define a pipeline with scaling and One-vs-One Logistic Regression\n",
        "pipeline = Pipeline([\n",
        "    ('scaler', StandardScaler()),\n",
        "    ('ovo_logreg', OneVsOneClassifier(LogisticRegression(solver='liblinear')))\n",
        "])\n",
        "\n",
        "# Train the model\n",
        "pipeline.fit(X_train, y_train)\n",
        "\n",
        "# Make predictions\n",
        "y_pred = pipeline.predict(X_test)\n",
        "\n",
        "# Evaluate accuracy\n",
        "accuracy = accuracy_score(y_test, y_pred)\n",
        "print(\"Accuracy:\", accuracy)\n"
      ],
      "metadata": {
        "colab": {
          "base_uri": "https://localhost:8080/"
        },
        "id": "xMouT1wFIYUR",
        "outputId": "7916f1dd-5a77-4806-c5a7-1d6886d16284"
      },
      "execution_count": null,
      "outputs": [
        {
          "output_type": "stream",
          "name": "stdout",
          "text": [
            "Accuracy: 0.9833333333333333\n"
          ]
        }
      ]
    },
    {
      "cell_type": "markdown",
      "source": [
        "11.Write a Python program to train a Logistic Regression model and visualize the confusion matrix for binary\n",
        "classification"
      ],
      "metadata": {
        "id": "l_VfdtpWJT-_"
      }
    },
    {
      "cell_type": "code",
      "source": [
        "import numpy as np\n",
        "import matplotlib.pyplot as plt\n",
        "import seaborn as sns\n",
        "from sklearn.model_selection import train_test_split\n",
        "from sklearn.linear_model import LogisticRegression\n",
        "from sklearn.preprocessing import StandardScaler\n",
        "from sklearn.pipeline import Pipeline\n",
        "from sklearn.metrics import accuracy_score, confusion_matrix\n",
        "from sklearn.datasets import load_breast_cancer\n",
        "\n",
        "# Load dataset from sklearn\n",
        "data = load_breast_cancer()\n",
        "X, y = data.data, data.target\n",
        "\n",
        "# Split dataset into training and testing sets\n",
        "X_train, X_test, y_train, y_test = train_test_split(X, y, test_size=0.2, random_state=42)\n",
        "\n",
        "# Define a pipeline with scaling and logistic regression\n",
        "pipeline = Pipeline([\n",
        "    ('scaler', StandardScaler()),\n",
        "    ('logreg', LogisticRegression(solver='liblinear'))\n",
        "])\n",
        "\n",
        "# Train the model\n",
        "pipeline.fit(X_train, y_train)\n",
        "\n",
        "# Make predictions\n",
        "y_pred = pipeline.predict(X_test)\n",
        "\n",
        "# Evaluate accuracy\n",
        "accuracy = accuracy_score(y_test, y_pred)\n",
        "print(\"Accuracy:\", accuracy)\n",
        "\n",
        "# Compute confusion matrix\n",
        "conf_matrix = confusion_matrix(y_test, y_pred)\n",
        "\n",
        "# Visualize confusion matrix\n",
        "plt.figure(figsize=(6, 4))\n",
        "sns.heatmap(conf_matrix, annot=True, fmt='d', cmap='Blues', xticklabels=['Class 0', 'Class 1'], yticklabels=['Class 0', 'Class 1'])\n",
        "plt.xlabel('Predicted')\n",
        "plt.ylabel('Actual')\n",
        "plt.title('Confusion Matrix')\n",
        "plt.show()\n"
      ],
      "metadata": {
        "colab": {
          "base_uri": "https://localhost:8080/",
          "height": 427
        },
        "id": "RFv5ekdFjAZR",
        "outputId": "9958637a-b24f-48b1-eb1b-17eb5996e12b"
      },
      "execution_count": 4,
      "outputs": [
        {
          "output_type": "stream",
          "name": "stdout",
          "text": [
            "Accuracy: 0.9736842105263158\n"
          ]
        },
        {
          "output_type": "display_data",
          "data": {
            "text/plain": [
              "<Figure size 600x400 with 2 Axes>"
            ],
            "image/png": "[encoded data removed]"
          },
          "metadata": {}
        }
      ]
    },
    {
      "cell_type": "markdown",
      "source": [
        "12. Write a Python program to train a Logistic Regression model and evaluate its performance using Precision,\n",
        "Recall, and F1-Score."
      ],
      "metadata": {
        "id": "isaA_MzbjDdI"
      }
    },
    {
      "cell_type": "code",
      "source": [
        "import numpy as np\n",
        "import matplotlib.pyplot as plt\n",
        "import seaborn as sns\n",
        "from sklearn.model_selection import train_test_split\n",
        "from sklearn.linear_model import LogisticRegression\n",
        "from sklearn.preprocessing import StandardScaler\n",
        "from sklearn.pipeline import Pipeline\n",
        "from sklearn.metrics import accuracy_score, confusion_matrix, precision_score, recall_score, f1_score\n",
        "from sklearn.datasets import load_breast_cancer\n",
        "\n",
        "# Load dataset from sklearn\n",
        "data = load_breast_cancer()\n",
        "X, y = data.data, data.target\n",
        "\n",
        "# Split dataset into training and testing sets\n",
        "X_train, X_test, y_train, y_test = train_test_split(X, y, test_size=0.2, random_state=42)\n",
        "\n",
        "# Define a pipeline with scaling and logistic regression\n",
        "pipeline = Pipeline([\n",
        "    ('scaler', StandardScaler()),\n",
        "    ('logreg', LogisticRegression(solver='liblinear'))\n",
        "])\n",
        "\n",
        "# Train the model\n",
        "pipeline.fit(X_train, y_train)\n",
        "\n",
        "# Make predictions\n",
        "y_pred = pipeline.predict(X_test)\n",
        "\n",
        "# Evaluate accuracy\n",
        "accuracy = accuracy_score(y_test, y_pred)\n",
        "precision = precision_score(y_test, y_pred)\n",
        "recall = recall_score(y_test, y_pred)\n",
        "f1 = f1_score(y_test, y_pred)\n",
        "\n",
        "print(\"Accuracy:\", accuracy)\n",
        "print(\"Precision:\", precision)\n",
        "print(\"Recall:\", recall)\n",
        "print(\"F1-Score:\", f1)\n",
        "\n",
        "# Compute confusion matrix\n",
        "conf_matrix = confusion_matrix(y_test, y_pred)\n"
      ],
      "metadata": {
        "colab": {
          "base_uri": "https://localhost:8080/"
        },
        "id": "JoTK31Y3jf57",
        "outputId": "adf0072b-32d6-4b2d-bcd8-1ea7aad09926"
      },
      "execution_count": 6,
      "outputs": [
        {
          "output_type": "stream",
          "name": "stdout",
          "text": [
            "Accuracy: 0.9736842105263158\n",
            "Precision: 0.9722222222222222\n",
            "Recall: 0.9859154929577465\n",
            "F1-Score: 0.9790209790209791\n"
          ]
        }
      ]
    },
    {
      "cell_type": "markdown",
      "source": [
        "13. write a Python program to train a logistic Regression model on imbalalced data and apply class weights to\n",
        "improve model performance."
      ],
      "metadata": {
        "id": "6mnYX1ldj2GG"
      }
    },
    {
      "cell_type": "code",
      "source": [
        "import numpy as np\n",
        "import matplotlib.pyplot as plt\n",
        "import seaborn as sns\n",
        "from sklearn.model_selection import train_test_split\n",
        "from sklearn.linear_model import LogisticRegression\n",
        "from sklearn.preprocessing import StandardScaler\n",
        "from sklearn.pipeline import Pipeline\n",
        "from sklearn.metrics import accuracy_score, confusion_matrix, precision_score, recall_score, f1_score\n",
        "from sklearn.datasets import make_classification\n",
        "\n",
        "# Create an imbalanced dataset\n",
        "X, y = make_classification(n_samples=1000, n_features=20, n_classes=2, weights=[0.9, 0.1], random_state=42)\n",
        "\n",
        "# Split dataset into training and testing sets\n",
        "X_train, X_test, y_train, y_test = train_test_split(X, y, test_size=0.2, random_state=42)\n",
        "\n",
        "# Define a pipeline with scaling and logistic regression with class weights\n",
        "pipeline = Pipeline([\n",
        "    ('scaler', StandardScaler()),\n",
        "    ('logreg', LogisticRegression(solver='liblinear', class_weight='balanced'))\n",
        "])\n",
        "\n",
        "# Train the model\n",
        "pipeline.fit(X_train, y_train)\n",
        "\n",
        "# Make predictions\n",
        "y_pred = pipeline.predict(X_test)\n",
        "\n",
        "# Evaluate performance\n",
        "accuracy = accuracy_score(y_test, y_pred)\n",
        "precision = precision_score(y_test, y_pred)\n",
        "recall = recall_score(y_test, y_pred)\n",
        "f1 = f1_score(y_test, y_pred)\n",
        "\n",
        "print(\"Accuracy:\", accuracy)\n",
        "print(\"Precision:\", precision)\n",
        "print(\"Recall:\", recall)\n",
        "print(\"F1-Score:\", f1)\n",
        "\n",
        "# Compute confusion matrix\n",
        "conf_matrix = confusion_matrix(y_test, y_pred)\n",
        "\n"
      ],
      "metadata": {
        "colab": {
          "base_uri": "https://localhost:8080/"
        },
        "id": "VL_jHmIvkT89",
        "outputId": "53fb0e9e-dd16-43c1-ddf2-d6390b1a0c25"
      },
      "execution_count": 7,
      "outputs": [
        {
          "output_type": "stream",
          "name": "stdout",
          "text": [
            "Accuracy: 0.865\n",
            "Precision: 0.40540540540540543\n",
            "Recall: 0.75\n",
            "F1-Score: 0.5263157894736842\n"
          ]
        }
      ]
    },
    {
      "cell_type": "markdown",
      "source": [
        "14. Write a Python program to train Logistic Regression on the Titanic dataset, handle missing values, and\n",
        "evaluate performance."
      ],
      "metadata": {
        "id": "tPeXd4wxkxZl"
      }
    },
    {
      "cell_type": "code",
      "source": [
        "import pandas as pd\n",
        "import numpy as np\n",
        "import matplotlib.pyplot as plt\n",
        "import seaborn as sns\n",
        "from sklearn.model_selection import train_test_split\n",
        "from sklearn.linear_model import LogisticRegression\n",
        "from sklearn.preprocessing import StandardScaler\n",
        "from sklearn.pipeline import Pipeline\n",
        "from sklearn.impute import SimpleImputer\n",
        "from sklearn.metrics import accuracy_score, precision_score, recall_score, f1_score, confusion_matrix\n",
        "\n",
        "# Load Titanic dataset\n",
        "df = pd.read_csv(\"titanic.csv\")\n",
        "\n",
        "# Select relevant features\n",
        "features = ['Pclass', 'Sex', 'Age', 'SibSp', 'Parch', 'Fare', 'Embarked']\n",
        "df = df[features + ['Survived']].copy()\n",
        "\n",
        "# Handle missing values\n",
        "df.loc[:, 'Age'] = df['Age'].fillna(df['Age'].median())\n",
        "df.loc[:, 'Embarked'] = df['Embarked'].fillna(df['Embarked'].mode()[0])\n",
        "\n",
        "# Convert categorical variables\n",
        "df = pd.get_dummies(df, columns=['Sex', 'Embarked'], drop_first=True)\n",
        "\n",
        "# Define features and target variable\n",
        "X = df.drop(columns=['Survived'])\n",
        "y = df['Survived']\n",
        "\n",
        "# Split dataset into training and testing sets\n",
        "X_train, X_test, y_train, y_test = train_test_split(X, y, test_size=0.2, random_state=42)\n",
        "\n",
        "# Define a pipeline with imputation, scaling, and logistic regression\n",
        "pipeline = Pipeline([\n",
        "    ('imputer', SimpleImputer(strategy='median')),\n",
        "    ('scaler', StandardScaler()),\n",
        "    ('logreg', LogisticRegression(solver='liblinear'))\n",
        "])\n",
        "\n",
        "# Train the model\n",
        "pipeline.fit(X_train, y_train)\n",
        "\n",
        "# Make predictions\n",
        "y_pred = pipeline.predict(X_test)\n",
        "\n",
        "# Evaluate performance\n",
        "accuracy = accuracy_score(y_test, y_pred)\n",
        "precision = precision_score(y_test, y_pred)\n",
        "recall = recall_score(y_test, y_pred)\n",
        "f1 = f1_score(y_test, y_pred)\n",
        "\n",
        "print(\"Accuracy:\", accuracy)\n",
        "print(\"Precision:\", precision)\n",
        "print(\"Recall:\", recall)\n",
        "print(\"F1-Score:\", f1)\n",
        "\n",
        "# Compute confusion matrix\n",
        "conf_matrix = confusion_matrix(y_test, y_pred)\n",
        "\n"
      ],
      "metadata": {
        "colab": {
          "base_uri": "https://localhost:8080/"
        },
        "id": "URcMqxWVmUDY",
        "outputId": "dbe6c80d-f2ec-4a49-fd5b-1d5798ac1073"
      },
      "execution_count": 12,
      "outputs": [
        {
          "output_type": "stream",
          "name": "stdout",
          "text": [
            "Accuracy: 0.8100558659217877\n",
            "Precision: 0.7857142857142857\n",
            "Recall: 0.7432432432432432\n",
            "F1-Score: 0.7638888888888888\n"
          ]
        }
      ]
    },
    {
      "cell_type": "markdown",
      "source": [
        "15. Write a Python program to apply featuee scaling (Standardization) before training a logistic Regression\n",
        "model. Evaluate its accuracy and compare results with and without scaling."
      ],
      "metadata": {
        "id": "hbw-JwhSmlUK"
      }
    },
    {
      "cell_type": "code",
      "source": [
        "import numpy as np\n",
        "import matplotlib.pyplot as plt\n",
        "import seaborn as sns\n",
        "from sklearn.datasets import load_breast_cancer\n",
        "from sklearn.model_selection import train_test_split\n",
        "from sklearn.linear_model import LogisticRegression\n",
        "from sklearn.preprocessing import StandardScaler\n",
        "from sklearn.pipeline import Pipeline\n",
        "from sklearn.metrics import accuracy_score, precision_score, recall_score, f1_score, confusion_matrix\n",
        "\n",
        "# Load dataset from sklearn\n",
        "data = load_breast_cancer()\n",
        "X, y = data.data, data.target\n",
        "\n",
        "# Split dataset into training and testing sets\n",
        "X_train, X_test, y_train, y_test = train_test_split(X, y, test_size=0.2, random_state=42)\n",
        "\n",
        "# Train Logistic Regression model WITHOUT scaling\n",
        "logreg = LogisticRegression(max_iter=10000)\n",
        "logreg.fit(X_train, y_train)\n",
        "y_pred_no_scaling = logreg.predict(X_test)\n",
        "accuracy_no_scaling = accuracy_score(y_test, y_pred_no_scaling)\n",
        "\n",
        "# Define a pipeline with scaling and logistic regression\n",
        "pipeline = Pipeline([\n",
        "    ('scaler', StandardScaler()),\n",
        "    ('logreg', LogisticRegression(max_iter=10000))\n",
        "])\n",
        "\n",
        "# Train the model WITH scaling\n",
        "pipeline.fit(X_train, y_train)\n",
        "y_pred_scaling = pipeline.predict(X_test)\n",
        "accuracy_scaling = accuracy_score(y_test, y_pred_scaling)\n",
        "\n",
        "# Evaluate performance\n",
        "precision = precision_score(y_test, y_pred_scaling)\n",
        "recall = recall_score(y_test, y_pred_scaling)\n",
        "f1 = f1_score(y_test, y_pred_scaling)\n",
        "\n",
        "print(\"Accuracy without Scaling:\", accuracy_no_scaling)\n",
        "print(\"Accuracy with Scaling:\", accuracy_scaling)\n",
        "print(\"Precision:\", precision)\n",
        "print(\"Recall:\", recall)\n",
        "print(\"F1-Score:\", f1)\n",
        "\n",
        "# Compute confusion matrix\n",
        "conf_matrix = confusion_matrix(y_test, y_pred_scaling)\n",
        "\n"
      ],
      "metadata": {
        "colab": {
          "base_uri": "https://localhost:8080/"
        },
        "id": "pyFEIJI1m9aO",
        "outputId": "5104a2f1-baff-4f67-fbd6-dd4ba46701ff"
      },
      "execution_count": 13,
      "outputs": [
        {
          "output_type": "stream",
          "name": "stdout",
          "text": [
            "Accuracy without Scaling: 0.956140350877193\n",
            "Accuracy with Scaling: 0.9736842105263158\n",
            "Precision: 0.9722222222222222\n",
            "Recall: 0.9859154929577465\n",
            "F1-Score: 0.9790209790209791\n"
          ]
        }
      ]
    },
    {
      "cell_type": "markdown",
      "source": [
        "16. Write a Python program to train logistic Regression and evaluate its performance using ROC-AUC score."
      ],
      "metadata": {
        "id": "Nx0PuXD5r-oC"
      }
    },
    {
      "cell_type": "code",
      "source": [
        "import numpy as np\n",
        "import matplotlib.pyplot as plt\n",
        "import seaborn as sns\n",
        "from sklearn.datasets import load_breast_cancer\n",
        "from sklearn.model_selection import train_test_split\n",
        "from sklearn.linear_model import LogisticRegression\n",
        "from sklearn.preprocessing import StandardScaler\n",
        "from sklearn.pipeline import Pipeline\n",
        "from sklearn.metrics import accuracy_score, precision_score, recall_score, f1_score, confusion_matrix, roc_auc_score, roc_curve\n",
        "\n",
        "# Load dataset from sklearn\n",
        "data = load_breast_cancer()\n",
        "X, y = data.data, data.target\n",
        "\n",
        "# Split dataset into training and testing sets\n",
        "X_train, X_test, y_train, y_test = train_test_split(X, y, test_size=0.2, random_state=42)\n",
        "\n",
        "# Train Logistic Regression model WITHOUT scaling\n",
        "logreg = LogisticRegression(max_iter=10000)\n",
        "logreg.fit(X_train, y_train)\n",
        "y_pred_no_scaling = logreg.predict(X_test)\n",
        "y_prob_no_scaling = logreg.predict_proba(X_test)[:, 1]\n",
        "accuracy_no_scaling = accuracy_score(y_test, y_pred_no_scaling)\n",
        "roc_auc_no_scaling = roc_auc_score(y_test, y_prob_no_scaling)\n",
        "\n",
        "# Define a pipeline with scaling and logistic regression\n",
        "pipeline = Pipeline([\n",
        "    ('scaler', StandardScaler()),\n",
        "    ('logreg', LogisticRegression(max_iter=10000))\n",
        "])\n",
        "\n",
        "# Train the model WITH scaling\n",
        "pipeline.fit(X_train, y_train)\n",
        "y_pred_scaling = pipeline.predict(X_test)\n",
        "y_prob_scaling = pipeline.predict_proba(X_test)[:, 1]\n",
        "accuracy_scaling = accuracy_score(y_test, y_pred_scaling)\n",
        "roc_auc_scaling = roc_auc_score(y_test, y_prob_scaling)\n",
        "\n",
        "# Evaluate performance\n",
        "precision = precision_score(y_test, y_pred_scaling)\n",
        "recall = recall_score(y_test, y_pred_scaling)\n",
        "f1 = f1_score(y_test, y_pred_scaling)\n",
        "\n",
        "print(\"Accuracy without Scaling:\", accuracy_no_scaling)\n",
        "print(\"ROC-AUC without Scaling:\", roc_auc_no_scaling)\n",
        "print(\"Accuracy with Scaling:\", accuracy_scaling)\n",
        "print(\"ROC-AUC with Scaling:\", roc_auc_scaling)\n",
        "print(\"Precision:\", precision)\n",
        "print(\"Recall:\", recall)\n",
        "print(\"F1-Score:\", f1)\n",
        "\n",
        "# Compute confusion matrix\n",
        "conf_matrix = confusion_matrix(y_test, y_pred_scaling)\n",
        "\n",
        "\n",
        "\n",
        "# Plot ROC Curve\n",
        "fpr, tpr, _ = roc_curve(y_test, y_prob_scaling)\n",
        "plt.figure(figsize=(6, 4))\n",
        "plt.plot(fpr, tpr, label=f'ROC Curve (AUC = {roc_auc_scaling:.2f}')\n",
        "plt.plot([0, 1], [0, 1], linestyle='--', color='gray')\n",
        "plt.xlabel('False Positive Rate')\n",
        "plt.ylabel('True Positive Rate')\n",
        "plt.title('ROC Curve')\n",
        "plt.legend()\n",
        "plt.show()\n"
      ],
      "metadata": {
        "colab": {
          "base_uri": "https://localhost:8080/",
          "height": 532
        },
        "id": "p6rPpYVxsQ-5",
        "outputId": "c622780c-5286-4756-fa7e-d566e916e051"
      },
      "execution_count": 14,
      "outputs": [
        {
          "output_type": "stream",
          "name": "stdout",
          "text": [
            "Accuracy without Scaling: 0.956140350877193\n",
            "ROC-AUC without Scaling: 0.9977071732721913\n",
            "Accuracy with Scaling: 0.9736842105263158\n",
            "ROC-AUC with Scaling: 0.99737962659679\n",
            "Precision: 0.9722222222222222\n",
            "Recall: 0.9859154929577465\n",
            "F1-Score: 0.9790209790209791\n"
          ]
        },
        {
          "output_type": "display_data",
          "data": {
            "text/plain": [
              "<Figure size 600x400 with 1 Axes>"
            ],
            "image/png": "[encoded data removed]"
          },
          "metadata": {}
        }
      ]
    },
    {
      "cell_type": "markdown",
      "source": [
        "17. Write a Python program to train LoGistic Regression using a custom learning rate (C = 0.5) and evaluate\n",
        "accuracy."
      ],
      "metadata": {
        "id": "_i9Mmg1oshZI"
      }
    },
    {
      "cell_type": "code",
      "source": [
        "import numpy as np\n",
        "import matplotlib.pyplot as plt\n",
        "import seaborn as sns\n",
        "from sklearn.datasets import load_breast_cancer\n",
        "from sklearn.model_selection import train_test_split\n",
        "from sklearn.linear_model import LogisticRegression\n",
        "from sklearn.preprocessing import StandardScaler\n",
        "from sklearn.pipeline import Pipeline\n",
        "from sklearn.metrics import accuracy_score, precision_score, recall_score, f1_score, confusion_matrix, roc_auc_score, roc_curve\n",
        "\n",
        "# Load dataset from sklearn\n",
        "data = load_breast_cancer()\n",
        "X, y = data.data, data.target\n",
        "\n",
        "# Split dataset into training and testing sets\n",
        "X_train, X_test, y_train, y_test = train_test_split(X, y, test_size=0.2, random_state=42)\n",
        "\n",
        "# Train Logistic Regression model WITHOUT scaling\n",
        "logreg = LogisticRegression(C=0.5, max_iter=10000)\n",
        "logreg.fit(X_train, y_train)\n",
        "y_pred_no_scaling = logreg.predict(X_test)\n",
        "y_prob_no_scaling = logreg.predict_proba(X_test)[:, 1]\n",
        "accuracy_no_scaling = accuracy_score(y_test, y_pred_no_scaling)\n",
        "roc_auc_no_scaling = roc_auc_score(y_test, y_prob_no_scaling)\n",
        "\n",
        "# Define a pipeline with scaling and logistic regression\n",
        "pipeline = Pipeline([\n",
        "    ('scaler', StandardScaler()),\n",
        "    ('logreg', LogisticRegression(C=0.5, max_iter=10000))\n",
        "])\n",
        "\n",
        "# Train the model WITH scaling\n",
        "pipeline.fit(X_train, y_train)\n",
        "y_pred_scaling = pipeline.predict(X_test)\n",
        "y_prob_scaling = pipeline.predict_proba(X_test)[:, 1]\n",
        "accuracy_scaling = accuracy_score(y_test, y_pred_scaling)\n",
        "roc_auc_scaling = roc_auc_score(y_test, y_prob_scaling)\n",
        "\n",
        "# Evaluate performance\n",
        "precision = precision_score(y_test, y_pred_scaling)\n",
        "recall = recall_score(y_test, y_pred_scaling)\n",
        "f1 = f1_score(y_test, y_pred_scaling)\n",
        "\n",
        "print(\"Accuracy without Scaling:\", accuracy_no_scaling)\n",
        "print(\"ROC-AUC without Scaling:\", roc_auc_no_scaling)\n",
        "print(\"Accuracy with Scaling:\", accuracy_scaling)\n",
        "print(\"ROC-AUC with Scaling:\", roc_auc_scaling)\n",
        "print(\"Precision:\", precision)\n",
        "print(\"Recall:\", recall)\n",
        "print(\"F1-Score:\", f1)\n",
        "\n",
        "# Compute confusion matrix\n",
        "conf_matrix = confusion_matrix(y_test, y_pred_scaling)\n",
        "\n",
        "\n",
        "\n",
        "# Plot ROC Curve\n",
        "fpr, tpr, _ = roc_curve(y_test, y_prob_scaling)\n",
        "plt.figure(figsize=(6, 4))\n",
        "plt.plot(fpr, tpr, label=f'ROC Curve (AUC = {roc_auc_scaling:.2f}')\n",
        "plt.plot([0, 1], [0, 1], linestyle='--', color='gray')\n",
        "plt.xlabel('False Positive Rate')\n",
        "plt.ylabel('True Positive Rate')\n",
        "plt.title('ROC Curve')\n",
        "plt.legend()\n",
        "plt.show()\n"
      ],
      "metadata": {
        "colab": {
          "base_uri": "https://localhost:8080/",
          "height": 532
        },
        "id": "umG5h2QLs4ot",
        "outputId": "ba6ea27b-c877-4779-b55f-d6a71261392d"
      },
      "execution_count": 15,
      "outputs": [
        {
          "output_type": "stream",
          "name": "stdout",
          "text": [
            "Accuracy without Scaling: 0.9649122807017544\n",
            "ROC-AUC without Scaling: 0.99737962659679\n",
            "Accuracy with Scaling: 0.9736842105263158\n",
            "ROC-AUC with Scaling: 0.99737962659679\n",
            "Precision: 0.9722222222222222\n",
            "Recall: 0.9859154929577465\n",
            "F1-Score: 0.9790209790209791\n"
          ]
        },
        {
          "output_type": "display_data",
          "data": {
            "text/plain": [
              "<Figure size 600x400 with 1 Axes>"
            ],
            "image/png": "[encoded data removed]"
          },
          "metadata": {}
        }
      ]
    },
    {
      "cell_type": "markdown",
      "source": [
        "18. Write a Python program to train logistic Regression and identify important features based on model\n",
        "coefficients"
      ],
      "metadata": {
        "id": "EfiVcJahtkXb"
      }
    },
    {
      "cell_type": "code",
      "source": [
        "import numpy as np\n",
        "import pandas as pd\n",
        "from sklearn.datasets import load_breast_cancer\n",
        "from sklearn.model_selection import train_test_split\n",
        "from sklearn.preprocessing import StandardScaler\n",
        "from sklearn.linear_model import LogisticRegression\n",
        "from sklearn.metrics import accuracy_score\n",
        "\n",
        "# Load dataset\n",
        "data = load_breast_cancer()\n",
        "X = data.data\n",
        "y = data.target\n",
        "feature_names = data.feature_names\n",
        "\n",
        "# Split data into training and test sets\n",
        "X_train, X_test, y_train, y_test = train_test_split(X, y, test_size=0.2, random_state=42)\n",
        "\n",
        "# Standardize features (important for logistic regression)\n",
        "scaler = StandardScaler()\n",
        "X_train = scaler.fit_transform(X_train)\n",
        "X_test = scaler.transform(X_test)\n",
        "\n",
        "# Train logistic regression model\n",
        "model = LogisticRegression(max_iter=1000, random_state=42)\n",
        "model.fit(X_train, y_train)\n",
        "\n",
        "# Predict on test set and evaluate accuracy\n",
        "y_pred = model.predict(X_test)\n",
        "accuracy = accuracy_score(y_test, y_pred)\n",
        "print(f\"Model Accuracy: {accuracy:.4f}\")\n",
        "\n",
        "# Extract feature importance from model coefficients\n",
        "feature_importance = np.abs(model.coef_[0])\n",
        "important_features = sorted(zip(feature_names, feature_importance), key=lambda x: x[1], reverse=True)\n",
        "\n",
        "# Display top 10 most important features\n",
        "print(\"\\nTop 10 Important Features:\")\n",
        "for feature, importance in important_features[:10]:\n",
        "    print(f\"{feature}: {importance:.4f}\")\n"
      ],
      "metadata": {
        "colab": {
          "base_uri": "https://localhost:8080/"
        },
        "id": "ODVggGH0t0Cf",
        "outputId": "a1e8f93c-bf38-4781-928c-3b1efcc96dcf"
      },
      "execution_count": 16,
      "outputs": [
        {
          "output_type": "stream",
          "name": "stdout",
          "text": [
            "Model Accuracy: 0.9737\n",
            "\n",
            "Top 10 Important Features:\n",
            "worst texture: 1.3506\n",
            "radius error: 1.2682\n",
            "worst symmetry: 1.2082\n",
            "mean concave points: 1.1198\n",
            "worst concavity: 0.9431\n",
            "area error: 0.9072\n",
            "worst radius: 0.8798\n",
            "worst area: 0.8418\n",
            "mean concavity: 0.8015\n",
            "worst concave points: 0.7782\n"
          ]
        }
      ]
    },
    {
      "cell_type": "markdown",
      "source": [
        "19. Write a Python program to train logistic Regression and evaluate its performance using Cohen’s Kappa\n",
        "Score."
      ],
      "metadata": {
        "id": "9cfOxSs1uPs4"
      }
    },
    {
      "cell_type": "code",
      "source": [
        "import numpy as np\n",
        "import pandas as pd\n",
        "from sklearn.datasets import load_breast_cancer\n",
        "from sklearn.model_selection import train_test_split\n",
        "from sklearn.preprocessing import StandardScaler\n",
        "from sklearn.linear_model import LogisticRegression\n",
        "from sklearn.metrics import accuracy_score, cohen_kappa_score\n",
        "\n",
        "# Load dataset\n",
        "data = load_breast_cancer()\n",
        "X = data.data\n",
        "y = data.target\n",
        "\n",
        "# Split data into training and test sets\n",
        "X_train, X_test, y_train, y_test = train_test_split(X, y, test_size=0.2, random_state=42, stratify=y)\n",
        "\n",
        "# Standardize features (important for logistic regression)\n",
        "scaler = StandardScaler()\n",
        "X_train = scaler.fit_transform(X_train)\n",
        "X_test = scaler.transform(X_test)\n",
        "\n",
        "# Train logistic regression model\n",
        "model = LogisticRegression(max_iter=1000, random_state=42)\n",
        "model.fit(X_train, y_train)\n",
        "\n",
        "# Predict on test set\n",
        "y_pred = model.predict(X_test)\n",
        "\n",
        "# Evaluate accuracy\n",
        "accuracy = accuracy_score(y_test, y_pred)\n",
        "print(f\"Model Accuracy: {accuracy:.4f}\")\n",
        "\n",
        "# Evaluate Cohen's Kappa Score\n",
        "kappa_score = cohen_kappa_score(y_test, y_pred)\n",
        "print(f\"Cohen's Kappa Score: {kappa_score:.4f}\")\n"
      ],
      "metadata": {
        "colab": {
          "base_uri": "https://localhost:8080/"
        },
        "id": "xXEmzh7hulrL",
        "outputId": "61044591-26a4-41ae-d2f2-0b36e6ca9442"
      },
      "execution_count": 17,
      "outputs": [
        {
          "output_type": "stream",
          "name": "stdout",
          "text": [
            "Model Accuracy: 0.9825\n",
            "Cohen's Kappa Score: 0.9623\n"
          ]
        }
      ]
    },
    {
      "cell_type": "markdown",
      "source": [
        "20. Write a Python program to train logistic Regression and visualize the Precision-Recall Curve for binary\n",
        "classification"
      ],
      "metadata": {
        "id": "STASNiKNuwYg"
      }
    },
    {
      "cell_type": "code",
      "source": [
        "import numpy as np\n",
        "import matplotlib.pyplot as plt\n",
        "from sklearn.datasets import load_breast_cancer\n",
        "from sklearn.model_selection import train_test_split\n",
        "from sklearn.preprocessing import StandardScaler\n",
        "from sklearn.linear_model import LogisticRegression\n",
        "from sklearn.metrics import precision_recall_curve, average_precision_score\n",
        "\n",
        "# Load dataset\n",
        "data = load_breast_cancer()\n",
        "X = data.data\n",
        "y = data.target\n",
        "\n",
        "# Split data into training and test sets\n",
        "X_train, X_test, y_train, y_test = train_test_split(X, y, test_size=0.2, random_state=42, stratify=y)\n",
        "\n",
        "# Standardize features (important for logistic regression)\n",
        "scaler = StandardScaler()\n",
        "X_train = scaler.fit_transform(X_train)\n",
        "X_test = scaler.transform(X_test)\n",
        "\n",
        "# Train logistic regression model\n",
        "model = LogisticRegression(max_iter=1000, random_state=42)\n",
        "model.fit(X_train, y_train)\n",
        "\n",
        "# Get prediction probabilities for the positive class\n",
        "y_scores = model.predict_proba(X_test)[:, 1]\n",
        "\n",
        "# Compute Precision-Recall values\n",
        "precision, recall, _ = precision_recall_curve(y_test, y_scores)\n",
        "avg_precision = average_precision_score(y_test, y_scores)\n",
        "\n",
        "# Plot Precision-Recall Curve\n",
        "plt.figure(figsize=(8, 6))\n",
        "plt.plot(recall, precision, marker='.', label=f'Logistic Regression (AP={avg_precision:.2f})')\n",
        "plt.xlabel('Recall')\n",
        "plt.ylabel('Precision')\n",
        "plt.title('Precision-Recall Curve')\n",
        "plt.legend()\n",
        "plt.grid()\n",
        "plt.show()\n"
      ],
      "metadata": {
        "colab": {
          "base_uri": "https://localhost:8080/",
          "height": 564
        },
        "id": "gAfWxfmCvCqm",
        "outputId": "2ad28639-a35e-496c-9bb6-f19acba1707f"
      },
      "execution_count": 18,
      "outputs": [
        {
          "output_type": "display_data",
          "data": {
            "text/plain": [
              "<Figure size 800x600 with 1 Axes>"
            ],
            "image/png": "[encoded data removed]"
          },
          "metadata": {}
        }
      ]
    },
    {
      "cell_type": "markdown",
      "source": [
        "21. Write a Python program to train logistic Regression with different solvers (liblinear, saga, lbfgs) and compare\n",
        "their accuracy."
      ],
      "metadata": {
        "id": "_XdJzaNFvREF"
      }
    },
    {
      "cell_type": "code",
      "source": [
        "import numpy as np\n",
        "import pandas as pd\n",
        "from sklearn.datasets import load_breast_cancer\n",
        "from sklearn.model_selection import train_test_split\n",
        "from sklearn.preprocessing import StandardScaler\n",
        "from sklearn.linear_model import LogisticRegression\n",
        "from sklearn.metrics import accuracy_score\n",
        "\n",
        "# Load dataset\n",
        "data = load_breast_cancer()\n",
        "X = data.data\n",
        "y = data.target\n",
        "\n",
        "# Split data into training and test sets\n",
        "X_train, X_test, y_train, y_test = train_test_split(X, y, test_size=0.2, random_state=42, stratify=y)\n",
        "\n",
        "# Standardize features (important for logistic regression)\n",
        "scaler = StandardScaler()\n",
        "X_train = scaler.fit_transform(X_train)\n",
        "X_test = scaler.transform(X_test)\n",
        "\n",
        "# Define solvers to test\n",
        "solvers = ['liblinear', 'saga', 'lbfgs']\n",
        "accuracy_results = {}\n",
        "\n",
        "# Train and evaluate models using different solvers\n",
        "for solver in solvers:\n",
        "    model = LogisticRegression(solver=solver, max_iter=1000, random_state=42)\n",
        "    model.fit(X_train, y_train)\n",
        "    y_pred = model.predict(X_test)\n",
        "    accuracy = accuracy_score(y_test, y_pred)\n",
        "    accuracy_results[solver] = accuracy\n",
        "    print(f\"Solver: {solver}, Accuracy: {accuracy:.4f}\")\n",
        "\n",
        "# Display comparison results\n",
        "print(\"\\nComparison of Different Solvers:\")\n",
        "for solver, acc in accuracy_results.items():\n",
        "    print(f\"{solver}: {acc:.4f}\")\n"
      ],
      "metadata": {
        "colab": {
          "base_uri": "https://localhost:8080/"
        },
        "id": "qEzWEs8CvlLl",
        "outputId": "3bd7c9eb-5797-4467-9aeb-4495221298a8"
      },
      "execution_count": 19,
      "outputs": [
        {
          "output_type": "stream",
          "name": "stdout",
          "text": [
            "Solver: liblinear, Accuracy: 0.9825\n",
            "Solver: saga, Accuracy: 0.9825\n",
            "Solver: lbfgs, Accuracy: 0.9825\n",
            "\n",
            "Comparison of Different Solvers:\n",
            "liblinear: 0.9825\n",
            "saga: 0.9825\n",
            "lbfgs: 0.9825\n"
          ]
        }
      ]
    },
    {
      "cell_type": "markdown",
      "source": [
        "22. Write a Python program to train logistic Regression and evaluate its performance using Matthews\n",
        "Correlation Coefficient (MCC)."
      ],
      "metadata": {
        "id": "NVC__Qc6v4SO"
      }
    },
    {
      "cell_type": "code",
      "source": [
        "import numpy as np\n",
        "from sklearn.datasets import load_breast_cancer\n",
        "from sklearn.model_selection import train_test_split\n",
        "from sklearn.preprocessing import StandardScaler\n",
        "from sklearn.linear_model import LogisticRegression\n",
        "from sklearn.metrics import accuracy_score, matthews_corrcoef\n",
        "\n",
        "# Load dataset\n",
        "data = load_breast_cancer()\n",
        "X = data.data\n",
        "y = data.target\n",
        "\n",
        "# Split data into training and test sets\n",
        "X_train, X_test, y_train, y_test = train_test_split(X, y, test_size=0.2, random_state=42, stratify=y)\n",
        "\n",
        "# Standardize features (important for logistic regression)\n",
        "scaler = StandardScaler()\n",
        "X_train = scaler.fit_transform(X_train)\n",
        "X_test = scaler.transform(X_test)\n",
        "\n",
        "# Train logistic regression model\n",
        "model = LogisticRegression(max_iter=1000, random_state=42)\n",
        "model.fit(X_train, y_train)\n",
        "\n",
        "# Predict on test set\n",
        "y_pred = model.predict(X_test)\n",
        "\n",
        "# Evaluate accuracy\n",
        "accuracy = accuracy_score(y_test, y_pred)\n",
        "print(f\"Model Accuracy: {accuracy:.4f}\")\n",
        "\n",
        "# Evaluate Matthews Correlation Coefficient (MCC)\n",
        "mcc_score = matthews_corrcoef(y_test, y_pred)\n",
        "print(f\"Matthews Correlation Coefficient (MCC): {mcc_score:.4f}\")\n"
      ],
      "metadata": {
        "colab": {
          "base_uri": "https://localhost:8080/"
        },
        "id": "wi0SwPINwLOG",
        "outputId": "0f8cc7b6-e6a6-499c-b340-a320709e434f"
      },
      "execution_count": 20,
      "outputs": [
        {
          "output_type": "stream",
          "name": "stdout",
          "text": [
            "Model Accuracy: 0.9825\n",
            "Matthews Correlation Coefficient (MCC): 0.9623\n"
          ]
        }
      ]
    },
    {
      "cell_type": "markdown",
      "source": [
        "23. write a Python program to train logistic Regression on both raw and standardized data. Compare their\n",
        "accuracy to see the impact of feature scaling."
      ],
      "metadata": {
        "id": "Q3UBLieLwUmi"
      }
    },
    {
      "cell_type": "code",
      "source": [
        "import numpy as np\n",
        "from sklearn.datasets import load_breast_cancer\n",
        "from sklearn.model_selection import train_test_split\n",
        "from sklearn.preprocessing import StandardScaler\n",
        "from sklearn.linear_model import LogisticRegression\n",
        "from sklearn.metrics import accuracy_score\n",
        "\n",
        "# Load dataset\n",
        "data = load_breast_cancer()\n",
        "X = data.data\n",
        "y = data.target\n",
        "\n",
        "# Split data into training and test sets\n",
        "X_train_raw, X_test_raw, y_train, y_test = train_test_split(X, y, test_size=0.2, random_state=42, stratify=y)\n",
        "\n",
        "# Train logistic regression on raw data (without scaling) with increased iterations\n",
        "model_raw = LogisticRegression(max_iter=5000, solver='saga', random_state=42)\n",
        "model_raw.fit(X_train_raw, y_train)\n",
        "y_pred_raw = model_raw.predict(X_test_raw)\n",
        "accuracy_raw = accuracy_score(y_test, y_pred_raw)\n",
        "\n",
        "# Standardize the data\n",
        "scaler = StandardScaler()\n",
        "X_train_scaled = scaler.fit_transform(X_train_raw)\n",
        "X_test_scaled = scaler.transform(X_test_raw)\n",
        "\n",
        "# Train logistic regression on standardized data\n",
        "model_scaled = LogisticRegression(max_iter=1000, solver='lbfgs', random_state=42)\n",
        "model_scaled.fit(X_train_scaled, y_train)\n",
        "y_pred_scaled = model_scaled.predict(X_test_scaled)\n",
        "accuracy_scaled = accuracy_score(y_test, y_pred_scaled)\n",
        "\n",
        "# Compare results\n",
        "print(f\"Accuracy on Raw Data: {accuracy_raw:.4f}\")\n",
        "print(f\"Accuracy on Standardized Data: {accuracy_scaled:.4f}\")\n",
        "\n",
        "# Display conclusion\n",
        "if accuracy_scaled > accuracy_raw:\n",
        "    print(\"\\nFeature scaling improved model performance.\")\n",
        "elif accuracy_scaled < accuracy_raw:\n",
        "    print(\"\\nFeature scaling reduced model performance.\")\n",
        "else:\n",
        "    print(\"\\nFeature scaling had no significant impact on model performance.\")\n"
      ],
      "metadata": {
        "colab": {
          "base_uri": "https://localhost:8080/"
        },
        "id": "YW4dQ44wxccU",
        "outputId": "0878ae12-9ff3-4955-f331-af35de65247a"
      },
      "execution_count": 22,
      "outputs": [
        {
          "output_type": "stream",
          "name": "stdout",
          "text": [
            "Accuracy on Raw Data: 0.9474\n",
            "Accuracy on Standardized Data: 0.9825\n",
            "\n",
            "Feature scaling improved model performance.\n"
          ]
        }
      ]
    },
    {
      "cell_type": "markdown",
      "source": [
        "24. write a Python program to train logistic Regression and find the optimal C (regularization strength) using\n",
        "cross-validation\n"
      ],
      "metadata": {
        "id": "U_qt99y2xidh"
      }
    },
    {
      "cell_type": "code",
      "source": [
        "import numpy as np\n",
        "from sklearn.datasets import load_breast_cancer\n",
        "from sklearn.model_selection import train_test_split, GridSearchCV\n",
        "from sklearn.preprocessing import StandardScaler\n",
        "from sklearn.linear_model import LogisticRegression\n",
        "from sklearn.metrics import accuracy_score\n",
        "\n",
        "# Load dataset\n",
        "data = load_breast_cancer()\n",
        "X = data.data\n",
        "y = data.target\n",
        "\n",
        "# Split data into training and test sets\n",
        "X_train, X_test, y_train, y_test = train_test_split(X, y, test_size=0.2, random_state=42, stratify=y)\n",
        "\n",
        "# Standardize features (important for logistic regression)\n",
        "scaler = StandardScaler()\n",
        "X_train = scaler.fit_transform(X_train)\n",
        "X_test = scaler.transform(X_test)\n",
        "\n",
        "# Define parameter grid for C (regularization strength)\n",
        "param_grid = {'C': np.logspace(-4, 4, 10)}  # C values from 1e-4 to 1e4\n",
        "\n",
        "# Perform grid search with cross-validation (5-fold)\n",
        "grid_search = GridSearchCV(LogisticRegression(max_iter=1000, solver='liblinear', random_state=42),\n",
        "                           param_grid, cv=5, scoring='accuracy', n_jobs=-1)\n",
        "grid_search.fit(X_train, y_train)\n",
        "\n",
        "# Get the best C value\n",
        "best_C = grid_search.best_params_['C']\n",
        "print(f\"Optimal C (regularization strength): {best_C:.4f}\")\n",
        "\n",
        "# Train final model with the best C\n",
        "best_model = LogisticRegression(C=best_C, max_iter=1000, solver='liblinear', random_state=42)\n",
        "best_model.fit(X_train, y_train)\n",
        "\n",
        "# Predict on test set\n",
        "y_pred = best_model.predict(X_test)\n",
        "\n",
        "# Evaluate accuracy\n",
        "accuracy = accuracy_score(y_test, y_pred)\n",
        "print(f\"Test Accuracy with Optimal C: {accuracy:.4f}\")\n"
      ],
      "metadata": {
        "colab": {
          "base_uri": "https://localhost:8080/"
        },
        "id": "cCoVzvbxx30F",
        "outputId": "61babe16-e015-46fc-c0fd-a8e28900342e"
      },
      "execution_count": 23,
      "outputs": [
        {
          "output_type": "stream",
          "name": "stdout",
          "text": [
            "Optimal C (regularization strength): 0.0464\n",
            "Test Accuracy with Optimal C: 0.9825\n"
          ]
        }
      ]
    },
    {
      "cell_type": "markdown",
      "source": [
        "25. Write a Python program to train logistic Regression, save the trained model using joblib, and load it again to\n",
        "make predictions."
      ],
      "metadata": {
        "id": "ud2hMrDayJdQ"
      }
    },
    {
      "cell_type": "code",
      "source": [
        "import numpy as np\n",
        "import joblib  # Import joblib for saving and loading models\n",
        "from sklearn.datasets import load_breast_cancer\n",
        "from sklearn.model_selection import train_test_split\n",
        "from sklearn.preprocessing import StandardScaler\n",
        "from sklearn.linear_model import LogisticRegression\n",
        "from sklearn.metrics import accuracy_score\n",
        "\n",
        "# Load dataset\n",
        "data = load_breast_cancer()\n",
        "X = data.data\n",
        "y = data.target\n",
        "\n",
        "# Split data into training and test sets\n",
        "X_train, X_test, y_train, y_test = train_test_split(X, y, test_size=0.2, random_state=42, stratify=y)\n",
        "\n",
        "# Standardize features (important for logistic regression)\n",
        "scaler = StandardScaler()\n",
        "X_train = scaler.fit_transform(X_train)\n",
        "X_test = scaler.transform(X_test)\n",
        "\n",
        "# Train logistic regression model\n",
        "model = LogisticRegression(max_iter=1000, random_state=42)\n",
        "model.fit(X_train, y_train)\n",
        "\n",
        "# Save the trained model using joblib\n",
        "joblib.dump(model, 'logistic_regression_model.pkl')\n",
        "print(\"Model saved successfully!\")\n",
        "\n",
        "# Load the saved model\n",
        "loaded_model = joblib.load('logistic_regression_model.pkl')\n",
        "print(\"Model loaded successfully!\")\n",
        "\n",
        "# Predict using the loaded model\n",
        "y_pred = loaded_model.predict(X_test)\n",
        "\n",
        "# Evaluate accuracy\n",
        "accuracy = accuracy_score(y_test, y_pred)\n",
        "print(f\"Test Accuracy of Loaded Model: {accuracy:.4f}\")\n"
      ],
      "metadata": {
        "colab": {
          "base_uri": "https://localhost:8080/"
        },
        "id": "R5VvxxEayhUG",
        "outputId": "09fa0e8d-016e-4ef0-a126-d325f4d5f58f"
      },
      "execution_count": 24,
      "outputs": [
        {
          "output_type": "stream",
          "name": "stdout",
          "text": [
            "Model saved successfully!\n",
            "Model loaded successfully!\n",
            "Test Accuracy of Loaded Model: 0.9825\n"
          ]
        }
      ]
    }
  ],
  "metadata": {
    "colab": {
      "provenance": []
    },
    "kernelspec": {
      "display_name": "Python 3",
      "name": "python3"
    },
    "language_info": {
      "name": "python"
    }
  },
  "nbformat": 4,
  "nbformat_minor": 0
}