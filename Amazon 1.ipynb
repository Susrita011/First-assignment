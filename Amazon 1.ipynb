{
 "cells": [
  {
   "cell_type": "code",
   "execution_count": 17,
   "id": "907763fd-6a3c-4773-b4bc-8827c15f48db",
   "metadata": {},
   "outputs": [],
   "source": [
    "import pandas as pd \n",
    "import numpy as np\n",
    "import seaborn as sns\n",
    "import matplotlib.pyplot as plt\n",
    "import warnings\n",
    "warnings.filterwarnings('ignore')"
   ]
  },
  {
   "cell_type": "code",
   "execution_count": 18,
   "id": "f29ae628-9276-47c2-8368-56f430938da7",
   "metadata": {},
   "outputs": [
    {
     "data": {
      "text/html": [
       "<div>\n",
       "<style scoped>\n",
       "    .dataframe tbody tr th:only-of-type {\n",
       "        vertical-align: middle;\n",
       "    }\n",
       "\n",
       "    .dataframe tbody tr th {\n",
       "        vertical-align: top;\n",
       "    }\n",
       "\n",
       "    .dataframe thead th {\n",
       "        text-align: right;\n",
       "    }\n",
       "</style>\n",
       "<table border=\"1\" class=\"dataframe\">\n",
       "  <thead>\n",
       "    <tr style=\"text-align: right;\">\n",
       "      <th></th>\n",
       "      <th>product_id</th>\n",
       "      <th>product_name</th>\n",
       "      <th>category</th>\n",
       "      <th>discounted_price</th>\n",
       "      <th>actual_price</th>\n",
       "      <th>discount_percentage</th>\n",
       "      <th>rating</th>\n",
       "      <th>rating_count</th>\n",
       "      <th>about_product</th>\n",
       "      <th>user_id</th>\n",
       "      <th>user_name</th>\n",
       "      <th>review_id</th>\n",
       "      <th>review_title</th>\n",
       "      <th>review_content</th>\n",
       "      <th>img_link</th>\n",
       "      <th>product_link</th>\n",
       "    </tr>\n",
       "  </thead>\n",
       "  <tbody>\n",
       "    <tr>\n",
       "      <th>0</th>\n",
       "      <td>B07JW9H4J1</td>\n",
       "      <td>Wayona Nylon Braided USB to Lightning Fast Cha...</td>\n",
       "      <td>Computers&amp;Accessories|Accessories&amp;Peripherals|...</td>\n",
       "      <td>₹399</td>\n",
       "      <td>₹1,099</td>\n",
       "      <td>64%</td>\n",
       "      <td>4.2</td>\n",
       "      <td>24,269</td>\n",
       "      <td>High Compatibility : Compatible With iPhone 12...</td>\n",
       "      <td>AG3D6O4STAQKAY2UVGEUV46KN35Q,AHMY5CWJMMK5BJRBB...</td>\n",
       "      <td>Manav,Adarsh gupta,Sundeep,S.Sayeed Ahmed,jasp...</td>\n",
       "      <td>R3HXWT0LRP0NMF,R2AJM3LFTLZHFO,R6AQJGUP6P86,R1K...</td>\n",
       "      <td>Satisfied,Charging is really fast,Value for mo...</td>\n",
       "      <td>Looks durable Charging is fine tooNo complains...</td>\n",
       "      <td>https://m.media-amazon.com/images/W/WEBP_40237...</td>\n",
       "      <td>https://www.amazon.in/Wayona-Braided-WN3LG1-Sy...</td>\n",
       "    </tr>\n",
       "    <tr>\n",
       "      <th>1</th>\n",
       "      <td>B098NS6PVG</td>\n",
       "      <td>Ambrane Unbreakable 60W / 3A Fast Charging 1.5...</td>\n",
       "      <td>Computers&amp;Accessories|Accessories&amp;Peripherals|...</td>\n",
       "      <td>₹199</td>\n",
       "      <td>₹349</td>\n",
       "      <td>43%</td>\n",
       "      <td>4.0</td>\n",
       "      <td>43,994</td>\n",
       "      <td>Compatible with all Type C enabled devices, be...</td>\n",
       "      <td>AECPFYFQVRUWC3KGNLJIOREFP5LQ,AGYYVPDD7YG7FYNBX...</td>\n",
       "      <td>ArdKn,Nirbhay kumar,Sagar Viswanathan,Asp,Plac...</td>\n",
       "      <td>RGIQEG07R9HS2,R1SMWZQ86XIN8U,R2J3Y1WL29GWDE,RY...</td>\n",
       "      <td>A Good Braided Cable for Your Type C Device,Go...</td>\n",
       "      <td>I ordered this cable to connect my phone to An...</td>\n",
       "      <td>https://m.media-amazon.com/images/W/WEBP_40237...</td>\n",
       "      <td>https://www.amazon.in/Ambrane-Unbreakable-Char...</td>\n",
       "    </tr>\n",
       "    <tr>\n",
       "      <th>2</th>\n",
       "      <td>B096MSW6CT</td>\n",
       "      <td>Sounce Fast Phone Charging Cable &amp; Data Sync U...</td>\n",
       "      <td>Computers&amp;Accessories|Accessories&amp;Peripherals|...</td>\n",
       "      <td>₹199</td>\n",
       "      <td>₹1,899</td>\n",
       "      <td>90%</td>\n",
       "      <td>3.9</td>\n",
       "      <td>7,928</td>\n",
       "      <td>【 Fast Charger&amp; Data Sync】-With built-in safet...</td>\n",
       "      <td>AGU3BBQ2V2DDAMOAKGFAWDDQ6QHA,AESFLDV2PT363T2AQ...</td>\n",
       "      <td>Kunal,Himanshu,viswanath,sai niharka,saqib mal...</td>\n",
       "      <td>R3J3EQQ9TZI5ZJ,R3E7WBGK7ID0KV,RWU79XKQ6I1QF,R2...</td>\n",
       "      <td>Good speed for earlier versions,Good Product,W...</td>\n",
       "      <td>Not quite durable and sturdy,https://m.media-a...</td>\n",
       "      <td>https://m.media-amazon.com/images/W/WEBP_40237...</td>\n",
       "      <td>https://www.amazon.in/Sounce-iPhone-Charging-C...</td>\n",
       "    </tr>\n",
       "    <tr>\n",
       "      <th>3</th>\n",
       "      <td>B08HDJ86NZ</td>\n",
       "      <td>boAt Deuce USB 300 2 in 1 Type-C &amp; Micro USB S...</td>\n",
       "      <td>Computers&amp;Accessories|Accessories&amp;Peripherals|...</td>\n",
       "      <td>₹329</td>\n",
       "      <td>₹699</td>\n",
       "      <td>53%</td>\n",
       "      <td>4.2</td>\n",
       "      <td>94,363</td>\n",
       "      <td>The boAt Deuce USB 300 2 in 1 cable is compati...</td>\n",
       "      <td>AEWAZDZZJLQUYVOVGBEUKSLXHQ5A,AG5HTSFRRE6NL3M5S...</td>\n",
       "      <td>Omkar dhale,JD,HEMALATHA,Ajwadh a.,amar singh ...</td>\n",
       "      <td>R3EEUZKKK9J36I,R3HJVYCLYOY554,REDECAZ7AMPQC,R1...</td>\n",
       "      <td>Good product,Good one,Nice,Really nice product...</td>\n",
       "      <td>Good product,long wire,Charges good,Nice,I bou...</td>\n",
       "      <td>https://m.media-amazon.com/images/I/41V5FtEWPk...</td>\n",
       "      <td>https://www.amazon.in/Deuce-300-Resistant-Tang...</td>\n",
       "    </tr>\n",
       "    <tr>\n",
       "      <th>4</th>\n",
       "      <td>B08CF3B7N1</td>\n",
       "      <td>Portronics Konnect L 1.2M Fast Charging 3A 8 P...</td>\n",
       "      <td>Computers&amp;Accessories|Accessories&amp;Peripherals|...</td>\n",
       "      <td>₹154</td>\n",
       "      <td>₹399</td>\n",
       "      <td>61%</td>\n",
       "      <td>4.2</td>\n",
       "      <td>16,905</td>\n",
       "      <td>[CHARGE &amp; SYNC FUNCTION]- This cable comes wit...</td>\n",
       "      <td>AE3Q6KSUK5P75D5HFYHCRAOLODSA,AFUGIFH5ZAFXRDSZH...</td>\n",
       "      <td>rahuls6099,Swasat Borah,Ajay Wadke,Pranali,RVK...</td>\n",
       "      <td>R1BP4L2HH9TFUP,R16PVJEXKV6QZS,R2UPDB81N66T4P,R...</td>\n",
       "      <td>As good as original,Decent,Good one for second...</td>\n",
       "      <td>Bought this instead of original apple, does th...</td>\n",
       "      <td>https://m.media-amazon.com/images/W/WEBP_40237...</td>\n",
       "      <td>https://www.amazon.in/Portronics-Konnect-POR-1...</td>\n",
       "    </tr>\n",
       "    <tr>\n",
       "      <th>...</th>\n",
       "      <td>...</td>\n",
       "      <td>...</td>\n",
       "      <td>...</td>\n",
       "      <td>...</td>\n",
       "      <td>...</td>\n",
       "      <td>...</td>\n",
       "      <td>...</td>\n",
       "      <td>...</td>\n",
       "      <td>...</td>\n",
       "      <td>...</td>\n",
       "      <td>...</td>\n",
       "      <td>...</td>\n",
       "      <td>...</td>\n",
       "      <td>...</td>\n",
       "      <td>...</td>\n",
       "      <td>...</td>\n",
       "    </tr>\n",
       "    <tr>\n",
       "      <th>1460</th>\n",
       "      <td>B08L7J3T31</td>\n",
       "      <td>Noir Aqua - 5pcs PP Spun Filter + 1 Spanner | ...</td>\n",
       "      <td>Home&amp;Kitchen|Kitchen&amp;HomeAppliances|WaterPurif...</td>\n",
       "      <td>₹379</td>\n",
       "      <td>₹919</td>\n",
       "      <td>59%</td>\n",
       "      <td>4</td>\n",
       "      <td>1,090</td>\n",
       "      <td>SUPREME QUALITY 90 GRAM 3 LAYER THIK PP SPUN F...</td>\n",
       "      <td>AHITFY6AHALOFOHOZEOC6XBP4FEA,AFRABBODZJZQB6Z4U...</td>\n",
       "      <td>Prabha ds,Raghuram bk,Real Deal,Amazon Custome...</td>\n",
       "      <td>R3G3XFHPBFF0E8,R3C0BZCD32EIGW,R2EBVBCN9QPD9R,R...</td>\n",
       "      <td>Received the product without spanner,Excellent...</td>\n",
       "      <td>I received product without spanner,Excellent p...</td>\n",
       "      <td>https://m.media-amazon.com/images/I/41fDdRtjfx...</td>\n",
       "      <td>https://www.amazon.in/Noir-Aqua-Spanner-Purifi...</td>\n",
       "    </tr>\n",
       "    <tr>\n",
       "      <th>1461</th>\n",
       "      <td>B01M6453MB</td>\n",
       "      <td>Prestige Delight PRWO Electric Rice Cooker (1 ...</td>\n",
       "      <td>Home&amp;Kitchen|Kitchen&amp;HomeAppliances|SmallKitch...</td>\n",
       "      <td>₹2,280</td>\n",
       "      <td>₹3,045</td>\n",
       "      <td>25%</td>\n",
       "      <td>4.1</td>\n",
       "      <td>4,118</td>\n",
       "      <td>230 Volts, 400 watts, 1 Year</td>\n",
       "      <td>AFG5FM3NEMOL6BNFRV2NK5FNJCHQ,AGEINTRN6Z563RMLH...</td>\n",
       "      <td>Manu Bhai,Naveenpittu,Evatira Sangma,JAGANNADH...</td>\n",
       "      <td>R3DDL2UPKQ2CK9,R2SYYU1OATVIU5,R1VM993161IYRW,R...</td>\n",
       "      <td>ok,everything was good couldn't return bcoz I ...</td>\n",
       "      <td>ok,got everything as mentioned but the measuri...</td>\n",
       "      <td>https://m.media-amazon.com/images/I/41gzDxk4+k...</td>\n",
       "      <td>https://www.amazon.in/Prestige-Delight-PRWO-1-...</td>\n",
       "    </tr>\n",
       "    <tr>\n",
       "      <th>1462</th>\n",
       "      <td>B009P2LIL4</td>\n",
       "      <td>Bajaj Majesty RX10 2000 Watts Heat Convector R...</td>\n",
       "      <td>Home&amp;Kitchen|Heating,Cooling&amp;AirQuality|RoomHe...</td>\n",
       "      <td>₹2,219</td>\n",
       "      <td>₹3,080</td>\n",
       "      <td>28%</td>\n",
       "      <td>3.6</td>\n",
       "      <td>468</td>\n",
       "      <td>International design and styling|Two heat sett...</td>\n",
       "      <td>AGVPWCMAHYQWJOQKMUJN4DW3KM5Q,AF4Q3E66MY4SR7YQZ...</td>\n",
       "      <td>Nehal Desai,Danish Parwez,Amazon Customer,Amaz...</td>\n",
       "      <td>R1TLRJVW4STY5I,R2O455KRN493R1,R3Q5MVGBRIAS2G,R...</td>\n",
       "      <td>very good,Work but front melt after 2 month,Go...</td>\n",
       "      <td>plastic but cool body ,u have to find sturdy s...</td>\n",
       "      <td>https://m.media-amazon.com/images/W/WEBP_40237...</td>\n",
       "      <td>https://www.amazon.in/Bajaj-RX-10-2000-Watt-Co...</td>\n",
       "    </tr>\n",
       "    <tr>\n",
       "      <th>1463</th>\n",
       "      <td>B00J5DYCCA</td>\n",
       "      <td>Havells Ventil Air DSP 230mm Exhaust Fan (Pist...</td>\n",
       "      <td>Home&amp;Kitchen|Heating,Cooling&amp;AirQuality|Fans|E...</td>\n",
       "      <td>₹1,399</td>\n",
       "      <td>₹1,890</td>\n",
       "      <td>26%</td>\n",
       "      <td>4</td>\n",
       "      <td>8,031</td>\n",
       "      <td>Fan sweep area: 230 MM ; Noise level: (40 - 45...</td>\n",
       "      <td>AF2JQCLSCY3QJATWUNNHUSVUPNQQ,AFDMLUXC5LS5RXDJS...</td>\n",
       "      <td>Shubham Dubey,E.GURUBARAN,Mayank S.,eusuf khan...</td>\n",
       "      <td>R39Q2Y79MM9SWK,R3079BG1NIH6MB,R29A31ZELTZNJM,R...</td>\n",
       "      <td>Fan Speed is slow,Good quality,Good product,go...</td>\n",
       "      <td>I have installed this in my kitchen working fi...</td>\n",
       "      <td>https://m.media-amazon.com/images/W/WEBP_40237...</td>\n",
       "      <td>https://www.amazon.in/Havells-Ventilair-230mm-...</td>\n",
       "    </tr>\n",
       "    <tr>\n",
       "      <th>1464</th>\n",
       "      <td>B01486F4G6</td>\n",
       "      <td>Borosil Jumbo 1000-Watt Grill Sandwich Maker (...</td>\n",
       "      <td>Home&amp;Kitchen|Kitchen&amp;HomeAppliances|SmallKitch...</td>\n",
       "      <td>₹2,863</td>\n",
       "      <td>₹3,690</td>\n",
       "      <td>22%</td>\n",
       "      <td>4.3</td>\n",
       "      <td>6,987</td>\n",
       "      <td>Brand-Borosil, Specification â€“ 23V ~ 5Hz;1 W...</td>\n",
       "      <td>AFGW5PT3R6ZAVQR4Y5MWVAKBZAYA,AG7QNJ2SCS5VS5VYY...</td>\n",
       "      <td>Rajib,Ajay B,Vikas Kahol,PARDEEP,Anindya Prama...</td>\n",
       "      <td>R20RBRZ0WEUJT9,ROKIFK9R2ISSE,R30EEG2FNJSN5I,R2...</td>\n",
       "      <td>Works perfect,Ok good product,Nice Product. Re...</td>\n",
       "      <td>It does it job perfectly..only issue is temp c...</td>\n",
       "      <td>https://m.media-amazon.com/images/W/WEBP_40237...</td>\n",
       "      <td>https://www.amazon.in/Borosil-Jumbo-1000-Watt-...</td>\n",
       "    </tr>\n",
       "  </tbody>\n",
       "</table>\n",
       "<p>1465 rows × 16 columns</p>\n",
       "</div>"
      ],
      "text/plain": [
       "      product_id                                       product_name  \\\n",
       "0     B07JW9H4J1  Wayona Nylon Braided USB to Lightning Fast Cha...   \n",
       "1     B098NS6PVG  Ambrane Unbreakable 60W / 3A Fast Charging 1.5...   \n",
       "2     B096MSW6CT  Sounce Fast Phone Charging Cable & Data Sync U...   \n",
       "3     B08HDJ86NZ  boAt Deuce USB 300 2 in 1 Type-C & Micro USB S...   \n",
       "4     B08CF3B7N1  Portronics Konnect L 1.2M Fast Charging 3A 8 P...   \n",
       "...          ...                                                ...   \n",
       "1460  B08L7J3T31  Noir Aqua - 5pcs PP Spun Filter + 1 Spanner | ...   \n",
       "1461  B01M6453MB  Prestige Delight PRWO Electric Rice Cooker (1 ...   \n",
       "1462  B009P2LIL4  Bajaj Majesty RX10 2000 Watts Heat Convector R...   \n",
       "1463  B00J5DYCCA  Havells Ventil Air DSP 230mm Exhaust Fan (Pist...   \n",
       "1464  B01486F4G6  Borosil Jumbo 1000-Watt Grill Sandwich Maker (...   \n",
       "\n",
       "                                               category discounted_price  \\\n",
       "0     Computers&Accessories|Accessories&Peripherals|...             ₹399   \n",
       "1     Computers&Accessories|Accessories&Peripherals|...             ₹199   \n",
       "2     Computers&Accessories|Accessories&Peripherals|...             ₹199   \n",
       "3     Computers&Accessories|Accessories&Peripherals|...             ₹329   \n",
       "4     Computers&Accessories|Accessories&Peripherals|...             ₹154   \n",
       "...                                                 ...              ...   \n",
       "1460  Home&Kitchen|Kitchen&HomeAppliances|WaterPurif...             ₹379   \n",
       "1461  Home&Kitchen|Kitchen&HomeAppliances|SmallKitch...           ₹2,280   \n",
       "1462  Home&Kitchen|Heating,Cooling&AirQuality|RoomHe...           ₹2,219   \n",
       "1463  Home&Kitchen|Heating,Cooling&AirQuality|Fans|E...           ₹1,399   \n",
       "1464  Home&Kitchen|Kitchen&HomeAppliances|SmallKitch...           ₹2,863   \n",
       "\n",
       "     actual_price discount_percentage rating rating_count  \\\n",
       "0          ₹1,099                 64%    4.2       24,269   \n",
       "1            ₹349                 43%    4.0       43,994   \n",
       "2          ₹1,899                 90%    3.9        7,928   \n",
       "3            ₹699                 53%    4.2       94,363   \n",
       "4            ₹399                 61%    4.2       16,905   \n",
       "...           ...                 ...    ...          ...   \n",
       "1460         ₹919                 59%      4        1,090   \n",
       "1461       ₹3,045                 25%    4.1        4,118   \n",
       "1462       ₹3,080                 28%    3.6          468   \n",
       "1463       ₹1,890                 26%      4        8,031   \n",
       "1464       ₹3,690                 22%    4.3        6,987   \n",
       "\n",
       "                                          about_product  \\\n",
       "0     High Compatibility : Compatible With iPhone 12...   \n",
       "1     Compatible with all Type C enabled devices, be...   \n",
       "2     【 Fast Charger& Data Sync】-With built-in safet...   \n",
       "3     The boAt Deuce USB 300 2 in 1 cable is compati...   \n",
       "4     [CHARGE & SYNC FUNCTION]- This cable comes wit...   \n",
       "...                                                 ...   \n",
       "1460  SUPREME QUALITY 90 GRAM 3 LAYER THIK PP SPUN F...   \n",
       "1461                       230 Volts, 400 watts, 1 Year   \n",
       "1462  International design and styling|Two heat sett...   \n",
       "1463  Fan sweep area: 230 MM ; Noise level: (40 - 45...   \n",
       "1464  Brand-Borosil, Specification â€“ 23V ~ 5Hz;1 W...   \n",
       "\n",
       "                                                user_id  \\\n",
       "0     AG3D6O4STAQKAY2UVGEUV46KN35Q,AHMY5CWJMMK5BJRBB...   \n",
       "1     AECPFYFQVRUWC3KGNLJIOREFP5LQ,AGYYVPDD7YG7FYNBX...   \n",
       "2     AGU3BBQ2V2DDAMOAKGFAWDDQ6QHA,AESFLDV2PT363T2AQ...   \n",
       "3     AEWAZDZZJLQUYVOVGBEUKSLXHQ5A,AG5HTSFRRE6NL3M5S...   \n",
       "4     AE3Q6KSUK5P75D5HFYHCRAOLODSA,AFUGIFH5ZAFXRDSZH...   \n",
       "...                                                 ...   \n",
       "1460  AHITFY6AHALOFOHOZEOC6XBP4FEA,AFRABBODZJZQB6Z4U...   \n",
       "1461  AFG5FM3NEMOL6BNFRV2NK5FNJCHQ,AGEINTRN6Z563RMLH...   \n",
       "1462  AGVPWCMAHYQWJOQKMUJN4DW3KM5Q,AF4Q3E66MY4SR7YQZ...   \n",
       "1463  AF2JQCLSCY3QJATWUNNHUSVUPNQQ,AFDMLUXC5LS5RXDJS...   \n",
       "1464  AFGW5PT3R6ZAVQR4Y5MWVAKBZAYA,AG7QNJ2SCS5VS5VYY...   \n",
       "\n",
       "                                              user_name  \\\n",
       "0     Manav,Adarsh gupta,Sundeep,S.Sayeed Ahmed,jasp...   \n",
       "1     ArdKn,Nirbhay kumar,Sagar Viswanathan,Asp,Plac...   \n",
       "2     Kunal,Himanshu,viswanath,sai niharka,saqib mal...   \n",
       "3     Omkar dhale,JD,HEMALATHA,Ajwadh a.,amar singh ...   \n",
       "4     rahuls6099,Swasat Borah,Ajay Wadke,Pranali,RVK...   \n",
       "...                                                 ...   \n",
       "1460  Prabha ds,Raghuram bk,Real Deal,Amazon Custome...   \n",
       "1461  Manu Bhai,Naveenpittu,Evatira Sangma,JAGANNADH...   \n",
       "1462  Nehal Desai,Danish Parwez,Amazon Customer,Amaz...   \n",
       "1463  Shubham Dubey,E.GURUBARAN,Mayank S.,eusuf khan...   \n",
       "1464  Rajib,Ajay B,Vikas Kahol,PARDEEP,Anindya Prama...   \n",
       "\n",
       "                                              review_id  \\\n",
       "0     R3HXWT0LRP0NMF,R2AJM3LFTLZHFO,R6AQJGUP6P86,R1K...   \n",
       "1     RGIQEG07R9HS2,R1SMWZQ86XIN8U,R2J3Y1WL29GWDE,RY...   \n",
       "2     R3J3EQQ9TZI5ZJ,R3E7WBGK7ID0KV,RWU79XKQ6I1QF,R2...   \n",
       "3     R3EEUZKKK9J36I,R3HJVYCLYOY554,REDECAZ7AMPQC,R1...   \n",
       "4     R1BP4L2HH9TFUP,R16PVJEXKV6QZS,R2UPDB81N66T4P,R...   \n",
       "...                                                 ...   \n",
       "1460  R3G3XFHPBFF0E8,R3C0BZCD32EIGW,R2EBVBCN9QPD9R,R...   \n",
       "1461  R3DDL2UPKQ2CK9,R2SYYU1OATVIU5,R1VM993161IYRW,R...   \n",
       "1462  R1TLRJVW4STY5I,R2O455KRN493R1,R3Q5MVGBRIAS2G,R...   \n",
       "1463  R39Q2Y79MM9SWK,R3079BG1NIH6MB,R29A31ZELTZNJM,R...   \n",
       "1464  R20RBRZ0WEUJT9,ROKIFK9R2ISSE,R30EEG2FNJSN5I,R2...   \n",
       "\n",
       "                                           review_title  \\\n",
       "0     Satisfied,Charging is really fast,Value for mo...   \n",
       "1     A Good Braided Cable for Your Type C Device,Go...   \n",
       "2     Good speed for earlier versions,Good Product,W...   \n",
       "3     Good product,Good one,Nice,Really nice product...   \n",
       "4     As good as original,Decent,Good one for second...   \n",
       "...                                                 ...   \n",
       "1460  Received the product without spanner,Excellent...   \n",
       "1461  ok,everything was good couldn't return bcoz I ...   \n",
       "1462  very good,Work but front melt after 2 month,Go...   \n",
       "1463  Fan Speed is slow,Good quality,Good product,go...   \n",
       "1464  Works perfect,Ok good product,Nice Product. Re...   \n",
       "\n",
       "                                         review_content  \\\n",
       "0     Looks durable Charging is fine tooNo complains...   \n",
       "1     I ordered this cable to connect my phone to An...   \n",
       "2     Not quite durable and sturdy,https://m.media-a...   \n",
       "3     Good product,long wire,Charges good,Nice,I bou...   \n",
       "4     Bought this instead of original apple, does th...   \n",
       "...                                                 ...   \n",
       "1460  I received product without spanner,Excellent p...   \n",
       "1461  ok,got everything as mentioned but the measuri...   \n",
       "1462  plastic but cool body ,u have to find sturdy s...   \n",
       "1463  I have installed this in my kitchen working fi...   \n",
       "1464  It does it job perfectly..only issue is temp c...   \n",
       "\n",
       "                                               img_link  \\\n",
       "0     https://m.media-amazon.com/images/W/WEBP_40237...   \n",
       "1     https://m.media-amazon.com/images/W/WEBP_40237...   \n",
       "2     https://m.media-amazon.com/images/W/WEBP_40237...   \n",
       "3     https://m.media-amazon.com/images/I/41V5FtEWPk...   \n",
       "4     https://m.media-amazon.com/images/W/WEBP_40237...   \n",
       "...                                                 ...   \n",
       "1460  https://m.media-amazon.com/images/I/41fDdRtjfx...   \n",
       "1461  https://m.media-amazon.com/images/I/41gzDxk4+k...   \n",
       "1462  https://m.media-amazon.com/images/W/WEBP_40237...   \n",
       "1463  https://m.media-amazon.com/images/W/WEBP_40237...   \n",
       "1464  https://m.media-amazon.com/images/W/WEBP_40237...   \n",
       "\n",
       "                                           product_link  \n",
       "0     https://www.amazon.in/Wayona-Braided-WN3LG1-Sy...  \n",
       "1     https://www.amazon.in/Ambrane-Unbreakable-Char...  \n",
       "2     https://www.amazon.in/Sounce-iPhone-Charging-C...  \n",
       "3     https://www.amazon.in/Deuce-300-Resistant-Tang...  \n",
       "4     https://www.amazon.in/Portronics-Konnect-POR-1...  \n",
       "...                                                 ...  \n",
       "1460  https://www.amazon.in/Noir-Aqua-Spanner-Purifi...  \n",
       "1461  https://www.amazon.in/Prestige-Delight-PRWO-1-...  \n",
       "1462  https://www.amazon.in/Bajaj-RX-10-2000-Watt-Co...  \n",
       "1463  https://www.amazon.in/Havells-Ventilair-230mm-...  \n",
       "1464  https://www.amazon.in/Borosil-Jumbo-1000-Watt-...  \n",
       "\n",
       "[1465 rows x 16 columns]"
      ]
     },
     "execution_count": 18,
     "metadata": {},
     "output_type": "execute_result"
    }
   ],
   "source": [
    "df = pd.read_csv('Amazon.csv')\n",
    "df"
   ]
  },
  {
   "cell_type": "code",
   "execution_count": 19,
   "id": "21f4cbc9-87ff-471d-8684-e245729df064",
   "metadata": {},
   "outputs": [
    {
     "data": {
      "text/html": [
       "<div>\n",
       "<style scoped>\n",
       "    .dataframe tbody tr th:only-of-type {\n",
       "        vertical-align: middle;\n",
       "    }\n",
       "\n",
       "    .dataframe tbody tr th {\n",
       "        vertical-align: top;\n",
       "    }\n",
       "\n",
       "    .dataframe thead th {\n",
       "        text-align: right;\n",
       "    }\n",
       "</style>\n",
       "<table border=\"1\" class=\"dataframe\">\n",
       "  <thead>\n",
       "    <tr style=\"text-align: right;\">\n",
       "      <th></th>\n",
       "      <th>product_id</th>\n",
       "      <th>product_name</th>\n",
       "      <th>category</th>\n",
       "      <th>discounted_price</th>\n",
       "      <th>actual_price</th>\n",
       "      <th>discount_percentage</th>\n",
       "      <th>rating</th>\n",
       "      <th>rating_count</th>\n",
       "      <th>about_product</th>\n",
       "      <th>user_id</th>\n",
       "      <th>user_name</th>\n",
       "      <th>review_id</th>\n",
       "      <th>review_title</th>\n",
       "      <th>review_content</th>\n",
       "      <th>img_link</th>\n",
       "      <th>product_link</th>\n",
       "    </tr>\n",
       "  </thead>\n",
       "  <tbody>\n",
       "    <tr>\n",
       "      <th>0</th>\n",
       "      <td>B07JW9H4J1</td>\n",
       "      <td>Wayona Nylon Braided USB to Lightning Fast Cha...</td>\n",
       "      <td>Computers&amp;Accessories|Accessories&amp;Peripherals|...</td>\n",
       "      <td>₹399</td>\n",
       "      <td>₹1,099</td>\n",
       "      <td>64%</td>\n",
       "      <td>4.2</td>\n",
       "      <td>24,269</td>\n",
       "      <td>High Compatibility : Compatible With iPhone 12...</td>\n",
       "      <td>AG3D6O4STAQKAY2UVGEUV46KN35Q,AHMY5CWJMMK5BJRBB...</td>\n",
       "      <td>Manav,Adarsh gupta,Sundeep,S.Sayeed Ahmed,jasp...</td>\n",
       "      <td>R3HXWT0LRP0NMF,R2AJM3LFTLZHFO,R6AQJGUP6P86,R1K...</td>\n",
       "      <td>Satisfied,Charging is really fast,Value for mo...</td>\n",
       "      <td>Looks durable Charging is fine tooNo complains...</td>\n",
       "      <td>https://m.media-amazon.com/images/W/WEBP_40237...</td>\n",
       "      <td>https://www.amazon.in/Wayona-Braided-WN3LG1-Sy...</td>\n",
       "    </tr>\n",
       "    <tr>\n",
       "      <th>1</th>\n",
       "      <td>B098NS6PVG</td>\n",
       "      <td>Ambrane Unbreakable 60W / 3A Fast Charging 1.5...</td>\n",
       "      <td>Computers&amp;Accessories|Accessories&amp;Peripherals|...</td>\n",
       "      <td>₹199</td>\n",
       "      <td>₹349</td>\n",
       "      <td>43%</td>\n",
       "      <td>4.0</td>\n",
       "      <td>43,994</td>\n",
       "      <td>Compatible with all Type C enabled devices, be...</td>\n",
       "      <td>AECPFYFQVRUWC3KGNLJIOREFP5LQ,AGYYVPDD7YG7FYNBX...</td>\n",
       "      <td>ArdKn,Nirbhay kumar,Sagar Viswanathan,Asp,Plac...</td>\n",
       "      <td>RGIQEG07R9HS2,R1SMWZQ86XIN8U,R2J3Y1WL29GWDE,RY...</td>\n",
       "      <td>A Good Braided Cable for Your Type C Device,Go...</td>\n",
       "      <td>I ordered this cable to connect my phone to An...</td>\n",
       "      <td>https://m.media-amazon.com/images/W/WEBP_40237...</td>\n",
       "      <td>https://www.amazon.in/Ambrane-Unbreakable-Char...</td>\n",
       "    </tr>\n",
       "    <tr>\n",
       "      <th>2</th>\n",
       "      <td>B096MSW6CT</td>\n",
       "      <td>Sounce Fast Phone Charging Cable &amp; Data Sync U...</td>\n",
       "      <td>Computers&amp;Accessories|Accessories&amp;Peripherals|...</td>\n",
       "      <td>₹199</td>\n",
       "      <td>₹1,899</td>\n",
       "      <td>90%</td>\n",
       "      <td>3.9</td>\n",
       "      <td>7,928</td>\n",
       "      <td>【 Fast Charger&amp; Data Sync】-With built-in safet...</td>\n",
       "      <td>AGU3BBQ2V2DDAMOAKGFAWDDQ6QHA,AESFLDV2PT363T2AQ...</td>\n",
       "      <td>Kunal,Himanshu,viswanath,sai niharka,saqib mal...</td>\n",
       "      <td>R3J3EQQ9TZI5ZJ,R3E7WBGK7ID0KV,RWU79XKQ6I1QF,R2...</td>\n",
       "      <td>Good speed for earlier versions,Good Product,W...</td>\n",
       "      <td>Not quite durable and sturdy,https://m.media-a...</td>\n",
       "      <td>https://m.media-amazon.com/images/W/WEBP_40237...</td>\n",
       "      <td>https://www.amazon.in/Sounce-iPhone-Charging-C...</td>\n",
       "    </tr>\n",
       "    <tr>\n",
       "      <th>3</th>\n",
       "      <td>B08HDJ86NZ</td>\n",
       "      <td>boAt Deuce USB 300 2 in 1 Type-C &amp; Micro USB S...</td>\n",
       "      <td>Computers&amp;Accessories|Accessories&amp;Peripherals|...</td>\n",
       "      <td>₹329</td>\n",
       "      <td>₹699</td>\n",
       "      <td>53%</td>\n",
       "      <td>4.2</td>\n",
       "      <td>94,363</td>\n",
       "      <td>The boAt Deuce USB 300 2 in 1 cable is compati...</td>\n",
       "      <td>AEWAZDZZJLQUYVOVGBEUKSLXHQ5A,AG5HTSFRRE6NL3M5S...</td>\n",
       "      <td>Omkar dhale,JD,HEMALATHA,Ajwadh a.,amar singh ...</td>\n",
       "      <td>R3EEUZKKK9J36I,R3HJVYCLYOY554,REDECAZ7AMPQC,R1...</td>\n",
       "      <td>Good product,Good one,Nice,Really nice product...</td>\n",
       "      <td>Good product,long wire,Charges good,Nice,I bou...</td>\n",
       "      <td>https://m.media-amazon.com/images/I/41V5FtEWPk...</td>\n",
       "      <td>https://www.amazon.in/Deuce-300-Resistant-Tang...</td>\n",
       "    </tr>\n",
       "    <tr>\n",
       "      <th>4</th>\n",
       "      <td>B08CF3B7N1</td>\n",
       "      <td>Portronics Konnect L 1.2M Fast Charging 3A 8 P...</td>\n",
       "      <td>Computers&amp;Accessories|Accessories&amp;Peripherals|...</td>\n",
       "      <td>₹154</td>\n",
       "      <td>₹399</td>\n",
       "      <td>61%</td>\n",
       "      <td>4.2</td>\n",
       "      <td>16,905</td>\n",
       "      <td>[CHARGE &amp; SYNC FUNCTION]- This cable comes wit...</td>\n",
       "      <td>AE3Q6KSUK5P75D5HFYHCRAOLODSA,AFUGIFH5ZAFXRDSZH...</td>\n",
       "      <td>rahuls6099,Swasat Borah,Ajay Wadke,Pranali,RVK...</td>\n",
       "      <td>R1BP4L2HH9TFUP,R16PVJEXKV6QZS,R2UPDB81N66T4P,R...</td>\n",
       "      <td>As good as original,Decent,Good one for second...</td>\n",
       "      <td>Bought this instead of original apple, does th...</td>\n",
       "      <td>https://m.media-amazon.com/images/W/WEBP_40237...</td>\n",
       "      <td>https://www.amazon.in/Portronics-Konnect-POR-1...</td>\n",
       "    </tr>\n",
       "  </tbody>\n",
       "</table>\n",
       "</div>"
      ],
      "text/plain": [
       "   product_id                                       product_name  \\\n",
       "0  B07JW9H4J1  Wayona Nylon Braided USB to Lightning Fast Cha...   \n",
       "1  B098NS6PVG  Ambrane Unbreakable 60W / 3A Fast Charging 1.5...   \n",
       "2  B096MSW6CT  Sounce Fast Phone Charging Cable & Data Sync U...   \n",
       "3  B08HDJ86NZ  boAt Deuce USB 300 2 in 1 Type-C & Micro USB S...   \n",
       "4  B08CF3B7N1  Portronics Konnect L 1.2M Fast Charging 3A 8 P...   \n",
       "\n",
       "                                            category discounted_price  \\\n",
       "0  Computers&Accessories|Accessories&Peripherals|...             ₹399   \n",
       "1  Computers&Accessories|Accessories&Peripherals|...             ₹199   \n",
       "2  Computers&Accessories|Accessories&Peripherals|...             ₹199   \n",
       "3  Computers&Accessories|Accessories&Peripherals|...             ₹329   \n",
       "4  Computers&Accessories|Accessories&Peripherals|...             ₹154   \n",
       "\n",
       "  actual_price discount_percentage rating rating_count  \\\n",
       "0       ₹1,099                 64%    4.2       24,269   \n",
       "1         ₹349                 43%    4.0       43,994   \n",
       "2       ₹1,899                 90%    3.9        7,928   \n",
       "3         ₹699                 53%    4.2       94,363   \n",
       "4         ₹399                 61%    4.2       16,905   \n",
       "\n",
       "                                       about_product  \\\n",
       "0  High Compatibility : Compatible With iPhone 12...   \n",
       "1  Compatible with all Type C enabled devices, be...   \n",
       "2  【 Fast Charger& Data Sync】-With built-in safet...   \n",
       "3  The boAt Deuce USB 300 2 in 1 cable is compati...   \n",
       "4  [CHARGE & SYNC FUNCTION]- This cable comes wit...   \n",
       "\n",
       "                                             user_id  \\\n",
       "0  AG3D6O4STAQKAY2UVGEUV46KN35Q,AHMY5CWJMMK5BJRBB...   \n",
       "1  AECPFYFQVRUWC3KGNLJIOREFP5LQ,AGYYVPDD7YG7FYNBX...   \n",
       "2  AGU3BBQ2V2DDAMOAKGFAWDDQ6QHA,AESFLDV2PT363T2AQ...   \n",
       "3  AEWAZDZZJLQUYVOVGBEUKSLXHQ5A,AG5HTSFRRE6NL3M5S...   \n",
       "4  AE3Q6KSUK5P75D5HFYHCRAOLODSA,AFUGIFH5ZAFXRDSZH...   \n",
       "\n",
       "                                           user_name  \\\n",
       "0  Manav,Adarsh gupta,Sundeep,S.Sayeed Ahmed,jasp...   \n",
       "1  ArdKn,Nirbhay kumar,Sagar Viswanathan,Asp,Plac...   \n",
       "2  Kunal,Himanshu,viswanath,sai niharka,saqib mal...   \n",
       "3  Omkar dhale,JD,HEMALATHA,Ajwadh a.,amar singh ...   \n",
       "4  rahuls6099,Swasat Borah,Ajay Wadke,Pranali,RVK...   \n",
       "\n",
       "                                           review_id  \\\n",
       "0  R3HXWT0LRP0NMF,R2AJM3LFTLZHFO,R6AQJGUP6P86,R1K...   \n",
       "1  RGIQEG07R9HS2,R1SMWZQ86XIN8U,R2J3Y1WL29GWDE,RY...   \n",
       "2  R3J3EQQ9TZI5ZJ,R3E7WBGK7ID0KV,RWU79XKQ6I1QF,R2...   \n",
       "3  R3EEUZKKK9J36I,R3HJVYCLYOY554,REDECAZ7AMPQC,R1...   \n",
       "4  R1BP4L2HH9TFUP,R16PVJEXKV6QZS,R2UPDB81N66T4P,R...   \n",
       "\n",
       "                                        review_title  \\\n",
       "0  Satisfied,Charging is really fast,Value for mo...   \n",
       "1  A Good Braided Cable for Your Type C Device,Go...   \n",
       "2  Good speed for earlier versions,Good Product,W...   \n",
       "3  Good product,Good one,Nice,Really nice product...   \n",
       "4  As good as original,Decent,Good one for second...   \n",
       "\n",
       "                                      review_content  \\\n",
       "0  Looks durable Charging is fine tooNo complains...   \n",
       "1  I ordered this cable to connect my phone to An...   \n",
       "2  Not quite durable and sturdy,https://m.media-a...   \n",
       "3  Good product,long wire,Charges good,Nice,I bou...   \n",
       "4  Bought this instead of original apple, does th...   \n",
       "\n",
       "                                            img_link  \\\n",
       "0  https://m.media-amazon.com/images/W/WEBP_40237...   \n",
       "1  https://m.media-amazon.com/images/W/WEBP_40237...   \n",
       "2  https://m.media-amazon.com/images/W/WEBP_40237...   \n",
       "3  https://m.media-amazon.com/images/I/41V5FtEWPk...   \n",
       "4  https://m.media-amazon.com/images/W/WEBP_40237...   \n",
       "\n",
       "                                        product_link  \n",
       "0  https://www.amazon.in/Wayona-Braided-WN3LG1-Sy...  \n",
       "1  https://www.amazon.in/Ambrane-Unbreakable-Char...  \n",
       "2  https://www.amazon.in/Sounce-iPhone-Charging-C...  \n",
       "3  https://www.amazon.in/Deuce-300-Resistant-Tang...  \n",
       "4  https://www.amazon.in/Portronics-Konnect-POR-1...  "
      ]
     },
     "execution_count": 19,
     "metadata": {},
     "output_type": "execute_result"
    }
   ],
   "source": [
    "df.head()"
   ]
  },
  {
   "cell_type": "code",
   "execution_count": 20,
   "id": "de413433-0561-4aa7-bd12-dca8c96ea9b9",
   "metadata": {},
   "outputs": [
    {
     "data": {
      "text/plain": [
       "(1465, 16)"
      ]
     },
     "execution_count": 20,
     "metadata": {},
     "output_type": "execute_result"
    }
   ],
   "source": [
    "df.shape"
   ]
  },
  {
   "cell_type": "code",
   "execution_count": 21,
   "id": "96d13cdc-2cdb-433a-9c61-41af7e5ed217",
   "metadata": {},
   "outputs": [
    {
     "name": "stdout",
     "output_type": "stream",
     "text": [
      "<class 'pandas.core.frame.DataFrame'>\n",
      "RangeIndex: 1465 entries, 0 to 1464\n",
      "Data columns (total 16 columns):\n",
      " #   Column               Non-Null Count  Dtype \n",
      "---  ------               --------------  ----- \n",
      " 0   product_id           1465 non-null   object\n",
      " 1   product_name         1465 non-null   object\n",
      " 2   category             1465 non-null   object\n",
      " 3   discounted_price     1465 non-null   object\n",
      " 4   actual_price         1465 non-null   object\n",
      " 5   discount_percentage  1465 non-null   object\n",
      " 6   rating               1465 non-null   object\n",
      " 7   rating_count         1463 non-null   object\n",
      " 8   about_product        1465 non-null   object\n",
      " 9   user_id              1465 non-null   object\n",
      " 10  user_name            1465 non-null   object\n",
      " 11  review_id            1465 non-null   object\n",
      " 12  review_title         1465 non-null   object\n",
      " 13  review_content       1465 non-null   object\n",
      " 14  img_link             1465 non-null   object\n",
      " 15  product_link         1465 non-null   object\n",
      "dtypes: object(16)\n",
      "memory usage: 183.3+ KB\n"
     ]
    }
   ],
   "source": [
    "df.info()"
   ]
  },
  {
   "cell_type": "code",
   "execution_count": 22,
   "id": "a2ff7a8c-9168-414e-a81a-cb8c02a37136",
   "metadata": {},
   "outputs": [
    {
     "data": {
      "text/plain": [
       "product_id             0\n",
       "product_name           0\n",
       "category               0\n",
       "discounted_price       0\n",
       "actual_price           0\n",
       "discount_percentage    0\n",
       "rating                 0\n",
       "rating_count           2\n",
       "about_product          0\n",
       "user_id                0\n",
       "user_name              0\n",
       "review_id              0\n",
       "review_title           0\n",
       "review_content         0\n",
       "img_link               0\n",
       "product_link           0\n",
       "dtype: int64"
      ]
     },
     "execution_count": 22,
     "metadata": {},
     "output_type": "execute_result"
    }
   ],
   "source": [
    "df.isnull().sum()"
   ]
  },
  {
   "cell_type": "code",
   "execution_count": 23,
   "id": "292a3bcc-1d1d-4a41-9568-c098cbf61ebd",
   "metadata": {},
   "outputs": [],
   "source": [
    "df.dropna(inplace=True)"
   ]
  },
  {
   "cell_type": "code",
   "execution_count": 24,
   "id": "28408521-cd6c-4427-b3ea-9ea88869d67d",
   "metadata": {},
   "outputs": [
    {
     "data": {
      "text/plain": [
       "product_id             0\n",
       "product_name           0\n",
       "category               0\n",
       "discounted_price       0\n",
       "actual_price           0\n",
       "discount_percentage    0\n",
       "rating                 0\n",
       "rating_count           0\n",
       "about_product          0\n",
       "user_id                0\n",
       "user_name              0\n",
       "review_id              0\n",
       "review_title           0\n",
       "review_content         0\n",
       "img_link               0\n",
       "product_link           0\n",
       "dtype: int64"
      ]
     },
     "execution_count": 24,
     "metadata": {},
     "output_type": "execute_result"
    }
   ],
   "source": [
    "df.isnull().sum()"
   ]
  },
  {
   "cell_type": "code",
   "execution_count": 25,
   "id": "a8f6dd03-9a0a-45d7-9e90-91c4fd911a29",
   "metadata": {},
   "outputs": [
    {
     "data": {
      "text/plain": [
       "array(['4.2', '4.0', '3.9', '4.1', '4.3', '4.4', '4.5', '3.7', '3.3',\n",
       "       '3.6', '3.4', '3.8', '3.5', '4.6', '3.2', '5.0', '4.7', '3.0',\n",
       "       '2.8', '4', '3.1', '4.8', '2.3', '|', '2', '3', '2.6', '2.9'],\n",
       "      dtype=object)"
      ]
     },
     "execution_count": 25,
     "metadata": {},
     "output_type": "execute_result"
    }
   ],
   "source": [
    "df.rating.unique()"
   ]
  },
  {
   "cell_type": "code",
   "execution_count": 26,
   "id": "a92b5cf9-6767-48b6-acde-68dbca2bb180",
   "metadata": {},
   "outputs": [
    {
     "data": {
      "text/plain": [
       "array(['Computers&Accessories|Accessories&Peripherals|Cables&Accessories|Cables|USBCables',\n",
       "       'Computers&Accessories|NetworkingDevices|NetworkAdapters|WirelessUSBAdapters',\n",
       "       'Electronics|HomeTheater,TV&Video|Accessories|Cables|HDMICables',\n",
       "       'Electronics|HomeTheater,TV&Video|Televisions|SmartTelevisions',\n",
       "       'Electronics|HomeTheater,TV&Video|Accessories|RemoteControls',\n",
       "       'Electronics|HomeTheater,TV&Video|Televisions|StandardTelevisions',\n",
       "       'Electronics|HomeTheater,TV&Video|Accessories|TVMounts,Stands&Turntables|TVWall&CeilingMounts',\n",
       "       'Electronics|HomeTheater,TV&Video|Accessories|Cables|RCACables',\n",
       "       'Electronics|HomeAudio|Accessories|SpeakerAccessories|Mounts',\n",
       "       'Electronics|HomeTheater,TV&Video|Accessories|Cables|OpticalCables',\n",
       "       'Electronics|HomeTheater,TV&Video|Projectors',\n",
       "       'Electronics|HomeAudio|Accessories|Adapters',\n",
       "       'Electronics|HomeTheater,TV&Video|SatelliteEquipment|SatelliteReceivers',\n",
       "       'Computers&Accessories|Accessories&Peripherals|Cables&Accessories|Cables|DVICables',\n",
       "       'Electronics|HomeTheater,TV&Video|Accessories|Cables|SpeakerCables',\n",
       "       'Electronics|HomeAudio|MediaStreamingDevices|StreamingClients',\n",
       "       'Electronics|HomeTheater,TV&Video|AVReceivers&Amplifiers',\n",
       "       'Electronics|HomeAudio|Speakers|TowerSpeakers',\n",
       "       'Electronics|HomeTheater,TV&Video|Accessories|3DGlasses',\n",
       "       'Electronics|WearableTechnology|SmartWatches',\n",
       "       'Electronics|Mobiles&Accessories|MobileAccessories|Chargers|PowerBanks',\n",
       "       'Electronics|Mobiles&Accessories|Smartphones&BasicMobiles|Smartphones',\n",
       "       'Electronics|Accessories|MemoryCards|MicroSD',\n",
       "       'Electronics|Mobiles&Accessories|Smartphones&BasicMobiles|BasicMobiles',\n",
       "       'Electronics|Headphones,Earbuds&Accessories|Headphones|In-Ear',\n",
       "       'Electronics|Mobiles&Accessories|MobileAccessories|Chargers|AutomobileChargers',\n",
       "       'Electronics|Mobiles&Accessories|MobileAccessories|AutomobileAccessories|Cradles',\n",
       "       'Electronics|Mobiles&Accessories|MobileAccessories|Chargers|WallChargers',\n",
       "       'Electronics|Mobiles&Accessories|MobileAccessories|Cables&Adapters|OTGAdapters',\n",
       "       'Electronics|Mobiles&Accessories|MobileAccessories|Photo&VideoAccessories|Tripods',\n",
       "       'Electronics|Mobiles&Accessories|MobileAccessories|Photo&VideoAccessories|SelfieSticks',\n",
       "       'Electronics|Mobiles&Accessories|MobileAccessories|Stands',\n",
       "       'Computers&Accessories|Accessories&Peripherals|Cables&Accessories|CableConnectionProtectors',\n",
       "       'Electronics|Mobiles&Accessories|MobileAccessories|Décor',\n",
       "       'Electronics|Mobiles&Accessories|MobileAccessories|Maintenance,Upkeep&Repairs|ScreenProtectors',\n",
       "       'Electronics|Mobiles&Accessories|MobileAccessories|StylusPens',\n",
       "       'Electronics|Mobiles&Accessories|MobileAccessories|Mounts|Bedstand&DeskMounts',\n",
       "       'Electronics|Mobiles&Accessories|MobileAccessories|Cases&Covers|BasicCases',\n",
       "       'Electronics|Mobiles&Accessories|MobileAccessories|Mounts|HandlebarMounts',\n",
       "       'Electronics|Headphones,Earbuds&Accessories|Headphones|On-Ear',\n",
       "       'Computers&Accessories|Accessories&Peripherals|LaptopAccessories|CameraPrivacyCovers',\n",
       "       'Electronics|Headphones,Earbuds&Accessories|Adapters',\n",
       "       'Electronics|Mobiles&Accessories|MobileAccessories|Décor|PhoneCharms',\n",
       "       'Electronics|Mobiles&Accessories|MobileAccessories|Mounts|Shower&WallMounts',\n",
       "       'Computers&Accessories|ExternalDevices&DataStorage|PenDrives',\n",
       "       'Computers&Accessories|Accessories&Peripherals|Keyboards,Mice&InputDevices|Mice',\n",
       "       'Computers&Accessories|Accessories&Peripherals|Keyboards,Mice&InputDevices|GraphicTablets',\n",
       "       'Computers&Accessories|Accessories&Peripherals|LaptopAccessories|Lapdesks',\n",
       "       'Computers&Accessories|Accessories&Peripherals|LaptopAccessories|NotebookComputerStands',\n",
       "       'Computers&Accessories|Accessories&Peripherals|Keyboards,Mice&InputDevices|Keyboards',\n",
       "       'MusicalInstruments|Microphones|Condenser',\n",
       "       'Electronics|GeneralPurposeBatteries&BatteryChargers|DisposableBatteries',\n",
       "       'OfficeProducts|OfficePaperProducts|Paper|Stationery|Pens,Pencils&WritingSupplies|Pens&Refills|GelInkRollerballPens',\n",
       "       'Home&Kitchen|CraftMaterials|Scrapbooking|Tape',\n",
       "       'Computers&Accessories|Accessories&Peripherals|Keyboards,Mice&InputDevices|Keyboard&MouseSets',\n",
       "       'Computers&Accessories|ExternalDevices&DataStorage|ExternalHardDisks',\n",
       "       'Electronics|Cameras&Photography|VideoCameras',\n",
       "       'Electronics|Cameras&Photography|Accessories|Tripods&Monopods|Tabletop&TravelTripods',\n",
       "       'OfficeProducts|OfficeElectronics|Calculators|Scientific',\n",
       "       'Computers&Accessories|NetworkingDevices|Repeaters&Extenders',\n",
       "       'Electronics|Cameras&Photography|Accessories|Tripods&Monopods|TripodLegs',\n",
       "       'Computers&Accessories|Printers,Inks&Accessories|Inks,Toners&Cartridges|InkjetInkCartridges',\n",
       "       'Computers&Accessories|Accessories&Peripherals|Keyboards,Mice&InputDevices|Keyboard&MiceAccessories|DustCovers',\n",
       "       'Computers&Accessories|Accessories&Peripherals|PCGamingPeripherals|GamingMice',\n",
       "       'Home&Kitchen|CraftMaterials|PaintingMaterials|Paints',\n",
       "       'Computers&Accessories|Accessories&Peripherals|Keyboards,Mice&InputDevices|Keyboard&MiceAccessories|MousePads',\n",
       "       'Computers&Accessories|Accessories&Peripherals|HardDiskBags',\n",
       "       'Electronics|Cameras&Photography|Flashes|Macro&RinglightFlashes',\n",
       "       'Computers&Accessories|NetworkingDevices',\n",
       "       'Computers&Accessories|NetworkingDevices|Routers',\n",
       "       'Electronics|Headphones,Earbuds&Accessories|Headphones|Over-Ear',\n",
       "       'Electronics|HomeAudio|Speakers|BluetoothSpeakers',\n",
       "       'Electronics|GeneralPurposeBatteries&BatteryChargers',\n",
       "       'OfficeProducts|OfficePaperProducts|Paper|Stationery|Notebooks,WritingPads&Diaries|WireboundNotebooks',\n",
       "       'Electronics|GeneralPurposeBatteries&BatteryChargers|RechargeableBatteries',\n",
       "       'Computers&Accessories|NetworkingDevices|NetworkAdapters|BluetoothAdapters',\n",
       "       'Computers&Accessories|Accessories&Peripherals|Adapters|USBtoUSBAdapters',\n",
       "       'Electronics|Cameras&Photography|Accessories|Tripods&Monopods|CompleteTripodUnits',\n",
       "       'OfficeProducts|OfficePaperProducts|Paper|Stationery|Notebooks,WritingPads&Diaries|Notepads&MemoBooks',\n",
       "       'Electronics|Cameras&Photography|Accessories|Film',\n",
       "       'Computers&Accessories|Monitors',\n",
       "       'Computers&Accessories|Accessories&Peripherals|USBGadgets|Lamps',\n",
       "       'Electronics|Cameras&Photography|Accessories|Cleaners|CleaningKits',\n",
       "       'Electronics|Cameras&Photography|SecurityCameras|DomeCameras',\n",
       "       'Computers&Accessories|Accessories&Peripherals|TabletAccessories|ScreenProtectors',\n",
       "       'Computers&Accessories|Accessories&Peripherals|PCGamingPeripherals|Gamepads',\n",
       "       'OfficeProducts|OfficeElectronics|Calculators|Basic',\n",
       "       'Computers&Accessories|Accessories&Peripherals|USBHubs',\n",
       "       'Computers&Accessories|Accessories&Peripherals|Audio&VideoAccessories|PCMicrophones',\n",
       "       'Electronics|HomeAudio|Speakers|OutdoorSpeakers',\n",
       "       'Computers&Accessories|Accessories&Peripherals|LaptopAccessories|Bags&Sleeves|LaptopSleeves&Slipcases',\n",
       "       'Computers&Accessories|ExternalDevices&DataStorage|ExternalMemoryCardReaders',\n",
       "       'OfficeProducts|OfficePaperProducts|Paper|Stationery|Pens,Pencils&WritingSupplies|Pens&Refills|BottledInk',\n",
       "       'OfficeProducts|OfficePaperProducts|Paper|Stationery|Notebooks,WritingPads&Diaries|CompositionNotebooks',\n",
       "       'OfficeProducts|OfficePaperProducts|Paper|Stationery|Pens,Pencils&WritingSupplies|Pens&Refills|RetractableBallpointPens',\n",
       "       'Computers&Accessories|Accessories&Peripherals|Cables&Accessories|Cables|EthernetCables',\n",
       "       'Computers&Accessories|Components|Memory',\n",
       "       'Computers&Accessories|Accessories&Peripherals|UninterruptedPowerSupplies',\n",
       "       'Electronics|Headphones,Earbuds&Accessories|Cases',\n",
       "       'Electronics|Accessories|MemoryCards|SecureDigitalCards',\n",
       "       'Electronics|Mobiles&Accessories|MobileAccessories|Photo&VideoAccessories|Flashes&SelfieLights|SelfieLights',\n",
       "       'Computers&Accessories|Accessories&Peripherals|Audio&VideoAccessories|Webcams&VoIPEquipment|Webcams',\n",
       "       'Computers&Accessories|Accessories&Peripherals|LaptopAccessories|CoolingPads',\n",
       "       'Computers&Accessories|Accessories&Peripherals|LaptopAccessories',\n",
       "       'Computers&Accessories|Accessories&Peripherals|TabletAccessories|Stands',\n",
       "       'HomeImprovement|Electrical|Adapters&Multi-Outlets',\n",
       "       'OfficeProducts|OfficePaperProducts|Paper|Copy&PrintingPaper|ColouredPaper',\n",
       "       'Computers&Accessories|Components|InternalSolidStateDrives',\n",
       "       'Electronics|HomeAudio|Speakers|MultimediaSpeakerSystems',\n",
       "       'Computers&Accessories|NetworkingDevices|DataCards&Dongles',\n",
       "       'Computers&Accessories|Accessories&Peripherals|LaptopAccessories|LaptopChargers&PowerSupplies',\n",
       "       'Computers&Accessories|Accessories&Peripherals|Audio&VideoAccessories|PCSpeakers',\n",
       "       'Electronics|Cameras&Photography|Accessories|Batteries&Chargers|BatteryChargers',\n",
       "       'Computers&Accessories|Accessories&Peripherals|TabletAccessories|Bags,Cases&Sleeves|Cases',\n",
       "       'OfficeProducts|OfficePaperProducts|Paper|Stationery|Pens,Pencils&WritingSupplies|Pens&Refills|StickBallpointPens',\n",
       "       'Home&Kitchen|CraftMaterials|DrawingMaterials|DrawingMedia|Pencils|WoodenPencils',\n",
       "       'Computers&Accessories|Components|InternalHardDrives',\n",
       "       'Computers&Accessories|Printers,Inks&Accessories|Printers',\n",
       "       'Home&Kitchen|CraftMaterials|DrawingMaterials|DrawingMedia|Pens',\n",
       "       'Computers&Accessories|Accessories&Peripherals|Cables&Accessories|Cables|SATACables',\n",
       "       'Computers&Accessories|Accessories&Peripherals|Audio&VideoAccessories|PCHeadsets',\n",
       "       'Computers&Accessories|Accessories&Peripherals|PCGamingPeripherals|GamingKeyboards',\n",
       "       'Electronics|HomeAudio|Speakers|SoundbarSpeakers',\n",
       "       'Electronics|Headphones,Earbuds&Accessories|Earpads',\n",
       "       'Computers&Accessories|Printers,Inks&Accessories|Printers|InkjetPrinters',\n",
       "       'Toys&Games|Arts&Crafts|Drawing&PaintingSupplies|ColouringPens&Markers',\n",
       "       'Computers&Accessories|Accessories&Peripherals|PCGamingPeripherals|Headsets',\n",
       "       'Computers&Accessories|ExternalDevices&DataStorage|ExternalSolidStateDrives',\n",
       "       'Computers&Accessories|NetworkingDevices|NetworkAdapters|PowerLANAdapters',\n",
       "       'Computers&Accessories|Printers,Inks&Accessories|Inks,Toners&Cartridges|InkjetInkRefills&Kits',\n",
       "       'OfficeProducts|OfficePaperProducts|Paper|Stationery|Notebooks,WritingPads&Diaries',\n",
       "       'Electronics|Cameras&Photography|Accessories|PhotoStudio&Lighting|PhotoBackgroundAccessories|BackgroundSupports',\n",
       "       'OfficeProducts|OfficeElectronics|Calculators|Financial&Business',\n",
       "       'Electronics|PowerAccessories|SurgeProtectors',\n",
       "       'Computers&Accessories|Tablets',\n",
       "       'HomeImprovement|Electrical|CordManagement',\n",
       "       'Home&Kitchen|CraftMaterials|PaintingMaterials',\n",
       "       'Computers&Accessories|Printers,Inks&Accessories|Inks,Toners&Cartridges|TonerCartridges',\n",
       "       'OfficeProducts|OfficePaperProducts|Paper|Stationery|Pens,Pencils&WritingSupplies|Pens&Refills|LiquidInkRollerballPens',\n",
       "       'OfficeProducts|OfficePaperProducts|Paper|Stationery|Pens,Pencils&WritingSupplies|Pens&Refills|FountainPens',\n",
       "       'Computers&Accessories|Accessories&Peripherals|HardDriveAccessories|Caddies',\n",
       "       'Computers&Accessories|Laptops|TraditionalLaptops',\n",
       "       'Home&Kitchen|Kitchen&HomeAppliances|SmallKitchenAppliances|Kettles&HotWaterDispensers|ElectricKettles',\n",
       "       'Home&Kitchen|Heating,Cooling&AirQuality|RoomHeaters|ElectricHeaters',\n",
       "       'Home&Kitchen|Heating,Cooling&AirQuality|RoomHeaters|FanHeaters',\n",
       "       'Home&Kitchen|Kitchen&HomeAppliances|Vacuum,Cleaning&Ironing|Irons,Steamers&Accessories|LintShavers',\n",
       "       'Home&Kitchen|Kitchen&HomeAppliances|SmallKitchenAppliances|DigitalKitchenScales',\n",
       "       'Home&Kitchen|Kitchen&Dining|KitchenTools|ManualChoppers&Chippers|Choppers',\n",
       "       'Home&Kitchen|Kitchen&HomeAppliances|SmallKitchenAppliances|InductionCooktop',\n",
       "       'Home&Kitchen|Kitchen&HomeAppliances|SmallKitchenAppliances|HandBlenders',\n",
       "       'Home&Kitchen|Kitchen&HomeAppliances|Vacuum,Cleaning&Ironing|Irons,Steamers&Accessories|Irons|DryIrons',\n",
       "       'Home&Kitchen|Kitchen&HomeAppliances|SmallKitchenAppliances|MixerGrinders',\n",
       "       'Home&Kitchen|Heating,Cooling&AirQuality|WaterHeaters&Geysers|InstantWaterHeaters',\n",
       "       'Home&Kitchen|Heating,Cooling&AirQuality|RoomHeaters',\n",
       "       'Home&Kitchen|Kitchen&HomeAppliances|SmallKitchenAppliances|Kettles&HotWaterDispensers|Kettle&ToasterSets',\n",
       "       'Home&Kitchen|Heating,Cooling&AirQuality|WaterHeaters&Geysers|StorageWaterHeaters',\n",
       "       'Home&Kitchen|Heating,Cooling&AirQuality|WaterHeaters&Geysers|ImmersionRods',\n",
       "       'Home&Kitchen|Kitchen&HomeAppliances|SmallKitchenAppliances|DeepFatFryers|AirFryers',\n",
       "       'Home&Kitchen|HomeStorage&Organization|LaundryOrganization|LaundryBaskets',\n",
       "       'Home&Kitchen|Kitchen&HomeAppliances|Vacuum,Cleaning&Ironing|Irons,Steamers&Accessories|Irons|SteamIrons',\n",
       "       'Home&Kitchen|Kitchen&HomeAppliances|SmallKitchenAppliances|JuicerMixerGrinders',\n",
       "       'Home&Kitchen|Kitchen&HomeAppliances|Vacuum,Cleaning&Ironing|Vacuums&FloorCare|Vacuums|HandheldVacuums',\n",
       "       'Home&Kitchen|Kitchen&HomeAppliances|SmallKitchenAppliances|EggBoilers',\n",
       "       'Home&Kitchen|Kitchen&HomeAppliances|SmallKitchenAppliances|SandwichMakers',\n",
       "       'Home&Kitchen|Kitchen&HomeAppliances|SmallKitchenAppliances|MiniFoodProcessors&Choppers',\n",
       "       'Home&Kitchen|Kitchen&HomeAppliances|SmallKitchenAppliances|DigitalKitchenScales|DigitalScales',\n",
       "       'Home&Kitchen|Kitchen&HomeAppliances|SmallKitchenAppliances|VacuumSealers',\n",
       "       'Home&Kitchen|Heating,Cooling&AirQuality|Fans|CeilingFans',\n",
       "       'Home&Kitchen|Kitchen&HomeAppliances|Vacuum,Cleaning&Ironing|Vacuums&FloorCare|Vacuums|CanisterVacuums',\n",
       "       'Home&Kitchen|Kitchen&HomeAppliances|Vacuum,Cleaning&Ironing|PressureWashers,Steam&WindowCleaners',\n",
       "       'Home&Kitchen|Heating,Cooling&AirQuality|RoomHeaters|HalogenHeaters',\n",
       "       'Home&Kitchen|Kitchen&HomeAppliances|SmallKitchenAppliances|Pop-upToasters',\n",
       "       'Home&Kitchen|Heating,Cooling&AirQuality|RoomHeaters|HeatConvectors',\n",
       "       'Home&Kitchen|Kitchen&HomeAppliances|Coffee,Tea&Espresso|CoffeeGrinders|ElectricGrinders',\n",
       "       'Home&Kitchen|Heating,Cooling&AirQuality|Fans|ExhaustFans',\n",
       "       'Home&Kitchen|Kitchen&HomeAppliances|Coffee,Tea&Espresso|DripCoffeeMachines',\n",
       "       'Home&Kitchen|Kitchen&HomeAppliances|WaterPurifiers&Accessories|WaterPurifierAccessories',\n",
       "       'Home&Kitchen|Kitchen&HomeAppliances|WaterPurifiers&Accessories|WaterCartridges',\n",
       "       'Home&Kitchen|Kitchen&HomeAppliances|SmallKitchenAppliances|Rice&PastaCookers',\n",
       "       'Car&Motorbike|CarAccessories|InteriorAccessories|AirPurifiers&Ionizers',\n",
       "       'Home&Kitchen|Kitchen&HomeAppliances|Vacuum,Cleaning&Ironing|Vacuums&FloorCare|Vacuums|Wet-DryVacuums',\n",
       "       'Home&Kitchen|Heating,Cooling&AirQuality|AirPurifiers|HEPAAirPurifiers',\n",
       "       'Home&Kitchen|Kitchen&HomeAppliances|WaterPurifiers&Accessories|WaterFilters&Purifiers',\n",
       "       'Home&Kitchen|HomeStorage&Organization|LaundryOrganization|LaundryBags',\n",
       "       'Home&Kitchen|Kitchen&HomeAppliances|SewingMachines&Accessories|Sewing&EmbroideryMachines',\n",
       "       'Home&Kitchen|HomeStorage&Organization|LaundryOrganization|IroningAccessories|SprayBottles',\n",
       "       'Home&Kitchen|Kitchen&HomeAppliances|SmallKitchenAppliances|HandMixers',\n",
       "       'Home&Kitchen|Kitchen&HomeAppliances|SmallKitchenAppliances|Mills&Grinders|WetGrinders',\n",
       "       'Home&Kitchen|Kitchen&HomeAppliances|SmallKitchenAppliances|OvenToasterGrills',\n",
       "       'Home&Kitchen|Kitchen&HomeAppliances|SmallKitchenAppliances|Juicers',\n",
       "       'Home&Kitchen|Kitchen&HomeAppliances|SmallKitchenAppliances',\n",
       "       'Health&PersonalCare|HomeMedicalSupplies&Equipment|HealthMonitors|WeighingScales|DigitalBathroomScales',\n",
       "       'Home&Kitchen|Kitchen&HomeAppliances|Coffee,Tea&Espresso|EspressoMachines',\n",
       "       'Home&Kitchen|Heating,Cooling&AirQuality|Fans|TableFans',\n",
       "       'Home&Kitchen|Kitchen&HomeAppliances|Coffee,Tea&Espresso|MilkFrothers',\n",
       "       'Home&Kitchen|Heating,Cooling&AirQuality|Humidifiers',\n",
       "       'Home&Kitchen|Kitchen&HomeAppliances|SmallKitchenAppliances|SmallApplianceParts&Accessories|StandMixerAccessories',\n",
       "       'Home&Kitchen|Kitchen&HomeAppliances|Vacuum,Cleaning&Ironing|Vacuums&FloorCare|Vacuums|RoboticVacuums',\n",
       "       'Home&Kitchen|Kitchen&HomeAppliances|SmallKitchenAppliances|YogurtMakers',\n",
       "       'Home&Kitchen|Kitchen&HomeAppliances|SmallKitchenAppliances|Juicers|ColdPressJuicers',\n",
       "       'Home&Kitchen|Heating,Cooling&AirQuality|AirConditioners|Split-SystemAirConditioners',\n",
       "       'Home&Kitchen|Kitchen&HomeAppliances|SmallKitchenAppliances|SmallApplianceParts&Accessories',\n",
       "       'Home&Kitchen|Kitchen&HomeAppliances|SmallKitchenAppliances|WaffleMakers&Irons',\n",
       "       'Home&Kitchen|Kitchen&HomeAppliances|Coffee,Tea&Espresso|StovetopEspressoPots',\n",
       "       'Home&Kitchen|Kitchen&HomeAppliances|Coffee,Tea&Espresso|CoffeeMakerAccessories|MeasuringSpoons',\n",
       "       'Home&Kitchen|Kitchen&HomeAppliances|Coffee,Tea&Espresso|CoffeePresses',\n",
       "       'Home&Kitchen|Kitchen&HomeAppliances|SmallKitchenAppliances|RotiMakers',\n",
       "       'Home&Kitchen|Heating,Cooling&AirQuality|Parts&Accessories|FanParts&Accessories',\n",
       "       'Home&Kitchen|Kitchen&HomeAppliances|SmallKitchenAppliances|StandMixers',\n",
       "       'Home&Kitchen|Heating,Cooling&AirQuality|Fans|PedestalFans',\n",
       "       'Home&Kitchen|Kitchen&HomeAppliances|Vacuum,Cleaning&Ironing|Vacuums&FloorCare|VacuumAccessories|VacuumBags|HandheldBags'],\n",
       "      dtype=object)"
      ]
     },
     "execution_count": 26,
     "metadata": {},
     "output_type": "execute_result"
    }
   ],
   "source": [
    "df['category'].unique()"
   ]
  },
  {
   "cell_type": "code",
   "execution_count": 27,
   "id": "9863cb08-e50c-49de-96ba-413bb2031aac",
   "metadata": {},
   "outputs": [
    {
     "data": {
      "text/plain": [
       "category\n",
       "OfficeProducts           4.309677\n",
       "Toys&Games               4.300000\n",
       "HomeImprovement          4.250000\n",
       "Computers&Accessories    4.155654\n",
       "Electronics              4.081749\n",
       "Home&Kitchen             4.040716\n",
       "Health&PersonalCare      4.000000\n",
       "MusicalInstruments       3.900000\n",
       "Car&Motorbike            3.800000\n",
       "Name: rating, dtype: float64"
      ]
     },
     "execution_count": 27,
     "metadata": {},
     "output_type": "execute_result"
    }
   ],
   "source": [
    "# 1. What is the average rating for each product category ?\n",
    "\n",
    "# Cleaning and converting the 'rating' column to numeric\n",
    "df['rating'] = pd.to_numeric(df['rating'], errors = 'coerce')\n",
    "\n",
    "# Extracting and simplifying the 'category' column if it contains multiple subcategories\n",
    "df['category'] = df['category'].apply(lambda x: x.split('|')[0] if isinstance(x,str) else x)\n",
    "\n",
    "# Calculating the average rating for each category\n",
    "avg_ratings = df.groupby('category')['rating'].mean().sort_values(ascending = False)\n",
    "\n",
    "avg_ratings\n"
   ]
  },
  {
   "cell_type": "code",
   "execution_count": 28,
   "id": "640a9b9d-d34a-4228-b7da-e632fe51c373",
   "metadata": {},
   "outputs": [
    {
     "data": {
      "text/plain": [
       "array(['24,269', '43,994', '7,928', ..., '468', '8,031', '6,987'],\n",
       "      dtype=object)"
      ]
     },
     "execution_count": 28,
     "metadata": {},
     "output_type": "execute_result"
    }
   ],
   "source": [
    "df['rating_count'].unique()"
   ]
  },
  {
   "cell_type": "code",
   "execution_count": 29,
   "id": "ac1b08a7-f101-4508-a64c-7ba92f080fd3",
   "metadata": {},
   "outputs": [
    {
     "data": {
      "text/plain": [
       "array(['Computers&Accessories', 'Electronics', 'MusicalInstruments',\n",
       "       'OfficeProducts', 'Home&Kitchen', 'HomeImprovement', 'Toys&Games',\n",
       "       'Car&Motorbike', 'Health&PersonalCare'], dtype=object)"
      ]
     },
     "execution_count": 29,
     "metadata": {},
     "output_type": "execute_result"
    }
   ],
   "source": [
    "df['category'].unique()"
   ]
  },
  {
   "cell_type": "code",
   "execution_count": 30,
   "id": "a99218e5-dc1c-4474-ad7d-2dfed4590100",
   "metadata": {},
   "outputs": [
    {
     "name": "stdout",
     "output_type": "stream",
     "text": [
      "Top Products by Rating Count in Each Category:\n",
      "                   category  \\\n",
      "1157          Car&Motorbike   \n",
      "588   Computers&Accessories   \n",
      "12              Electronics   \n",
      "1247    Health&PersonalCare   \n",
      "1028           Home&Kitchen   \n",
      "982         HomeImprovement   \n",
      "613      MusicalInstruments   \n",
      "659          OfficeProducts   \n",
      "924              Toys&Games   \n",
      "\n",
      "                                           product_name  rating_count  rating  \n",
      "1157  Reffair AX30 [MAX] Portable Air Purifier for C...          1118     3.8  \n",
      "588           SanDisk Cruzer Blade 32GB USB Flash Drive        253105     4.3  \n",
      "12    AmazonBasics Flexible Premium HDMI Cable (Blac...        426973     4.4  \n",
      "1247  Dr Trust Electronic Kitchen Digital Scale Weig...          3663     4.0  \n",
      "1028  Pigeon Polypropylene Mini Handy and Compact Ch...        270563     4.1  \n",
      "982   Gizga Essentials Cable Organiser, Cord Managem...          5985     4.5  \n",
      "613   Boya ByM1 Auxiliary Omnidirectional Lavalier C...         68664     4.0  \n",
      "659   Casio FX-82MS 2nd Gen Non-Programmable Scienti...         12179     4.4  \n",
      "924   Faber-Castell Connector Pen Set - Pack of 25 (...         15867     4.3  \n"
     ]
    }
   ],
   "source": [
    "# 2. What are the top rating_count products by category ?\n",
    "\n",
    "# Clean 'rating_count' by removing commas and converting to numeric\n",
    "df['rating_count'] = pd.to_numeric(df['rating_count'].str.replace(',', ''), errors='coerce')\n",
    "\n",
    "# Drop rows with missing values in 'category' or 'rating_count'\n",
    "df_clean = df.dropna(subset=['category', 'rating_count'])\n",
    "\n",
    "# For each category, find the product with the highest 'rating_count'\n",
    "top_products_by_category = df_clean.loc[df_clean.groupby('category')['rating_count'].idxmax()]\n",
    "\n",
    "# Display relevant columns for clarity\n",
    "print(\"Top Products by Rating Count in Each Category:\")\n",
    "print(top_products_by_category[['category', 'product_name', 'rating_count', 'rating']])\n"
   ]
  },
  {
   "cell_type": "code",
   "execution_count": 31,
   "id": "6d185b1c-630e-4751-b967-af93690e32b2",
   "metadata": {},
   "outputs": [
    {
     "data": {
      "text/plain": [
       "Index(['product_id', 'product_name', 'category', 'discounted_price',\n",
       "       'actual_price', 'discount_percentage', 'rating', 'rating_count',\n",
       "       'about_product', 'user_id', 'user_name', 'review_id', 'review_title',\n",
       "       'review_content', 'img_link', 'product_link'],\n",
       "      dtype='object')"
      ]
     },
     "execution_count": 31,
     "metadata": {},
     "output_type": "execute_result"
    }
   ],
   "source": [
    "df.columns"
   ]
  },
  {
   "cell_type": "code",
   "execution_count": 32,
   "id": "e5d2aef9-65f6-4307-8222-58bdbbeb435f",
   "metadata": {},
   "outputs": [
    {
     "data": {
      "text/plain": [
       "0         ₹399\n",
       "1         ₹199\n",
       "2         ₹199\n",
       "3         ₹329\n",
       "4         ₹154\n",
       "         ...  \n",
       "1460      ₹379\n",
       "1461    ₹2,280\n",
       "1462    ₹2,219\n",
       "1463    ₹1,399\n",
       "1464    ₹2,863\n",
       "Name: discounted_price, Length: 1463, dtype: object"
      ]
     },
     "execution_count": 32,
     "metadata": {},
     "output_type": "execute_result"
    }
   ],
   "source": [
    "df['discounted_price']"
   ]
  },
  {
   "cell_type": "code",
   "execution_count": 33,
   "id": "5bfc56a0-78b6-4070-8942-500f030fbb3f",
   "metadata": {},
   "outputs": [
    {
     "data": {
      "text/plain": [
       "0       ₹1,099\n",
       "1         ₹349\n",
       "2       ₹1,899\n",
       "3         ₹699\n",
       "4         ₹399\n",
       "         ...  \n",
       "1460      ₹919\n",
       "1461    ₹3,045\n",
       "1462    ₹3,080\n",
       "1463    ₹1,890\n",
       "1464    ₹3,690\n",
       "Name: actual_price, Length: 1463, dtype: object"
      ]
     },
     "execution_count": 33,
     "metadata": {},
     "output_type": "execute_result"
    }
   ],
   "source": [
    "df['actual_price']"
   ]
  },
  {
   "cell_type": "code",
   "execution_count": 34,
   "id": "d7ddef0d-417a-4ee0-bfd6-b8682dfb3f11",
   "metadata": {},
   "outputs": [
    {
     "data": {
      "text/plain": [
       "product_id              object\n",
       "product_name            object\n",
       "category                object\n",
       "discounted_price        object\n",
       "actual_price            object\n",
       "discount_percentage     object\n",
       "rating                 float64\n",
       "rating_count             int64\n",
       "about_product           object\n",
       "user_id                 object\n",
       "user_name               object\n",
       "review_id               object\n",
       "review_title            object\n",
       "review_content          object\n",
       "img_link                object\n",
       "product_link            object\n",
       "dtype: object"
      ]
     },
     "execution_count": 34,
     "metadata": {},
     "output_type": "execute_result"
    }
   ],
   "source": [
    "df.dtypes"
   ]
  },
  {
   "cell_type": "code",
   "execution_count": 43,
   "id": "e147ef3f-eb26-42dc-804a-f7ef90d90dcb",
   "metadata": {},
   "outputs": [
    {
     "data": {
      "image/png": "[encoded data removed]",
      "text/plain": [
       "<Figure size 1200x600 with 1 Axes>"
      ]
     },
     "metadata": {},
     "output_type": "display_data"
    }
   ],
   "source": [
    "# 3. What is the distribution of discounted prices vs. actual prices ?\n",
    "\n",
    "# Cleaning and converting 'discounted_price' and 'actual_price' to numeric values\n",
    "df['discounted_price'] = df['discounted_price'].replace('₹', '').astype(float)\n",
    "df['actual_price'] = df['actual_price'].replace('₹', '').replace(',','').astype(float)\n",
    "\n",
    "# Plotting the distribution of discounted prices vs. actual prices\n",
    "plt.figure(figsize=(12, 6))\n",
    "plt.hist(df['discounted_price'], bins=30, alpha=0.5, label='Discounted Price', color='red')\n",
    "plt.hist(df['actual_price'], bins=30, alpha=0.5, label='Actual Price', color='green')\n",
    "plt.title('Distribution of Discounted Prices vs. Actual Prices')\n",
    "plt.xlabel('Price')\n",
    "plt.ylabel('Frequency')\n",
    "plt.legend()\n",
    "plt.grid(True)\n",
    "plt.show()"
   ]
  },
  {
   "cell_type": "code",
   "execution_count": 44,
   "id": "b53ce00e-5603-4ac4-ac7a-c4b36600f6e8",
   "metadata": {},
   "outputs": [
    {
     "data": {
      "text/plain": [
       "product_id              object\n",
       "product_name            object\n",
       "category                object\n",
       "discounted_price       float64\n",
       "actual_price           float64\n",
       "discount_percentage     object\n",
       "rating                 float64\n",
       "rating_count             int64\n",
       "about_product           object\n",
       "user_id                 object\n",
       "user_name               object\n",
       "review_id               object\n",
       "review_title            object\n",
       "review_content          object\n",
       "img_link                object\n",
       "product_link            object\n",
       "dtype: object"
      ]
     },
     "execution_count": 44,
     "metadata": {},
     "output_type": "execute_result"
    }
   ],
   "source": [
    "df.dtypes"
   ]
  },
  {
   "cell_type": "code",
   "execution_count": 45,
   "id": "22dca2a0-6d6f-41a7-bfc7-d505c83de3c4",
   "metadata": {},
   "outputs": [
    {
     "data": {
      "text/plain": [
       "category\n",
       "HomeImprovement          57.944088\n",
       "Computers&Accessories    53.918223\n",
       "Health&PersonalCare      52.684211\n",
       "Electronics              50.815427\n",
       "MusicalInstruments       45.808298\n",
       "Car&Motorbike            41.525000\n",
       "Home&Kitchen             40.116870\n",
       "OfficeProducts           12.359817\n",
       "Toys&Games                0.000000\n",
       "Name: discount_percentage, dtype: float64"
      ]
     },
     "execution_count": 45,
     "metadata": {},
     "output_type": "execute_result"
    }
   ],
   "source": [
    "# 4. how does the average discount percentage vary across categories ?\n",
    "\n",
    "# Calculate the discount percentage\n",
    "df['discount_percentage'] = ((df['actual_price'] - df['discounted_price']) / df['actual_price']) * 100\n",
    "\n",
    "# Group by category and calculate the average discount percentage\n",
    "avg_discounted_by_category = df.groupby('category')['discount_percentage'].mean().sort_values(ascending = False)\n",
    "\n",
    "avg_discounted_by_category"
   ]
  },
  {
   "cell_type": "code",
   "execution_count": 46,
   "id": "725c78ee-8516-40ce-b02e-a34651351d45",
   "metadata": {},
   "outputs": [
    {
     "name": "stdout",
     "output_type": "stream",
     "text": [
      "                                          product_name  rating_count\n",
      "47   Amazon Basics High-Speed HDMI Cable, 6 Feet - ...        426973\n",
      "65   Amazon Basics High-Speed HDMI Cable, 6 Feet (2...        426973\n",
      "12   AmazonBasics Flexible Premium HDMI Cable (Blac...        426973\n",
      "684  AmazonBasics Flexible Premium HDMI Cable (Blac...        426972\n",
      "400  boAt Bassheads 100 in Ear Wired Earphones with...        363713\n",
      "352  boAt Bassheads 100 in Ear Wired Earphones with...        363713\n",
      "584  boAt BassHeads 100 in-Ear Wired Headphones wit...        363711\n",
      "371  Redmi 9A Sport (Coral Green, 2GB RAM, 32GB Sto...        313836\n",
      "370  Redmi 9 Activ (Carbon Black, 4GB RAM, 64GB Sto...        313836\n",
      "566  Redmi 9A Sport (Coral Green, 3GB RAM, 32GB Sto...        313832\n"
     ]
    }
   ],
   "source": [
    "# 5. What are the most popular product names ?\n",
    "\n",
    "# Sort the DataFrame by 'rating_count' in descending order\n",
    "most_popular_products = df[['product_name','rating_count']].sort_values(by = 'rating_count',ascending = False)\n",
    "\n",
    "# Display the top 10 most popular products\n",
    "top_10_popular_products = most_popular_products.head(10)\n",
    "\n",
    "print(top_10_popular_products)"
   ]
  },
  {
   "cell_type": "code",
   "execution_count": 47,
   "id": "f96b861f-a5de-4517-80ff-892351d850cf",
   "metadata": {},
   "outputs": [
    {
     "data": {
      "text/plain": [
       "[('black', 529),\n",
       " ('smart', 175),\n",
       " ('white', 169),\n",
       " ('led', 129),\n",
       " ('pro', 124),\n",
       " ('wireless', 119),\n",
       " ('water', 114),\n",
       " ('remote', 109),\n",
       " ('heater', 108),\n",
       " ('bluetooth', 107)]"
      ]
     },
     "execution_count": 47,
     "metadata": {},
     "output_type": "execute_result"
    }
   ],
   "source": [
    "# 6. What are the most popular product keywords \n",
    "\n",
    "import re  # Ensure the regular expression module is imported\n",
    "from collections import Counter\n",
    "\n",
    "# Define stopwords again for filtering\n",
    "stopwords = set([\n",
    "    'with', 'for', 'and', 'the', 'usb', 'fast', 'cable', 'charging', 'type', \n",
    "    'data', 'sync', 'charger', 'port', 'adapter', 'compatible', 'device'\n",
    "])\n",
    "\n",
    "# Function to clean and extract keywords\n",
    "def extract_keywords(text):\n",
    "    words = re.findall(r'\\b[a-zA-Z]{3,}\\b', text.lower())\n",
    "    return [word for word in words if word not in stopwords]\n",
    "\n",
    "# Extract keywords from all product names\n",
    "all_keywords = []\n",
    "for name in df['product_name']:\n",
    "    all_keywords.extend(extract_keywords(name))\n",
    "\n",
    "# Count and list the most common keywords\n",
    "keyword_counts = Counter(all_keywords)\n",
    "top_keywords = keyword_counts.most_common(10)\n",
    "top_keywords\n"
   ]
  },
  {
   "cell_type": "code",
   "execution_count": 48,
   "id": "09d7bb5d-9f3b-4555-8d18-df964879aca6",
   "metadata": {},
   "outputs": [
    {
     "data": {
      "text/plain": [
       "Index(['product_id', 'product_name', 'category', 'discounted_price',\n",
       "       'actual_price', 'discount_percentage', 'rating', 'rating_count',\n",
       "       'about_product', 'user_id', 'user_name', 'review_id', 'review_title',\n",
       "       'review_content', 'img_link', 'product_link'],\n",
       "      dtype='object')"
      ]
     },
     "execution_count": 48,
     "metadata": {},
     "output_type": "execute_result"
    }
   ],
   "source": [
    "df.columns"
   ]
  },
  {
   "cell_type": "code",
   "execution_count": 49,
   "id": "a218182e-59cc-4a6a-b4d7-b4f548718f1e",
   "metadata": {},
   "outputs": [
    {
     "data": {
      "text/plain": [
       "product_id              object\n",
       "product_name            object\n",
       "category                object\n",
       "discounted_price       float64\n",
       "actual_price           float64\n",
       "discount_percentage    float64\n",
       "rating                 float64\n",
       "rating_count             int64\n",
       "about_product           object\n",
       "user_id                 object\n",
       "user_name               object\n",
       "review_id               object\n",
       "review_title            object\n",
       "review_content          object\n",
       "img_link                object\n",
       "product_link            object\n",
       "dtype: object"
      ]
     },
     "execution_count": 49,
     "metadata": {},
     "output_type": "execute_result"
    }
   ],
   "source": [
    "df.dtypes"
   ]
  },
  {
   "cell_type": "code",
   "execution_count": 53,
   "id": "7aa9d275-f013-4282-8c47-c9330a712689",
   "metadata": {},
   "outputs": [
    {
     "name": "stdout",
     "output_type": "stream",
     "text": [
      "                                          product_name  rating_count  \\\n",
      "47   Amazon Basics High-Speed HDMI Cable, 6 Feet - ...      426973.0   \n",
      "65   Amazon Basics High-Speed HDMI Cable, 6 Feet (2...      426973.0   \n",
      "12   AmazonBasics Flexible Premium HDMI Cable (Blac...      426973.0   \n",
      "684  AmazonBasics Flexible Premium HDMI Cable (Blac...      426972.0   \n",
      "400  boAt Bassheads 100 in Ear Wired Earphones with...      363713.0   \n",
      "\n",
      "                                        review_content  \n",
      "47   I am using it for 14 days now. The experience ...  \n",
      "65   I am using it for 14 days now. The experience ...  \n",
      "12   I am using it for 14 days now. The experience ...  \n",
      "684  I am using it for 14 days now. The experience ...  \n",
      "400  The sound quality of this earphone are really ...  \n"
     ]
    }
   ],
   "source": [
    "# 7. What are the most popular product reviews ?\n",
    "\n",
    "# Convert 'rating_count' to numeric for sorting (removing commas)\n",
    "df['rating_count'] = df['rating_count'].replace(',', '').astype(float)\n",
    "\n",
    "# Sort the DataFrame by 'rating_count' in descending order\n",
    "popular_reviews = df.sort_values(by='rating_count', ascending=False)\n",
    "\n",
    "# Display the top 5 most popular product reviews\n",
    "top_reviews = popular_reviews[['product_name', 'rating_count', 'review_content']].head(5)\n",
    "\n",
    "print(top_reviews)"
   ]
  },
  {
   "cell_type": "code",
   "execution_count": 54,
   "id": "359a9e01-54e7-4bae-8213-e915629093c5",
   "metadata": {},
   "outputs": [
    {
     "data": {
      "text/plain": [
       "product_id              object\n",
       "product_name            object\n",
       "category                object\n",
       "discounted_price        object\n",
       "actual_price            object\n",
       "discount_percentage     object\n",
       "rating                  object\n",
       "rating_count           float64\n",
       "about_product           object\n",
       "user_id                 object\n",
       "user_name               object\n",
       "review_id               object\n",
       "review_title            object\n",
       "review_content          object\n",
       "img_link                object\n",
       "product_link            object\n",
       "dtype: object"
      ]
     },
     "execution_count": 54,
     "metadata": {},
     "output_type": "execute_result"
    }
   ],
   "source": [
    "df.dtypes"
   ]
  },
  {
   "cell_type": "code",
   "execution_count": 60,
   "id": "a725d557-7a3a-49f3-85a2-da5db21360c8",
   "metadata": {},
   "outputs": [
    {
     "name": "stdout",
     "output_type": "stream",
     "text": [
      "Correlation between discounted price and rating: 0.12033741712288534\n"
     ]
    }
   ],
   "source": [
    "# 8. What is the correlation between discounted_price and rating \n",
    "\n",
    "\n",
    "# Clean 'discounted_price': Remove currency symbols and commas, then convert to float\n",
    "df['discounted_price'] = df['discounted_price'].replace('₹', '').replace(',', '').astype(float)\n",
    "\n",
    "# Clean 'rating': Convert to float (handle possible missing or invalid entries)\n",
    "df['rating'] = pd.to_numeric(df['rating'], errors='coerce')\n",
    "\n",
    "# Drop rows with missing values in 'discounted_price' or 'rating'\n",
    "df_clean = df.dropna(subset=['discounted_price', 'rating'])\n",
    "\n",
    "# Calculate the Pearson correlation\n",
    "correlation = df_clean['discounted_price'].corr(df_clean['rating'])\n",
    "\n",
    "print(f\"Correlation between discounted price and rating: {correlation}\")\n",
    "\n"
   ]
  },
  {
   "cell_type": "code",
   "execution_count": 61,
   "id": "ade17a24-109f-42b2-818a-a0f496984568",
   "metadata": {},
   "outputs": [
    {
     "name": "stdout",
     "output_type": "stream",
     "text": [
      "Top 5 Categories Based on Highest Ratings:\n",
      "category\n",
      "Computers&Accessories|Tablets                                               4.6\n",
      "Computers&Accessories|NetworkingDevices|NetworkAdapters|PowerLANAdapters    4.5\n",
      "Electronics|Cameras&Photography|Accessories|Film                            4.5\n",
      "Computers&Accessories|Components|Memory                                     4.5\n",
      "Electronics|HomeAudio|MediaStreamingDevices|StreamingClients                4.5\n",
      "Name: rating, dtype: float64\n"
     ]
    }
   ],
   "source": [
    "# 9. What are the Top 5 categories based on the highest ratings ?\n",
    "\n",
    "# Group by 'category' and calculate the average rating\n",
    "category_ratings = df.groupby('category')['rating'].mean()\n",
    "\n",
    "# Sort categories by average rating in descending order\n",
    "top_categories = category_ratings.sort_values(ascending=False).head(5)\n",
    "\n",
    "print(\"Top 5 Categories Based on Highest Ratings:\")\n",
    "print(top_categories)\n"
   ]
  },
  {
   "cell_type": "code",
   "execution_count": null,
   "id": "eeddc970-67e7-4dcb-a888-5b04516f63fd",
   "metadata": {},
   "outputs": [],
   "source": [
    "# 10. Identify any potential areas for improvement or optimization based on the data analysis ?"
   ]
  },
  {
   "cell_type": "code",
   "execution_count": 62,
   "id": "0b01cb68-a7fa-4179-abdd-a045716ae6c8",
   "metadata": {},
   "outputs": [
    {
     "name": "stdout",
     "output_type": "stream",
     "text": [
      "Correlation between discounted price and rating: 0.12033741712288534\n"
     ]
    }
   ],
   "source": [
    "# i. Correlation between Price and Rating\n",
    "price_rating_corr = df_clean['discounted_price'].corr(df_clean['rating'])\n",
    "print(f\"Correlation between discounted price and rating: {price_rating_corr}\")"
   ]
  },
  {
   "cell_type": "code",
   "execution_count": 63,
   "id": "809cf612-92fe-4551-bc7e-33c7e38b125f",
   "metadata": {},
   "outputs": [
    {
     "name": "stdout",
     "output_type": "stream",
     "text": [
      "\n",
      "Top Categories by Average Rating:\n",
      "category\n",
      "Computers&Accessories|Tablets                                               4.6\n",
      "Computers&Accessories|NetworkingDevices|NetworkAdapters|PowerLANAdapters    4.5\n",
      "Electronics|Cameras&Photography|Accessories|Film                            4.5\n",
      "Computers&Accessories|Components|Memory                                     4.5\n",
      "Electronics|HomeAudio|MediaStreamingDevices|StreamingClients                4.5\n",
      "Name: rating, dtype: float64\n"
     ]
    }
   ],
   "source": [
    "# ii. Average Rating by Category\n",
    "category_avg_rating = df_clean.groupby('category')['rating'].mean().sort_values(ascending=False)\n",
    "print(\"\\nTop Categories by Average Rating:\")\n",
    "print(category_avg_rating.head(5))"
   ]
  },
  {
   "cell_type": "code",
   "execution_count": 65,
   "id": "536dcc41-62d6-41b1-810c-b7ac0250ff5e",
   "metadata": {},
   "outputs": [
    {
     "name": "stdout",
     "output_type": "stream",
     "text": [
      "\n",
      "Products with Low Ratings but High Prices:\n",
      "                                           product_name  discounted_price  \\\n",
      "1309  Khaitan ORFin Fan heater for Home and kitchen-...            1299.0   \n",
      "\n",
      "      rating  \n",
      "1309     2.0  \n"
     ]
    }
   ],
   "source": [
    "# iii. Products with Low Ratings but High Prices\n",
    "low_rating_high_price = df_clean[(df_clean['rating'] < 3.0) & (df_clean['discounted_price'] > df_clean['discounted_price'].median())]\n",
    "print(\"\\nProducts with Low Ratings but High Prices:\")\n",
    "print(low_rating_high_price[['product_name', 'discounted_price', 'rating']].head(5))"
   ]
  },
  {
   "cell_type": "code",
   "execution_count": 67,
   "id": "653794a6-df63-47f6-a42d-a3c38b653093",
   "metadata": {},
   "outputs": [
    {
     "name": "stdout",
     "output_type": "stream",
     "text": [
      "\n",
      "High-Rated Products with Few Reviews (Need More Engagement):\n",
      "                                           product_name  rating  rating_count\n",
      "174   Syncwire LTG to USB Cable for Fast Charging Co...     5.0           5.0\n",
      "299   WANBO X1 Pro (Upgraded) | Native 1080P Full HD...     4.5           7.0\n",
      "1222  Kitchenwell Multipurpose Portable Electronic D...     4.3           7.0\n",
      "1293  Melbon VM-905 2000-Watt Room Heater (ISI Certi...     4.6           9.0\n"
     ]
    }
   ],
   "source": [
    "# iv. Products with High Ratings but Low Review Counts (Need More Reviews)\n",
    "df['rating_count'] = pd.to_numeric(df['rating_count'].replace(',', ''), errors='coerce')\n",
    "high_rating_low_reviews = df[(df['rating'] >= 4.0) & (df['rating_count'] < 10)]\n",
    "print(\"\\nHigh-Rated Products with Few Reviews (Need More Engagement):\")\n",
    "print(high_rating_low_reviews[['product_name', 'rating', 'rating_count']].head(5))"
   ]
  },
  {
   "cell_type": "code",
   "execution_count": 68,
   "id": "28373b48-8bd7-4a83-8c94-d16d67e833fc",
   "metadata": {},
   "outputs": [
    {
     "name": "stdout",
     "output_type": "stream",
     "text": [
      "\n",
      "Underperforming Categories (Lowest Ratings):\n",
      "category\n",
      "Computers&Accessories|Accessories&Peripherals|Audio&VideoAccessories|PCMicrophones                               3.6\n",
      "Electronics|HomeTheater,TV&Video|Accessories|3DGlasses                                                           3.5\n",
      "Computers&Accessories|Accessories&Peripherals|Audio&VideoAccessories|PCHeadsets                                  3.5\n",
      "Computers&Accessories|Accessories&Peripherals|Keyboards,Mice&InputDevices|Keyboard&MiceAccessories|DustCovers    3.4\n",
      "Home&Kitchen|Kitchen&HomeAppliances|Coffee,Tea&Espresso|CoffeeGrinders|ElectricGrinders                          3.3\n",
      "Name: rating, dtype: float64\n"
     ]
    }
   ],
   "source": [
    "# v. Underperforming Categories (Low Average Ratings)\n",
    "underperforming_categories = category_avg_rating.tail(5)\n",
    "print(\"\\nUnderperforming Categories (Lowest Ratings):\")\n",
    "print(underperforming_categories)"
   ]
  },
  {
   "cell_type": "code",
   "execution_count": null,
   "id": "eeae99db-83d6-4bf9-8a86-e528e2adfef0",
   "metadata": {},
   "outputs": [],
   "source": []
  }
 ],
 "metadata": {
  "kernelspec": {
   "display_name": "Python 3 (ipykernel)",
   "language": "python",
   "name": "python3"
  },
  "language_info": {
   "codemirror_mode": {
    "name": "ipython",
    "version": 3
   },
   "file_extension": ".py",
   "mimetype": "text/x-python",
   "name": "python",
   "nbconvert_exporter": "python",
   "pygments_lexer": "ipython3",
   "version": "3.11.4"
  }
 },
 "nbformat": 4,
 "nbformat_minor": 5
}
