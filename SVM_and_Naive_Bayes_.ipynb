{
  "nbformat": 4,
  "nbformat_minor": 0,
  "metadata": {
    "colab": {
      "provenance": []
    },
    "kernelspec": {
      "name": "python3",
      "display_name": "Python 3"
    },
    "language_info": {
      "name": "python"
    }
  },
  "cells": [
    {
      "cell_type": "markdown",
      "source": [
        "THEORITICAL"
      ],
      "metadata": {
        "id": "Jfov9so9T_VY"
      }
    },
    {
      "cell_type": "markdown",
      "source": [
        "**1. What is a Support Vector Machine (SVM)**\n",
        "\n",
        "ans. A Support Vector Machine (SVM) is a powerful and versatile supervised machine learning algorithm used for both classification and regression tasks. Here's a breakdown of its key aspects:\n",
        "\n",
        "**Core Concepts:**\n",
        "\n",
        "* **Hyperplane:**\n",
        "    * At its heart, an SVM aims to find the optimal hyperplane that best separates different classes of data. In a 2D space, this hyperplane is a line; in higher dimensions, it becomes a plane.\n",
        "* **Margin:**\n",
        "    * The \"optimal\" hyperplane is the one that maximizes the margin, which is the distance between the hyperplane and the closest data points of each class. A larger margin generally leads to better generalization and less risk of overfitting.\n",
        "* **Support Vectors:**\n",
        "    * These are the data points that lie closest to the hyperplane and directly influence its position. They \"support\" the margin.\n",
        "* **Kernel Trick:**\n",
        "    * One of the most significant strengths of SVMs is their ability to handle non-linearly separable data. The kernel trick allows SVMs to implicitly map data into a higher-dimensional space where it becomes linearly separable. Common kernel functions include:\n",
        "        * Linear\n",
        "        * Polynomial\n",
        "        * Radial Basis Function (RBF)\n",
        "        * Sigmoid\n",
        "\n",
        "**Key Features and Advantages:**\n",
        "\n",
        "* **Effective in High-Dimensional Spaces:** SVMs perform well even when the number of features is greater than the number of samples.\n",
        "* **Memory Efficient:** Because they rely on support vectors, SVMs use a subset of training points, making them memory-efficient.\n",
        "* **Versatile:** They can be used for both classification and regression.\n",
        "* **Kernel Flexibility:** The kernel trick allows SVMs to handle complex, non-linear relationships in data.\n",
        "\n",
        "**Applications:**\n",
        "\n",
        "SVMs are used in a wide range of applications, including:\n",
        "\n",
        "* Image classification\n",
        "* Text categorization\n",
        "* Bioinformatics\n",
        "* Medical diagnosis\n",
        "\n",
        "In essence, SVMs are about finding the best possible boundary between different categories of data, and they are very effective at doing so.\n"
      ],
      "metadata": {
        "id": "5HYcoC-8UFQR"
      }
    },
    {
      "cell_type": "markdown",
      "source": [
        "**2. What is the difference between Hard Margin and Soft Margin SVM ?**\n",
        "\n",
        "ans. The key difference between Hard Margin and Soft Margin SVMs lies in how they handle data that isn't perfectly separable. Here's a breakdown:\n",
        "\n",
        "**Hard Margin SVM:**\n",
        "\n",
        "* **Ideal Scenario:**\n",
        "    * This type of SVM assumes that the data is perfectly linearly separable. It aims to find a hyperplane that completely separates the classes with no misclassifications.\n",
        "* **Strict Separation:**\n",
        "    * It seeks to maximize the margin while ensuring that all data points are correctly classified and lie outside the margin.\n",
        "* **Limitations:**\n",
        "    * Hard margin SVMs are very sensitive to outliers. If even a single outlier exists, it can drastically affect the hyperplane or even make it impossible to find a solution.\n",
        "    * In real-world scenarios, data is often noisy and not perfectly separable, making hard margin SVMs impractical in many cases.\n",
        "\n",
        "**Soft Margin SVM:**\n",
        "\n",
        "* **Real-World Applicability:**\n",
        "    * Recognizing that data is often imperfect, soft margin SVMs allow for some misclassifications.\n",
        "* **Flexibility:**\n",
        "    * It introduces \"slack variables\" that allow some data points to be within the margin or even on the wrong side of the hyperplane.\n",
        "    * This flexibility makes soft margin SVMs more robust to outliers and better suited for handling non-linearly separable data.\n",
        "* **Trade-off:**\n",
        "    * Soft margin SVMs balance maximizing the margin with minimizing the number of misclassifications. This trade-off is controlled by a regularization parameter (often denoted as \"C\").\n",
        "        * A higher \"C\" value penalizes misclassifications more heavily, resulting in a narrower margin.\n",
        "        * A lower \"C\" value allows for more misclassifications, resulting in a wider margin.\n",
        "\n",
        "**In summary:**\n",
        "\n",
        "* Hard margin SVMs are ideal for perfectly separable data, but highly sensitive to outliers.\n",
        "* Soft margin SVMs are more practical for real-world data, allowing for some misclassifications to improve robustness and generalization.\n",
        "\n",
        "Essentially, soft margin SVMs provide a more flexible approach to finding the optimal hyperplane, making them the more commonly used type in practice.\n"
      ],
      "metadata": {
        "id": "IcT777hCUX_P"
      }
    },
    {
      "cell_type": "markdown",
      "source": [
        "*** 3. What is the mathematical intuition behind SVM ?***\n",
        "\n",
        " ans. To understand the mathematical intuition behind Support Vector Machines (SVMs), it's helpful to break it down into core concepts:\n",
        "\n",
        "**1. Hyperplanes and Decision Boundaries:**\n",
        "\n",
        "* **Linear Separation:**\n",
        "    * The fundamental idea is to find a \"hyperplane\" that best separates data points belonging to different classes. In a 2D space, this is a line; in 3D, it's a plane, and in higher dimensions, it's a hyperplane.\n",
        "    * Mathematically, a hyperplane can be represented by the equation: w ⋅ x + b = 0, where:\n",
        "        * w is the normal vector (perpendicular to the hyperplane).\n",
        "        * x is a data point.\n",
        "        * b is the bias (offset from the origin).\n",
        "* **Classification:**\n",
        "    * The sign of w ⋅ x + b determines which side of the hyperplane a data point falls on, thus classifying it into one of the two classes.\n",
        "\n",
        "**2. Maximizing the Margin:**\n",
        "\n",
        "* **Optimal Hyperplane:**\n",
        "    * SVMs don't just find any separating hyperplane; they aim to find the one that maximizes the \"margin.\" The margin is the distance between the hyperplane and the closest data points from each class.\n",
        "    * The intuition is that a larger margin leads to better generalization, meaning the model is more likely to correctly classify unseen data.\n",
        "* **Mathematical Formulation:**\n",
        "    * Maximizing the margin translates into an optimization problem. The goal is to find w and b that maximize the margin while ensuring all data points are correctly classified.\n",
        "    * This involves minimizing ||w|| (the magnitude of w), which is inversely proportional to the margin width.\n",
        "    * Constraints are added to ensure that data points are on the correct side of the margin.\n",
        "\n",
        "**3. Support Vectors:**\n",
        "\n",
        "* **Defining the Margin:**\n",
        "    * The data points that lie closest to the hyperplane and determine the margin are called \"support vectors.\"\n",
        "    * Only these support vectors are crucial in defining the hyperplane; other data points have no effect.\n",
        "* **Efficiency:**\n",
        "    * This property makes SVMs memory-efficient because they only need to store the support vectors.\n",
        "\n",
        "**4. Kernel Trick (Non-linear SVMs):**\n",
        "\n",
        "* **Non-linear Data:**\n",
        "    * When data is not linearly separable, SVMs use the \"kernel trick\" to map the data into a higher-dimensional space where it becomes linearly separable.\n",
        "* **Kernel Functions:**\n",
        "    * Kernel functions (like the RBF kernel) implicitly perform this mapping without explicitly calculating the coordinates in the higher-dimensional space.\n",
        "    * This allows SVMs to handle complex, non-linear decision boundaries.\n",
        "\n",
        "**5. Optimization:**\n",
        "\n",
        "* **Constrained Optimization:**\n",
        "    * Finding the optimal hyperplane involves solving a constrained optimization problem.\n",
        "    * This is typically done using techniques like quadratic programming.\n",
        "* **Slack Variables (Soft Margin):**\n",
        "    * For non-perfectly separable data, \"slack variables\" are introduced to allow some misclassifications.\n",
        "    * This leads to a \"soft margin\" SVM, which balances maximizing the margin with minimizing misclassification errors.\n",
        "\n",
        "In essence, the mathematical intuition behind SVMs is about:\n",
        "\n",
        "* Finding a clear and robust separation between classes.\n",
        "* Using optimization to find the \"best\" separation (maximum margin).\n",
        "* Employing mathematical tricks (kernels) to handle complex data.\n",
        "* The optimization problem that is solved, is the core of the mathematical side of SVM's.\n",
        "\n",
        "\n"
      ],
      "metadata": {
        "id": "xmQ_GWC6UqfW"
      }
    },
    {
      "cell_type": "markdown",
      "source": [
        "**4. What is the role of Lagrange Multipliers in SVM ?**\n",
        "\n",
        "ans. In the context of Support Vector Machines (SVMs), Lagrange multipliers play a crucial role in the mathematical formulation and solution of the optimization problem. Here's a breakdown of their role:\n",
        "\n",
        "**1. Handling Constrained Optimization:**\n",
        "\n",
        "* SVMs aim to maximize the margin between classes while adhering to constraints that ensure data points are correctly classified. This translates to a constrained optimization problem.\n",
        "* Lagrange multipliers are a technique used to solve such problems, where you want to find the extrema of a function subject to constraints.\n",
        "\n",
        "**2. Forming the Lagrangian Function:**\n",
        "\n",
        "* The SVM optimization problem is reformulated into a Lagrangian function. This function combines the objective function (maximizing the margin) with the constraint conditions (correct classification).\n",
        "* Lagrange multipliers are introduced as variables that \"weight\" the constraint terms within the Lagrangian function.\n",
        "\n",
        "**3. Deriving the Dual Problem:**\n",
        "\n",
        "* By using Lagrange multipliers, the original \"primal\" optimization problem can be transformed into a \"dual\" problem.\n",
        "* Solving the dual problem is often more efficient, especially in high-dimensional spaces, and it allows for the introduction of kernel functions.\n",
        "\n",
        "**4. Identifying Support Vectors:**\n",
        "\n",
        "* The Lagrange multipliers provide a way to identify the support vectors.\n",
        "* Data points with non-zero Lagrange multipliers are the support vectors, meaning they are the critical points that define the margin and decision boundary.\n",
        "* Data points with zero Lagrange multipliers have no impact on the decision boundary.\n",
        "\n",
        "**5. KKT Conditions:**\n",
        "\n",
        "* The Karush-Kuhn-Tucker (KKT) conditions are a set of necessary conditions for a solution to be optimal in constrained optimization.\n",
        "* Lagrange multipliers are integral to the KKT conditions, which help ensure that the solution found is indeed the optimal one.\n",
        "\n",
        "**In essence:**\n",
        "\n",
        "* Lagrange multipliers allow us to convert the constrained optimization problem of SVMs into a form that is easier to solve.\n",
        "* They provide a mechanism to incorporate constraints into the optimization process.\n",
        "* They are fundamental in identifying the support vectors, which are the core elements of an SVM.\n",
        "\n",
        "Therefore, Lagrange multipliers are not just a mathematical tool; they are a fundamental part of how SVMs function and find their optimal solutions.\n"
      ],
      "metadata": {
        "id": "m6cTljWQU3xN"
      }
    },
    {
      "cell_type": "markdown",
      "source": [
        "**5. What are Support Vectors in SVM ?**\n",
        "\n",
        "ans. In a Support Vector Machine (SVM), \"support vectors\" are crucial data points that directly influence the position and orientation of the hyperplane, which is the decision boundary. Here's a more detailed explanation:\n",
        "\n",
        "**Core Definition:**\n",
        "\n",
        "* Support vectors are the data points that lie closest to the hyperplane.\n",
        "* They are the most difficult data points to classify, and they \"support\" or define the margin of the classifier.\n",
        "\n",
        "**Key Roles:**\n",
        "\n",
        "* **Defining the Margin:**\n",
        "    * The margin in an SVM is the distance between the hyperplane and the nearest data points from each class.\n",
        "    * Support vectors are the points that determine this margin.\n",
        "    * The goal of an SVM is to maximize this margin, and only the support vectors are relevant in this calculation.\n",
        "* **Influence on the Hyperplane:**\n",
        "    * The position and orientation of the optimal hyperplane are entirely determined by the support vectors.\n",
        "    * If you were to remove all other data points and keep only the support vectors, the hyperplane would remain the same.\n",
        "* **Efficiency:**\n",
        "    * Because the SVM's decision boundary is defined only by support vectors, it makes SVMs relatively memory-efficient.\n",
        "    * When making predictions, the SVM only needs to consider the support vectors, not the entire training dataset.\n",
        "\n",
        "**In simpler terms:**\n",
        "\n",
        "* Imagine you're trying to separate two groups of objects with a line (or a plane in higher dimensions).\n",
        "* The support vectors are the objects closest to that line.\n",
        "* They're the most important objects because they dictate where exactly you should draw the line to create the widest possible gap between the groups.\n",
        "\n",
        "Therefore, support vectors are the essential elements that enable SVMs to create robust and effective classification models.\n"
      ],
      "metadata": {
        "id": "NDYgWb5gVKPn"
      }
    },
    {
      "cell_type": "markdown",
      "source": [
        "6. What is a Support Vector Classifier (SVC) ?\n",
        "\n",
        "ans. A Support Vector Classifier (SVC) is essentially a type of Support Vector Machine (SVM) specifically used for classification tasks. To clarify:\n",
        "\n",
        "* **SVM (Support Vector Machine):**\n",
        "    * This is the overarching concept, encompassing algorithms that can be used for both classification and regression.\n",
        "* **SVC (Support Vector Classifier):**\n",
        "    * This refers specifically to the use of SVMs for classification problems.\n",
        "\n",
        "Here's a breakdown of what that entails:\n",
        "\n",
        "* **Core Function:**\n",
        "    * An SVC aims to find the optimal hyperplane that best separates data points belonging to different classes.\n",
        "    * It focuses on maximizing the margin between these classes.\n",
        "* **Key Characteristics:**\n",
        "    * It utilizes support vectors, which are the data points closest to the hyperplane, to define the decision boundary.\n",
        "    * It can handle both linearly separable and non-linearly separable data through the use of kernel functions.\n",
        "    * It is particularly effective in high-dimensional spaces.\n",
        "* **Purpose:**\n",
        "    * The primary goal of an SVC is to accurately categorize data points into distinct classes.\n",
        "\n",
        "In simpler terms, when you use an SVM to solve a classification problem (like determining whether an email is spam or not), you're using a Support Vector Classifier. So, SVC is the classification specific use of the SVM algorithm.\n"
      ],
      "metadata": {
        "id": "4UXg-PhMVvod"
      }
    },
    {
      "cell_type": "markdown",
      "source": [
        "**7. What is a Support Vector Regressor (SVR) ?**\n",
        "\n",
        "ans. Support Vector Regression (SVR) is a powerful machine learning technique used for regression tasks. It's an adaptation of Support Vector Machines (SVMs) that extends their capabilities from classification to predicting continuous values. Here's a breakdown of its key aspects:\n",
        "\n",
        "**Core Concept:**\n",
        "\n",
        "* **Finding the Best Fit:**\n",
        "    * Instead of finding a hyperplane that separates classes (like in SVC), SVR aims to find a function that best approximates the relationship between input features and a continuous target variable.\n",
        "    * Essentially, it tries to fit a hyperplane (or a curve in higher dimensions) to the data points.\n",
        "* **Epsilon-Insensitive Tube:**\n",
        "    * A key concept in SVR is the \"epsilon-insensitive tube.\" This defines a margin of tolerance around the predicted function.\n",
        "    * The goal is to fit as many data points as possible within this tube. Data points outside this tube contribute to the error.\n",
        "* **Support Vectors:**\n",
        "    * Similar to SVMs, SVR relies on \"support vectors.\" These are the data points that determine the position and shape of the regression function.\n",
        "\n",
        "**Key Features:**\n",
        "\n",
        "* **Continuous Value Prediction:**\n",
        "    * SVR is designed to predict continuous numerical outputs, making it suitable for tasks like predicting stock prices, temperature, or other real-valued variables.\n",
        "* **Flexibility with Kernels:**\n",
        "    * Like SVMs, SVR can use kernel functions to handle non-linear relationships in data. This allows it to model complex patterns.\n",
        "* **Robustness to Outliers:**\n",
        "    * The epsilon-insensitive tube helps SVR be less sensitive to outliers, as it focuses on fitting the majority of the data within the defined margin.\n",
        "\n",
        "**In simpler terms:**\n",
        "\n",
        "* Imagine you're trying to draw a line (or curve) that best fits a scattered set of data points.\n",
        "* SVR tries to draw a \"tube\" around that line, and it wants as many data points as possible to be inside that tube.\n",
        "* The data points that are on or outside the edge of the tube are the \"support vectors,\" and they determine the shape of the line.\n",
        "\n",
        "Therefore, SVR is a valuable tool for regression problems, offering flexibility and robustness in predicting continuous values.\n"
      ],
      "metadata": {
        "id": "LK1aHaY9V72D"
      }
    },
    {
      "cell_type": "markdown",
      "source": [
        "**8.  What is the Kernel Trick in SVM ?**\n",
        "\n",
        "ans. The \"kernel trick\" is a powerful technique used in Support Vector Machines (SVMs) that allows them to efficiently handle non-linearly separable data. Here's a breakdown:\n",
        "\n",
        "**The Problem: Non-Linear Data**\n",
        "\n",
        "* In many real-world scenarios, data points from different classes are not easily separated by a straight line (in 2D) or a hyperplane (in higher dimensions).\n",
        "* To address this, we need to find a way to create non-linear decision boundaries.\n",
        "\n",
        "**The Solution: Mapping to Higher Dimensions**\n",
        "\n",
        "* One approach is to transform the original data into a higher-dimensional space where it *becomes* linearly separable.\n",
        "* Imagine data points scattered in a way that they can't be separated by a line on a flat surface. If you could lift some of those points into a third dimension, you might be able to separate them with a plane.\n",
        "\n",
        "**The \"Trick\": Kernel Functions**\n",
        "\n",
        "* The challenge is that explicitly calculating the coordinates of the data points in this higher-dimensional space can be computationally expensive.\n",
        "* This is where the kernel trick comes in. Kernel functions allow us to compute the dot products of the data points in the higher-dimensional space *without* explicitly performing the transformation.\n",
        "* Essentially, they provide a shortcut to calculate the similarity between data points as if they were in the higher-dimensional space.\n",
        "\n",
        "**How it Works:**\n",
        "\n",
        "* Instead of calculating the transformed coordinates, kernel functions directly compute the inner product between pairs of data points in the original space.\n",
        "* This inner product is equivalent to the inner product of the transformed data points in the higher-dimensional space.\n",
        "* This significantly reduces the computational cost, especially in very high-dimensional spaces.\n",
        "\n",
        "**Common Kernel Functions:**\n",
        "\n",
        "* **Linear Kernel:**\n",
        "    * Used for linearly separable data.\n",
        "* **Polynomial Kernel:**\n",
        "    * Maps data into a polynomial feature space.\n",
        "* **Radial Basis Function (RBF) Kernel (Gaussian Kernel):**\n",
        "    * Maps data into an infinite-dimensional space, allowing for complex non-linear boundaries.\n",
        "* **Sigmoid Kernel:**\n",
        "    * Mimics the behavior of neural networks.\n",
        "\n",
        "**In essence:**\n",
        "\n",
        "* The kernel trick enables SVMs to create non-linear decision boundaries by implicitly mapping data into higher-dimensional spaces.\n",
        "* Kernel functions provide an efficient way to compute the necessary dot products in these higher-dimensional spaces, avoiding the computational cost of explicit transformations.\n",
        "\n",
        "This is why the kernel trick is so important to SVM's, it allows them to solve very complex classification problems.\n"
      ],
      "metadata": {
        "id": "X610JNIPWHzg"
      }
    },
    {
      "cell_type": "markdown",
      "source": [
        "**9. Compare Linear Kernel, Polynomial Kernel, and RBF Kernel?**\n",
        "\n",
        "ans. When working with Support Vector Machines (SVMs), the choice of kernel function significantly impacts the model's performance. Here's a comparison of the Linear, Polynomial, and Radial Basis Function (RBF) kernels:\n",
        "\n",
        "**1. Linear Kernel:**\n",
        "\n",
        "* **Function:**\n",
        "    * This is the simplest kernel, essentially performing a dot product between the input data points.\n",
        "    * It's suitable for linearly separable data.\n",
        "* **Characteristics:**\n",
        "    * Fastest computation.\n",
        "    * Produces a linear decision boundary.\n",
        "    * Works well when the number of features is large compared to the number of samples.\n",
        "* **When to Use:**\n",
        "    * When your data is linearly separable.\n",
        "    * For large datasets with many features, where computational efficiency is crucial.\n",
        "    * Text classification problems, where data is often linearly separable in high-dimensional space.\n",
        "* **Limitations:**\n",
        "    * Cannot handle non-linearly separable data.\n",
        "\n",
        "**2. Polynomial Kernel:**\n",
        "\n",
        "* **Function:**\n",
        "    * Maps data into a higher-dimensional space by raising features to a specified power (degree).\n",
        "    * Allows for non-linear decision boundaries.\n",
        "* **Characteristics:**\n",
        "    * Can model curved decision boundaries.\n",
        "    * The degree of the polynomial is a hyperparameter that needs to be tuned.\n",
        "    * Can be computationally expensive, especially for high degrees.\n",
        "* **When to Use:**\n",
        "    * When your data is non-linearly separable and you suspect a polynomial relationship between features.\n",
        "    * Image processing tasks, where polynomial relationships can be useful.\n",
        "* **Limitations:**\n",
        "    * Can overfit the data if the degree is too high.\n",
        "    * Can be computationally expensive.\n",
        "\n",
        "**3. Radial Basis Function (RBF) Kernel:**\n",
        "\n",
        "* **Function:**\n",
        "    * Maps data into an infinite-dimensional space.\n",
        "    * Creates complex, non-linear decision boundaries.\n",
        "    * Measures the similarity between data points based on their distance.\n",
        "* **Characteristics:**\n",
        "    * Very flexible and can handle complex data.\n",
        "    * Has hyperparameters (gamma and C) that need to be tuned.\n",
        "    * Generally performs well in a wide range of applications.\n",
        "* **When to Use:**\n",
        "    * When your data is non-linearly separable and you don't have prior knowledge about its structure.\n",
        "    * Most general-purpose kernel, often the default choice.\n",
        "* **Limitations:**\n",
        "    * Can be computationally expensive, especially for large datasets.\n",
        "    * Can overfit the data if hyperparameters are not properly tuned.\n",
        "\n",
        "**Key Differences Summarized:**\n",
        "\n",
        "* **Linear:**\n",
        "    * Simple, fast, linear boundaries.\n",
        "* **Polynomial:**\n",
        "    * Curved boundaries, degree parameter, computationally expensive.\n",
        "* **RBF:**\n",
        "    * Complex boundaries, gamma parameter, versatile.\n",
        "\n",
        "**Choosing the Right Kernel:**\n",
        "\n",
        "* If you suspect your data is linearly separable, start with the linear kernel.\n",
        "* If you have non-linear data, try the RBF kernel first, as it's often the most effective.\n",
        "* If you have prior knowledge about the polynomial relationship in your data, consider the polynomial kernel.\n",
        "* Always use cross-validation to tune the hyperparameters of your chosen kernel.\n",
        "\n",
        "\n"
      ],
      "metadata": {
        "id": "fDOZf-3AWgDr"
      }
    },
    {
      "cell_type": "markdown",
      "source": [
        "**10.  What is the effect of the C parameter in SVM ?**\n",
        "\n",
        "ans. The \"C\" parameter in Support Vector Machines (SVMs) is a crucial regularization parameter that controls the trade-off between achieving a smooth decision boundary and correctly classifying training points. Here's a breakdown of its effects:\n",
        "\n",
        "**Understanding the Role of C:**\n",
        "\n",
        "* **Balancing Margin and Misclassification:**\n",
        "    * SVMs aim to maximize the margin (the distance between the decision boundary and the closest data points).\n",
        "    * However, in real-world scenarios, data often contains noise or outliers, making it impossible to achieve perfect separation.\n",
        "    * The \"C\" parameter allows us to control how much we penalize misclassifications.\n",
        "* **Soft Margin Control:**\n",
        "    * Essentially, \"C\" determines the \"softness\" of the margin.\n",
        "    * A higher \"C\" value leads to a narrower margin and a higher penalty for misclassifications.\n",
        "    * A lower \"C\" value results in a wider margin and allows for more misclassifications.\n",
        "\n",
        "**Effects of Varying C:**\n",
        "\n",
        "* **High C Value:**\n",
        "    * **Narrow Margin:** The SVM tries to minimize misclassifications, even if it means creating a complex decision boundary.\n",
        "    * **Increased Overfitting Risk:** The model becomes highly sensitive to individual data points, including outliers, which can lead to overfitting.\n",
        "    * **Emphasis on Correct Classification:** The model prioritizes correctly classifying all training examples.\n",
        "* **Low C Value:**\n",
        "    * **Wide Margin:** The SVM prioritizes a wider margin, even if it means misclassifying some data points.\n",
        "    * **Reduced Overfitting Risk:** The model is more robust to outliers and generalizes better to unseen data.\n",
        "    * **Emphasis on Generalization:** The model prioritizes creating a simpler decision boundary that can handle new data effectively.\n",
        "\n",
        "**In Summary:**\n",
        "\n",
        "* \"C\" acts as a \"tuning knob\" that allows you to control the balance between fitting the training data closely and creating a more generalizable model.\n",
        "* Choosing the optimal \"C\" value is essential for achieving good performance. This is typically done using techniques like cross-validation.\n",
        "* It is important to remember that a very high C value can cause an SVM to act like a hard margin SVM, and cause it to overfit the training data.\n",
        "\n",
        "\n"
      ],
      "metadata": {
        "id": "Lnz3U_ZZWswM"
      }
    },
    {
      "cell_type": "markdown",
      "source": [
        "** 11. What is the role of the Gamma parameter in RBF Kernel SVM ?**\n",
        "\n",
        "ans. The gamma parameter in an RBF (Radial Basis Function) kernel SVM plays a critical role in determining the shape of the decision boundary. Here's a breakdown of its function:\n",
        "\n",
        "**Core Function:**\n",
        "\n",
        "* **Influence of Data Points:**\n",
        "    * Gamma essentially defines how far the influence of a single training example reaches.\n",
        "    * It controls the \"width\" of the RBF kernel.\n",
        "\n",
        "**Effects of Varying Gamma:**\n",
        "\n",
        "* **High Gamma:**\n",
        "    * A high gamma value means that the influence of each training example is limited to a small region around it.\n",
        "    * This leads to a more complex and \"wiggly\" decision boundary, attempting to capture fine-grained variations in the data.\n",
        "    * This can result in overfitting, where the model becomes too specialized to the training data and performs poorly on unseen data.\n",
        "* **Low Gamma:**\n",
        "    * A low gamma value means that the influence of each training example extends over a larger region.\n",
        "    * This results in a smoother and simpler decision boundary.\n",
        "    * This can lead to underfitting, where the model fails to capture the underlying patterns in the data.\n",
        "\n",
        "**In simpler terms:**\n",
        "\n",
        "* Think of gamma as controlling the \"reach\" of each data point.\n",
        "    * A high gamma means each point only influences points very close to it.\n",
        "    * A low gamma means each point influences points farther away.\n",
        "\n",
        "**Key Considerations:**\n",
        "\n",
        "* **Tuning:**\n",
        "    * Finding the optimal gamma value is crucial for achieving good performance. This is typically done using techniques like cross-validation.\n",
        "* **Interaction with C:**\n",
        "    * Gamma interacts with the \"C\" parameter (regularization parameter). Both parameters need to be tuned together to achieve the best results.\n",
        "\n",
        "In essence, gamma controls the \"locality\" of the RBF kernel, influencing the complexity of the decision boundary.\n"
      ],
      "metadata": {
        "id": "uSnAf56EW6VS"
      }
    },
    {
      "cell_type": "markdown",
      "source": [
        " **12. What is the Naïve Bayes classifier, and why is it called \"Naïve\"?**\n",
        "\n",
        " ans. The Naïve Bayes classifier is a probabilistic machine learning algorithm that's used for classification tasks. It's based on Bayes' theorem, which describes the probability of an event, based on prior knowledge of conditions that might be related to the event.\n",
        "\n",
        "Here's a breakdown:\n",
        "\n",
        "**How it Works:**\n",
        "\n",
        "* **Bayes' Theorem:**\n",
        "    * The Naïve Bayes classifier uses Bayes' theorem to calculate the probability of a data point belonging to a particular class, given its features.\n",
        "* **Probabilistic Classification:**\n",
        "    * It calculates the probability of each class and then selects the class with the highest probability.\n",
        "* **Feature Independence:**\n",
        "    * This is the \"naïve\" part. The algorithm assumes that all features are independent of each other, given the class. In reality, this is often not the case.\n",
        "\n",
        "**Why \"Naïve\"?**\n",
        "\n",
        "* **Independence Assumption:**\n",
        "    * The algorithm's assumption that features are independent is often unrealistic. For example, in text classification, the presence of one word can often influence the presence of another.\n",
        "    * Because this assumption is often violated in real-world data, the algorithm is considered \"naïve.\"\n",
        "* **Despite its \"naivety,\" it works well:**\n",
        "    * Even though this assumption is often incorrect, Naïve Bayes classifiers can perform surprisingly well, especially in certain applications like:\n",
        "        * Text classification (e.g., spam filtering)\n",
        "        * Sentiment analysis\n",
        "        * Document categorization\n",
        "\n",
        "**Key Characteristics:**\n",
        "\n",
        "* **Simple and Efficient:**\n",
        "    * Naïve Bayes classifiers are relatively simple to implement and computationally efficient, making them suitable for large datasets.\n",
        "* **Effective with High-Dimensional Data:**\n",
        "    * They can perform well with datasets that have a large number of features.\n",
        "* **Types of Naïve Bayes:**\n",
        "    * There are different types of Naïve Bayes classifiers, including:\n",
        "        * Gaussian Naïve Bayes (for continuous data)\n",
        "        * Multinomial Naïve Bayes (for discrete data, like word counts)\n",
        "        * Bernoulli Naïve Bayes (for binary data)\n",
        "\n",
        "In summary, the Naïve Bayes classifier is a simple and effective probabilistic algorithm that's \"naïve\" because it assumes feature independence.\n"
      ],
      "metadata": {
        "id": "4SkSGWe1XQ6o"
      }
    },
    {
      "cell_type": "markdown",
      "source": [
        "** 13. What is Bayes’ Theorem ?**\n",
        "\n",
        "ans. Bayes' Theorem is a fundamental concept in probability theory that describes the probability of an event, based on prior knowledge of conditions that might be related to the event. In simpler terms, it allows you to update your beliefs about something when you receive new evidence.\n",
        "\n",
        "Here's a breakdown:\n",
        "\n",
        "**Core Idea:**\n",
        "\n",
        "* Bayes' Theorem provides a way to calculate the conditional probability of an event. This means finding the probability of an event occurring, given that another event has already occurred.\n",
        "* It's particularly useful for updating probabilities based on new information.\n",
        "\n",
        "**The Formula:**\n",
        "\n",
        "The mathematical formula for Bayes' Theorem is:\n",
        "\n",
        "* P(A|B) = [P(B|A) * P(A)] / P(B)\n",
        "\n",
        "Where:\n",
        "\n",
        "* P(A|B) is the posterior probability: the probability of event A occurring, given that event B has occurred.\n",
        "* P(B|A) is the likelihood: the probability of event B occurring, given that event A has occurred.\n",
        "* P(A) is the prior probability: the initial probability of event A occurring.\n",
        "* P(B) is the marginal probability: the probability of event B occurring.\n",
        "\n",
        "**What it Means:**\n",
        "\n",
        "* Essentially, Bayes' Theorem lets you reverse conditional probabilities. Instead of knowing the probability of B given A, you can find the probability of A given B.\n",
        "* It's about updating your understanding of the probability of an event based on new evidence.\n",
        "\n",
        "**Applications:**\n",
        "\n",
        "Bayes' Theorem has wide-ranging applications in various fields, including:\n",
        "\n",
        "* **Medicine:** Diagnosing diseases based on test results.\n",
        "* **Machine learning:** Building classifiers, such as Naïve Bayes.\n",
        "* **Finance:** Assessing risk and making investment decisions.\n",
        "* **Spam filtering:** Identifying spam emails.\n",
        "\n",
        "In essence, Bayes' Theorem is a powerful tool for reasoning about probabilities and updating beliefs in the face of new evidence.\n"
      ],
      "metadata": {
        "id": "6rnc0_GUXbkj"
      }
    },
    {
      "cell_type": "markdown",
      "source": [
        " 14. Explain the differences between Gaussian Naïve Bayes, Multinomial Naïve Bayes, and Bernoulli Naïve Bayes ?\n",
        "\n",
        " ans. Gaussian Naïve Bayes, Multinomial Naïve Bayes, and Bernoulli Naïve Bayes are all variations of the Naïve Bayes classifier, each tailored for different types of data. Here's a breakdown of their differences:\n",
        "\n",
        "**1. Gaussian Naïve Bayes:**\n",
        "\n",
        "* **Data Type:**\n",
        "    * This variant is used when the features are continuous and assumed to follow a Gaussian (normal) distribution.\n",
        "* **How it Works:**\n",
        "    * It estimates the mean and standard deviation of each feature for each class.\n",
        "    * When making predictions, it calculates the probability of a data point belonging to a class based on the Gaussian probability density function.\n",
        "* **Use Cases:**\n",
        "    * Suitable for datasets with continuous numerical features, such as:\n",
        "        * Predicting the length of something.\n",
        "        * Classifying data based on measurements like height, weight, or temperature.\n",
        "* **Key Assumption:**\n",
        "    * Assumes that the continuous features are normally distributed.\n",
        "\n",
        "**2. Multinomial Naïve Bayes:**\n",
        "\n",
        "* **Data Type:**\n",
        "    * This variant is used when the features represent counts or frequencies, such as word counts in text documents.\n",
        "* **How it Works:**\n",
        "    * It calculates the probability of each feature occurring in each class.\n",
        "    * It's based on the multinomial distribution, which models the probability of observing counts of different events.\n",
        "* **Use Cases:**\n",
        "    * Widely used in text classification tasks, such as:\n",
        "        * Spam filtering.\n",
        "        * Sentiment analysis.\n",
        "        * Document categorization.\n",
        "* **Key Assumption:**\n",
        "    * Assumes that the features represent counts or frequencies.\n",
        "\n",
        "**3. Bernoulli Naïve Bayes:**\n",
        "\n",
        "* **Data Type:**\n",
        "    * This variant is used when the features are binary, meaning they represent the presence or absence of a feature (e.g., 0 or 1, true or false).\n",
        "* **How it Works:**\n",
        "    * It calculates the probability of each feature being present or absent in each class.\n",
        "    * It's based on the Bernoulli distribution, which models the probability of a binary event.\n",
        "* **Use Cases:**\n",
        "    * Suitable for tasks where features are represented as binary values, such as:\n",
        "        * Document classification based on the presence or absence of words.\n",
        "        * Classifying data based on binary features.\n",
        "* **Key Assumption:**\n",
        "    * Assumes that the features are binary.\n",
        "\n",
        "**Key Differences Summarized:**\n",
        "\n",
        "* **Gaussian:**\n",
        "    * Continuous, normally distributed features.\n",
        "* **Multinomial:**\n",
        "    * Discrete, count-based features.\n",
        "* **Bernoulli:**\n",
        "    * Binary features (presence/absence).\n",
        "\n",
        "Choosing the right Naïve Bayes variant depends on the nature of your data and the specific classification task you're trying to solve.\n"
      ],
      "metadata": {
        "id": "PKdfvmzoXr_0"
      }
    },
    {
      "cell_type": "markdown",
      "source": [
        "**15. When should you use Gaussian Naïve Bayes over other variants ?**\n",
        "\n",
        "ans. Gaussian Naïve Bayes is particularly well-suited for situations where your data exhibits certain characteristics. Here's a breakdown of when it's most appropriate:\n",
        "\n",
        "**Key Scenarios:**\n",
        "\n",
        "* **Continuous Numerical Data:**\n",
        "    * The most fundamental requirement is that your features are continuous, meaning they represent measurements or quantities that can take on a range of values.\n",
        "    * Examples include:\n",
        "        * Temperature readings\n",
        "        * Height and weight measurements\n",
        "        * Sensor data\n",
        "        * Financial data.\n",
        "* **Assumption of Normal Distribution:**\n",
        "    * Gaussian Naïve Bayes works best when the features within each class approximately follow a Gaussian (normal) distribution.\n",
        "    * If your data roughly aligns with a bell-shaped curve, this variant is likely to perform well.\n",
        "* **Relatively Small Datasets:**\n",
        "    * Naïve Bayes algorithms, in general, can perform reasonably well even with limited training data.\n",
        "    * Gaussian Naïve Bayes is no exception, making it a viable option when you have a smaller dataset.\n",
        "* **When Speed is Important:**\n",
        "    * Naïve Bayes classifiers are known for their computational efficiency.\n",
        "    * If you need a fast and efficient classification algorithm, especially for real-time applications, Gaussian Naïve Bayes can be a good choice.\n",
        "\n",
        "**Situations Where Other Variants Might Be More Suitable:**\n",
        "\n",
        "* **Discrete Data (Counts):**\n",
        "    * If your features represent counts or frequencies (e.g., word counts in text documents), Multinomial Naïve Bayes is the more appropriate choice.\n",
        "* **Binary Data (Presence/Absence):**\n",
        "    * If your features are binary (e.g., yes/no, true/false), Bernoulli Naïve Bayes is the better option.\n",
        "\n",
        "**In essence:**\n",
        "\n",
        "* Use Gaussian Naïve Bayes when you have continuous numerical data and a reasonable belief that your features are normally distributed.\n",
        "* It is a good simple and fast option to use as a baseline model.\n"
      ],
      "metadata": {
        "id": "nQr8UxGaX3PN"
      }
    },
    {
      "cell_type": "markdown",
      "source": [
        "**16. What are the key assumptions made by Naïve Bayes ?**\n",
        "\n",
        "ans. The Naïve Bayes classifier is a powerful and relatively simple algorithm, but its simplicity comes with some key assumptions. Understanding these assumptions is crucial for knowing when and how to use it effectively. Here are the primary assumptions:\n",
        "\n",
        "**1. Feature Independence:**\n",
        "\n",
        "* This is the \"naïve\" part of Naïve Bayes. It assumes that all features in the dataset are conditionally independent of each other, given the class label.\n",
        "* In simpler terms, it means that the presence or absence of one feature does not affect the presence or absence of any other feature, assuming you know the class.\n",
        "* This is often a simplification of reality, as features can often be correlated.\n",
        "\n",
        "**2. Distribution Assumptions:**\n",
        "\n",
        "* Depending on the specific type of Naïve Bayes:\n",
        "    * **Gaussian Naïve Bayes:** Assumes that continuous features follow a Gaussian (normal) distribution within each class.\n",
        "    * **Multinomial Naïve Bayes:** Assumes that features represent counts or frequencies and follow a multinomial distribution.\n",
        "    * **Bernoulli Naïve Bayes:** Assumes that features are binary (presence/absence) and follow a Bernoulli distribution.\n",
        "\n",
        "**3. Equal Feature Importance:**\n",
        "\n",
        "* While not always explicitly stated, there is an implicit assumption that all features contribute equally to the prediction. In practice, this might not always be the case, as some features may be more informative than others.\n",
        "\n",
        "**Important Notes:**\n",
        "\n",
        "* Despite these assumptions, especially the independence assumption, Naïve Bayes classifiers often perform surprisingly well in practice, particularly in text classification tasks.\n",
        "* The simplicity of Naïve Bayes makes it computationally efficient, which is advantageous for large datasets.\n",
        "* When the independence assumption is severely violated, the performance of Naïve Bayes may suffer.\n",
        "\n",
        "In summary, the core assumption that defines Naïve Bayes is that of feature independence. While often unrealistic, this assumption allows for efficient computation and can lead to surprisingly good results in many applications.\n"
      ],
      "metadata": {
        "id": "exCgSVBAYKtC"
      }
    },
    {
      "cell_type": "markdown",
      "source": [
        "** 17. What are the advantages and disadvantages of Naïve Bayes ?**\n",
        "\n",
        "ans. Naïve Bayes classifiers offer a blend of simplicity and efficiency, but they also come with certain limitations. Here's a breakdown of their advantages and disadvantages:\n",
        "\n",
        "**Advantages:**\n",
        "\n",
        "* **Simple and Easy to Implement:**\n",
        "    * Naïve Bayes algorithms are conceptually straightforward and relatively easy to code.\n",
        "* **Computationally Efficient:**\n",
        "    * They require minimal training time, making them suitable for large datasets.\n",
        "* **Effective with High-Dimensional Data:**\n",
        "    * Naïve Bayes can handle datasets with a large number of features, such as text data.\n",
        "* **Performs Well with Categorical Inputs:**\n",
        "    * Multinomial and Bernoulli Naïve Bayes are particularly effective with categorical features.\n",
        "* **Works Well with Relatively Small Training Data:**\n",
        "    * Naïve Bayes can often produce reasonable results even with limited training data.\n",
        "* **Useful as a Baseline Model:**\n",
        "    * Due to it's speed and simplicity, it is often a good first model to test.\n",
        "\n",
        "**Disadvantages:**\n",
        "\n",
        "* **Strong Independence Assumption:**\n",
        "    * The assumption that features are independent is often unrealistic and can negatively impact performance when features are strongly correlated.\n",
        "* **Zero Frequency Problem:**\n",
        "    * If a categorical variable has a category in the test data that was not observed in the training data, the probability will be zero, which can lead to inaccurate predictions. Techniques like Laplace smoothing can mitigate this issue.\n",
        "* **Limited Expressiveness:**\n",
        "    * Naïve Bayes models are relatively simple and may not be able to capture complex relationships between features.\n",
        "* **Sensitivity to Data Distribution:**\n",
        "    * Gaussian Naïve Bayes is sensitive to the assumption of normal distribution. If the data deviates significantly from this assumption, performance may suffer.\n",
        "* **Poor performance with continuous data when the normal distribution assumption is not met:**\n",
        "    * While Gaussian Naive Bayes is designed for continuous data, if the data is not normally distributed, other models will often perform better.\n"
      ],
      "metadata": {
        "id": "I42qEi3RYVcD"
      }
    },
    {
      "cell_type": "markdown",
      "source": [
        " **18. Why is Naïve Bayes a good choice for text classification ?**\n",
        "\n",
        "ans. Naïve Bayes has proven to be a surprisingly effective and popular choice for text classification tasks, despite its \"naïve\" assumptions. Here's why:\n",
        "\n",
        "**1. Simplicity and Efficiency:**\n",
        "\n",
        "* Text data is often high-dimensional, meaning it has a vast number of features (words). Naïve Bayes' simplicity allows it to handle these high-dimensional datasets efficiently.\n",
        "* It requires relatively little computational power, making it fast to train and predict, which is crucial when dealing with large volumes of text.\n",
        "\n",
        "**2. Handling High-Dimensional Data:**\n",
        "\n",
        "* In text classification, each word or term can be considered a feature. This leads to a very high number of features, often in the thousands or even millions.\n",
        "* Naïve Bayes can handle this high dimensionality without significant performance degradation, unlike some more complex models.\n",
        "\n",
        "**3. Robustness to Irrelevant Features:**\n",
        "\n",
        "* Text data often contains many irrelevant words or terms. Naïve Bayes tends to be relatively robust to these irrelevant features, as it focuses on the overall probability distribution of words within each class.\n",
        "\n",
        "**4. Effective with Sparse Data:**\n",
        "\n",
        "* Text data is inherently sparse, meaning that most documents contain only a small fraction of the total vocabulary.\n",
        "* Naïve Bayes performs well with sparse data because it calculates probabilities based on the observed frequencies of words within each class.\n",
        "\n",
        "**5. Multinomial Naïve Bayes and Term Frequencies:**\n",
        "\n",
        "* Multinomial Naïve Bayes, in particular, is well-suited for text classification because it directly models the frequency of terms (words) in documents.\n",
        "* This aligns well with the concept of \"bag-of-words\" representation, where the order of words is ignored, and only their frequencies are considered.\n",
        "\n",
        "**6. Good Baseline Performance:**\n",
        "\n",
        "* Even though the independence assumption is often violated in text data (words are often related), Naïve Bayes often provides surprisingly good baseline performance.\n",
        "* It's a good starting point for text classification tasks, and its performance can be compared to more complex models.\n",
        "\n",
        "**7. Spam Filtering Example:**\n",
        "\n",
        "* A classic example is spam filtering. Naïve Bayes can effectively learn the probability of certain words appearing in spam emails versus legitimate emails. This makes it efficient at filtering out unwanted messages.\n",
        "\n",
        "In summary, Naïve Bayes' simplicity, efficiency, and robustness to high-dimensional and sparse data make it a strong contender for text classification tasks, even with its simplifying assumptions.\n"
      ],
      "metadata": {
        "id": "gFL0pjMRYjot"
      }
    },
    {
      "cell_type": "markdown",
      "source": [
        " **19. Compare SVM and Naïve Bayes for classification tasks.**\n",
        "\n",
        " ans. When comparing Support Vector Machines (SVMs) and Naïve Bayes for classification tasks, it's important to consider their fundamental differences and the scenarios where each excels. Here's a comparative overview:\n",
        "\n",
        "**Naïve Bayes:**\n",
        "\n",
        "* **How it Works:**\n",
        "    * Based on Bayes' theorem, it calculates the probability of a data point belonging to a class, assuming feature independence.\n",
        "    * Simple and efficient, especially with high-dimensional data.\n",
        "* **Strengths:**\n",
        "    * Fast training and prediction.\n",
        "    * Effective with high-dimensional data (e.g., text classification).\n",
        "    * Performs well with categorical inputs.\n",
        "    * Robust to irrelevant features.\n",
        "    * Good for relatively small datasets.\n",
        "* **Weaknesses:**\n",
        "    * Strong independence assumption, which is often violated in real-world data.\n",
        "    * Can suffer from the \"zero frequency problem.\"\n",
        "    * Less effective with complex relationships between features.\n",
        "* **Use Cases:**\n",
        "    * Text classification (spam filtering, sentiment analysis).\n",
        "    * Document categorization.\n",
        "\n",
        "**SVM:**\n",
        "\n",
        "* **How it Works:**\n",
        "    * Finds the optimal hyperplane that maximizes the margin between classes.\n",
        "    * Effective in high-dimensional spaces.\n",
        "    * Uses the \"kernel trick\" to handle non-linearly separable data.\n",
        "* **Strengths:**\n",
        "    * Effective in high-dimensional spaces.\n",
        "    * Can model complex, non-linear decision boundaries.\n",
        "    * Robust to outliers.\n",
        "    * Generally higher accuracy when the data is not linearly seperable.\n",
        "* **Weaknesses:**\n",
        "    * Can be computationally expensive, especially with large datasets.\n",
        "    * Hyperparameter tuning (C, gamma) is crucial.\n",
        "    * Less effective with very large datasets.\n",
        "* **Use Cases:**\n",
        "    * Image classification.\n",
        "    * Bioinformatics.\n",
        "    * Medical diagnosis.\n",
        "\n",
        "**Key Differences Summarized:**\n",
        "\n",
        "* **Data Characteristics:**\n",
        "    * Naïve Bayes: Performs well with high-dimensional, categorical data.\n",
        "    * SVM: Excels with high-dimensional, complex data, including non-linearly separable data.\n",
        "* **Assumptions:**\n",
        "    * Naïve Bayes: Relies on the strong assumption of feature independence.\n",
        "    * SVM: Focuses on maximizing the margin, with flexibility through kernel functions.\n",
        "* **Performance:**\n",
        "    * Naïve Bayes: Generally faster, good for baseline performance.\n",
        "    * SVM: Often achieves higher accuracy, especially with complex data, but requires more computational resources.\n",
        "* **Computational Cost:**\n",
        "    * Naive Bayes: very low computational cost.\n",
        "    * SVM: high computational cost, especially with large datasets.\n",
        "\n",
        "**When to Choose Which:**\n",
        "\n",
        "* Choose Naïve Bayes when:\n",
        "    * You have high-dimensional text data.\n",
        "    * You need a fast and efficient classifier.\n",
        "    * You have limited computational resources.\n",
        "* Choose SVM when:\n",
        "    * You have complex, non-linearly separable data.\n",
        "    * You prioritize high accuracy.\n",
        "    * You have sufficient computational resources.\n",
        "\n",
        "In many cases, it's beneficial to try both algorithms and compare their performance on your specific dataset.\n"
      ],
      "metadata": {
        "id": "uckQuGQjYuli"
      }
    },
    {
      "cell_type": "markdown",
      "source": [
        "** 20. How does Laplace Smoothing help in Naïve Bayes?**\n",
        "\n",
        "ans. Laplace smoothing is a technique used in Naïve Bayes classifiers to address the \"zero frequency problem.\" This problem arises when a feature value in the test data is not present in the training data for a particular class. Here's a breakdown of how it helps:\n",
        "\n",
        "**The Zero Frequency Problem:**\n",
        "\n",
        "* In Naïve Bayes, probabilities are calculated based on the frequency of features within each class.\n",
        "* If a particular feature value (e.g., a specific word in text classification) does not appear in the training data for a certain class, its probability becomes zero.\n",
        "* When calculating the overall probability of a class, these zero probabilities can cause the entire product to become zero, leading to inaccurate classifications.\n",
        "\n",
        "**How Laplace Smoothing Works:**\n",
        "\n",
        "* Laplace smoothing, also known as additive smoothing, adds a small constant value to the counts of each feature value.\n",
        "* This ensures that no probability is ever exactly zero, even if a feature value is not observed in the training data.\n",
        "* Essentially, it \"smooths\" the probability distribution, preventing it from being overly influenced by rare or unseen events.\n",
        "\n",
        "**Benefits:**\n",
        "\n",
        "* **Prevents Zero Probabilities:**\n",
        "    * The primary benefit is that it eliminates the zero frequency problem, ensuring that the classifier can handle unseen feature values.\n",
        "* **Improves Accuracy:**\n",
        "    * By preventing zero probabilities, Laplace smoothing can improve the accuracy and reliability of Naïve Bayes classifiers, especially in situations where the training data is sparse.\n",
        "* **Enhances Generalization:**\n",
        "    * It helps the model generalize better to unseen data by preventing it from overfitting to the specific feature values observed in the training set.\n",
        "\n",
        "**In essence:**\n",
        "\n",
        "* Laplace smoothing adds a small \"fudge factor\" to the probability calculations, preventing the model from making overly confident predictions based on limited training data.\n",
        "* It is a simple and effective technique that enhances the robustness of Naïve Bayes classifiers.\n"
      ],
      "metadata": {
        "id": "7wHGEJFFY3rG"
      }
    },
    {
      "cell_type": "markdown",
      "source": [
        "***PRACTICAL QUESTIONS ***"
      ],
      "metadata": {
        "id": "z0T3vOGnZD9n"
      }
    },
    {
      "cell_type": "markdown",
      "source": [
        " 21. Write a Python program to train an SVM Classifier on the Iris dataset and evaluate accuracy"
      ],
      "metadata": {
        "id": "qoYbM7ecZJ5z"
      }
    },
    {
      "cell_type": "code",
      "source": [
        "import numpy as np\n",
        "from sklearn import datasets\n",
        "from sklearn.model_selection import train_test_split\n",
        "from sklearn.preprocessing import StandardScaler\n",
        "from sklearn.svm import SVC\n",
        "from sklearn.metrics import accuracy_score\n",
        "\n",
        "# Load the Iris dataset\n",
        "iris = datasets.load_iris()\n",
        "X = iris.data\n",
        "y = iris.target\n",
        "\n",
        "# Split the dataset into training and testing sets\n",
        "X_train, X_test, y_train, y_test = train_test_split(X, y, test_size=0.3, random_state=42)\n",
        "\n",
        "# Feature scaling (important for SVMs)\n",
        "scaler = StandardScaler()\n",
        "X_train_scaled = scaler.fit_transform(X_train)\n",
        "X_test_scaled = scaler.transform(X_test)\n",
        "\n",
        "# Create an SVM classifier (RBF kernel is commonly used)\n",
        "svm_classifier = SVC(kernel='rbf', C=1.0, gamma='scale', random_state=42) #gamma='scale' is recommended by sklearn\n",
        "\n",
        "# Train the classifier\n",
        "svm_classifier.fit(X_train_scaled, y_train)\n",
        "\n",
        "# Make predictions on the test set\n",
        "y_pred = svm_classifier.predict(X_test_scaled)\n",
        "\n",
        "# Evaluate accuracy\n",
        "accuracy = accuracy_score(y_test, y_pred)\n",
        "print(f\"Accuracy: {accuracy:.4f}\")\n",
        "\n",
        "#Example of changing the C and gamma parameters.\n",
        "svm_classifier2 = SVC(kernel='rbf', C=10, gamma=0.1, random_state=42)\n",
        "svm_classifier2.fit(X_train_scaled, y_train)\n",
        "y_pred2 = svm_classifier2.predict(X_test_scaled)\n",
        "accuracy2 = accuracy_score(y_test, y_pred2)\n",
        "print(f\"Accuracy with C=10 and gamma=0.1: {accuracy2:.4f}\")\n",
        "\n",
        "#Example of using a linear kernel.\n",
        "svm_classifier3 = SVC(kernel='linear', C=1, random_state=42)\n",
        "svm_classifier3.fit(X_train_scaled, y_train)\n",
        "y_pred3 = svm_classifier3.predict(X_test_scaled)\n",
        "accuracy3 = accuracy_score(y_test, y_pred3)\n",
        "print(f\"Accuracy with linear kernel: {accuracy3:.4f}\")"
      ],
      "metadata": {
        "colab": {
          "base_uri": "https://localhost:8080/"
        },
        "id": "gJGxuVFoZO5v",
        "outputId": "d551fd72-67a1-4cb8-cd54-de3b33140fc6"
      },
      "execution_count": 1,
      "outputs": [
        {
          "output_type": "stream",
          "name": "stdout",
          "text": [
            "Accuracy: 1.0000\n",
            "Accuracy with C=10 and gamma=0.1: 1.0000\n",
            "Accuracy with linear kernel: 0.9778\n"
          ]
        }
      ]
    },
    {
      "cell_type": "markdown",
      "source": [
        "22. Write a Python program to train two SVM classifiers with Linear and RBF kernels on the Wine dataset, then\n",
        "compare their accuracies"
      ],
      "metadata": {
        "id": "knvNe9tBZaiD"
      }
    },
    {
      "cell_type": "code",
      "source": [
        "import numpy as np\n",
        "from sklearn import datasets\n",
        "from sklearn.model_selection import train_test_split\n",
        "from sklearn.preprocessing import StandardScaler\n",
        "from sklearn.svm import SVC\n",
        "from sklearn.metrics import accuracy_score\n",
        "\n",
        "# Load the Wine dataset\n",
        "wine = datasets.load_wine()\n",
        "X = wine.data\n",
        "y = wine.target\n",
        "\n",
        "# Split the dataset into training and testing sets\n",
        "X_train, X_test, y_train, y_test = train_test_split(X, y, test_size=0.3, random_state=42)\n",
        "\n",
        "# Feature scaling (important for SVMs)\n",
        "scaler = StandardScaler()\n",
        "X_train_scaled = scaler.fit_transform(X_train)\n",
        "X_test_scaled = scaler.transform(X_test)\n",
        "\n",
        "# Create SVM classifier with Linear kernel\n",
        "svm_linear = SVC(kernel='linear', C=1.0, random_state=42)\n",
        "svm_linear.fit(X_train_scaled, y_train)\n",
        "y_pred_linear = svm_linear.predict(X_test_scaled)\n",
        "accuracy_linear = accuracy_score(y_test, y_pred_linear)\n",
        "print(f\"Linear Kernel Accuracy: {accuracy_linear:.4f}\")\n",
        "\n",
        "# Create SVM classifier with RBF kernel\n",
        "svm_rbf = SVC(kernel='rbf', C=1.0, gamma='scale', random_state=42) #gamma='scale' is recommended by sklearn\n",
        "svm_rbf.fit(X_train_scaled, y_train)\n",
        "y_pred_rbf = svm_rbf.predict(X_test_scaled)\n",
        "accuracy_rbf = accuracy_score(y_test, y_pred_rbf)\n",
        "print(f\"RBF Kernel Accuracy: {accuracy_rbf:.4f}\")\n",
        "\n",
        "# Compare accuracies\n",
        "if accuracy_linear > accuracy_rbf:\n",
        "    print(\"Linear kernel performed better.\")\n",
        "elif accuracy_rbf > accuracy_linear:\n",
        "    print(\"RBF kernel performed better.\")\n",
        "else:\n",
        "    print(\"Both kernels performed equally.\")\n",
        "\n",
        "#Example of changing C and gamma for the RBF kernel.\n",
        "svm_rbf_tuned = SVC(kernel='rbf', C=10, gamma=0.1, random_state=42)\n",
        "svm_rbf_tuned.fit(X_train_scaled, y_train)\n",
        "y_pred_rbf_tuned = svm_rbf_tuned.predict(X_test_scaled)\n",
        "accuracy_rbf_tuned = accuracy_score(y_test, y_pred_rbf_tuned)\n",
        "print(f\"RBF Kernel Accuracy with C=10, gamma=0.1: {accuracy_rbf_tuned:.4f}\")"
      ],
      "metadata": {
        "colab": {
          "base_uri": "https://localhost:8080/"
        },
        "id": "X0j1z1nZZcUY",
        "outputId": "d2006c39-75f6-4e42-fd2c-d2a04060fd70"
      },
      "execution_count": 2,
      "outputs": [
        {
          "output_type": "stream",
          "name": "stdout",
          "text": [
            "Linear Kernel Accuracy: 0.9815\n",
            "RBF Kernel Accuracy: 0.9815\n",
            "Both kernels performed equally.\n",
            "RBF Kernel Accuracy with C=10, gamma=0.1: 0.9815\n"
          ]
        }
      ]
    },
    {
      "cell_type": "markdown",
      "source": [
        " 23. Write a Python program to train an SVM Regressor (SVR) on a housing dataset and evaluate it using Mean\n",
        "Squared Error (MSE)"
      ],
      "metadata": {
        "id": "3JAx7bgpZhlR"
      }
    },
    {
      "cell_type": "code",
      "source": [
        "import numpy as np\n",
        "from sklearn.datasets import fetch_california_housing\n",
        "from sklearn.model_selection import train_test_split\n",
        "from sklearn.preprocessing import StandardScaler\n",
        "from sklearn.svm import SVR\n",
        "from sklearn.metrics import mean_squared_error\n",
        "\n",
        "# Load the California Housing dataset\n",
        "housing = fetch_california_housing()\n",
        "X = housing.data\n",
        "y = housing.target\n",
        "\n",
        "# Split the dataset into training and testing sets\n",
        "X_train, X_test, y_train, y_test = train_test_split(X, y, test_size=0.2, random_state=42)\n",
        "\n",
        "# Feature scaling (important for SVR)\n",
        "scaler = StandardScaler()\n",
        "X_train_scaled = scaler.fit_transform(X_train)\n",
        "X_test_scaled = scaler.transform(X_test)\n",
        "\n",
        "# Create an SVR regressor (RBF kernel is commonly used)\n",
        "svr_regressor = SVR(kernel='rbf', C=1.0, epsilon=0.1, gamma='scale') #gamma='scale' is recommended by sklearn\n",
        "\n",
        "# Train the regressor\n",
        "svr_regressor.fit(X_train_scaled, y_train)\n",
        "\n",
        "# Make predictions on the test set\n",
        "y_pred = svr_regressor.predict(X_test_scaled)\n",
        "\n",
        "# Evaluate using Mean Squared Error (MSE)\n",
        "mse = mean_squared_error(y_test, y_pred)\n",
        "print(f\"Mean Squared Error (MSE): {mse:.4f}\")\n",
        "\n",
        "#Example of changing C, epsilon, and gamma.\n",
        "svr_regressor_tuned = SVR(kernel='rbf', C=10, epsilon=0.05, gamma=0.1)\n",
        "svr_regressor_tuned.fit(X_train_scaled, y_train)\n",
        "y_pred_tuned = svr_regressor_tuned.predict(X_test_scaled)\n",
        "mse_tuned = mean_squared_error(y_test, y_pred_tuned)\n",
        "print(f\"Mean Squared Error (MSE) with tuned parameters: {mse_tuned:.4f}\")\n",
        "\n",
        "#Example of using a linear kernel.\n",
        "svr_regressor_linear = SVR(kernel='linear', C=1)\n",
        "svr_regressor_linear.fit(X_train_scaled, y_train)\n",
        "y_pred_linear = svr_regressor_linear.predict(X_test_scaled)\n",
        "mse_linear = mean_squared_error(y_test, y_pred_linear)\n",
        "print(f\"Mean Squared Error (MSE) with linear kernel: {mse_linear:.4f}\")"
      ],
      "metadata": {
        "colab": {
          "base_uri": "https://localhost:8080/"
        },
        "id": "mARleXo_Zk_A",
        "outputId": "7bbb743c-8ec7-4d16-c7b1-d0abaf625d0a"
      },
      "execution_count": 3,
      "outputs": [
        {
          "output_type": "stream",
          "name": "stdout",
          "text": [
            "Mean Squared Error (MSE): 0.3570\n",
            "Mean Squared Error (MSE) with tuned parameters: 0.3322\n",
            "Mean Squared Error (MSE) with linear kernel: 0.5792\n"
          ]
        }
      ]
    },
    {
      "cell_type": "markdown",
      "source": [
        "24. Write a Python program to train an SVM Classifier with a Polynomial Kernel and visualize the decision\n",
        "boundary"
      ],
      "metadata": {
        "id": "TICY4p_3Z1aS"
      }
    },
    {
      "cell_type": "code",
      "source": [
        "import numpy as np\n",
        "import matplotlib.pyplot as plt\n",
        "from sklearn import datasets\n",
        "from sklearn.model_selection import train_test_split\n",
        "from sklearn.preprocessing import StandardScaler\n",
        "from sklearn.svm import SVC\n",
        "\n",
        "# Load the Iris dataset (we'll use only two features for visualization)\n",
        "iris = datasets.load_iris()\n",
        "X = iris.data[:, :2]  # Using only the first two features\n",
        "y = iris.target\n",
        "\n",
        "# Take only 2 classes for simplicity of visualization\n",
        "X = X[y != 2]\n",
        "y = y[y != 2]\n",
        "\n",
        "# Split the dataset into training and testing sets\n",
        "X_train, X_test, y_train, y_test = train_test_split(X, y, test_size=0.3, random_state=42)\n",
        "\n",
        "# Feature scaling\n",
        "scaler = StandardScaler()\n",
        "X_train_scaled = scaler.fit_transform(X_train)\n",
        "X_test_scaled = scaler.transform(X_test)\n",
        "\n",
        "# Create an SVM classifier with a Polynomial kernel\n",
        "svm_classifier = SVC(kernel='poly', degree=3, C=1.0, random_state=42)  # degree is the polynomial degree\n",
        "\n",
        "# Train the classifier\n",
        "svm_classifier.fit(X_train_scaled, y_train)\n",
        "\n",
        "# Create a meshgrid for visualization\n",
        "x_min, x_max = X_train_scaled[:, 0].min() - 1, X_train_scaled[:, 0].max() + 1\n",
        "y_min, y_max = X_train_scaled[:, 1].min() - 1, X_train_scaled[:, 1].max() + 1\n",
        "xx, yy = np.meshgrid(np.arange(x_min, x_max, 0.02),\n",
        "                     np.arange(y_min, y_max, 0.02))\n",
        "\n",
        "# Make predictions on the meshgrid\n",
        "Z = svm_classifier.predict(np.c_[xx.ravel(), yy.ravel()])\n",
        "Z = Z.reshape(xx.shape)\n",
        "\n",
        "# Plot the decision boundary and data points\n",
        "plt.contourf(xx, yy, Z, alpha=0.8)\n",
        "plt.scatter(X_train_scaled[:, 0], X_train_scaled[:, 1], c=y_train, edgecolors='k')\n",
        "plt.scatter(X_test_scaled[:, 0], X_test_scaled[:, 1], c=y_test, marker='x', edgecolors='k') #test data as x\n",
        "plt.xlabel('Feature 1 (scaled)')\n",
        "plt.ylabel('Feature 2 (scaled)')\n",
        "plt.title('SVM with Polynomial Kernel Decision Boundary')\n",
        "plt.show()"
      ],
      "metadata": {
        "colab": {
          "base_uri": "https://localhost:8080/",
          "height": 527
        },
        "id": "a_Cdo68OZ5PN",
        "outputId": "e1eb61ff-59c5-4478-8d86-b8ffa4c89358"
      },
      "execution_count": 4,
      "outputs": [
        {
          "output_type": "stream",
          "name": "stderr",
          "text": [
            "<ipython-input-4-444f000de7d2>:44: UserWarning: You passed a edgecolor/edgecolors ('k') for an unfilled marker ('x').  Matplotlib is ignoring the edgecolor in favor of the facecolor.  This behavior may change in the future.\n",
            "  plt.scatter(X_test_scaled[:, 0], X_test_scaled[:, 1], c=y_test, marker='x', edgecolors='k') #test data as x\n"
          ]
        },
        {
          "output_type": "display_data",
          "data": {
            "text/plain": [
              "<Figure size 640x480 with 1 Axes>"
            ],
            "image/png": "[encoded data removed]"
          },
          "metadata": {}
        }
      ]
    },
    {
      "cell_type": "markdown",
      "source": [
        " 25. Write a Python program to train a Gaussian Naïve Bayes classifier on the Breast Cancer dataset and\n",
        "evaluate accuracy"
      ],
      "metadata": {
        "id": "uUhu2z8oZ8Ox"
      }
    },
    {
      "cell_type": "code",
      "source": [
        "import numpy as np\n",
        "from sklearn import datasets\n",
        "from sklearn.model_selection import train_test_split\n",
        "from sklearn.naive_bayes import GaussianNB\n",
        "from sklearn.metrics import accuracy_score\n",
        "from sklearn.preprocessing import StandardScaler\n",
        "\n",
        "# Load the Breast Cancer dataset\n",
        "breast_cancer = datasets.load_breast_cancer()\n",
        "X = breast_cancer.data\n",
        "y = breast_cancer.target\n",
        "\n",
        "# Split the dataset into training and testing sets\n",
        "X_train, X_test, y_train, y_test = train_test_split(X, y, test_size=0.3, random_state=42)\n",
        "\n",
        "# Feature scaling (optional but often improves performance)\n",
        "scaler = StandardScaler()\n",
        "X_train_scaled = scaler.fit_transform(X_train)\n",
        "X_test_scaled = scaler.transform(X_test)\n",
        "\n",
        "# Create a Gaussian Naïve Bayes classifier\n",
        "gnb = GaussianNB()\n",
        "\n",
        "# Train the classifier\n",
        "gnb.fit(X_train_scaled, y_train)\n",
        "\n",
        "# Make predictions on the test set\n",
        "y_pred = gnb.predict(X_test_scaled)\n",
        "\n",
        "# Evaluate accuracy\n",
        "accuracy = accuracy_score(y_test, y_pred)\n",
        "print(f\"Accuracy: {accuracy:.4f}\")\n",
        "\n",
        "# Example without feature scaling.\n",
        "gnb2 = GaussianNB()\n",
        "gnb2.fit(X_train, y_train)\n",
        "y_pred2 = gnb2.predict(X_test)\n",
        "accuracy2 = accuracy_score(y_test, y_pred2)\n",
        "print(f\"Accuracy without scaling: {accuracy2:.4f}\")"
      ],
      "metadata": {
        "colab": {
          "base_uri": "https://localhost:8080/"
        },
        "id": "ePqv_1H2Z_U_",
        "outputId": "4e922312-4e6b-4af5-f010-b0d09ccceab4"
      },
      "execution_count": 5,
      "outputs": [
        {
          "output_type": "stream",
          "name": "stdout",
          "text": [
            "Accuracy: 0.9357\n",
            "Accuracy without scaling: 0.9415\n"
          ]
        }
      ]
    },
    {
      "cell_type": "markdown",
      "source": [
        " 26. Write a Python program to train a Multinomial Naïve Bayes classifier for text classification using the 20\n",
        "Newsgroups dataset."
      ],
      "metadata": {
        "id": "C-9uHdXpaGJk"
      }
    },
    {
      "cell_type": "code",
      "source": [
        "from sklearn.datasets import fetch_20newsgroups\n",
        "from sklearn.model_selection import train_test_split\n",
        "from sklearn.feature_extraction.text import TfidfVectorizer\n",
        "from sklearn.naive_bayes import MultinomialNB\n",
        "from sklearn.metrics import accuracy_score, classification_report\n",
        "\n",
        "# Load the 20 Newsgroups dataset\n",
        "categories = ['alt.atheism', 'comp.graphics', 'rec.sport.baseball', 'sci.space']  # Example categories\n",
        "newsgroups = fetch_20newsgroups(subset='all', categories=categories, shuffle=True, random_state=42)\n",
        "\n",
        "# Split the dataset into training and testing sets\n",
        "X_train, X_test, y_train, y_test = train_test_split(newsgroups.data, newsgroups.target, test_size=0.3, random_state=42)\n",
        "\n",
        "# Feature extraction using TF-IDF Vectorizer\n",
        "tfidf_vectorizer = TfidfVectorizer(stop_words='english', max_df=0.7)  # Remove stop words and words appearing in >70% documents\n",
        "X_train_tfidf = tfidf_vectorizer.fit_transform(X_train)\n",
        "X_test_tfidf = tfidf_vectorizer.transform(X_test)\n",
        "\n",
        "# Create a Multinomial Naïve Bayes classifier\n",
        "mnb = MultinomialNB()\n",
        "\n",
        "# Train the classifier\n",
        "mnb.fit(X_train_tfidf, y_train)\n",
        "\n",
        "# Make predictions on the test set\n",
        "y_pred = mnb.predict(X_test_tfidf)\n",
        "\n",
        "# Evaluate accuracy\n",
        "accuracy = accuracy_score(y_test, y_pred)\n",
        "print(f\"Accuracy: {accuracy:.4f}\")\n",
        "\n",
        "# Print classification report\n",
        "print(\"\\nClassification Report:\\n\", classification_report(y_test, y_pred, target_names=newsgroups.target_names))\n",
        "\n",
        "#Example of changing the alpha parameter, this is laplace smoothing.\n",
        "mnb_tuned = MultinomialNB(alpha=0.5)\n",
        "mnb_tuned.fit(X_train_tfidf, y_train)\n",
        "y_pred_tuned = mnb_tuned.predict(X_test_tfidf)\n",
        "accuracy_tuned = accuracy_score(y_test, y_pred_tuned)\n",
        "print(f\"Accuracy with alpha=0.5: {accuracy_tuned:.4f}\")"
      ],
      "metadata": {
        "colab": {
          "base_uri": "https://localhost:8080/"
        },
        "id": "e0o0XSLWaJpe",
        "outputId": "14d55182-02c6-4357-d288-87ceb7fa6035"
      },
      "execution_count": 6,
      "outputs": [
        {
          "output_type": "stream",
          "name": "stdout",
          "text": [
            "Accuracy: 0.9822\n",
            "\n",
            "Classification Report:\n",
            "                     precision    recall  f1-score   support\n",
            "\n",
            "       alt.atheism       1.00      0.98      0.99       251\n",
            "     comp.graphics       0.99      0.96      0.98       278\n",
            "rec.sport.baseball       0.98      1.00      0.99       305\n",
            "         sci.space       0.97      0.99      0.98       292\n",
            "\n",
            "          accuracy                           0.98      1126\n",
            "         macro avg       0.98      0.98      0.98      1126\n",
            "      weighted avg       0.98      0.98      0.98      1126\n",
            "\n",
            "Accuracy with alpha=0.5: 0.9840\n"
          ]
        }
      ]
    },
    {
      "cell_type": "markdown",
      "source": [
        "27. Write a Python program to train an SVM Classifier with different C values and compare the decision\n",
        "boundaries visually"
      ],
      "metadata": {
        "id": "p0C2Cx6taRu6"
      }
    },
    {
      "cell_type": "code",
      "source": [
        "import numpy as np\n",
        "import matplotlib.pyplot as plt\n",
        "from sklearn import datasets\n",
        "from sklearn.model_selection import train_test_split\n",
        "from sklearn.preprocessing import StandardScaler\n",
        "from sklearn.svm import SVC\n",
        "\n",
        "# Load the Iris dataset (using only two features for visualization)\n",
        "iris = datasets.load_iris()\n",
        "X = iris.data[:, :2]  # Using only the first two features\n",
        "y = iris.target\n",
        "\n",
        "# Take only 2 classes for simplicity of visualization\n",
        "X = X[y != 2]\n",
        "y = y[y != 2]\n",
        "\n",
        "# Split the dataset into training and testing sets\n",
        "X_train, X_test, y_train, y_test = train_test_split(X, y, test_size=0.3, random_state=42)\n",
        "\n",
        "# Feature scaling\n",
        "scaler = StandardScaler()\n",
        "X_train_scaled = scaler.fit_transform(X_train)\n",
        "X_test_scaled = scaler.transform(X_test)\n",
        "\n",
        "# Define different C values\n",
        "C_values = [0.1, 1, 10, 100]\n",
        "\n",
        "# Create subplots for visualization\n",
        "fig, axes = plt.subplots(1, len(C_values), figsize=(15, 5))\n",
        "\n",
        "for i, C in enumerate(C_values):\n",
        "    # Create an SVM classifier with RBF kernel and the current C value\n",
        "    svm_classifier = SVC(kernel='rbf', C=C, gamma='scale', random_state=42)\n",
        "\n",
        "    # Train the classifier\n",
        "    svm_classifier.fit(X_train_scaled, y_train)\n",
        "\n",
        "    # Create a meshgrid for visualization\n",
        "    x_min, x_max = X_train_scaled[:, 0].min() - 1, X_train_scaled[:, 0].max() + 1\n",
        "    y_min, y_max = X_train_scaled[:, 1].min() - 1, X_train_scaled[:, 1].max() + 1\n",
        "    xx, yy = np.meshgrid(np.arange(x_min, x_max, 0.02),\n",
        "                         np.arange(y_min, y_max, 0.02))\n",
        "\n",
        "    # Make predictions on the meshgrid\n",
        "    Z = svm_classifier.predict(np.c_[xx.ravel(), yy.ravel()])\n",
        "    Z = Z.reshape(xx.shape)\n",
        "\n",
        "    # Plot the decision boundary and data points\n",
        "    axes[i].contourf(xx, yy, Z, alpha=0.8)\n",
        "    axes[i].scatter(X_train_scaled[:, 0], X_train_scaled[:, 1], c=y_train, edgecolors='k')\n",
        "    axes[i].scatter(X_test_scaled[:, 0], X_test_scaled[:, 1], c=y_test, marker='x', edgecolors='k')\n",
        "    axes[i].set_xlabel('Feature 1 (scaled)')\n",
        "    axes[i].set_ylabel('Feature 2 (scaled)')\n",
        "    axes[i].set_title(f'SVM with C={C}')\n",
        "\n",
        "plt.tight_layout()\n",
        "plt.show()"
      ],
      "metadata": {
        "colab": {
          "base_uri": "https://localhost:8080/",
          "height": 585
        },
        "id": "IQyE4ZlvaaSX",
        "outputId": "d14ce54e-c8ce-4035-87ac-63f117812c5b"
      },
      "execution_count": 7,
      "outputs": [
        {
          "output_type": "stream",
          "name": "stderr",
          "text": [
            "<ipython-input-7-638f1f952f19>:51: UserWarning: You passed a edgecolor/edgecolors ('k') for an unfilled marker ('x').  Matplotlib is ignoring the edgecolor in favor of the facecolor.  This behavior may change in the future.\n",
            "  axes[i].scatter(X_test_scaled[:, 0], X_test_scaled[:, 1], c=y_test, marker='x', edgecolors='k')\n",
            "<ipython-input-7-638f1f952f19>:51: UserWarning: You passed a edgecolor/edgecolors ('k') for an unfilled marker ('x').  Matplotlib is ignoring the edgecolor in favor of the facecolor.  This behavior may change in the future.\n",
            "  axes[i].scatter(X_test_scaled[:, 0], X_test_scaled[:, 1], c=y_test, marker='x', edgecolors='k')\n",
            "<ipython-input-7-638f1f952f19>:51: UserWarning: You passed a edgecolor/edgecolors ('k') for an unfilled marker ('x').  Matplotlib is ignoring the edgecolor in favor of the facecolor.  This behavior may change in the future.\n",
            "  axes[i].scatter(X_test_scaled[:, 0], X_test_scaled[:, 1], c=y_test, marker='x', edgecolors='k')\n",
            "<ipython-input-7-638f1f952f19>:51: UserWarning: You passed a edgecolor/edgecolors ('k') for an unfilled marker ('x').  Matplotlib is ignoring the edgecolor in favor of the facecolor.  This behavior may change in the future.\n",
            "  axes[i].scatter(X_test_scaled[:, 0], X_test_scaled[:, 1], c=y_test, marker='x', edgecolors='k')\n"
          ]
        },
        {
          "output_type": "display_data",
          "data": {
            "text/plain": [
              "<Figure size 1500x500 with 4 Axes>"
            ],
            "image/png": "[encoded data removed]"
          },
          "metadata": {}
        }
      ]
    },
    {
      "cell_type": "markdown",
      "source": [
        " 28. Write a Python program to train a Bernoulli Naïve Bayes classifier for binary classification on a dataset with\n",
        "binary features"
      ],
      "metadata": {
        "id": "741nbvqBafQV"
      }
    },
    {
      "cell_type": "code",
      "source": [
        "import numpy as np\n",
        "from sklearn.model_selection import train_test_split\n",
        "from sklearn.naive_bayes import BernoulliNB\n",
        "from sklearn.metrics import accuracy_score, classification_report\n",
        "\n",
        "# Create a sample dataset with binary features (0 or 1)\n",
        "X = np.array([\n",
        "    [0, 1, 0, 1],\n",
        "    [1, 0, 1, 0],\n",
        "    [0, 1, 1, 0],\n",
        "    [1, 0, 0, 1],\n",
        "    [0, 0, 1, 1],\n",
        "    [1, 1, 0, 0],\n",
        "    [0, 1, 0, 0],\n",
        "    [1, 0, 1, 1],\n",
        "    [0, 0, 0, 1],\n",
        "    [1, 1, 1, 0]\n",
        "])\n",
        "\n",
        "y = np.array([0, 1, 0, 1, 0, 1, 0, 1, 0, 1])  # Binary labels (0 or 1)\n",
        "\n",
        "# Split the dataset into training and testing sets\n",
        "X_train, X_test, y_train, y_test = train_test_split(X, y, test_size=0.3, random_state=42)\n",
        "\n",
        "# Create a Bernoulli Naïve Bayes classifier\n",
        "bnb = BernoulliNB()\n",
        "\n",
        "# Train the classifier\n",
        "bnb.fit(X_train, y_train)\n",
        "\n",
        "# Make predictions on the test set\n",
        "y_pred = bnb.predict(X_test)\n",
        "\n",
        "# Evaluate accuracy\n",
        "accuracy = accuracy_score(y_test, y_pred)\n",
        "print(f\"Accuracy: {accuracy:.4f}\")\n",
        "\n",
        "# Print classification report\n",
        "print(\"\\nClassification Report:\\n\", classification_report(y_test, y_pred))\n",
        "\n",
        "# Example of changing alpha (Laplace smoothing)\n",
        "bnb_tuned = BernoulliNB(alpha=0.5)\n",
        "bnb_tuned.fit(X_train, y_train)\n",
        "y_pred_tuned = bnb_tuned.predict(X_test)\n",
        "accuracy_tuned = accuracy_score(y_test, y_pred_tuned)\n",
        "print(f\"Accuracy with alpha=0.5: {accuracy_tuned:.4f}\")"
      ],
      "metadata": {
        "colab": {
          "base_uri": "https://localhost:8080/"
        },
        "id": "DlzBt3EvaguT",
        "outputId": "68150a13-02c2-43f0-d586-69f4a213cb54"
      },
      "execution_count": 8,
      "outputs": [
        {
          "output_type": "stream",
          "name": "stdout",
          "text": [
            "Accuracy: 1.0000\n",
            "\n",
            "Classification Report:\n",
            "               precision    recall  f1-score   support\n",
            "\n",
            "           0       1.00      1.00      1.00         1\n",
            "           1       1.00      1.00      1.00         2\n",
            "\n",
            "    accuracy                           1.00         3\n",
            "   macro avg       1.00      1.00      1.00         3\n",
            "weighted avg       1.00      1.00      1.00         3\n",
            "\n",
            "Accuracy with alpha=0.5: 1.0000\n"
          ]
        }
      ]
    },
    {
      "cell_type": "markdown",
      "source": [
        "29.  Write a Python program to apply feature scaling before training an SVM model and compare results with\n",
        "unscaled data"
      ],
      "metadata": {
        "id": "yNSg3cU1an3g"
      }
    },
    {
      "cell_type": "code",
      "source": [
        "import numpy as np\n",
        "from sklearn import datasets\n",
        "from sklearn.model_selection import train_test_split\n",
        "from sklearn.preprocessing import StandardScaler\n",
        "from sklearn.svm import SVC\n",
        "from sklearn.metrics import accuracy_score\n",
        "\n",
        "# Load the Iris dataset\n",
        "iris = datasets.load_iris()\n",
        "X = iris.data\n",
        "y = iris.target\n",
        "\n",
        "# Split the dataset into training and testing sets\n",
        "X_train, X_test, y_train, y_test = train_test_split(X, y, test_size=0.3, random_state=42)\n",
        "\n",
        "# --- SVM with Unscaled Data ---\n",
        "svm_unscaled = SVC(kernel='rbf', C=1.0, gamma='scale', random_state=42)\n",
        "svm_unscaled.fit(X_train, y_train)\n",
        "y_pred_unscaled = svm_unscaled.predict(X_test)\n",
        "accuracy_unscaled = accuracy_score(y_test, y_pred_unscaled)\n",
        "print(f\"Accuracy (Unscaled Data): {accuracy_unscaled:.4f}\")\n",
        "\n",
        "# --- SVM with Scaled Data ---\n",
        "scaler = StandardScaler()\n",
        "X_train_scaled = scaler.fit_transform(X_train)\n",
        "X_test_scaled = scaler.transform(X_test)\n",
        "\n",
        "svm_scaled = SVC(kernel='rbf', C=1.0, gamma='scale', random_state=42)\n",
        "svm_scaled.fit(X_train_scaled, y_train)\n",
        "y_pred_scaled = svm_scaled.predict(X_test_scaled)\n",
        "accuracy_scaled = accuracy_score(y_test, y_pred_scaled)\n",
        "print(f\"Accuracy (Scaled Data): {accuracy_scaled:.4f}\")\n",
        "\n",
        "# Compare and print the difference.\n",
        "print(f\"Accuracy Difference: {accuracy_scaled - accuracy_unscaled:.4f}\")\n",
        "\n",
        "if accuracy_scaled > accuracy_unscaled:\n",
        "    print(\"Scaling improved accuracy.\")\n",
        "elif accuracy_scaled < accuracy_unscaled:\n",
        "    print(\"Scaling decreased accuracy.\")\n",
        "else:\n",
        "    print(\"Scaling did not change accuracy.\")\n",
        "\n",
        "#Example of changing C and gamma to showcase the effect of scaling on those parameters.\n",
        "svm_unscaled_tuned = SVC(kernel='rbf', C=100, gamma=0.01, random_state=42)\n",
        "svm_unscaled_tuned.fit(X_train, y_train)\n",
        "y_pred_unscaled_tuned = svm_unscaled_tuned.predict(X_test)\n",
        "accuracy_unscaled_tuned = accuracy_score(y_test, y_pred_unscaled_tuned)\n",
        "print(f\"Accuracy (Unscaled Tuned): {accuracy_unscaled_tuned:.4f}\")\n",
        "\n",
        "svm_scaled_tuned = SVC(kernel='rbf', C=100, gamma=0.01, random_state=42)\n",
        "svm_scaled_tuned.fit(X_train_scaled, y_train)\n",
        "y_pred_scaled_tuned = svm_scaled_tuned.predict(X_test_scaled)\n",
        "accuracy_scaled_tuned = accuracy_score(y_test, y_pred_scaled_tuned)\n",
        "print(f\"Accuracy (Scaled Tuned): {accuracy_scaled_tuned:.4f}\")\n",
        "\n",
        "print(f\"Accuracy Difference Tuned: {accuracy_scaled_tuned - accuracy_unscaled_tuned:.4f}\")"
      ],
      "metadata": {
        "colab": {
          "base_uri": "https://localhost:8080/"
        },
        "id": "6oHysxt1ar9-",
        "outputId": "e30facd0-cd73-4e87-c3e0-d7f95e6f3079"
      },
      "execution_count": 9,
      "outputs": [
        {
          "output_type": "stream",
          "name": "stdout",
          "text": [
            "Accuracy (Unscaled Data): 1.0000\n",
            "Accuracy (Scaled Data): 1.0000\n",
            "Accuracy Difference: 0.0000\n",
            "Scaling did not change accuracy.\n",
            "Accuracy (Unscaled Tuned): 1.0000\n",
            "Accuracy (Scaled Tuned): 0.9778\n",
            "Accuracy Difference Tuned: -0.0222\n"
          ]
        }
      ]
    },
    {
      "cell_type": "markdown",
      "source": [
        " 30. Write a Python program to train a Gaussian Naïve Bayes model and compare the predictions before and\n",
        "after Laplace Smoothing."
      ],
      "metadata": {
        "id": "-vZ_Ooypa26W"
      }
    },
    {
      "cell_type": "code",
      "source": [
        "import numpy as np\n",
        "from sklearn import datasets\n",
        "from sklearn.model_selection import train_test_split\n",
        "from sklearn.naive_bayes import GaussianNB\n",
        "from sklearn.metrics import accuracy_score\n",
        "\n",
        "# Load the Iris dataset (using a simpler dataset for demonstration)\n",
        "iris = datasets.load_iris()\n",
        "X = iris.data\n",
        "y = iris.target\n",
        "\n",
        "# Split the dataset into training and testing sets\n",
        "X_train, X_test, y_train, y_test = train_test_split(X, y, test_size=0.3, random_state=42)\n",
        "\n",
        "# --- Gaussian Naïve Bayes without Laplace Smoothing (alpha=0) ---\n",
        "gnb_no_smoothing = GaussianNB()\n",
        "gnb_no_smoothing.fit(X_train, y_train)\n",
        "y_pred_no_smoothing = gnb_no_smoothing.predict(X_test)\n",
        "\n",
        "# --- Gaussian Naïve Bayes with Laplace Smoothing (alpha=1, default) ---\n",
        "gnb_with_smoothing = GaussianNB()\n",
        "gnb_with_smoothing.fit(X_train, y_train)\n",
        "y_pred_with_smoothing = gnb_with_smoothing.predict(X_test)\n",
        "\n",
        "# Compare predictions\n",
        "print(\"Predictions without Laplace Smoothing:\", y_pred_no_smoothing)\n",
        "print(\"Predictions with Laplace Smoothing:\", y_pred_with_smoothing)\n",
        "\n",
        "# Compare accuracies\n",
        "accuracy_no_smoothing = accuracy_score(y_test, y_pred_no_smoothing)\n",
        "accuracy_with_smoothing = accuracy_score(y_test, y_pred_with_smoothing)\n",
        "\n",
        "print(f\"\\nAccuracy without Laplace Smoothing: {accuracy_no_smoothing:.4f}\")\n",
        "print(f\"Accuracy with Laplace Smoothing: {accuracy_with_smoothing:.4f}\")\n",
        "\n",
        "# Check if the predictions differ\n",
        "if np.array_equal(y_pred_no_smoothing, y_pred_with_smoothing):\n",
        "    print(\"\\nPredictions are identical.\")\n",
        "else:\n",
        "    print(\"\\nPredictions differ.\")\n",
        "\n",
        "#Example of changing alpha.\n",
        "gnb_tuned = GaussianNB()\n",
        "gnb_tuned.fit(X_train, y_train)\n",
        "y_pred_tuned = gnb_tuned.predict(X_test)\n",
        "accuracy_tuned = accuracy_score(y_test, y_pred_tuned)\n",
        "print(f\"Accuracy with default alpha: {accuracy_tuned:.4f}\")\n",
        "\n",
        "gnb_tuned2 = GaussianNB(var_smoothing=1e-08)\n",
        "gnb_tuned2.fit(X_train, y_train)\n",
        "y_pred_tuned2 = gnb_tuned2.predict(X_test)\n",
        "accuracy_tuned2 = accuracy_score(y_test, y_pred_tuned2)\n",
        "print(f\"Accuracy with var_smoothing=1e-08: {accuracy_tuned2:.4f}\")\n",
        "\n",
        "print(f\"Accuracy difference: {accuracy_tuned2 - accuracy_tuned:.4f}\")"
      ],
      "metadata": {
        "colab": {
          "base_uri": "https://localhost:8080/"
        },
        "id": "Rbmhj_xma5yd",
        "outputId": "04100acc-d12b-45df-cde7-9a5c12c48e46"
      },
      "execution_count": 10,
      "outputs": [
        {
          "output_type": "stream",
          "name": "stdout",
          "text": [
            "Predictions without Laplace Smoothing: [1 0 2 1 1 0 1 2 1 1 2 0 0 0 0 2 2 1 1 2 0 2 0 2 2 2 2 2 0 0 0 0 1 0 0 2 1\n",
            " 0 0 0 2 1 1 0 0]\n",
            "Predictions with Laplace Smoothing: [1 0 2 1 1 0 1 2 1 1 2 0 0 0 0 2 2 1 1 2 0 2 0 2 2 2 2 2 0 0 0 0 1 0 0 2 1\n",
            " 0 0 0 2 1 1 0 0]\n",
            "\n",
            "Accuracy without Laplace Smoothing: 0.9778\n",
            "Accuracy with Laplace Smoothing: 0.9778\n",
            "\n",
            "Predictions are identical.\n",
            "Accuracy with default alpha: 0.9778\n",
            "Accuracy with var_smoothing=1e-08: 0.9778\n",
            "Accuracy difference: 0.0000\n"
          ]
        }
      ]
    },
    {
      "cell_type": "markdown",
      "source": [
        "31. Write a Python program to train an SVM Classifier and use GridSearchCV to tune the hyperparameters (C,\n",
        "gamma, kernel)"
      ],
      "metadata": {
        "id": "xRpkQx4XbBQF"
      }
    },
    {
      "cell_type": "code",
      "source": [
        "import numpy as np\n",
        "from sklearn import datasets\n",
        "from sklearn.model_selection import train_test_split, GridSearchCV\n",
        "from sklearn.preprocessing import StandardScaler\n",
        "from sklearn.svm import SVC\n",
        "from sklearn.metrics import accuracy_score\n",
        "\n",
        "# Load the Iris dataset\n",
        "iris = datasets.load_iris()\n",
        "X = iris.data\n",
        "y = iris.target\n",
        "\n",
        "# Split the dataset into training and testing sets\n",
        "X_train, X_test, y_train, y_test = train_test_split(X, y, test_size=0.3, random_state=42)\n",
        "\n",
        "# Feature scaling\n",
        "scaler = StandardScaler()\n",
        "X_train_scaled = scaler.fit_transform(X_train)\n",
        "X_test_scaled = scaler.transform(X_test)\n",
        "\n",
        "# Define the parameter grid for GridSearchCV\n",
        "param_grid = {\n",
        "    'C': [0.1, 1, 10, 100],\n",
        "    'gamma': ['scale', 0.1, 0.01, 0.001],\n",
        "    'kernel': ['rbf', 'linear', 'poly']\n",
        "}\n",
        "\n",
        "# Create an SVM classifier\n",
        "svm_classifier = SVC(random_state=42)\n",
        "\n",
        "# Create GridSearchCV object\n",
        "grid_search = GridSearchCV(svm_classifier, param_grid, cv=5, scoring='accuracy', verbose=1, n_jobs=-1)\n",
        "\n",
        "# Perform GridSearchCV\n",
        "grid_search.fit(X_train_scaled, y_train)\n",
        "\n",
        "# Get the best parameters and best score\n",
        "best_params = grid_search.best_params_\n",
        "best_score = grid_search.best_score_\n",
        "\n",
        "print(f\"Best Parameters: {best_params}\")\n",
        "print(f\"Best Score: {best_score:.4f}\")\n",
        "\n",
        "# Train the SVM classifier with the best parameters\n",
        "best_svm = SVC(**best_params, random_state=42)\n",
        "best_svm.fit(X_train_scaled, y_train)\n",
        "\n",
        "# Make predictions on the test set\n",
        "y_pred = best_svm.predict(X_test_scaled)\n",
        "\n",
        "# Evaluate accuracy\n",
        "accuracy = accuracy_score(y_test, y_pred)\n",
        "print(f\"Test Accuracy: {accuracy:.4f}\")\n",
        "\n",
        "#Example of accesssing the best estimator.\n",
        "best_estimator = grid_search.best_estimator_\n",
        "y_pred_best_estimator = best_estimator.predict(X_test_scaled)\n",
        "accuracy_best_estimator = accuracy_score(y_test, y_pred_best_estimator)\n",
        "print(f\"Test Accuracy using best estimator: {accuracy_best_estimator:.4f}\")"
      ],
      "metadata": {
        "colab": {
          "base_uri": "https://localhost:8080/"
        },
        "id": "7mBqvolybLWf",
        "outputId": "118a83c3-22b5-4678-a4ef-0080d7ba2ffc"
      },
      "execution_count": 11,
      "outputs": [
        {
          "output_type": "stream",
          "name": "stdout",
          "text": [
            "Fitting 5 folds for each of 48 candidates, totalling 240 fits\n",
            "Best Parameters: {'C': 100, 'gamma': 0.1, 'kernel': 'poly'}\n",
            "Best Score: 0.9619\n",
            "Test Accuracy: 0.9778\n",
            "Test Accuracy using best estimator: 0.9778\n"
          ]
        }
      ]
    },
    {
      "cell_type": "markdown",
      "source": [
        " 32. Write a Python program to train an SVM Classifier on an imbalanced dataset and apply class weighting and\n",
        "check it improve accuracy"
      ],
      "metadata": {
        "id": "88Ps5H_mbOqD"
      }
    },
    {
      "cell_type": "code",
      "source": [
        "import numpy as np\n",
        "from sklearn import datasets\n",
        "from sklearn.model_selection import train_test_split\n",
        "from sklearn.preprocessing import StandardScaler\n",
        "from sklearn.svm import SVC\n",
        "from sklearn.metrics import accuracy_score, classification_report\n",
        "\n",
        "# Create an imbalanced dataset (using make_classification)\n",
        "from sklearn.datasets import make_classification\n",
        "\n",
        "X, y = make_classification(\n",
        "    n_samples=1000,\n",
        "    n_features=20,\n",
        "    n_informative=15,\n",
        "    n_redundant=5,\n",
        "    n_classes=2,\n",
        "    weights=[0.9, 0.1],  # Imbalanced class weights (90% class 0, 10% class 1)\n",
        "    random_state=42,\n",
        ")\n",
        "\n",
        "# Split the dataset into training and testing sets\n",
        "X_train, X_test, y_train, y_test = train_test_split(X, y, test_size=0.3, random_state=42)\n",
        "\n",
        "# Feature scaling\n",
        "scaler = StandardScaler()\n",
        "X_train_scaled = scaler.fit_transform(X_train)\n",
        "X_test_scaled = scaler.transform(X_test)\n",
        "\n",
        "# --- SVM without Class Weighting ---\n",
        "svm_no_weight = SVC(kernel='rbf', gamma='scale', random_state=42)\n",
        "svm_no_weight.fit(X_train_scaled, y_train)\n",
        "y_pred_no_weight = svm_no_weight.predict(X_test_scaled)\n",
        "accuracy_no_weight = accuracy_score(y_test, y_pred_no_weight)\n",
        "print(\"SVM without Class Weighting:\")\n",
        "print(f\"Accuracy: {accuracy_no_weight:.4f}\")\n",
        "print(classification_report(y_test, y_pred_no_weight))\n",
        "\n",
        "# --- SVM with Class Weighting ---\n",
        "svm_with_weight = SVC(kernel='rbf', gamma='scale', class_weight='balanced', random_state=42)\n",
        "svm_with_weight.fit(X_train_scaled, y_train)\n",
        "y_pred_with_weight = svm_with_weight.predict(X_test_scaled)\n",
        "accuracy_with_weight = accuracy_score(y_test, y_pred_with_weight)\n",
        "print(\"\\nSVM with Class Weighting:\")\n",
        "print(f\"Accuracy: {accuracy_with_weight:.4f}\")\n",
        "print(classification_report(y_test, y_pred_with_weight))\n",
        "\n",
        "# Compare results\n",
        "print(\"\\nComparison:\")\n",
        "print(f\"Accuracy without weighting: {accuracy_no_weight:.4f}\")\n",
        "print(f\"Accuracy with weighting: {accuracy_with_weight:.4f}\")\n",
        "\n",
        "if accuracy_with_weight > accuracy_no_weight:\n",
        "    print(\"Class weighting improved accuracy.\")\n",
        "elif accuracy_with_weight < accuracy_no_weight:\n",
        "    print(\"Class weighting decreased accuracy.\")\n",
        "else:\n",
        "    print(\"Class weighting did not change accuracy.\")"
      ],
      "metadata": {
        "colab": {
          "base_uri": "https://localhost:8080/"
        },
        "id": "pKk4RklcbRTv",
        "outputId": "2dfc184e-d583-47d4-cb3b-95fb09d793fd"
      },
      "execution_count": 12,
      "outputs": [
        {
          "output_type": "stream",
          "name": "stdout",
          "text": [
            "SVM without Class Weighting:\n",
            "Accuracy: 0.9567\n",
            "              precision    recall  f1-score   support\n",
            "\n",
            "           0       0.95      1.00      0.98       274\n",
            "           1       1.00      0.50      0.67        26\n",
            "\n",
            "    accuracy                           0.96       300\n",
            "   macro avg       0.98      0.75      0.82       300\n",
            "weighted avg       0.96      0.96      0.95       300\n",
            "\n",
            "\n",
            "SVM with Class Weighting:\n",
            "Accuracy: 0.9500\n",
            "              precision    recall  f1-score   support\n",
            "\n",
            "           0       0.99      0.95      0.97       274\n",
            "           1       0.65      0.92      0.76        26\n",
            "\n",
            "    accuracy                           0.95       300\n",
            "   macro avg       0.82      0.94      0.87       300\n",
            "weighted avg       0.96      0.95      0.95       300\n",
            "\n",
            "\n",
            "Comparison:\n",
            "Accuracy without weighting: 0.9567\n",
            "Accuracy with weighting: 0.9500\n",
            "Class weighting decreased accuracy.\n"
          ]
        }
      ]
    },
    {
      "cell_type": "markdown",
      "source": [
        " 33. Write a Python program to implement a Naïve Bayes classifier for spam detection using email data"
      ],
      "metadata": {
        "id": "E1nwfoqYbWAh"
      }
    },
    {
      "cell_type": "code",
      "source": [
        "from sklearn.feature_extraction.text import CountVectorizer, TfidfTransformer\n",
        "from sklearn.naive_bayes import MultinomialNB\n",
        "from sklearn.pipeline import Pipeline\n",
        "from sklearn.model_selection import train_test_split\n",
        "from sklearn.metrics import accuracy_score\n",
        "import pandas as pd\n",
        "\n",
        "# Sample email dataset (Replace this with actual email data)\n",
        "data = {\n",
        "    'text': [\n",
        "        'Win a lottery now!', 'Urgent: Your account has been compromised!',\n",
        "        'Meeting at 3 PM', 'Congratulations! You won a prize!',\n",
        "        'Project deadline extended', 'Claim your free vacation today!',\n",
        "        'Let’s schedule a call', 'Update your billing information immediately'\n",
        "    ],\n",
        "    'label': ['spam', 'spam', 'ham', 'spam', 'ham', 'spam', 'ham', 'spam']\n",
        "}\n",
        "\n",
        "# Convert to DataFrame\n",
        "df = pd.DataFrame(data)\n",
        "\n",
        "# Split dataset into training and testing sets\n",
        "X_train, X_test, y_train, y_test = train_test_split(df['text'], df['label'], test_size=0.2, random_state=42)\n",
        "\n",
        "# Create a pipeline for text processing and Naïve Bayes classification\n",
        "model = Pipeline([\n",
        "    ('vectorizer', CountVectorizer()),\n",
        "    ('tfidf', TfidfTransformer()),\n",
        "    ('classifier', MultinomialNB())\n",
        "])\n",
        "\n",
        "# Train the classifier\n",
        "model.fit(X_train, y_train)\n",
        "\n",
        "# Make predictions\n",
        "y_pred = model.predict(X_test)\n",
        "\n",
        "# Evaluate accuracy\n",
        "accuracy = accuracy_score(y_test, y_pred)\n",
        "print(f'Accuracy of Naïve Bayes spam classifier: {accuracy:.2f}')\n"
      ],
      "metadata": {
        "colab": {
          "base_uri": "https://localhost:8080/"
        },
        "id": "NKbG9iUUbqeE",
        "outputId": "7e328119-abf7-4353-cdfb-1fb33edbd338"
      },
      "execution_count": 14,
      "outputs": [
        {
          "output_type": "stream",
          "name": "stdout",
          "text": [
            "Accuracy of Naïve Bayes spam classifier: 1.00\n"
          ]
        }
      ]
    },
    {
      "cell_type": "markdown",
      "source": [
        "34. Write a Python program to train an SVM Classifier and a Naïve Bayes Classifier on the same dataset and\n",
        "compare their accuracy"
      ],
      "metadata": {
        "id": "rr1Ap6O5b04N"
      }
    },
    {
      "cell_type": "code",
      "source": [
        "import numpy as np\n",
        "from sklearn import datasets\n",
        "from sklearn.model_selection import train_test_split\n",
        "from sklearn.preprocessing import StandardScaler\n",
        "from sklearn.svm import SVC\n",
        "from sklearn.naive_bayes import GaussianNB\n",
        "from sklearn.metrics import accuracy_score\n",
        "\n",
        "# Load the Iris dataset (you can replace it with any dataset)\n",
        "iris = datasets.load_iris()\n",
        "X = iris.data\n",
        "y = iris.target\n",
        "\n",
        "# Split the dataset into training and testing sets\n",
        "X_train, X_test, y_train, y_test = train_test_split(X, y, test_size=0.3, random_state=42)\n",
        "\n",
        "# Feature scaling (important for SVM)\n",
        "scaler = StandardScaler()\n",
        "X_train_scaled = scaler.fit_transform(X_train)\n",
        "X_test_scaled = scaler.transform(X_test)\n",
        "\n",
        "# --- SVM Classifier ---\n",
        "svm_classifier = SVC(kernel='rbf', gamma='scale', random_state=42)\n",
        "svm_classifier.fit(X_train_scaled, y_train)\n",
        "y_pred_svm = svm_classifier.predict(X_test_scaled)\n",
        "accuracy_svm = accuracy_score(y_test, y_pred_svm)\n",
        "print(f\"SVM Accuracy: {accuracy_svm:.4f}\")\n",
        "\n",
        "# --- Naïve Bayes Classifier ---\n",
        "gnb_classifier = GaussianNB()\n",
        "gnb_classifier.fit(X_train_scaled, y_train) #use scaled data to be consistent.\n",
        "y_pred_gnb = gnb_classifier.predict(X_test_scaled)\n",
        "accuracy_gnb = accuracy_score(y_test, y_pred_gnb)\n",
        "print(f\"Naïve Bayes Accuracy: {accuracy_gnb:.4f}\")\n",
        "\n",
        "# --- Comparison ---\n",
        "print(\"\\nComparison:\")\n",
        "print(f\"SVM Accuracy: {accuracy_svm:.4f}\")\n",
        "print(f\"Naïve Bayes Accuracy: {accuracy_gnb:.4f}\")\n",
        "\n",
        "if accuracy_svm > accuracy_gnb:\n",
        "    print(\"SVM performed better.\")\n",
        "elif accuracy_gnb > accuracy_svm:\n",
        "    print(\"Naïve Bayes performed better.\")\n",
        "else:\n",
        "    print(\"Both classifiers performed equally.\")\n",
        "\n",
        "#Example without scaling for Naive Bayes.\n",
        "gnb_classifier_unscaled = GaussianNB()\n",
        "gnb_classifier_unscaled.fit(X_train, y_train)\n",
        "y_pred_gnb_unscaled = gnb_classifier_unscaled.predict(X_test)\n",
        "accuracy_gnb_unscaled = accuracy_score(y_test, y_pred_gnb_unscaled)\n",
        "print(f\"Naive Bayes Accuracy Unscaled: {accuracy_gnb_unscaled:.4f}\")"
      ],
      "metadata": {
        "colab": {
          "base_uri": "https://localhost:8080/"
        },
        "id": "mgcWILZAb3XR",
        "outputId": "3a56457c-e33c-4fb2-f986-078f668af9fd"
      },
      "execution_count": 15,
      "outputs": [
        {
          "output_type": "stream",
          "name": "stdout",
          "text": [
            "SVM Accuracy: 1.0000\n",
            "Naïve Bayes Accuracy: 0.9778\n",
            "\n",
            "Comparison:\n",
            "SVM Accuracy: 1.0000\n",
            "Naïve Bayes Accuracy: 0.9778\n",
            "SVM performed better.\n",
            "Naive Bayes Accuracy Unscaled: 0.9778\n"
          ]
        }
      ]
    },
    {
      "cell_type": "markdown",
      "source": [
        " 35. Write a Python program to perform feature selection before training a Naïve Bayes classifier and compare\n",
        "results"
      ],
      "metadata": {
        "id": "SXj6wrJcb58D"
      }
    },
    {
      "cell_type": "code",
      "source": [
        "import numpy as np\n",
        "from sklearn import datasets\n",
        "from sklearn.model_selection import train_test_split\n",
        "from sklearn.naive_bayes import GaussianNB\n",
        "from sklearn.metrics import accuracy_score\n",
        "from sklearn.feature_selection import SelectKBest, f_classif\n",
        "from sklearn.preprocessing import StandardScaler\n",
        "\n",
        "# Load the Breast Cancer dataset (for demonstration)\n",
        "breast_cancer = datasets.load_breast_cancer()\n",
        "X = breast_cancer.data\n",
        "y = breast_cancer.target\n",
        "\n",
        "# Split the dataset into training and testing sets\n",
        "X_train, X_test, y_train, y_test = train_test_split(X, y, test_size=0.3, random_state=42)\n",
        "\n",
        "# Feature scaling (optional but often improves performance)\n",
        "scaler = StandardScaler()\n",
        "X_train_scaled = scaler.fit_transform(X_train)\n",
        "X_test_scaled = scaler.transform(X_test)\n",
        "\n",
        "# --- Naïve Bayes without Feature Selection ---\n",
        "gnb_no_selection = GaussianNB()\n",
        "gnb_no_selection.fit(X_train_scaled, y_train)\n",
        "y_pred_no_selection = gnb_no_selection.predict(X_test_scaled)\n",
        "accuracy_no_selection = accuracy_score(y_test, y_pred_no_selection)\n",
        "print(f\"Accuracy (No Feature Selection): {accuracy_no_selection:.4f}\")\n",
        "\n",
        "# --- Naïve Bayes with Feature Selection (SelectKBest) ---\n",
        "k = 10  # Select top 10 features\n",
        "selector = SelectKBest(f_classif, k=k)\n",
        "X_train_selected = selector.fit_transform(X_train_scaled, y_train)\n",
        "X_test_selected = selector.transform(X_test_scaled)\n",
        "\n",
        "gnb_with_selection = GaussianNB()\n",
        "gnb_with_selection.fit(X_train_selected, y_train)\n",
        "y_pred_with_selection = gnb_with_selection.predict(X_test_selected)\n",
        "accuracy_with_selection = accuracy_score(y_test, y_pred_with_selection)\n",
        "print(f\"Accuracy (Feature Selection, k={k}): {accuracy_with_selection:.4f}\")\n",
        "\n",
        "# Compare results\n",
        "print(\"\\nComparison:\")\n",
        "print(f\"Accuracy (No Selection): {accuracy_no_selection:.4f}\")\n",
        "print(f\"Accuracy (Selection): {accuracy_with_selection:.4f}\")\n",
        "\n",
        "if accuracy_with_selection > accuracy_no_selection:\n",
        "    print(\"Feature selection improved accuracy.\")\n",
        "elif accuracy_with_selection < accuracy_no_selection:\n",
        "    print(\"Feature selection decreased accuracy.\")\n",
        "else:\n",
        "    print(\"Feature selection did not change accuracy.\")\n",
        "\n",
        "#Example of changing k.\n",
        "k2 = 5\n",
        "selector2 = SelectKBest(f_classif, k=k2)\n",
        "X_train_selected2 = selector2.fit_transform(X_train_scaled, y_train)\n",
        "X_test_selected2 = selector2.transform(X_test_scaled)\n",
        "\n",
        "gnb_with_selection2 = GaussianNB()\n",
        "gnb_with_selection2.fit(X_train_selected2, y_train)\n",
        "y_pred_with_selection2 = gnb_with_selection2.predict(X_test_selected2)\n",
        "accuracy_with_selection2 = accuracy_score(y_test, y_pred_with_selection2)\n",
        "print(f\"Accuracy (Feature Selection, k={k2}): {accuracy_with_selection2:.4f}\")"
      ],
      "metadata": {
        "colab": {
          "base_uri": "https://localhost:8080/"
        },
        "id": "ew0yPU4Ub8_d",
        "outputId": "36ab9137-791e-4d72-fb74-b857b5d1100a"
      },
      "execution_count": 16,
      "outputs": [
        {
          "output_type": "stream",
          "name": "stdout",
          "text": [
            "Accuracy (No Feature Selection): 0.9357\n",
            "Accuracy (Feature Selection, k=10): 0.9532\n",
            "\n",
            "Comparison:\n",
            "Accuracy (No Selection): 0.9357\n",
            "Accuracy (Selection): 0.9532\n",
            "Feature selection improved accuracy.\n",
            "Accuracy (Feature Selection, k=5): 0.9474\n"
          ]
        }
      ]
    },
    {
      "cell_type": "markdown",
      "source": [
        " 36. Write a Python program to train an SVM Classifier using One-vs-Rest (OvR) and One-vs-One (OvO)\n",
        "strategies on the Wine dataset and compare their accuracy"
      ],
      "metadata": {
        "id": "TFgqKWz5cFWb"
      }
    },
    {
      "cell_type": "code",
      "source": [
        "import numpy as np\n",
        "from sklearn import datasets\n",
        "from sklearn.model_selection import train_test_split\n",
        "from sklearn.preprocessing import StandardScaler\n",
        "from sklearn.svm import SVC\n",
        "from sklearn.metrics import accuracy_score\n",
        "\n",
        "# Load the Wine dataset\n",
        "wine = datasets.load_wine()\n",
        "X = wine.data\n",
        "y = wine.target\n",
        "\n",
        "# Split the dataset into training and testing sets\n",
        "X_train, X_test, y_train, y_test = train_test_split(X, y, test_size=0.3, random_state=42)\n",
        "\n",
        "# Feature scaling\n",
        "scaler = StandardScaler()\n",
        "X_train_scaled = scaler.fit_transform(X_train)\n",
        "X_test_scaled = scaler.transform(X_test)\n",
        "\n",
        "# --- SVM with One-vs-Rest (OvR) ---\n",
        "svm_ovr = SVC(kernel='rbf', gamma='scale', decision_function_shape='ovr', random_state=42)\n",
        "svm_ovr.fit(X_train_scaled, y_train)\n",
        "y_pred_ovr = svm_ovr.predict(X_test_scaled)\n",
        "accuracy_ovr = accuracy_score(y_test, y_pred_ovr)\n",
        "print(f\"SVM OvR Accuracy: {accuracy_ovr:.4f}\")\n",
        "\n",
        "# --- SVM with One-vs-One (OvO) ---\n",
        "svm_ovo = SVC(kernel='rbf', gamma='scale', decision_function_shape='ovo', random_state=42)\n",
        "svm_ovo.fit(X_train_scaled, y_train)\n",
        "y_pred_ovo = svm_ovo.predict(X_test_scaled)\n",
        "accuracy_ovo = accuracy_score(y_test, y_pred_ovo)\n",
        "print(f\"SVM OvO Accuracy: {accuracy_ovo:.4f}\")\n",
        "\n",
        "# Compare results\n",
        "print(\"\\nComparison:\")\n",
        "print(f\"OvR Accuracy: {accuracy_ovr:.4f}\")\n",
        "print(f\"OvO Accuracy: {accuracy_ovo:.4f}\")\n",
        "\n",
        "if accuracy_ovr > accuracy_ovo:\n",
        "    print(\"OvR performed better.\")\n",
        "elif accuracy_ovo > accuracy_ovr:\n",
        "    print(\"OvO performed better.\")\n",
        "else:\n",
        "    print(\"Both OvR and OvO performed equally.\")\n",
        "\n",
        "#Example without specifying the decision_function_shape.\n",
        "svm_default = SVC(kernel='rbf', gamma='scale', random_state=42)\n",
        "svm_default.fit(X_train_scaled, y_train)\n",
        "y_pred_default = svm_default.predict(X_test_scaled)\n",
        "accuracy_default = accuracy_score(y_test, y_pred_default)\n",
        "print(f\"Default SVM Accuracy: {accuracy_default:.4f}\")"
      ],
      "metadata": {
        "colab": {
          "base_uri": "https://localhost:8080/"
        },
        "id": "1y_AGyFNcLUH",
        "outputId": "be3c13b7-44aa-4c7c-efa0-8772335bac80"
      },
      "execution_count": 17,
      "outputs": [
        {
          "output_type": "stream",
          "name": "stdout",
          "text": [
            "SVM OvR Accuracy: 0.9815\n",
            "SVM OvO Accuracy: 0.9815\n",
            "\n",
            "Comparison:\n",
            "OvR Accuracy: 0.9815\n",
            "OvO Accuracy: 0.9815\n",
            "Both OvR and OvO performed equally.\n",
            "Default SVM Accuracy: 0.9815\n"
          ]
        }
      ]
    },
    {
      "cell_type": "markdown",
      "source": [
        "37. Write a Python program to train an SVM Classifier using Linear, Polynomial, and RBF kernels on the Breast\n",
        "Cancer dataset and compare their accuracy"
      ],
      "metadata": {
        "id": "MX74W5DLcTYy"
      }
    },
    {
      "cell_type": "code",
      "source": [
        "import numpy as np\n",
        "from sklearn import datasets\n",
        "from sklearn.model_selection import train_test_split\n",
        "from sklearn.preprocessing import StandardScaler\n",
        "from sklearn.svm import SVC\n",
        "from sklearn.metrics import accuracy_score\n",
        "\n",
        "# Load the Breast Cancer dataset\n",
        "breast_cancer = datasets.load_breast_cancer()\n",
        "X = breast_cancer.data\n",
        "y = breast_cancer.target\n",
        "\n",
        "# Split the dataset into training and testing sets\n",
        "X_train, X_test, y_train, y_test = train_test_split(X, y, test_size=0.3, random_state=42)\n",
        "\n",
        "# Feature scaling\n",
        "scaler = StandardScaler()\n",
        "X_train_scaled = scaler.fit_transform(X_train)\n",
        "X_test_scaled = scaler.transform(X_test)\n",
        "\n",
        "# --- SVM with Linear Kernel ---\n",
        "svm_linear = SVC(kernel='linear', random_state=42)\n",
        "svm_linear.fit(X_train_scaled, y_train)\n",
        "y_pred_linear = svm_linear.predict(X_test_scaled)\n",
        "accuracy_linear = accuracy_score(y_test, y_pred_linear)\n",
        "print(f\"Linear Kernel Accuracy: {accuracy_linear:.4f}\")\n",
        "\n",
        "# --- SVM with Polynomial Kernel ---\n",
        "svm_poly = SVC(kernel='poly', degree=3, random_state=42)  # Degree 3 is a common choice\n",
        "svm_poly.fit(X_train_scaled, y_train)\n",
        "y_pred_poly = svm_poly.predict(X_test_scaled)\n",
        "accuracy_poly = accuracy_score(y_test, y_pred_poly)\n",
        "print(f\"Polynomial Kernel Accuracy: {accuracy_poly:.4f}\")\n",
        "\n",
        "# --- SVM with RBF Kernel ---\n",
        "svm_rbf = SVC(kernel='rbf', gamma='scale', random_state=42)\n",
        "svm_rbf.fit(X_train_scaled, y_train)\n",
        "y_pred_rbf = svm_rbf.predict(X_test_scaled)\n",
        "accuracy_rbf = accuracy_score(y_test, y_pred_rbf)\n",
        "print(f\"RBF Kernel Accuracy: {accuracy_rbf:.4f}\")\n",
        "\n",
        "# --- Comparison ---\n",
        "print(\"\\nComparison:\")\n",
        "print(f\"Linear: {accuracy_linear:.4f}\")\n",
        "print(f\"Polynomial: {accuracy_poly:.4f}\")\n",
        "print(f\"RBF: {accuracy_rbf:.4f}\")\n",
        "\n",
        "best_kernel = \"\"\n",
        "best_accuracy = 0\n",
        "\n",
        "if accuracy_linear > best_accuracy:\n",
        "    best_accuracy = accuracy_linear\n",
        "    best_kernel = \"Linear\"\n",
        "\n",
        "if accuracy_poly > best_accuracy:\n",
        "    best_accuracy = accuracy_poly\n",
        "    best_kernel = \"Polynomial\"\n",
        "\n",
        "if accuracy_rbf > best_accuracy:\n",
        "    best_accuracy = accuracy_rbf\n",
        "    best_kernel = \"RBF\"\n",
        "\n",
        "print(f\"\\nBest Kernel: {best_kernel} with Accuracy: {best_accuracy:.4f}\")\n",
        "\n",
        "#Example of tuning the polynomial kernel.\n",
        "svm_poly_tuned = SVC(kernel='poly', degree=4, C=0.5, random_state=42)\n",
        "svm_poly_tuned.fit(X_train_scaled, y_train)\n",
        "y_pred_poly_tuned = svm_poly_tuned.predict(X_test_scaled)\n",
        "accuracy_poly_tuned = accuracy_score(y_test, y_pred_poly_tuned)\n",
        "print(f\"Polynomial Kernel Tuned Accuracy: {accuracy_poly_tuned:.4f}\")"
      ],
      "metadata": {
        "colab": {
          "base_uri": "https://localhost:8080/"
        },
        "id": "1h1gmhUEcV3T",
        "outputId": "977442e0-cbcf-46cf-efc1-1d4e08f73876"
      },
      "execution_count": 18,
      "outputs": [
        {
          "output_type": "stream",
          "name": "stdout",
          "text": [
            "Linear Kernel Accuracy: 0.9766\n",
            "Polynomial Kernel Accuracy: 0.8947\n",
            "RBF Kernel Accuracy: 0.9766\n",
            "\n",
            "Comparison:\n",
            "Linear: 0.9766\n",
            "Polynomial: 0.8947\n",
            "RBF: 0.9766\n",
            "\n",
            "Best Kernel: Linear with Accuracy: 0.9766\n",
            "Polynomial Kernel Tuned Accuracy: 0.7953\n"
          ]
        }
      ]
    },
    {
      "cell_type": "markdown",
      "source": [
        " 38. Write a Python program to train an SVM Classifier using Stratified K-Fold Cross-Validation and compute the\n",
        "average accuracy."
      ],
      "metadata": {
        "id": "YwkOmnqfcdkw"
      }
    },
    {
      "cell_type": "code",
      "source": [
        "import numpy as np\n",
        "from sklearn import datasets\n",
        "from sklearn.model_selection import StratifiedKFold, cross_val_score\n",
        "from sklearn.preprocessing import StandardScaler\n",
        "from sklearn.svm import SVC\n",
        "\n",
        "# Load the Iris dataset\n",
        "iris = datasets.load_iris()\n",
        "X = iris.data\n",
        "y = iris.target\n",
        "\n",
        "# Feature scaling\n",
        "scaler = StandardScaler()\n",
        "X_scaled = scaler.fit_transform(X)\n",
        "\n",
        "# Create an SVM classifier\n",
        "svm_classifier = SVC(kernel='rbf', gamma='scale', random_state=42)\n",
        "\n",
        "# Create StratifiedKFold object\n",
        "skf = StratifiedKFold(n_splits=5, shuffle=True, random_state=42)\n",
        "\n",
        "# Perform Stratified K-Fold Cross-Validation\n",
        "scores = cross_val_score(svm_classifier, X_scaled, y, cv=skf, scoring='accuracy')\n",
        "\n",
        "# Compute the average accuracy\n",
        "average_accuracy = np.mean(scores)\n",
        "\n",
        "# Print the scores and average accuracy\n",
        "print(f\"Cross-Validation Scores: {scores}\")\n",
        "print(f\"Average Accuracy: {average_accuracy:.4f}\")\n",
        "\n",
        "#Example of manually performing Stratified K-Fold.\n",
        "accuracies = []\n",
        "for train_index, test_index in skf.split(X_scaled, y):\n",
        "    X_train_fold, X_test_fold = X_scaled[train_index], X_scaled[test_index]\n",
        "    y_train_fold, y_test_fold = y[train_index], y[test_index]\n",
        "\n",
        "    svm_classifier.fit(X_train_fold, y_train_fold)\n",
        "    fold_accuracy = svm_classifier.score(X_test_fold, y_test_fold)\n",
        "    accuracies.append(fold_accuracy)\n",
        "\n",
        "print(f\"Manual Fold Accuracies: {accuracies}\")\n",
        "print(f\"Manual Average Accuracy: {np.mean(accuracies):.4f}\")"
      ],
      "metadata": {
        "colab": {
          "base_uri": "https://localhost:8080/"
        },
        "id": "X_-7aBl_cjWM",
        "outputId": "67d6d5c5-85d4-4c2e-8cf7-e3bf14915a17"
      },
      "execution_count": 19,
      "outputs": [
        {
          "output_type": "stream",
          "name": "stdout",
          "text": [
            "Cross-Validation Scores: [1.         0.96666667 0.9        1.         0.9       ]\n",
            "Average Accuracy: 0.9533\n",
            "Manual Fold Accuracies: [1.0, 0.9666666666666667, 0.9, 1.0, 0.9]\n",
            "Manual Average Accuracy: 0.9533\n"
          ]
        }
      ]
    },
    {
      "cell_type": "markdown",
      "source": [
        " 39. Write a Python program to train a Naïve Bayes classifier using different prior probabilities and compare\n",
        "performance"
      ],
      "metadata": {
        "id": "00NSx1Ljcsy6"
      }
    },
    {
      "cell_type": "code",
      "source": [
        "import numpy as np\n",
        "from sklearn import datasets\n",
        "from sklearn.model_selection import train_test_split\n",
        "from sklearn.naive_bayes import GaussianNB\n",
        "from sklearn.metrics import accuracy_score\n",
        "\n",
        "# Load the Iris dataset (for demonstration)\n",
        "iris = datasets.load_iris()\n",
        "X = iris.data\n",
        "y = iris.target\n",
        "\n",
        "# Split the dataset into training and testing sets\n",
        "X_train, X_test, y_train, y_test = train_test_split(X, y, test_size=0.3, random_state=42)\n",
        "\n",
        "# --- Naïve Bayes with Default Priors ---\n",
        "gnb_default = GaussianNB()\n",
        "gnb_default.fit(X_train, y_train)\n",
        "y_pred_default = gnb_default.predict(X_test)\n",
        "accuracy_default = accuracy_score(y_test, y_pred_default)\n",
        "print(f\"Accuracy (Default Priors): {accuracy_default:.4f}\")\n",
        "\n",
        "# --- Naïve Bayes with Custom Priors ---\n",
        "# Example: Adjust priors to favor class 0\n",
        "priors_custom = [0.6, 0.2, 0.2]  # Adjust as needed (must sum to 1)\n",
        "\n",
        "gnb_custom = GaussianNB(priors=priors_custom)\n",
        "gnb_custom.fit(X_train, y_train)\n",
        "y_pred_custom = gnb_custom.predict(X_test)\n",
        "accuracy_custom = accuracy_score(y_test, y_pred_custom)\n",
        "print(f\"Accuracy (Custom Priors: {priors_custom}): {accuracy_custom:.4f}\")\n",
        "\n",
        "# --- Naïve Bayes with another set of custom priors ---\n",
        "priors_custom2 = [0.1, 0.6, 0.3]\n",
        "gnb_custom2 = GaussianNB(priors=priors_custom2)\n",
        "gnb_custom2.fit(X_train, y_train)\n",
        "y_pred_custom2 = gnb_custom2.predict(X_test)\n",
        "accuracy_custom2 = accuracy_score(y_test, y_pred_custom2)\n",
        "print(f\"Accuracy (Custom Priors: {priors_custom2}): {accuracy_custom2:.4f}\")\n",
        "\n",
        "# Compare results\n",
        "print(\"\\nComparison:\")\n",
        "print(f\"Default Priors: {accuracy_default:.4f}\")\n",
        "print(f\"Custom Priors 1: {accuracy_custom:.4f}\")\n",
        "print(f\"Custom Priors 2: {accuracy_custom2:.4f}\")\n",
        "\n",
        "# Check if the accuracies differ\n",
        "if accuracy_default == accuracy_custom == accuracy_custom2:\n",
        "    print(\"\\nPriors did not affect accuracy in this case.\")\n",
        "else:\n",
        "    print(\"\\nPriors affected accuracy.\")"
      ],
      "metadata": {
        "colab": {
          "base_uri": "https://localhost:8080/"
        },
        "id": "ndoCPGxGcutw",
        "outputId": "3f394f4c-7f0c-4fe3-a904-1dd79bbc294a"
      },
      "execution_count": 20,
      "outputs": [
        {
          "output_type": "stream",
          "name": "stdout",
          "text": [
            "Accuracy (Default Priors): 0.9778\n",
            "Accuracy (Custom Priors: [0.6, 0.2, 0.2]): 0.9778\n",
            "Accuracy (Custom Priors: [0.1, 0.6, 0.3]): 1.0000\n",
            "\n",
            "Comparison:\n",
            "Default Priors: 0.9778\n",
            "Custom Priors 1: 0.9778\n",
            "Custom Priors 2: 1.0000\n",
            "\n",
            "Priors affected accuracy.\n"
          ]
        }
      ]
    },
    {
      "cell_type": "markdown",
      "source": [
        " 40. Write a Python program to perform Recursive Feature Elimination (RFE) before training an SVM Classifier and\n",
        "compare accuracy"
      ],
      "metadata": {
        "id": "uDfB3BEwc1Uw"
      }
    },
    {
      "cell_type": "code",
      "source": [
        "import numpy as np\n",
        "from sklearn import datasets\n",
        "from sklearn.model_selection import train_test_split\n",
        "from sklearn.preprocessing import StandardScaler\n",
        "from sklearn.svm import SVC\n",
        "from sklearn.metrics import accuracy_score\n",
        "from sklearn.feature_selection import RFE\n",
        "\n",
        "# Load the Breast Cancer dataset (for demonstration)\n",
        "breast_cancer = datasets.load_breast_cancer()\n",
        "X = breast_cancer.data\n",
        "y = breast_cancer.target\n",
        "\n",
        "# Split the dataset into training and testing sets\n",
        "X_train, X_test, y_train, y_test = train_test_split(X, y, test_size=0.3, random_state=42)\n",
        "\n",
        "# Feature scaling\n",
        "scaler = StandardScaler()\n",
        "X_train_scaled = scaler.fit_transform(X_train)\n",
        "X_test_scaled = scaler.transform(X_test)\n",
        "\n",
        "# --- SVM without RFE ---\n",
        "svm_no_rfe = SVC(kernel='rbf', gamma='scale', random_state=42)\n",
        "svm_no_rfe.fit(X_train_scaled, y_train)\n",
        "y_pred_no_rfe = svm_no_rfe.predict(X_test_scaled)\n",
        "accuracy_no_rfe = accuracy_score(y_test, y_pred_no_rfe)\n",
        "print(f\"Accuracy (No RFE): {accuracy_no_rfe:.4f}\")\n",
        "\n",
        "# --- SVM with RFE (using Linear Kernel for RFE estimator) ---\n",
        "estimator = SVC(kernel='linear', random_state=42)  # Linear kernel for RFE\n",
        "rfe = RFE(estimator, n_features_to_select=10)  # Select top 10 features\n",
        "X_train_rfe = rfe.fit_transform(X_train_scaled, y_train)\n",
        "X_test_rfe = rfe.transform(X_test_scaled)\n",
        "\n",
        "svm_with_rfe = SVC(kernel='rbf', gamma='scale', random_state=42) #RBF kernel for final model.\n",
        "svm_with_rfe.fit(X_train_rfe, y_train)\n",
        "y_pred_rfe = svm_with_rfe.predict(X_test_rfe)\n",
        "accuracy_rfe = accuracy_score(y_test, y_pred_rfe)\n",
        "print(f\"Accuracy (RFE, n_features=10): {accuracy_rfe:.4f}\")\n",
        "\n",
        "# Compare results\n",
        "print(\"\\nComparison:\")\n",
        "print(f\"Accuracy (No RFE): {accuracy_no_rfe:.4f}\")\n",
        "print(f\"Accuracy (RFE): {accuracy_rfe:.4f}\")\n",
        "\n",
        "if accuracy_rfe > accuracy_no_rfe:\n",
        "    print(\"RFE improved accuracy.\")\n",
        "elif accuracy_rfe < accuracy_no_rfe:\n",
        "    print(\"RFE decreased accuracy.\")\n",
        "else:\n",
        "    print(\"RFE did not change accuracy.\")"
      ],
      "metadata": {
        "colab": {
          "base_uri": "https://localhost:8080/"
        },
        "id": "mG365sgHdLio",
        "outputId": "a8b35c69-2937-400e-ac93-aae757a0b72d"
      },
      "execution_count": 22,
      "outputs": [
        {
          "output_type": "stream",
          "name": "stdout",
          "text": [
            "Accuracy (No RFE): 0.9766\n",
            "Accuracy (RFE, n_features=10): 0.9649\n",
            "\n",
            "Comparison:\n",
            "Accuracy (No RFE): 0.9766\n",
            "Accuracy (RFE): 0.9649\n",
            "RFE decreased accuracy.\n"
          ]
        }
      ]
    },
    {
      "cell_type": "markdown",
      "source": [
        "41. Write a Python program to train an SVM Classifier and evaluate its performance using Precision, Recall, and\n",
        "F1-Score instead of accuracy."
      ],
      "metadata": {
        "id": "En-MDubHdOy1"
      }
    },
    {
      "cell_type": "code",
      "source": [
        "import numpy as np\n",
        "from sklearn import datasets\n",
        "from sklearn.model_selection import train_test_split\n",
        "from sklearn.preprocessing import StandardScaler\n",
        "from sklearn.svm import SVC\n",
        "from sklearn.metrics import precision_score, recall_score, f1_score, classification_report\n",
        "\n",
        "# Load the Breast Cancer dataset (for demonstration)\n",
        "breast_cancer = datasets.load_breast_cancer()\n",
        "X = breast_cancer.data\n",
        "y = breast_cancer.target\n",
        "\n",
        "# Split the dataset into training and testing sets\n",
        "X_train, X_test, y_train, y_test = train_test_split(X, y, test_size=0.3, random_state=42)\n",
        "\n",
        "# Feature scaling\n",
        "scaler = StandardScaler()\n",
        "X_train_scaled = scaler.fit_transform(X_train)\n",
        "X_test_scaled = scaler.transform(X_test)\n",
        "\n",
        "# Create an SVM classifier\n",
        "svm_classifier = SVC(kernel='rbf', gamma='scale', random_state=42)\n",
        "\n",
        "# Train the classifier\n",
        "svm_classifier.fit(X_train_scaled, y_train)\n",
        "\n",
        "# Make predictions on the test set\n",
        "y_pred = svm_classifier.predict(X_test_scaled)\n",
        "\n",
        "# Evaluate performance using Precision, Recall, and F1-Score\n",
        "precision = precision_score(y_test, y_pred)\n",
        "recall = recall_score(y_test, y_pred)\n",
        "f1 = f1_score(y_test, y_pred)\n",
        "\n",
        "print(f\"Precision: {precision:.4f}\")\n",
        "print(f\"Recall: {recall:.4f}\")\n",
        "print(f\"F1-Score: {f1:.4f}\")\n",
        "\n",
        "# Print classification report for detailed metrics\n",
        "print(\"\\nClassification Report:\\n\", classification_report(y_test, y_pred))\n",
        "\n",
        "#Example of changing the average parameter.\n",
        "precision_micro = precision_score(y_test, y_pred, average='micro')\n",
        "precision_macro = precision_score(y_test, y_pred, average='macro')\n",
        "precision_weighted = precision_score(y_test, y_pred, average='weighted')\n",
        "\n",
        "print(f\"\\nPrecision Micro: {precision_micro:.4f}\")\n",
        "print(f\"Precision Macro: {precision_macro:.4f}\")\n",
        "print(f\"Precision Weighted: {precision_weighted:.4f}\")"
      ],
      "metadata": {
        "colab": {
          "base_uri": "https://localhost:8080/"
        },
        "id": "5qcB3_2YdRSt",
        "outputId": "c73d7abd-875e-4b39-c111-65ad27db92ef"
      },
      "execution_count": 23,
      "outputs": [
        {
          "output_type": "stream",
          "name": "stdout",
          "text": [
            "Precision: 0.9815\n",
            "Recall: 0.9815\n",
            "F1-Score: 0.9815\n",
            "\n",
            "Classification Report:\n",
            "               precision    recall  f1-score   support\n",
            "\n",
            "           0       0.97      0.97      0.97        63\n",
            "           1       0.98      0.98      0.98       108\n",
            "\n",
            "    accuracy                           0.98       171\n",
            "   macro avg       0.97      0.97      0.97       171\n",
            "weighted avg       0.98      0.98      0.98       171\n",
            "\n",
            "\n",
            "Precision Micro: 0.9766\n",
            "Precision Macro: 0.9749\n",
            "Precision Weighted: 0.9766\n"
          ]
        }
      ]
    },
    {
      "cell_type": "markdown",
      "source": [
        " 42. Write a Python program to train a Naïve Bayes Classifier and evaluate its performance using Log Loss\n",
        "(Cross-Entropy Loss)"
      ],
      "metadata": {
        "id": "RQMD20d5dYUS"
      }
    },
    {
      "cell_type": "code",
      "source": [
        "import numpy as np\n",
        "from sklearn import datasets\n",
        "from sklearn.model_selection import train_test_split\n",
        "from sklearn.naive_bayes import GaussianNB\n",
        "from sklearn.metrics import log_loss\n",
        "from sklearn.preprocessing import StandardScaler\n",
        "\n",
        "# Load the Iris dataset (for demonstration)\n",
        "iris = datasets.load_iris()\n",
        "X = iris.data\n",
        "y = iris.target\n",
        "\n",
        "# Split the dataset into training and testing sets\n",
        "X_train, X_test, y_train, y_test = train_test_split(X, y, test_size=0.3, random_state=42)\n",
        "\n",
        "# Feature scaling (optional but can improve performance)\n",
        "scaler = StandardScaler()\n",
        "X_train_scaled = scaler.fit_transform(X_train)\n",
        "X_test_scaled = scaler.transform(X_test)\n",
        "\n",
        "# Create a Gaussian Naïve Bayes classifier\n",
        "gnb = GaussianNB()\n",
        "\n",
        "# Train the classifier\n",
        "gnb.fit(X_train_scaled, y_train)\n",
        "\n",
        "# Make predictions on the test set (probabilities)\n",
        "y_pred_proba = gnb.predict_proba(X_test_scaled)\n",
        "\n",
        "# Evaluate performance using Log Loss\n",
        "logloss = log_loss(y_test, y_pred_proba)\n",
        "print(f\"Log Loss (Cross-Entropy Loss): {logloss:.4f}\")\n",
        "\n",
        "#Example of changing the epsilon parameter.\n",
        "gnb_tuned = GaussianNB(var_smoothing=1e-08)\n",
        "gnb_tuned.fit(X_train_scaled, y_train)\n",
        "y_pred_proba_tuned = gnb_tuned.predict_proba(X_test_scaled)\n",
        "logloss_tuned = log_loss(y_test, y_pred_proba_tuned)\n",
        "print(f\"Log Loss (Cross-Entropy Loss) with var_smoothing=1e-08: {logloss_tuned:.4f}\")\n",
        "\n",
        "#Example of using unscaled data.\n",
        "gnb_unscaled = GaussianNB()\n",
        "gnb_unscaled.fit(X_train, y_train)\n",
        "y_pred_proba_unscaled = gnb_unscaled.predict_proba(X_test)\n",
        "logloss_unscaled = log_loss(y_test, y_pred_proba_unscaled)\n",
        "print(f\"Log Loss (Cross-Entropy Loss) with unscaled data: {logloss_unscaled:.4f}\")"
      ],
      "metadata": {
        "colab": {
          "base_uri": "https://localhost:8080/"
        },
        "id": "kC2P3xB4daNc",
        "outputId": "a35dd50b-583a-47fe-e54f-46fb7d4421a2"
      },
      "execution_count": 24,
      "outputs": [
        {
          "output_type": "stream",
          "name": "stdout",
          "text": [
            "Log Loss (Cross-Entropy Loss): 0.0490\n",
            "Log Loss (Cross-Entropy Loss) with var_smoothing=1e-08: 0.0490\n",
            "Log Loss (Cross-Entropy Loss) with unscaled data: 0.0490\n"
          ]
        }
      ]
    },
    {
      "cell_type": "markdown",
      "source": [
        " 43. Write a Python program to train an SVM Classifier and visualize the Confusion Matrix using seaborn."
      ],
      "metadata": {
        "id": "3mwmN8iodoDt"
      }
    },
    {
      "cell_type": "code",
      "source": [
        "import numpy as np\n",
        "import matplotlib.pyplot as plt\n",
        "import seaborn as sns\n",
        "from sklearn import datasets\n",
        "from sklearn.model_selection import train_test_split\n",
        "from sklearn.preprocessing import StandardScaler\n",
        "from sklearn.svm import SVC\n",
        "from sklearn.metrics import confusion_matrix\n",
        "\n",
        "# Load the Iris dataset (for demonstration)\n",
        "iris = datasets.load_iris()\n",
        "X = iris.data\n",
        "y = iris.target\n",
        "\n",
        "# Split the dataset into training and testing sets\n",
        "X_train, X_test, y_train, y_test = train_test_split(X, y, test_size=0.3, random_state=42)\n",
        "\n",
        "# Feature scaling\n",
        "scaler = StandardScaler()\n",
        "X_train_scaled = scaler.fit_transform(X_train)\n",
        "X_test_scaled = scaler.transform(X_test)\n",
        "\n",
        "# Create an SVM classifier\n",
        "svm_classifier = SVC(kernel='rbf', gamma='scale', random_state=42)\n",
        "\n",
        "# Train the classifier\n",
        "svm_classifier.fit(X_train_scaled, y_train)\n",
        "\n",
        "# Make predictions on the test set\n",
        "y_pred = svm_classifier.predict(X_test_scaled)\n",
        "\n",
        "# Compute the confusion matrix\n",
        "cm = confusion_matrix(y_test, y_pred)\n",
        "\n",
        "# Visualize the confusion matrix using seaborn\n",
        "plt.figure(figsize=(8, 6))\n",
        "sns.heatmap(cm, annot=True, fmt='d', cmap='Blues',\n",
        "            xticklabels=iris.target_names, yticklabels=iris.target_names)\n",
        "plt.xlabel('Predicted Labels')\n",
        "plt.ylabel('True Labels')\n",
        "plt.title('Confusion Matrix - SVM Classifier')\n",
        "plt.show()\n",
        "\n",
        "#Example of normalizing the confusion matrix.\n",
        "cm_normalized = confusion_matrix(y_test, y_pred, normalize='true')\n",
        "\n",
        "plt.figure(figsize=(8, 6))\n",
        "sns.heatmap(cm_normalized, annot=True, fmt='.2f', cmap='Greens',\n",
        "            xticklabels=iris.target_names, yticklabels=iris.target_names)\n",
        "plt.xlabel('Predicted Labels')\n",
        "plt.ylabel('True Labels')\n",
        "plt.title('Normalized Confusion Matrix - SVM Classifier')\n",
        "plt.show()"
      ],
      "metadata": {
        "colab": {
          "base_uri": "https://localhost:8080/",
          "height": 1000
        },
        "id": "r4iKMbFwdp-4",
        "outputId": "a07d2ec2-281c-458a-fe32-349a616e5e9f"
      },
      "execution_count": 25,
      "outputs": [
        {
          "output_type": "display_data",
          "data": {
            "text/plain": [
              "<Figure size 800x600 with 2 Axes>"
            ],
            "image/png": "[encoded data removed]"
          },
          "metadata": {}
        },
        {
          "output_type": "display_data",
          "data": {
            "text/plain": [
              "<Figure size 800x600 with 2 Axes>"
            ],
            "image/png": "[encoded data removed]"
          },
          "metadata": {}
        }
      ]
    },
    {
      "cell_type": "markdown",
      "source": [
        "44.  Write a Python program to train an SVM Regressor (SVR) and evaluate its performance using Mean Absolute\n",
        "Error (MAE) instead of MSE"
      ],
      "metadata": {
        "id": "hY0LuLrkdy-Y"
      }
    },
    {
      "cell_type": "code",
      "source": [
        "import numpy as np\n",
        "from sklearn.datasets import fetch_california_housing\n",
        "from sklearn.model_selection import train_test_split\n",
        "from sklearn.preprocessing import StandardScaler\n",
        "from sklearn.svm import SVR\n",
        "from sklearn.metrics import mean_absolute_error\n",
        "\n",
        "# Load the California Housing dataset\n",
        "housing = fetch_california_housing()\n",
        "X = housing.data\n",
        "y = housing.target\n",
        "\n",
        "# Split the dataset into training and testing sets\n",
        "X_train, X_test, y_train, y_test = train_test_split(X, y, test_size=0.2, random_state=42)\n",
        "\n",
        "# Feature scaling (important for SVR)\n",
        "scaler = StandardScaler()\n",
        "X_train_scaled = scaler.fit_transform(X_train)\n",
        "X_test_scaled = scaler.transform(X_test)\n",
        "\n",
        "# Create an SVR regressor (RBF kernel is commonly used)\n",
        "svr_regressor = SVR(kernel='rbf', C=1.0, epsilon=0.1, gamma='scale')\n",
        "\n",
        "# Train the regressor\n",
        "svr_regressor.fit(X_train_scaled, y_train)\n",
        "\n",
        "# Make predictions on the test set\n",
        "y_pred = svr_regressor.predict(X_test_scaled)\n",
        "\n",
        "# Evaluate using Mean Absolute Error (MAE)\n",
        "mae = mean_absolute_error(y_test, y_pred)\n",
        "print(f\"Mean Absolute Error (MAE): {mae:.4f}\")\n",
        "\n",
        "#Example of changing the C, epsilon, and gamma parameters.\n",
        "svr_regressor_tuned = SVR(kernel='rbf', C=10, epsilon=0.05, gamma=0.1)\n",
        "svr_regressor_tuned.fit(X_train_scaled, y_train)\n",
        "y_pred_tuned = svr_regressor_tuned.predict(X_test_scaled)\n",
        "mae_tuned = mean_absolute_error(y_test, y_pred_tuned)\n",
        "print(f\"Mean Absolute Error (MAE) with tuned parameters: {mae_tuned:.4f}\")\n",
        "\n",
        "#Example of using a linear kernel.\n",
        "svr_regressor_linear = SVR(kernel='linear', C=1)\n",
        "svr_regressor_linear.fit(X_train_scaled, y_train)\n",
        "y_pred_linear = svr_regressor_linear.predict(X_test_scaled)\n",
        "mae_linear = mean_absolute_error(y_test, y_pred_linear)\n",
        "print(f\"Mean Absolute Error (MAE) with linear kernel: {mae_linear:.4f}\")"
      ],
      "metadata": {
        "colab": {
          "base_uri": "https://localhost:8080/"
        },
        "id": "dTpDJXTod20r",
        "outputId": "92543b3f-1135-40fd-80d3-ea8becb09fb7"
      },
      "execution_count": 26,
      "outputs": [
        {
          "output_type": "stream",
          "name": "stdout",
          "text": [
            "Mean Absolute Error (MAE): 0.3986\n",
            "Mean Absolute Error (MAE) with tuned parameters: 0.3830\n",
            "Mean Absolute Error (MAE) with linear kernel: 0.5120\n"
          ]
        }
      ]
    },
    {
      "cell_type": "markdown",
      "source": [
        " 45. Write a Python program to train a Naïve Bayes classifier and evaluate its performance using the ROC-AUC\n",
        "score"
      ],
      "metadata": {
        "id": "u8C4jHsYd_se"
      }
    },
    {
      "cell_type": "code",
      "source": [
        "import numpy as np\n",
        "from sklearn import datasets\n",
        "from sklearn.model_selection import train_test_split\n",
        "from sklearn.naive_bayes import GaussianNB\n",
        "from sklearn.metrics import roc_auc_score\n",
        "from sklearn.preprocessing import StandardScaler\n",
        "\n",
        "# Load the Breast Cancer dataset (for binary classification)\n",
        "breast_cancer = datasets.load_breast_cancer()\n",
        "X = breast_cancer.data\n",
        "y = breast_cancer.target\n",
        "\n",
        "# Split the dataset into training and testing sets\n",
        "X_train, X_test, y_train, y_test = train_test_split(X, y, test_size=0.3, random_state=42)\n",
        "\n",
        "# Feature scaling (optional but can improve performance)\n",
        "scaler = StandardScaler()\n",
        "X_train_scaled = scaler.fit_transform(X_train)\n",
        "X_test_scaled = scaler.transform(X_test)\n",
        "\n",
        "# Create a Gaussian Naïve Bayes classifier\n",
        "gnb = GaussianNB()\n",
        "\n",
        "# Train the classifier\n",
        "gnb.fit(X_train_scaled, y_train)\n",
        "\n",
        "# Make predictions on the test set (probabilities)\n",
        "y_pred_proba = gnb.predict_proba(X_test_scaled)[:, 1]  # Get probabilities for the positive class\n",
        "\n",
        "# Evaluate performance using ROC-AUC score\n",
        "roc_auc = roc_auc_score(y_test, y_pred_proba)\n",
        "print(f\"ROC-AUC Score: {roc_auc:.4f}\")\n",
        "\n",
        "#Example of using unscaled data.\n",
        "gnb_unscaled = GaussianNB()\n",
        "gnb_unscaled.fit(X_train, y_train)\n",
        "y_pred_proba_unscaled = gnb_unscaled.predict_proba(X_test)[:, 1]\n",
        "roc_auc_unscaled = roc_auc_score(y_test, y_pred_proba_unscaled)\n",
        "print(f\"ROC-AUC Score Unscaled: {roc_auc_unscaled:.4f}\")\n",
        "\n",
        "#Example of changing the var_smoothing parameter.\n",
        "gnb_tuned = GaussianNB(var_smoothing=1e-08)\n",
        "gnb_tuned.fit(X_train_scaled, y_train)\n",
        "y_pred_proba_tuned = gnb_tuned.predict_proba(X_test_scaled)[:, 1]\n",
        "roc_auc_tuned = roc_auc_score(y_test, y_pred_proba_tuned)\n",
        "print(f\"ROC-AUC Score Tuned: {roc_auc_tuned:.4f}\")"
      ],
      "metadata": {
        "colab": {
          "base_uri": "https://localhost:8080/"
        },
        "id": "X6T7lNEueDGI",
        "outputId": "3d0c8a0d-518b-4073-b82f-d4d69f911762"
      },
      "execution_count": 27,
      "outputs": [
        {
          "output_type": "stream",
          "name": "stdout",
          "text": [
            "ROC-AUC Score: 0.9927\n",
            "ROC-AUC Score Unscaled: 0.9922\n",
            "ROC-AUC Score Tuned: 0.9927\n"
          ]
        }
      ]
    },
    {
      "cell_type": "markdown",
      "source": [
        " 46. Write a Python program to train an SVM Classifier and visualize the Precision-Recall Curve"
      ],
      "metadata": {
        "id": "88D0_F9DeD82"
      }
    },
    {
      "cell_type": "code",
      "source": [
        "import numpy as np\n",
        "import matplotlib.pyplot as plt\n",
        "from sklearn import datasets\n",
        "from sklearn.model_selection import train_test_split\n",
        "from sklearn.preprocessing import StandardScaler\n",
        "from sklearn.svm import SVC\n",
        "from sklearn.metrics import precision_recall_curve, auc\n",
        "\n",
        "# Load the Breast Cancer dataset (for binary classification)\n",
        "breast_cancer = datasets.load_breast_cancer()\n",
        "X = breast_cancer.data\n",
        "y = breast_cancer.target\n",
        "\n",
        "# Split the dataset into training and testing sets\n",
        "X_train, X_test, y_train, y_test = train_test_split(X, y, test_size=0.3, random_state=42)\n",
        "\n",
        "# Feature scaling\n",
        "scaler = StandardScaler()\n",
        "X_train_scaled = scaler.fit_transform(X_train)\n",
        "X_test_scaled = scaler.transform(X_test)\n",
        "\n",
        "# Create an SVM classifier\n",
        "svm_classifier = SVC(kernel='rbf', gamma='scale', probability=True, random_state=42) #probability=True is important.\n",
        "\n",
        "# Train the classifier\n",
        "svm_classifier.fit(X_train_scaled, y_train)\n",
        "\n",
        "# Make predictions on the test set (probabilities)\n",
        "y_pred_proba = svm_classifier.predict_proba(X_test_scaled)[:, 1] #get probability of positive class.\n",
        "\n",
        "# Compute Precision-Recall curve\n",
        "precision, recall, thresholds = precision_recall_curve(y_test, y_pred_proba)\n",
        "\n",
        "# Compute AUC (Area Under the Curve)\n",
        "auc_score = auc(recall, precision)\n",
        "\n",
        "# Plot Precision-Recall curve\n",
        "plt.figure(figsize=(8, 6))\n",
        "plt.plot(recall, precision, label=f'Precision-Recall Curve (AUC = {auc_score:.2f})')\n",
        "plt.xlabel('Recall')\n",
        "plt.ylabel('Precision')\n",
        "plt.title('Precision-Recall Curve - SVM Classifier')\n",
        "plt.legend(loc='lower left')\n",
        "plt.grid(True)\n",
        "plt.show()\n",
        "\n",
        "#Example of using a linear kernel.\n",
        "svm_classifier_linear = SVC(kernel='linear', probability=True, random_state=42)\n",
        "svm_classifier_linear.fit(X_train_scaled, y_train)\n",
        "y_pred_proba_linear = svm_classifier_linear.predict_proba(X_test_scaled)[:,1]\n",
        "precision_linear, recall_linear, thresholds_linear = precision_recall_curve(y_test, y_pred_proba_linear)\n",
        "auc_score_linear = auc(recall_linear, precision_linear)\n",
        "\n",
        "plt.figure(figsize=(8, 6))\n",
        "plt.plot(recall_linear, precision_linear, label=f'Precision-Recall Curve Linear Kernel(AUC = {auc_score_linear:.2f})')\n",
        "plt.xlabel('Recall')\n",
        "plt.ylabel('Precision')\n",
        "plt.title('Precision-Recall Curve - Linear Kernel SVM Classifier')\n",
        "plt.legend(loc='lower left')\n",
        "plt.grid(True)\n",
        "plt.show()"
      ],
      "metadata": {
        "colab": {
          "base_uri": "https://localhost:8080/",
          "height": 1000
        },
        "id": "jRmElMLLeHRZ",
        "outputId": "35d93dc7-c93d-45e9-bf0d-386639b56410"
      },
      "execution_count": 28,
      "outputs": [
        {
          "output_type": "display_data",
          "data": {
            "text/plain": [
              "<Figure size 800x600 with 1 Axes>"
            ],
            "image/png": "[encoded data removed]"
          },
          "metadata": {}
        },
        {
          "output_type": "display_data",
          "data": {
            "text/plain": [
              "<Figure size 800x600 with 1 Axes>"
            ],
            "image/png": "[encoded data removed]"
          },
          "metadata": {}
        }
      ]
    }
  ]
}