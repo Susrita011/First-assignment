{
 "cells": [
  {
   "cell_type": "markdown",
   "id": "1068b1f7-3a30-4be3-be1e-0b5a1060eb74",
   "metadata": {},
   "source": [
    "                                                          THEORY QUESTIONS"
   ]
  },
  {
   "cell_type": "code",
   "execution_count": null,
   "id": "5912079d-604a-4354-aa33-1d0535cd8640",
   "metadata": {},
   "outputs": [],
   "source": [
    "1. What is the difference between a function and a method in Python?\n",
    "ans. In Python, both functions and methods are blocks of code designed to perform specific tasks, but they differ in context and usage."
   ]
  },
  {
   "cell_type": "markdown",
   "id": "d1c65c1b-40fa-4bdf-8a0a-883a95026fcc",
   "metadata": {},
   "source": [
    "a) functions: A function is defined using the def keyword and can be called independently."
   ]
  },
  {
   "cell_type": "code",
   "execution_count": 1,
   "id": "890fd91c-0ad1-4b9b-ae6d-3d35eea72dee",
   "metadata": {},
   "outputs": [
    {
     "name": "stdout",
     "output_type": "stream",
     "text": [
      "Hello, Alice!\n"
     ]
    }
   ],
   "source": [
    "# for example \n",
    "def greet(name):\n",
    "    return f\"Hello, {name}!\"\n",
    "\n",
    "print(greet(\"Alice\")) "
   ]
  },
  {
   "cell_type": "markdown",
   "id": "8c1fbc0e-337c-48b8-a2d8-2df43a3f4314",
   "metadata": {},
   "source": [
    "b) Methods : A method, on the other hand, is defined within a class and operates on instances of that class. It is called on an object and has access to the object’s attributes. Methods include self as their first parameter."
   ]
  },
  {
   "cell_type": "code",
   "execution_count": 3,
   "id": "bfec2cb0-c88b-42b2-a671-01c8ad6eb7a4",
   "metadata": {},
   "outputs": [
    {
     "name": "stdout",
     "output_type": "stream",
     "text": [
      "Hello, Bob\n"
     ]
    }
   ],
   "source": [
    "# for example \n",
    "class Greeter:\n",
    "    def __init__(self, name):\n",
    "        self.name = name\n",
    "    \n",
    "    def greet(self):\n",
    "        return f\"Hello, {self.name}\"\n",
    "\n",
    "greeter = Greeter(\"Bob\")\n",
    "print(greeter.greet())  "
   ]
  },
  {
   "cell_type": "markdown",
   "id": "e47a2e30-c368-4df6-a2e8-d4b683747fcd",
   "metadata": {},
   "source": [
    "Summary : In summary, functions are standalone blocks of code, while methods are associated with objects and classes,\n",
    "providing a way to manipulate the data contained within those objects."
   ]
  },
  {
   "cell_type": "markdown",
   "id": "6fe9bb62-d30c-4709-b66b-4509b131d966",
   "metadata": {},
   "source": [
    "2. Explain the concept of function arguments and parameters in Python.\n",
    "ans. \n",
    "In Python, function arguments and parameters are key concepts for passing information into functions,\n",
    " allowing them to perform operations using that information. Understanding the distinction between them and\n",
    "the different types of arguments is crucial for writing flexible and reusable code."
   ]
  },
  {
   "cell_type": "markdown",
   "id": "f53ab8a9-d854-4ad9-83e5-b811c7dccc16",
   "metadata": {},
   "source": [
    "* Parameters:\n",
    " i) Definition: Parameters are variables listed inside the parentheses in the function definition.\n",
    "ii) Purpose: They act as placeholders for the values that will be passed to the function.\n",
    "  "
   ]
  },
  {
   "cell_type": "code",
   "execution_count": 6,
   "id": "88ff5673-8eb1-47be-b261-a5bea9ab7aa3",
   "metadata": {},
   "outputs": [
    {
     "data": {
      "text/plain": [
       "5"
      ]
     },
     "execution_count": 6,
     "metadata": {},
     "output_type": "execute_result"
    }
   ],
   "source": [
    "# example\n",
    "def add(a, b):  # a and b are parameters\n",
    "    return a + b\n",
    "add(2,3)"
   ]
  },
  {
   "cell_type": "markdown",
   "id": "43b2e3e2-a5a5-400f-8686-4bf56bc4bc8f",
   "metadata": {},
   "source": [
    "3. What are the different ways to define and call a function in Python?\n",
    "  ans. In Python, functions can be defined and called in various ways to suit different programming needs.\n",
    "Here are some common methods:"
   ]
  },
  {
   "cell_type": "markdown",
   "id": "b307f53e-16fc-4a16-acd3-12396991981e",
   "metadata": {},
   "source": [
    "i). Regular Function Definition and Call:\n",
    "       Definition: A regular function is defined using the def keyword followed by the function name and parameters."
   ]
  },
  {
   "cell_type": "code",
   "execution_count": 2,
   "id": "5fdf2dbf-7723-4c15-b73c-b67112510576",
   "metadata": {},
   "outputs": [
    {
     "data": {
      "text/plain": [
       "7"
      ]
     },
     "execution_count": 2,
     "metadata": {},
     "output_type": "execute_result"
    }
   ],
   "source": [
    "# example:\n",
    "def add(a, b):            #definition\n",
    "    return a + b\n",
    "add(3, 4)                 #call"
   ]
  },
  {
   "cell_type": "markdown",
   "id": "ce23dee8-888d-4e57-a04a-db56bfd56b0b",
   "metadata": {},
   "source": [
    "ii). Using Default Arguments:\n",
    "       Definition: You can provide default values for parameters."
   ]
  },
  {
   "cell_type": "code",
   "execution_count": 5,
   "id": "daf333d6-ebcd-4f8f-bfb2-9c478588e3dc",
   "metadata": {},
   "outputs": [
    {
     "name": "stdout",
     "output_type": "stream",
     "text": [
      "Hello, Alice!\n",
      "Hi, Bob!\n"
     ]
    }
   ],
   "source": [
    "def greet(name, message=\"Hello\"):             #definition\n",
    "    return f\"{message}, {name}!\"\n",
    "print(greet(\"Alice\"))                           # call\n",
    "print(greet(\"Bob\", \"Hi\")) \n"
   ]
  },
  {
   "cell_type": "markdown",
   "id": "74e154f3-e030-4353-85fc-e3af9c6b6626",
   "metadata": {},
   "source": [
    "iii). Variable-length Arguments:\n",
    "   Definition: Use *args for non-keyword variable-length arguments. A function which  can take any no of values ."
   ]
  },
  {
   "cell_type": "code",
   "execution_count": 7,
   "id": "e523e416-aa22-497a-838a-02c238ee3bd1",
   "metadata": {},
   "outputs": [
    {
     "name": "stdout",
     "output_type": "stream",
     "text": [
      "10\n"
     ]
    }
   ],
   "source": [
    "#example \n",
    "def add_all(*args):             #definition\n",
    "    return sum(args)\n",
    "print(add_all(1, 2, 3, 4))      #call"
   ]
  },
  {
   "cell_type": "markdown",
   "id": "2eecfe4c-68f3-47f4-ba24-56b3617a9e41",
   "metadata": {},
   "source": [
    "iv). Key word variable length argument:\n",
    "        Defintion: A function should accept any no of arguments in the form of key value pair.\n",
    "     "
   ]
  },
  {
   "cell_type": "code",
   "execution_count": 17,
   "id": "739422a9-f355-4845-808a-5a4025f0354b",
   "metadata": {},
   "outputs": [
    {
     "name": "stdout",
     "output_type": "stream",
     "text": [
      "name: Alice\n",
      "age: 30\n",
      "city: Wonderland\n"
     ]
    }
   ],
   "source": [
    "# example\n",
    "def print_info(**kwargs):\n",
    "    for key, value in kwargs.items():\n",
    "          print(f\"{key}: {value}\")\n",
    "      \n",
    "print_info(name=\"Alice\", age=30, city=\"Wonderland\")\n"
   ]
  },
  {
   "cell_type": "markdown",
   "id": "b371732c-8a27-4e96-825e-544b59650418",
   "metadata": {},
   "source": [
    "v). Nested Functions:\n",
    "       Definition: You can define a function inside another function."
   ]
  },
  {
   "cell_type": "code",
   "execution_count": 19,
   "id": "ffb7a4f5-87ba-42b6-ada7-fc1e9a03ed35",
   "metadata": {},
   "outputs": [
    {
     "name": "stdout",
     "output_type": "stream",
     "text": [
      "15\n"
     ]
    }
   ],
   "source": [
    "# example\n",
    "def outer_function(x):               #definition\n",
    "    def inner_function(y):       \n",
    "        return x * y\n",
    "    return inner_function\n",
    "multiplier = outer_function(5)      #call\n",
    "result = multiplier(3)\n",
    "print(result) "
   ]
  },
  {
   "cell_type": "markdown",
   "id": "a2b1463d-ddfd-499c-9ba6-5b142344babc",
   "metadata": {},
   "source": [
    "4. What is the purpose of the `return` statement in a Python function?\n",
    "\n",
    "    ans. The return statement in a Python function serves to terminate the function's execution and\n",
    "    optionally pass a value back to the caller. It allows functions to produce output that can be used\n",
    "   later in the program. If no return statement is present, the function returns None by default.\n",
    "   Functions can have multiple return statements to return different values based on conditions."
   ]
  },
  {
   "cell_type": "code",
   "execution_count": 20,
   "id": "e7eee39f-3116-4571-8fe9-448f8b969a76",
   "metadata": {},
   "outputs": [
    {
     "name": "stdout",
     "output_type": "stream",
     "text": [
      "Even\n",
      "Odd\n"
     ]
    }
   ],
   "source": [
    "# example\n",
    "def check_even(number):\n",
    "    if number % 2 == 0:\n",
    "        return \"Even\"\n",
    "    return \"Odd\"\n",
    "\n",
    "result = check_even(4)\n",
    "print(result) \n",
    "\n",
    "result = check_even(7)\n",
    "print(result)  \n"
   ]
  },
  {
   "cell_type": "markdown",
   "id": "bb95e8f1-7e6b-44aa-9936-f8f53cd4b351",
   "metadata": {},
   "source": [
    "5. What are iterators in Python and how do they differ from iterables?\n",
    "\n",
    "    ans. A) Iterator:\n",
    "           * Definition: An iterator is an object representing a stream of data. It produces the next value each time you call the __next__() method.\n",
    "           * Key Methods: An iterator must implement both __iter__() and __next__() methods.\n",
    "\n",
    "\n",
    "        B) Difference between iterator and iterables:\n",
    "\n",
    "        i) creation :\n",
    "               *  Iterables are usually collections like lists or strings.\n",
    "               *   Iterators are created by calling iter() on an iterable.\n",
    "\n",
    "        ii)Methods:\n",
    "               * Iterables implement __iter__().\n",
    "               *  Iterators implement both __iter__() and __next__().\n",
    "\n",
    "        iii)Usage:\n",
    "                   *  Iterables can be used in loops to retrieve elements one by one.\n",
    "                   * Iterators are used to fetch the next element using next(), and they keep track of the current position."
   ]
  },
  {
   "cell_type": "code",
   "execution_count": 22,
   "id": "27d32a16-9c2d-4d6e-949a-6f969b4997b8",
   "metadata": {},
   "outputs": [
    {
     "name": "stdout",
     "output_type": "stream",
     "text": [
      "1\n",
      "2\n",
      "3\n"
     ]
    }
   ],
   "source": [
    "# example\n",
    "my_list = [1, 2, 3]  # my_list is an iterable\n",
    "\n",
    "my_iter = iter(my_list)   # my_iter is an iterator created from my_list\n",
    "print(next(my_iter))  \n",
    "print(next(my_iter)) \n",
    "print(next(my_iter)) \n"
   ]
  },
  {
   "cell_type": "markdown",
   "id": "4d735cb6-c7f0-47d7-97ba-88684420169a",
   "metadata": {},
   "source": [
    "6. Explain the concept of generators in Python and how they are defined\n",
    "\n",
    "   ans.   i)Generator functions in Python are a way to create iterators in a more concise and memory-efficient manner.\n",
    "         ii) These functions allow you to iterate over a potentially large sequence of data without loading the entire\n",
    "           sequence into memory.\n",
    "          iii) The main difference between a regular function and a generator function is that the latter uses the yield\n",
    "           keyword to produce a series of values over time, one at a time, rather than returning a single result."
   ]
  },
  {
   "cell_type": "code",
   "execution_count": 29,
   "id": "f6fdcaa4-f231-4c83-a844-dadeec1ebb0e",
   "metadata": {},
   "outputs": [
    {
     "name": "stdout",
     "output_type": "stream",
     "text": [
      "0\n",
      "1\n",
      "1\n",
      "2\n",
      "3\n",
      "5\n",
      "8\n",
      "13\n"
     ]
    }
   ],
   "source": [
    "def fibonacci(n):\n",
    "    a, b = 0, 1\n",
    "    count = 0\n",
    "    while count < n:\n",
    "        yield a\n",
    "        a, b = b, a + b \n",
    "        count += 1\n",
    "\n",
    "fib_gen = fibonacci(8)\n",
    "for number in fib_gen:\n",
    "    print(number)"
   ]
  },
  {
   "cell_type": "markdown",
   "id": "a7a34ce2-8412-4740-9683-5c8194191c94",
   "metadata": {},
   "source": [
    "7. What are the advantages of using generators over regular functions?\n",
    "\n",
    "   ans. i)Generators offer several advantages over regular functions, particularly when handling large datasets or streams of data:\n",
    "\n",
    "ii)Memory Efficiency: Generators yield items one at a time, reducing memory usage since they don't store the entire sequence in memory, making them ideal for large data sets.\n",
    "\n",
    "iii)Improved Performance: They can be faster than functions that return large collections, as they compute the next value only when requested, minimizing overhead.\n",
    "\n",
    "iv)Simplified Iteration: Generators simplify the creation of iterators. You can implement an iterative algorithm using yield instead of defining separate iterator classes.\n",
    "\n",
    "v)Support for Infinite Sequences: Generators can represent infinite sequences (like Fibonacci numbers) without consuming memory for all possible values.\n",
    "\n",
    "vi)State Preservation: They maintain their state between calls, allowing execution to resume from where it left off without additional complexity."
   ]
  },
  {
   "cell_type": "code",
   "execution_count": 32,
   "id": "4c9bfb60-c31f-40c5-ad05-94158814af77",
   "metadata": {},
   "outputs": [
    {
     "name": "stdout",
     "output_type": "stream",
     "text": [
      "[0, 2, 4, 6, 8]\n"
     ]
    }
   ],
   "source": [
    "# example of regular function\n",
    "def get_even_numbers(n):\n",
    "    even_numbers = []\n",
    "    for i in range(n):\n",
    "        if i % 2 == 0:\n",
    "            even_numbers.append(i)\n",
    "    return even_numbers\n",
    "even_nums = get_even_numbers(10)\n",
    "print(even_nums)"
   ]
  },
  {
   "cell_type": "code",
   "execution_count": 35,
   "id": "e355081a-d0a7-4ecb-b17f-5b22b9da8c04",
   "metadata": {},
   "outputs": [
    {
     "name": "stdout",
     "output_type": "stream",
     "text": [
      "0\n",
      "2\n",
      "4\n",
      "6\n",
      "8\n"
     ]
    }
   ],
   "source": [
    "# example of generator\n",
    "def generate_even_numbers(n):\n",
    "    for i in range(n):\n",
    "        if i % 2 == 0:\n",
    "            yield i\n",
    "\n",
    "even_nums_gen = generate_even_numbers(10)\n",
    "for num in even_nums_gen:\n",
    "    print(num)\n"
   ]
  },
  {
   "cell_type": "markdown",
   "id": "3e043b6e-8eb2-4e0d-ad06-57236c2702a9",
   "metadata": {},
   "source": [
    "8. What is a lambda function in Python and when is it typically used?\n",
    "     ans. i) A lambda function in Python is a concise way to create anonymous functions, also known as lambda\n",
    "expressions.\n",
    "ii)Unlike regular functions defined using the def keyword, lambda functions are often used for short-term\n",
    "operations and are defined in a single line.\n",
    "iii)The basic syntax of a lambda function is:   lambda arguments: expression\n",
    "\n",
    "B) uses :\n",
    "i)Short Functions: When you need a simple function for a short duration and don't want to formally define it with a name.\n",
    "\n",
    "ii)Functional Programming: Used with functions like map(), filter(), and reduce(), where a function is required as an argument.\n",
    "\n",
    "iii)Sorting and Custom Keys: Often used as a key function for sorting or custom operations.\n"
   ]
  },
  {
   "cell_type": "code",
   "execution_count": 36,
   "id": "cc99ead4-715d-4ad1-aa5c-16c00b821677",
   "metadata": {},
   "outputs": [
    {
     "name": "stdout",
     "output_type": "stream",
     "text": [
      "8\n"
     ]
    }
   ],
   "source": [
    "#example\n",
    "add = lambda x, y: x + y\n",
    "result = add(3, 5)\n",
    "print(result) "
   ]
  },
  {
   "cell_type": "markdown",
   "id": "9acffde7-8426-4419-8dca-a2f6641e0191",
   "metadata": {},
   "source": [
    "9. Explain the purpose and usage of the `map()` function in Python.\n",
    "      ans. The map() function in Python is a built-in function that applies a given function to all items\n",
    "    in an iterable (like a list, tuple, or string) and returns a map object (an iterator). This allows\n",
    "    for the transformation of data in a concise and readable manner.\n",
    "\n",
    "A) Purpose:\n",
    " I) Transform Data: The primary purpose of map() is to apply a transformation function to each item in an iterable, effectively allowing you to change or process data in a structured way.\n",
    "II)Functional Programming: It promotes a functional programming style by enabling the use of functions as first-class objects, which can be passed around and applied to data."
   ]
  },
  {
   "cell_type": "code",
   "execution_count": 37,
   "id": "c9c59f1d-84d1-4539-90b5-01740fb54252",
   "metadata": {},
   "outputs": [
    {
     "name": "stdout",
     "output_type": "stream",
     "text": [
      "[1, 4, 9, 16, 25]\n"
     ]
    }
   ],
   "source": [
    "# USAGE\n",
    "# I) Basic usage\n",
    "def square(x):\n",
    "    return x * x\n",
    "\n",
    "numbers = [1, 2, 3, 4, 5]\n",
    "squared_numbers = map(square, numbers)\n",
    "print(list(squared_numbers))  "
   ]
  },
  {
   "cell_type": "code",
   "execution_count": 38,
   "id": "495200fc-147e-4d1e-b254-7d044cc34139",
   "metadata": {},
   "outputs": [
    {
     "name": "stdout",
     "output_type": "stream",
     "text": [
      "[2, 4, 6, 8, 10]\n"
     ]
    }
   ],
   "source": [
    "# II) Using map() with a Lambda Function\n",
    "# Using map with a lambda function to double the values\n",
    "numbers = [1, 2, 3, 4, 5]\n",
    "doubled_numbers = map(lambda x: x * 2, numbers)\n",
    "print(list(doubled_numbers))  "
   ]
  },
  {
   "cell_type": "code",
   "execution_count": 39,
   "id": "9a645673-47ee-4b47-9e1c-677a1caca673",
   "metadata": {},
   "outputs": [
    {
     "name": "stdout",
     "output_type": "stream",
     "text": [
      "[5, 7, 9]\n"
     ]
    }
   ],
   "source": [
    "# III)Working with Multiple Iterables\n",
    "# Adding corresponding elements of two lists\n",
    "list1 = [1, 2, 3]\n",
    "list2 = [4, 5, 6]\n",
    "sum_lists = map(lambda x, y: x + y, list1, list2)\n",
    "print(list(sum_lists))  "
   ]
  },
  {
   "cell_type": "markdown",
   "id": "54a04b4b-05f5-444f-b4de-2d3803fb2d1c",
   "metadata": {},
   "source": [
    "10. What is the difference between `map()`, `reduce()`, and `filter()` functions in Python?\n",
    "    ans. In Python, map(), reduce(), and filter() are built-in functions used for functional\n",
    "    programming, each serving distinct purposes.\n",
    "\n",
    "   A) map():\n",
    "            i)Purpose: Applies a function to every item in an iterable and returns a new iterator with the results.\n",
    "            ii)Use Case: Ideal for transforming data.\n"
   ]
  },
  {
   "cell_type": "code",
   "execution_count": 43,
   "id": "a63c3f88-b1f1-464a-a3a6-dc4b4d2b2834",
   "metadata": {},
   "outputs": [
    {
     "name": "stdout",
     "output_type": "stream",
     "text": [
      "[1, 4, 9, 16]\n"
     ]
    }
   ],
   "source": [
    "# EXAMPLE OF MAP\n",
    "numbers = [1, 2, 3, 4]\n",
    "squared = list(map(lambda x: x ** 2, numbers)) \n",
    "print(squared)\n"
   ]
  },
  {
   "cell_type": "markdown",
   "id": "15866069-4301-414f-9e30-8a4976542665",
   "metadata": {},
   "source": [
    "B) reduce():\n",
    "            i)Purpose: Applies a binary function cumulatively to items in an iterable, reducing it to a single value.\n",
    "           ii)Use Case: Useful for aggregating data.\n"
   ]
  },
  {
   "cell_type": "code",
   "execution_count": 50,
   "id": "ff22a938-53d6-4fc1-af6d-6a74e1436ed6",
   "metadata": {},
   "outputs": [
    {
     "name": "stdout",
     "output_type": "stream",
     "text": [
      "13200\n"
     ]
    }
   ],
   "source": [
    "# EXAMPLE OF REDUCE\n",
    "from functools import reduce\n",
    "product = reduce(lambda x, y: x * y,[1, 2, 3, 4,5,110])\n",
    "print(product)"
   ]
  },
  {
   "cell_type": "markdown",
   "id": "f491ec9b-cb78-4170-b5b9-d1157a26f773",
   "metadata": {},
   "source": [
    "C) filter():\n",
    "            i)Purpose: Filters items from an iterable based on a function that returns True or False.\n",
    "            ii) Use Case: Used for selecting items that meet specific criteria.\n"
   ]
  },
  {
   "cell_type": "code",
   "execution_count": 78,
   "id": "f53796c9-ef8c-4fd9-b2e6-bb8b2ddfdefb",
   "metadata": {},
   "outputs": [
    {
     "name": "stdout",
     "output_type": "stream",
     "text": [
      "<filter object at 0x00000218B3900F40>\n"
     ]
    }
   ],
   "source": [
    "# EXAMPLE OF FILTER\n",
    "# List of numbers\n",
    "l = [1,2,3,4,5,6,7,8,9]\n",
    "even = filter(lambda x: x % 2 == 0,l)\n",
    "print(even)"
   ]
  }
 ],
 "metadata": {
  "kernelspec": {
   "display_name": "Python 3 (ipykernel)",
   "language": "python",
   "name": "python3"
  },
  "language_info": {
   "codemirror_mode": {
    "name": "ipython",
    "version": 3
   },
   "file_extension": ".py",
   "mimetype": "text/x-python",
   "name": "python",
   "nbconvert_exporter": "python",
   "pygments_lexer": "ipython3",
   "version": "3.11.4"
  }
 },
 "nbformat": 4,
 "nbformat_minor": 5
}
