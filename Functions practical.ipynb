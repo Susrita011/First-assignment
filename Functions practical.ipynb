{
 "cells": [
  {
   "cell_type": "markdown",
   "id": "70e4ee2c-2eb8-472f-ab14-dbbd8223665d",
   "metadata": {},
   "source": [
    "                                           PRACTICAL QUESTIONS"
   ]
  },
  {
   "cell_type": "markdown",
   "id": "37e60396-94c5-40cb-bb4a-f0c6b1851671",
   "metadata": {},
   "source": [
    "1) Write a Python function that takes a list of numbers as input and returns the sum of all even numbers in the list."
   ]
  },
  {
   "cell_type": "code",
   "execution_count": 1,
   "id": "6ad81af9-3b58-4d34-8e56-dd1ae5f55cae",
   "metadata": {},
   "outputs": [
    {
     "data": {
      "text/plain": [
       "110"
      ]
     },
     "execution_count": 1,
     "metadata": {},
     "output_type": "execute_result"
    }
   ],
   "source": [
    "def sum_of_even_numbers(numbers):\n",
    "  even_sum = sum(num for num in numbers if num % 2 == 0)\n",
    "  return even_sum\n",
    "numbers = [1,2,3,4,5,6,7,8,9,10,11,12,13,14,15,16,17,18,19,20]\n",
    "sum_of_even_numbers(numbers)"
   ]
  },
  {
   "cell_type": "markdown",
   "id": "3c986da5-d651-4b16-acdb-6f58aeeb8adc",
   "metadata": {},
   "source": [
    "2. Create a Python function that accepts a string and returns the reverse of that string."
   ]
  },
  {
   "cell_type": "code",
   "execution_count": 2,
   "id": "31106347-1663-45d8-90ce-1b3f86df0d5b",
   "metadata": {},
   "outputs": [
    {
     "name": "stdout",
     "output_type": "stream",
     "text": [
      "kiantap yamnat\n"
     ]
    }
   ],
   "source": [
    "def reverse_string(string):\n",
    "  return string[::-1]\n",
    "\n",
    "string = \"tanmay patnaik\"\n",
    "\n",
    "print(reverse_string(string))"
   ]
  },
  {
   "cell_type": "markdown",
   "id": "3c85a527-eeff-43f8-a44c-a3630361d9f0",
   "metadata": {},
   "source": [
    "3. Implement a Python function that takes a list of integers and returns a new list containing the squares of\n",
    "each number."
   ]
  },
  {
   "cell_type": "code",
   "execution_count": 3,
   "id": "4b4a17e6-73b3-4df1-b3c9-de926a23ac73",
   "metadata": {},
   "outputs": [
    {
     "data": {
      "text/plain": [
       "[1, 4, 9, 16, 25, 36, 49, 64, 81, 100]"
      ]
     },
     "execution_count": 3,
     "metadata": {},
     "output_type": "execute_result"
    }
   ],
   "source": [
    "def squared_numbers(numbers):\n",
    "  return [num ** 2 for num in numbers]\n",
    "numbers = [1,2,3,4,5,6,7,8,9,10]\n",
    "squared_numbers(numbers)"
   ]
  },
  {
   "cell_type": "markdown",
   "id": "427e2487-7564-4e56-9bb6-dc21190d54eb",
   "metadata": {},
   "source": [
    "4. Write a Python function that checks if a given number is prime or not from 1 to 200."
   ]
  },
  {
   "cell_type": "code",
   "execution_count": 4,
   "id": "8b084e02-930a-44d7-b628-9189ee6a49cf",
   "metadata": {},
   "outputs": [
    {
     "name": "stdout",
     "output_type": "stream",
     "text": [
      "2 is prime\n",
      "3 is prime\n",
      "5 is prime\n",
      "7 is prime\n",
      "11 is prime\n",
      "13 is prime\n",
      "17 is prime\n",
      "19 is prime\n",
      "23 is prime\n",
      "29 is prime\n",
      "31 is prime\n",
      "37 is prime\n",
      "41 is prime\n",
      "43 is prime\n",
      "47 is prime\n",
      "53 is prime\n",
      "59 is prime\n",
      "61 is prime\n",
      "67 is prime\n",
      "71 is prime\n",
      "73 is prime\n",
      "79 is prime\n",
      "83 is prime\n",
      "89 is prime\n",
      "97 is prime\n",
      "101 is prime\n",
      "103 is prime\n",
      "107 is prime\n",
      "109 is prime\n",
      "113 is prime\n",
      "127 is prime\n",
      "131 is prime\n",
      "137 is prime\n",
      "139 is prime\n",
      "149 is prime\n",
      "151 is prime\n",
      "157 is prime\n",
      "163 is prime\n",
      "167 is prime\n",
      "173 is prime\n",
      "179 is prime\n",
      "181 is prime\n",
      "191 is prime\n",
      "193 is prime\n",
      "197 is prime\n",
      "199 is prime\n"
     ]
    }
   ],
   "source": [
    "def is_prime(number):\n",
    "   \n",
    "   if number <= 1:\n",
    "    return False\n",
    "   if number <= 3:\n",
    "    return True\n",
    "   if number % 2 == 0 or number % 3 == 0:\n",
    "    return False \n",
    "\n",
    "   i = 5\n",
    "   while i * i <= number:\n",
    "    if number % i == 0 or number % (i+2) == 0:\n",
    "      return False   \n",
    "    i += 6\n",
    "\n",
    "   return True     \n",
    "\n",
    "\n",
    "for number in range(1,201):\n",
    "  if is_prime(number):\n",
    "    print(number,\"is prime\")"
   ]
  },
  {
   "cell_type": "markdown",
   "id": "007be0f6-0781-4cf2-b42b-2cc0ffdea168",
   "metadata": {},
   "source": [
    "5. Create an iterator class in Python that generates the Fibonacci sequence up to a specified number of\n",
    "terms."
   ]
  },
  {
   "cell_type": "code",
   "execution_count": 5,
   "id": "adebae72-70a3-48b0-b636-c64811abc18d",
   "metadata": {},
   "outputs": [
    {
     "name": "stdout",
     "output_type": "stream",
     "text": [
      "0\n",
      "1\n",
      "1\n",
      "2\n",
      "3\n",
      "5\n",
      "8\n",
      "13\n",
      "21\n",
      "34\n"
     ]
    }
   ],
   "source": [
    "class Fibonacci:\n",
    "    def __init__(self, max_terms):\n",
    "        self.max_terms = max_terms\n",
    "\n",
    "    def __iter__(self):\n",
    "        self.a, self.b = 0, 1\n",
    "        self.current_term = 0\n",
    "        return self\n",
    "\n",
    "    def __next__(self):\n",
    "        if self.current_term >= self.max_terms:\n",
    "            raise StopIteration\n",
    "        if self.current_term == 0:\n",
    "            self.current_term += 1\n",
    "            return self.a\n",
    "        self.a, self.b = self.b, self.a + self.b\n",
    "        self.current_term += 1\n",
    "        return self.a\n",
    "\n",
    "# Usage example:\n",
    "fibonacci_iterator = Fibonacci(10)\n",
    "for number in fibonacci_iterator:\n",
    "    print(number)\n"
   ]
  },
  {
   "cell_type": "markdown",
   "id": "a933d78f-d3ba-4371-aa56-9aeb141e4519",
   "metadata": {},
   "source": [
    "6. Write a generator function in Python that yields the powers of 2 up to a given exponent"
   ]
  },
  {
   "cell_type": "code",
   "execution_count": 6,
   "id": "58a39fdb-a9c6-4db2-a8f5-eb54066e7cee",
   "metadata": {},
   "outputs": [
    {
     "name": "stdout",
     "output_type": "stream",
     "text": [
      "1\n",
      "2\n",
      "4\n",
      "8\n",
      "16\n",
      "32\n",
      "64\n",
      "128\n",
      "256\n",
      "512\n",
      "1024\n"
     ]
    }
   ],
   "source": [
    "def powers_of_two(max_exponent):\n",
    "  for exponent in range(max_exponent):\n",
    "    yield 2 ** exponent\n",
    "\n",
    "for power in powers_of_two(11):\n",
    "  print(power)"
   ]
  },
  {
   "cell_type": "markdown",
   "id": "e83efb29-af75-4954-bbe6-16500d92502a",
   "metadata": {},
   "source": [
    "7. Implement a generator function that reads a file line by line and yields each line as a string."
   ]
  },
  {
   "cell_type": "code",
   "execution_count": 7,
   "id": "50d6d97b-7c80-4631-a91e-bf6924ccd94c",
   "metadata": {},
   "outputs": [
    {
     "name": "stdout",
     "output_type": "stream",
     "text": [
      "Futaba Yoshioka is a 16-year-old high school student who attempts to fit in with her female friends by acting \"unfeminine\", due to a history of her female classmates ostracizing her out of jealousy. As a result, she feels her life is uninteresting. One day, she reunites with Kou Tanaka, her first love who had previously moved to Nagasaki in middle school. Kou, who now uses the surname \"Mabuchi\", has become a completely different person than she knew back then, as he is now cold and indifferent. When the new school year starts, Futaba decides to make a positive change for herself and volunteers to become the class representative. She is joined by Kou and her classmates, Yuri Makita, Shuko Murao, and Aya Kominato, who all form a bond together.\n"
     ]
    }
   ],
   "source": [
    "def read_file_lines(filename):\n",
    "    with open(filename, 'r') as file:\n",
    "        for line in file:\n",
    "            yield line.strip()\n",
    "\n",
    "# Example usage:\n",
    "filename = \"C:/Users/tanma/Downloads/Futaba Yoshioka.txt\"\n",
    "for line in read_file_lines(filename):\n",
    "    print(line)"
   ]
  },
  {
   "cell_type": "markdown",
   "id": "9d36c379-2daa-4376-83c8-41a8c596d274",
   "metadata": {},
   "source": [
    "8. Use a lambda function in Python to sort a list of tuples based on the second element of each tuple"
   ]
  },
  {
   "cell_type": "code",
   "execution_count": 9,
   "id": "37ec13f9-86b1-45a4-8f24-bd7cf292462c",
   "metadata": {},
   "outputs": [
    {
     "name": "stdout",
     "output_type": "stream",
     "text": [
      "[(8, 2), (2, 3), (1, 5), (4, 7), (3, 9)]\n"
     ]
    }
   ],
   "source": [
    "tuples_list = [(2,3),(4,7),(8,2),(1,5),(3,9)]\n",
    "tuples_list.sort(key = lambda x: x[1])\n",
    "print(tuples_list)                              #(2,3,5,7,9  are the second elemenet of each tuple )"
   ]
  },
  {
   "cell_type": "markdown",
   "id": "281ecde9-5997-437e-a6d3-700ee6cbddb2",
   "metadata": {},
   "source": [
    "9. Write a Python program that uses `map()` to convert a list of temperatures from Celsius to Fahrenheit."
   ]
  },
  {
   "cell_type": "code",
   "execution_count": 10,
   "id": "2e5bff44-06d9-4a42-a7aa-079a3018bf58",
   "metadata": {},
   "outputs": [
    {
     "name": "stdout",
     "output_type": "stream",
     "text": [
      "[113.0, 77.0, 96.8]\n"
     ]
    }
   ],
   "source": [
    "def celsius_to_fahrenheit(celsius):\n",
    "  return (celsius * 9/5) + 32\n",
    "celsius_temperatures = [45,25,36]\n",
    "fahrenheit_temperatures = list(map(celsius_to_fahrenheit,celsius_temperatures))\n",
    "print(fahrenheit_temperatures)"
   ]
  },
  {
   "cell_type": "markdown",
   "id": "0a5095ae-d8b8-43c6-b67a-9de7faf1b954",
   "metadata": {},
   "source": [
    "10. Create a Python program that uses `filter()` to remove all the vowels from a given string."
   ]
  },
  {
   "cell_type": "code",
   "execution_count": 11,
   "id": "1f221415-d67b-4e22-8f90-79c9bd35705e",
   "metadata": {},
   "outputs": [
    {
     "name": "stdout",
     "output_type": "stream",
     "text": [
      "Ssrt Ptnk\n"
     ]
    }
   ],
   "source": [
    "def remove_vowels(input_string):\n",
    "    vowels = \"aeiouAEIOU\" \n",
    "    \n",
    "   \n",
    "    filtered_string = ''.join(filter(lambda char: char not in vowels, input_string))\n",
    "    \n",
    "    return filtered_string\n",
    "\n",
    "\n",
    "input_string = \"Susrita Patnaik\"\n",
    "result = remove_vowels(input_string)\n",
    "print(result) "
   ]
  },
  {
   "cell_type": "markdown",
   "id": "3cc963b1-a1f2-4f5b-a305-1627765cf70a",
   "metadata": {},
   "source": [
    "11. Write a Python program, which returns a list with 2-tuples. Each tuple consists of the order number and the\n",
    "product of the price per item and the quantity. The product should be increased by 10,- € if the value of the\n",
    "order is smaller than 100,00 €.\n",
    "\n",
    "Write a Python program using lambda and map."
   ]
  },
  {
   "cell_type": "code",
   "execution_count": null,
   "id": "91c3b7c9-e3e8-463f-af0f-773389758e45",
   "metadata": {},
   "outputs": [],
   "source": []
  }
 ],
 "metadata": {
  "kernelspec": {
   "display_name": "Python 3 (ipykernel)",
   "language": "python",
   "name": "python3"
  },
  "language_info": {
   "codemirror_mode": {
    "name": "ipython",
    "version": 3
   },
   "file_extension": ".py",
   "mimetype": "text/x-python",
   "name": "python",
   "nbconvert_exporter": "python",
   "pygments_lexer": "ipython3",
   "version": "3.11.4"
  }
 },
 "nbformat": 4,
 "nbformat_minor": 5
}
