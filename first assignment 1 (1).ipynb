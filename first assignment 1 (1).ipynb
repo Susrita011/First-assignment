{
 "cells": [
  {
   "cell_type": "markdown",
   "id": "4958afeb-d496-46db-ad64-5f53e40222f4",
   "metadata": {},
   "source": [
    "1. explain the key features of Python that make it a popular choice for programming\n",
    " \n",
    "ans .Python is a popular programming language due to its easy-to-learn, readable syntax, making it accessible for beginners and efficient for experienced developers. As an interpreted language, it supports rapid development and debugging, while its extensive standard library simplifies many common tasks. It supports a variety of programming paradigms, including imperative, functional, and object-oriented programming.All these features of Python make it the first choice of developers in the current scenario.It is widely used for various purposes, such as web development, data analysis, machine learning, and many others."
   ]
  },
  {
   "cell_type": "markdown",
   "id": "5675a911-eee7-4686-b88b-0517ccb90d96",
   "metadata": {},
   "source": [
    "2. Describe the role of predefined keywords in Python and provide examples of how they are used in a program\n",
    " \n",
    "   ans. In Python, predefined keywords are reserved words that have special meanings and cannot be used as identifiers (such as variable names or function names).They control the flow of execution, define data types, and manage various programming constructs.Keywords are case-sensitive and cannot be redefined or overridden within a Python program. "
   ]
  },
  {
   "cell_type": "code",
   "execution_count": 2,
   "id": "58174214-0bde-42a6-832c-cecfcde5965c",
   "metadata": {},
   "outputs": [
    {
     "name": "stdout",
     "output_type": "stream",
     "text": [
      "['False', 'None', 'True', 'and', 'as', 'assert', 'async', 'await', 'break', 'class', 'continue', 'def', 'del', 'elif', 'else', 'except', 'finally', 'for', 'from', 'global', 'if', 'import', 'in', 'is', 'lambda', 'nonlocal', 'not', 'or', 'pass', 'raise', 'return', 'try', 'while', 'with', 'yield']\n"
     ]
    }
   ],
   "source": [
    "# here are the all the predefined keywords\n",
    "import keyword\n",
    "print(keyword.kwlist)"
   ]
  },
  {
   "cell_type": "code",
   "execution_count": 16,
   "id": "f5c4a27e-4af9-4337-b2a1-9d3c6f261c47",
   "metadata": {},
   "outputs": [
    {
     "name": "stdout",
     "output_type": "stream",
     "text": [
      "Excellent, you have done well\n"
     ]
    }
   ],
   "source": [
    "# examples of some keywords \n",
    "marks = 65 \n",
    "if marks > 60:\n",
    "    print(\"Excellent, you have done well\")    \n",
    "else :\n",
    "    print(\"You can do better\")"
   ]
  },
  {
   "cell_type": "code",
   "execution_count": 4,
   "id": "8a2f37db-e48e-4f2a-8bda-fa01bcc26d89",
   "metadata": {},
   "outputs": [
    {
     "name": "stdout",
     "output_type": "stream",
     "text": [
      "0\n",
      "1\n",
      "2\n",
      "3\n",
      "4\n",
      "5\n",
      "6\n",
      "7\n",
      "8\n",
      "9\n"
     ]
    }
   ],
   "source": [
    "for i in range(10):\n",
    "    print(i)"
   ]
  },
  {
   "cell_type": "code",
   "execution_count": 5,
   "id": "0cec39c0-46db-4d29-9fff-e1951a573c46",
   "metadata": {},
   "outputs": [
    {
     "name": "stdout",
     "output_type": "stream",
     "text": [
      "1\n",
      "2\n",
      "3\n",
      "4\n",
      "5\n"
     ]
    }
   ],
   "source": [
    "n = 1\n",
    "while n <= 5:\n",
    "    print(n)\n",
    "    n +=1"
   ]
  },
  {
   "cell_type": "code",
   "execution_count": 6,
   "id": "7c927462-7b4c-4a1c-9882-3580e1519c65",
   "metadata": {},
   "outputs": [
    {
     "name": "stdout",
     "output_type": "stream",
     "text": [
      "True\n"
     ]
    }
   ],
   "source": [
    "is_greater = 10 > 5\n",
    "print(is_greater)"
   ]
  },
  {
   "cell_type": "code",
   "execution_count": 7,
   "id": "bd86c079-4522-412c-aa0c-6c8a0bf45803",
   "metadata": {},
   "outputs": [
    {
     "name": "stdout",
     "output_type": "stream",
     "text": [
      "False\n"
     ]
    }
   ],
   "source": [
    "is_greater = 5 > 10\n",
    "print(is_greater)"
   ]
  },
  {
   "cell_type": "code",
   "execution_count": 1,
   "id": "c6685603-bff4-43bb-a652-6fe6102f32b1",
   "metadata": {},
   "outputs": [
    {
     "name": "stdout",
     "output_type": "stream",
     "text": [
      "0\n",
      "1\n",
      "2\n",
      "3\n",
      "4\n"
     ]
    }
   ],
   "source": [
    "for i in range(10):\n",
    "    if i == 5:\n",
    "        break                \n",
    "    print(i)    \n"
   ]
  },
  {
   "cell_type": "code",
   "execution_count": 15,
   "id": "bc2bc600-0030-4eae-8b94-60e8e0354081",
   "metadata": {},
   "outputs": [
    {
     "name": "stdout",
     "output_type": "stream",
     "text": [
      "1\n",
      "2\n",
      "3\n",
      "4\n",
      "6\n",
      "7\n",
      "8\n",
      "9\n",
      "10\n"
     ]
    }
   ],
   "source": [
    "for i in range(1,11):\n",
    "    if i == 5:\n",
    "        continue\n",
    "    print(i)  "
   ]
  },
  {
   "cell_type": "code",
   "execution_count": 17,
   "id": "28082714-e6e1-4949-94a8-b71fce846800",
   "metadata": {},
   "outputs": [
    {
     "name": "stdout",
     "output_type": "stream",
     "text": [
      "True\n"
     ]
    }
   ],
   "source": [
    "both_true = (5 > 2) and (9 > 1)  \n",
    "print(both_true)"
   ]
  },
  {
   "cell_type": "code",
   "execution_count": 18,
   "id": "289dae1f-07c3-466a-9cfe-deba17f501b2",
   "metadata": {},
   "outputs": [
    {
     "name": "stdout",
     "output_type": "stream",
     "text": [
      "True\n"
     ]
    }
   ],
   "source": [
    "one_true = (5 < 2) or (9 > 1)\n",
    "print(one_true)"
   ]
  },
  {
   "cell_type": "code",
   "execution_count": 19,
   "id": "9ed1c34e-606c-429d-b5b9-cdc8eb77e6ce",
   "metadata": {},
   "outputs": [
    {
     "name": "stdout",
     "output_type": "stream",
     "text": [
      "True\n"
     ]
    }
   ],
   "source": [
    "item_in_list = 3 in [1, 2, 3, 4, 5] \n",
    "print(item_in_list)"
   ]
  },
  {
   "cell_type": "markdown",
   "id": "f2ffba31-6589-4ac9-992e-8026f29813c0",
   "metadata": {},
   "source": [
    " 3. Compare and contrast mutable and immutable objects in Python with examples\n",
    "\n",
    "ans. I) Mutable objects:\n",
    "        Mutable objects can be changed after they are created. Modifications to a mutable object will be reflected\n",
    "        in all variables that reference that object.\n",
    "        Examples of Mutable Objects: lists , dictionaries ,sets\n",
    "\n",
    "     II) Immutable Objects:\n",
    "         Immutable objects cannot be changed once they are created. If you want to modify an immutable \n",
    "         object, you need to create a new object with the updated value.\n",
    "         Examples of Immutable Objects: strings , tuples , frozen sets\n",
    "\n",
    "         \n",
    "\n",
    "     "
   ]
  },
  {
   "cell_type": "code",
   "execution_count": 29,
   "id": "51fcab9d-a559-450c-841f-329913fb6311",
   "metadata": {},
   "outputs": [
    {
     "name": "stdout",
     "output_type": "stream",
     "text": [
      "[1, 2, 3, 4]\n"
     ]
    }
   ],
   "source": [
    "# examples of mutable objects\n",
    "list1 = [1, 2, 3]\n",
    "list1.append(4)\n",
    "print(list1)  # Output: [1, 2, 3, 4]\n",
    "\n"
   ]
  },
  {
   "cell_type": "code",
   "execution_count": 28,
   "id": "106011ce-b96d-4731-ac2f-7d118f79422d",
   "metadata": {},
   "outputs": [
    {
     "name": "stdout",
     "output_type": "stream",
     "text": [
      "{'a': 1, 'b': 2, 'c': 3}\n",
      "{'a': 1, 'b': 2, 'c': 3}\n"
     ]
    }
   ],
   "source": [
    "dict1 = {'a': 1, 'b': 2}\n",
    "dict2 = dict1\n",
    "dict1['c'] = 3\n",
    "\n",
    "print(dict1)  \n",
    "print(dict2)  \n",
    "\n",
    "\n"
   ]
  },
  {
   "cell_type": "code",
   "execution_count": 27,
   "id": "6ceb7ba0-ab3d-4e09-b2a6-5a5734387955",
   "metadata": {},
   "outputs": [
    {
     "name": "stdout",
     "output_type": "stream",
     "text": [
      "[1, 25, 34, 76, 'chiki', 22.4, (7+5j)]\n"
     ]
    }
   ],
   "source": [
    "cont = [ 1,25,34,76, \"ram\",22.4, 5j+7]\n",
    "cont[4] = \"chiki\"\n",
    "print(cont)"
   ]
  },
  {
   "cell_type": "code",
   "execution_count": 31,
   "id": "f705805e-9841-4911-92bc-a21f5a973db5",
   "metadata": {},
   "outputs": [
    {
     "ename": "TypeError",
     "evalue": "can only concatenate str (not \"int\") to str",
     "output_type": "error",
     "traceback": [
      "\u001b[1;31m---------------------------------------------------------------------------\u001b[0m",
      "\u001b[1;31mTypeError\u001b[0m                                 Traceback (most recent call last)",
      "Cell \u001b[1;32mIn[31], line 3\u001b[0m\n\u001b[0;32m      1\u001b[0m \u001b[38;5;66;03m# examples of immutable objects\u001b[39;00m\n\u001b[0;32m      2\u001b[0m a \u001b[38;5;241m=\u001b[39m \u001b[38;5;124m\"\u001b[39m\u001b[38;5;124mHello\u001b[39m\u001b[38;5;124m\"\u001b[39m\n\u001b[1;32m----> 3\u001b[0m b \u001b[38;5;241m=\u001b[39m \u001b[43ma\u001b[49m\u001b[43m \u001b[49m\u001b[38;5;241;43m+\u001b[39;49m\u001b[43m \u001b[49m\u001b[38;5;241;43m7\u001b[39;49m\n\u001b[0;32m      4\u001b[0m \u001b[38;5;28mprint\u001b[39m(a)\n\u001b[0;32m      5\u001b[0m \u001b[38;5;28mprint\u001b[39m(b)\n",
      "\u001b[1;31mTypeError\u001b[0m: can only concatenate str (not \"int\") to str"
     ]
    }
   ],
   "source": [
    "# examples of immutable objects\n",
    "a = \"Hello\"\n",
    "b = a + 7\n",
    "print(a)\n",
    "print(b)   # it will throw an error "
   ]
  },
  {
   "cell_type": "code",
   "execution_count": 32,
   "id": "d1b9ad83-b7e1-400c-99aa-ddef0d2ae6ca",
   "metadata": {},
   "outputs": [
    {
     "ename": "TypeError",
     "evalue": "'str' object does not support item assignment",
     "output_type": "error",
     "traceback": [
      "\u001b[1;31m---------------------------------------------------------------------------\u001b[0m",
      "\u001b[1;31mTypeError\u001b[0m                                 Traceback (most recent call last)",
      "Cell \u001b[1;32mIn[32], line 2\u001b[0m\n\u001b[0;32m      1\u001b[0m s \u001b[38;5;241m=\u001b[39m \u001b[38;5;124m\"\u001b[39m\u001b[38;5;124msusrita\u001b[39m\u001b[38;5;124m\"\u001b[39m\n\u001b[1;32m----> 2\u001b[0m \u001b[43ms\u001b[49m\u001b[43m[\u001b[49m\u001b[38;5;241;43m1\u001b[39;49m\u001b[43m]\u001b[49m \u001b[38;5;241m=\u001b[39m a\n\u001b[0;32m      3\u001b[0m \u001b[38;5;28mprint\u001b[39m(s)\n",
      "\u001b[1;31mTypeError\u001b[0m: 'str' object does not support item assignment"
     ]
    }
   ],
   "source": [
    "s = \"susrita\"\n",
    "s[1] = a\n",
    "print(s)    # it does not support item assignment unlike lists"
   ]
  },
  {
   "cell_type": "markdown",
   "id": "2d8d7eba-a868-43aa-ab51-6fedb612c3fd",
   "metadata": {},
   "source": [
    "4. Discuss the different types of operators in Python and provide examples of how they are used.\n",
    "\n",
    " ans. types of different operators are : arithmatic operator, comparsion operator, logical operator, bitwise operator, assignment             operator, membership operator and identity operators."
   ]
  },
  {
   "cell_type": "code",
   "execution_count": 39,
   "id": "b196d367-e7fe-408c-817b-6562e76f6ce5",
   "metadata": {},
   "outputs": [
    {
     "name": "stdout",
     "output_type": "stream",
     "text": [
      "8\n",
      "2\n",
      "15\n",
      "1.6666666666666667\n",
      "1\n",
      "2\n",
      "125\n"
     ]
    }
   ],
   "source": [
    "# arithmatic operators\n",
    "a = 5\n",
    "b = 3\n",
    "print(a + b)  \n",
    "print(a - b)\n",
    "print(a * b)\n",
    "print(a / b)\n",
    "print(a // b)\n",
    "print( a % b)\n",
    "print( a ** b)\n"
   ]
  },
  {
   "cell_type": "code",
   "execution_count": 41,
   "id": "b6efabd0-7808-49a2-866f-ff905a5c4a47",
   "metadata": {},
   "outputs": [
    {
     "name": "stdout",
     "output_type": "stream",
     "text": [
      "False\n",
      "True\n",
      "False\n",
      "True\n",
      "False\n",
      "True\n"
     ]
    }
   ],
   "source": [
    "#comparsion operators\n",
    "a = 3\n",
    "b = 7\n",
    "print(a == b)  \n",
    "print(a != b)\n",
    "print(a > b)\n",
    "print(a < b)\n",
    "print(a >= b)\n",
    "print(a <= b)\n"
   ]
  },
  {
   "cell_type": "code",
   "execution_count": 47,
   "id": "e167a2b7-85a7-4a1a-bea0-2a1064aeb2a0",
   "metadata": {},
   "outputs": [
    {
     "name": "stdout",
     "output_type": "stream",
     "text": [
      "False\n",
      "True\n",
      "False\n"
     ]
    }
   ],
   "source": [
    "#logical operators\n",
    "x = True\n",
    "y = False\n",
    "print(x and y)  \n",
    "print(x or y)\n",
    "print(not x)  "
   ]
  },
  {
   "cell_type": "code",
   "execution_count": 51,
   "id": "42637274-c13d-4427-bfcb-1d721344d077",
   "metadata": {},
   "outputs": [
    {
     "name": "stdout",
     "output_type": "stream",
     "text": [
      "0b101\n",
      "0b11\n",
      "1\n",
      "7\n",
      "6\n",
      "-6\n",
      "10\n",
      "2\n"
     ]
    }
   ],
   "source": [
    "# bitwise operators\n",
    "a = 5  \n",
    "b = 3 \n",
    "print(bin(5))    #0101 in binary\n",
    "print(bin(3))     # 0011 in binary\n",
    "print(a & b)     # and operator\n",
    "print(a|b)        #or operator\n",
    "print(a ^ b)    # xor operator\n",
    "print(~a)      #  not operator\n",
    "print(a << 1)  # left shift\n",
    "print(a >> 1)  # right shift\n",
    "\n",
    "\n"
   ]
  },
  {
   "cell_type": "code",
   "execution_count": 54,
   "id": "2854e652-6c99-4156-af21-6290b411b6e3",
   "metadata": {},
   "outputs": [
    {
     "name": "stdout",
     "output_type": "stream",
     "text": [
      "True\n",
      "False\n",
      "True\n",
      "False\n"
     ]
    }
   ],
   "source": [
    "# membership operator\n",
    "a = \" hello\"\n",
    "print( \"o\" in a )    # in operator\n",
    "print ( \"p\" in a)    \n",
    "print(\"q\" not in a)   # not in operator\n",
    "print( \"e\" not in a)\n"
   ]
  },
  {
   "cell_type": "code",
   "execution_count": 55,
   "id": "f9907a74-3683-447d-b3e6-746d89f99b88",
   "metadata": {},
   "outputs": [
    {
     "name": "stdout",
     "output_type": "stream",
     "text": [
      "True\n",
      "False\n",
      "True\n"
     ]
    }
   ],
   "source": [
    "# identity operator\n",
    "x = [\"apple\", \"banana\"]\n",
    "y = [\"apple\", \"banana\"]\n",
    "z = x\n",
    "\n",
    "print(x is z)   # is operator\n",
    "print(x is y) \n",
    "print(x is not y)  # is not operator"
   ]
  },
  {
   "cell_type": "markdown",
   "id": "c2b6a7cb-15b4-493d-a427-d3505afe3794",
   "metadata": {},
   "source": [
    "5. explain the concept of type casting in Python with examples\n",
    "\n",
    "ans. conversion of one data type to another is called as type casting .\n",
    "     There are two types of type casting implicit and explicit type conversion.\n",
    "     I) implicit type conversion - where python understands the data type\n",
    "     II) explicit type conversion - where the user converts one data type to another"
   ]
  },
  {
   "cell_type": "code",
   "execution_count": 56,
   "id": "36b82c35-886a-4b0e-b9e3-35f57a473460",
   "metadata": {},
   "outputs": [
    {
     "name": "stdout",
     "output_type": "stream",
     "text": [
      "<class 'str'>\n",
      "<class 'int'>\n"
     ]
    }
   ],
   "source": [
    "# implict type conversion\n",
    "name = \"yuki\"\n",
    "age = 34\n",
    "print(type(name))\n",
    "print(type(age))"
   ]
  },
  {
   "cell_type": "code",
   "execution_count": 64,
   "id": "9106627a-fd56-4798-a0bf-9373890fce74",
   "metadata": {},
   "outputs": [
    {
     "name": "stdout",
     "output_type": "stream",
     "text": [
      "56.0\n",
      "True\n",
      "56\n"
     ]
    }
   ],
   "source": [
    "# explicit type conversion\n",
    "marks = 56\n",
    "print(float(marks))\n",
    "print(bool(marks))\n",
    "print(str(marks))"
   ]
  },
  {
   "cell_type": "markdown",
   "id": "8fc6577d-c131-4a1c-8677-98b4d0a8ae46",
   "metadata": {},
   "source": [
    "6. How do conditional statements work in Python? Illustrate with examples\n",
    "\n",
    "ans. Conditons help you to code decisions based on some predictions .Conditional statment allows computer to excute  a certain      condition only if it is true .Conditionals in Python are used to execute code based on the evaluation of one or more conditions.\n",
    "Python supports conditional statements such as if, elif (else if), and else to control the flow of execution.\n"
   ]
  },
  {
   "cell_type": "code",
   "execution_count": 71,
   "id": "745cd611-8eec-4728-a7c8-16c3720d2c9c",
   "metadata": {},
   "outputs": [
    {
     "name": "stdout",
     "output_type": "stream",
     "text": [
      "you will get a mobile phone\n",
      "thank you\n"
     ]
    }
   ],
   "source": [
    "# if conditions\n",
    "marks = 90\n",
    "if marks >= 90:\n",
    "    print(\"you will get a mobile phone\")\n",
    "\n",
    "print(\"thank you\")"
   ]
  },
  {
   "cell_type": "code",
   "execution_count": 70,
   "id": "4e6e5869-a683-45e2-8ddc-bfb1eb0ff523",
   "metadata": {},
   "outputs": [
    {
     "name": "stdout",
     "output_type": "stream",
     "text": [
      "you have to attend remedial classes\n"
     ]
    }
   ],
   "source": [
    "marks = 89\n",
    "if marks > 90:\n",
    "    print(\" you can go to  vacation\")\n",
    "\n",
    "print(\"you have to attend remedial classes\")"
   ]
  },
  {
   "cell_type": "code",
   "execution_count": 72,
   "id": "39567d94-a049-4225-81c8-787fd429e367",
   "metadata": {},
   "outputs": [
    {
     "name": "stdout",
     "output_type": "stream",
     "text": [
      "stay at home and study\n"
     ]
    }
   ],
   "source": [
    "# else statements\n",
    "marks = 87 \n",
    "if marks >= 90:\n",
    "    print(\"you will get a trip to goa\")\n",
    "\n",
    "else:\n",
    "    print(\"stay at home and study\")\n"
   ]
  },
  {
   "cell_type": "code",
   "execution_count": 75,
   "id": "c146d463-8c3c-45f4-a15b-a9d7531097d3",
   "metadata": {},
   "outputs": [
    {
     "name": "stdout",
     "output_type": "stream",
     "text": [
      "you are not eligible to vote\n"
     ]
    }
   ],
   "source": [
    "age = 16\n",
    "if age >= 18:\n",
    "    print(\"you are eligible to vote\")\n",
    "\n",
    "else:\n",
    "    print(\"you are not eligible to vote\")"
   ]
  },
  {
   "cell_type": "code",
   "execution_count": 77,
   "id": "3ff490c3-9ca8-44e7-8e94-f3e1a322e0f9",
   "metadata": {},
   "outputs": [
    {
     "name": "stdout",
     "output_type": "stream",
     "text": [
      "Grade B\n"
     ]
    }
   ],
   "source": [
    "# elif (else if statement)\n",
    "marks = 88\n",
    "if marks >= 90:\n",
    "    print(\"Grade A\")\n",
    "\n",
    "elif marks >=80 and marks < 90:\n",
    "    print(\"Grade B\")\n",
    "\n",
    "elif marks >= 70 and marks < 80:\n",
    "    print(\"Grade C\")\n",
    "\n",
    "else:\n",
    "    print(\"Grade D\")"
   ]
  },
  {
   "cell_type": "code",
   "execution_count": 81,
   "id": "aa25c466-c08a-42a1-8ba0-d7ee2e7b6284",
   "metadata": {},
   "outputs": [
    {
     "name": "stdout",
     "output_type": "stream",
     "text": [
      "no phone for a month\n"
     ]
    }
   ],
   "source": [
    "# nested if statement\n",
    "marks = 66\n",
    "if marks >= 90 :\n",
    "    print(\"you will get a new phone \")\n",
    "    if marks >= 80:\n",
    "        print(\"you can go for a trip\")\n",
    "\n",
    "else :\n",
    "    print('no phone for a month')"
   ]
  },
  {
   "cell_type": "markdown",
   "id": "1de70e6f-4059-49d3-8009-eb6c5a991c74",
   "metadata": {},
   "source": [
    " 7)  Describe the different types of loops in Python and their use cases with examples.\n",
    "\n",
    "ans. There are two types of loops : while loop and for loop.\n",
    "     I) while loop - repeatedly executes a block of code untill the condition is met.it executes till the given condition is true.\n",
    "        *Use Cases for while Loop:Executing a block of code until a condition is met,Running an infinite loop \n",
    "        (with a break condition inside),Implementing loops where the end condition depends on dynamic changes within the loop\n",
    "     II) for loop - it iterates over a sequence of elements . for loop is a range that repeats something in a given range.\n",
    "         * Use Cases for for Loop:Iterating over a collection (list, tuple, set, dictionary, string),Executing a block of \n",
    "     code a specific number of times using range(),Iterating over elements in a custom sequence or iterable object\n",
    "\n",
    "     "
   ]
  },
  {
   "cell_type": "code",
   "execution_count": 86,
   "id": "df70beba-503e-4e30-98ca-42318d9132c3",
   "metadata": {},
   "outputs": [
    {
     "name": "stdout",
     "output_type": "stream",
     "text": [
      "1\n",
      "2\n",
      "3\n",
      "4\n",
      "5\n"
     ]
    }
   ],
   "source": [
    "#while loop\n",
    "n = 1\n",
    "while n <= 5:\n",
    "    print(n)\n",
    "    n += 1"
   ]
  },
  {
   "cell_type": "code",
   "execution_count": 88,
   "id": "f02ac7ff-bc79-4989-95be-aa4212c10a89",
   "metadata": {},
   "outputs": [
    {
     "name": "stdout",
     "output_type": "stream",
     "text": [
      "0\n",
      "2\n",
      "4\n"
     ]
    }
   ],
   "source": [
    "m = 0\n",
    "while m <= 5:\n",
    "    print(m)\n",
    "    m += 2"
   ]
  },
  {
   "cell_type": "code",
   "execution_count": 90,
   "id": "a5639231-a487-4567-9a24-260a829b08f2",
   "metadata": {},
   "outputs": [
    {
     "name": "stdout",
     "output_type": "stream",
     "text": [
      "7 X 1 = 7\n",
      "7 X 2 = 14\n",
      "7 X 3 = 21\n",
      "7 X 4 = 28\n",
      "7 X 5 = 35\n",
      "7 X 6 = 42\n",
      "7 X 7 = 49\n",
      "7 X 8 = 56\n",
      "7 X 9 = 63\n",
      "7 X 10 = 70\n"
     ]
    }
   ],
   "source": [
    "a = 7\n",
    "n = 1\n",
    "while n <= 10:\n",
    "    print(a,\"X\",n,\"=\",a*n)\n",
    "    n += 1"
   ]
  },
  {
   "cell_type": "code",
   "execution_count": 91,
   "id": "e43baddd-aec3-4f4e-9ad5-d4544519e93d",
   "metadata": {},
   "outputs": [
    {
     "name": "stdout",
     "output_type": "stream",
     "text": [
      "1\n",
      "2\n",
      "3\n",
      "4\n",
      "5\n",
      "6\n",
      "7\n",
      "8\n",
      "9\n",
      "10\n"
     ]
    }
   ],
   "source": [
    "# for loop\n",
    "for i in range(1,11):\n",
    "    print(i)\n",
    "    "
   ]
  },
  {
   "cell_type": "code",
   "execution_count": 93,
   "id": "647bd4e9-d5ec-4bfd-a0af-2b99f03179eb",
   "metadata": {},
   "outputs": [
    {
     "name": "stdout",
     "output_type": "stream",
     "text": [
      "Hello World\n",
      "Hello World\n",
      "Hello World\n",
      "Hello World\n",
      "Hello World\n"
     ]
    }
   ],
   "source": [
    "for i in range(1,6):\n",
    "    print(\"Hello World\")\n",
    "    "
   ]
  },
  {
   "cell_type": "code",
   "execution_count": 94,
   "id": "a01d773b-4b6b-440c-aa7c-f5a26c9f9d07",
   "metadata": {},
   "outputs": [
    {
     "name": "stdout",
     "output_type": "stream",
     "text": [
      "6 X 1 = 6\n",
      "6 X 2 = 12\n",
      "6 X 3 = 18\n",
      "6 X 4 = 24\n",
      "6 X 5 = 30\n",
      "6 X 6 = 36\n",
      "6 X 7 = 42\n",
      "6 X 8 = 48\n",
      "6 X 9 = 54\n",
      "6 X 10 = 60\n"
     ]
    }
   ],
   "source": [
    "n = 6\n",
    "for i in range(1,11):\n",
    "    print(n,\"X\",i,\"=\",n*i)"
   ]
  },
  {
   "cell_type": "code",
   "execution_count": 96,
   "id": "82409ffe-0d5f-4b90-927a-743a989a1fab",
   "metadata": {},
   "outputs": [
    {
     "name": "stdout",
     "output_type": "stream",
     "text": [
      "24\n",
      "48\n",
      "72\n",
      "96\n"
     ]
    }
   ],
   "source": [
    "for i in range(1,101):\n",
    "    if i % 8 == 0 and i % 12 == 0:\n",
    "        print(i)"
   ]
  },
  {
   "cell_type": "code",
   "execution_count": 11,
   "id": "c3e1e00a-999f-47e5-ad79-72ff4df731a1",
   "metadata": {},
   "outputs": [
    {
     "name": "stdout",
     "output_type": "stream",
     "text": [
      "1\n",
      "2\n",
      "3\n",
      "4\n"
     ]
    }
   ],
   "source": [
    "for i in range(1,11):\n",
    "    if i == 5 or i == 7:\n",
    "        break\n",
    "    else:\n",
    "        print(i)\n",
    "        \n",
    "   \n",
    "    "
   ]
  },
  {
   "cell_type": "code",
   "execution_count": 10,
   "id": "c5b7bb2a-c94a-411f-aca0-4a896f282479",
   "metadata": {},
   "outputs": [
    {
     "name": "stdout",
     "output_type": "stream",
     "text": [
      "1\n",
      "2\n",
      "3\n",
      "4\n",
      "7\n",
      "8\n",
      "9\n",
      "10\n"
     ]
    }
   ],
   "source": [
    "for i in range(1,11):\n",
    "    if i == 5 or i ==6:\n",
    "        continue\n",
    "    else:\n",
    "        print(i)\n",
    "        "
   ]
  },
  {
   "cell_type": "code",
   "execution_count": null,
   "id": "7b03f41b-8554-4784-a9e6-7a42945de678",
   "metadata": {},
   "outputs": [],
   "source": []
  }
 ],
 "metadata": {
  "kernelspec": {
   "display_name": "Python 3 (ipykernel)",
   "language": "python",
   "name": "python3"
  },
  "language_info": {
   "codemirror_mode": {
    "name": "ipython",
    "version": 3
   },
   "file_extension": ".py",
   "mimetype": "text/x-python",
   "name": "python",
   "nbconvert_exporter": "python",
   "pygments_lexer": "ipython3",
   "version": "3.11.4"
  }
 },
 "nbformat": 4,
 "nbformat_minor": 5
}
