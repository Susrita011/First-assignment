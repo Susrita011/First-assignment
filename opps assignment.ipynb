{
 "cells": [
  {
   "cell_type": "markdown",
   "id": "9cfd32e2-dff3-4ef7-a83a-cf9c4883b86a",
   "metadata": {},
   "source": [
    "1. What are the five key concepts of Object-Oriented Programming (OOP)?\n",
    "   "
   ]
  },
  {
   "cell_type": "markdown",
   "id": "20f25263-b239-4d5b-ab08-4133328bf187",
   "metadata": {},
   "source": [
    "ans. OOP's Five Key Concepts:\n",
    "\n",
    "Encapsulation: Data and methods are bundled together within objects, ensuring data privacy.\n",
    "Inheritance: Objects can inherit properties and behaviors from other objects, promoting code reuse.\n",
    "Polymorphism: Objects can respond to the same message in different ways, making code flexible.\n",
    "Abstraction: Complex systems are simplified by focusing on essential features and hiding unnecessary details.\n",
    "Association: Relationships between objects are modeled, reflecting real-world connections."
   ]
  },
  {
   "cell_type": "markdown",
   "id": "05383577-d79b-43d1-ad11-ead1447daf55",
   "metadata": {},
   "source": [
    "2.Write a Python class for a `Car` with attributes for `make`, `model`, and `year`. Include a method to display\n",
    "the car's information."
   ]
  },
  {
   "cell_type": "code",
   "execution_count": 3,
   "id": "1c20b3fb-bcfb-4018-858c-91eb9f5ed16c",
   "metadata": {},
   "outputs": [
    {
     "name": "stdout",
     "output_type": "stream",
     "text": [
      "Make: Toyota\n",
      "Model: Camry\n",
      "Year: 2023\n"
     ]
    }
   ],
   "source": [
    "class Car:\n",
    "    def __init__(self, make, model, year):\n",
    "        self.make = make\n",
    "        self.model = model\n",
    "        self.year = year\n",
    "\n",
    "    def display_info(self):\n",
    "        print(f\"Make: {self.make}\")\n",
    "        print(f\"Model: {self.model}\")\n",
    "        print(f\"Year: {self.year}\")\n",
    "\n",
    "# Create a car object\n",
    "my_car = Car(\"Toyota\", \"Camry\", 2023)\n",
    "\n",
    "my_car.display_info()"
   ]
  },
  {
   "cell_type": "markdown",
   "id": "34229608-51d7-44dc-954d-afef4d2c2680",
   "metadata": {},
   "source": [
    "3. Explain the difference between instance methods and class methods. Provide an example of each"
   ]
  },
  {
   "cell_type": "markdown",
   "id": "b7a2e027-a110-4454-ad6a-e735574473c6",
   "metadata": {},
   "source": [
    "ans. Instance Methods:\n",
    "* Definition: Instance methods are the most common type of method in a class. They operate on an instance of the class and can access and modify the instance's attributes.\n",
    "\n",
    "* Usage: These methods are called on an instance of the class."
   ]
  },
  {
   "cell_type": "markdown",
   "id": "2f90c3e5-5a28-499b-9f51-3ab9b874034f",
   "metadata": {},
   "source": [
    "Class Methods:\n",
    "* Definition: Class methods are methods that operate on the class itself rather than on instances of the class. They can modify the class state that applies across all instances of the class.\n",
    "\n",
    "* Usage: These methods are called on the class itself and not on the instance. They are defined using the @classmethod decorator and take cls as their first parameter, which refers to the class."
   ]
  },
  {
   "cell_type": "markdown",
   "id": "69b18f1d-76db-424d-8871-2af0b4b31c17",
   "metadata": {},
   "source": [
    "Key Differences:\n",
    "\n",
    "i)Binding:\n",
    "Instance methods are bound to an instance of the class. They can access and modify the instance's attributes.\n",
    "Class methods are bound to the class itself. They can modify class-level attributes and are shared among all instances of the class.\n",
    "\n",
    "ii)First Parameter:\n",
    "Instance methods take self as the first parameter, which refers to the instance.\n",
    "Class methods take cls as the first parameter, which refers to the class.\n",
    "\n",
    "iii)Usage:\n",
    "Instance methods are used when actions need to be performed on the data contained within an instance.\n",
    "Class methods are used when an action needs to be performed on the class as a whole or when you need a factory method that returns an instance of the class."
   ]
  },
  {
   "cell_type": "code",
   "execution_count": 7,
   "id": "0d34fbd5-2437-4d7e-97f3-95da853f9fbf",
   "metadata": {},
   "outputs": [
    {
     "name": "stdout",
     "output_type": "stream",
     "text": [
      "This is an instance method. The value is 10\n"
     ]
    }
   ],
   "source": [
    "# Example of Insatance Method\n",
    "class MyClass:\n",
    "    def __init__(self, value):\n",
    "        self.value = value\n",
    "    \n",
    "    def instance_method(self):\n",
    "        print(f'This is an instance method. The value is {self.value}')\n",
    "\n",
    "\n",
    "obj = MyClass(10)\n",
    "obj.instance_method()\n"
   ]
  },
  {
   "cell_type": "code",
   "execution_count": 5,
   "id": "49698515-c790-484d-bbb8-765641acb0ce",
   "metadata": {},
   "outputs": [
    {
     "name": "stdout",
     "output_type": "stream",
     "text": [
      "This is a class method. The class variable is now 1\n",
      "This is a class method. The class variable is now 2\n"
     ]
    }
   ],
   "source": [
    "# example of Class method:\n",
    "class MyClass:\n",
    "    class_variable = 0\n",
    "\n",
    "    @classmethod\n",
    "    def class_method(cls):\n",
    "        cls.class_variable += 1\n",
    "        print(f'This is a class method. The class variable is now {cls.class_variable}')\n",
    "\n",
    "\n",
    "MyClass.class_method()\n",
    "obj = MyClass()\n",
    "obj.class_method()\n"
   ]
  },
  {
   "cell_type": "markdown",
   "id": "fd578ecf-5767-4a9a-a9e0-a823f37f05e6",
   "metadata": {},
   "source": [
    "4. How does Python implement method overloading? Give an example."
   ]
  },
  {
   "cell_type": "markdown",
   "id": "a7e29436-f049-4e0e-89cc-ebc4270d1f5e",
   "metadata": {},
   "source": [
    "ans. Python does not directly support method overloading. This means that you cannot define multiple methods with the same name within a class, even if they have different parameter types.\n",
    "\n",
    "However, Python provides a technique called duck typing that can achieve a similar effect. Duck typing is based on the principle \"if it walks like a duck and quacks like a duck, then it must be a duck.\" In other words, Python focuses on the behavior of an object rather than its explicit type."
   ]
  },
  {
   "cell_type": "code",
   "execution_count": 11,
   "id": "90883e0d-f139-4acb-a338-db18fa669a98",
   "metadata": {},
   "outputs": [
    {
     "name": "stdout",
     "output_type": "stream",
     "text": [
      "Hello!\n",
      "Hello, Alice!\n"
     ]
    }
   ],
   "source": [
    "class MyClass:\n",
    "    def greet(self, name=None):\n",
    "        if name is not None:\n",
    "            print(f\"Hello, {name}!\")\n",
    "        else:\n",
    "            print(\"Hello!\")\n",
    "\n",
    "\n",
    "obj = MyClass()\n",
    "\n",
    "obj.greet()     \n",
    "obj.greet(\"Alice\")  \n"
   ]
  },
  {
   "cell_type": "markdown",
   "id": "0943b5a0-4119-43ae-940d-fde080c50917",
   "metadata": {},
   "source": [
    "5. What are the three types of access modifiers in Python? How are they denoted?"
   ]
  },
  {
   "cell_type": "markdown",
   "id": "19ae6fbe-7348-4086-b280-c3c02be7b4ce",
   "metadata": {},
   "source": [
    "Python does not have explicit access modifiers like public, private, or protected. Instead, it uses a convention known as name mangling to indicate the intended level of privacy for attributes and methods.\n",
    "\n",
    "Here's how name mangling works:\n",
    "\n",
    "Single underscore (_): This indicates a \"protected\" attribute or method. It's a convention that suggests the member should not be accessed directly from outside the class, but it's not strictly enforced. Other classes can still access it, but it's generally considered good practice to avoid doing so.\n",
    "\n",
    "Double underscore (__): This indicates a \"private\" attribute or method. Python uses name mangling to make these members inaccessible from outside the class. When you define an attribute or method starting with double underscores, Python automatically adds the class name to the beginning of the name, making it difficult to access directly. For example, an attribute named __private_attr would be mangled to _ClassName__private_attr.\n",
    "\n",
    "No underscore: Attributes and methods without underscores are considered \"public\" and can be accessed from anywhere."
   ]
  },
  {
   "cell_type": "code",
   "execution_count": 20,
   "id": "d7d22286-4ba3-44d9-b996-9ca677f8995e",
   "metadata": {},
   "outputs": [
    {
     "name": "stdout",
     "output_type": "stream",
     "text": [
      "I am private\n",
      "This is a private method\n"
     ]
    }
   ],
   "source": [
    "class MyClass:\n",
    "    def __init__(self):\n",
    "        self.__private_var = \"I am private\"\n",
    "\n",
    "    def __private_method(self):\n",
    "        print(\"This is a private method\")\n",
    "\n",
    "    def access_private(self):\n",
    "        print(self.__private_var)      # Accessible\n",
    "        self.__private_method()        # Accessible\n",
    "\n",
    "obj = MyClass()\n",
    "obj.access_private()\n",
    "# print(obj.__private_var)      # Not accessible (would raise an AttributeError)\n",
    "# obj.__private_method()        # Not accessible (would raise an AttributeError)"
   ]
  },
  {
   "cell_type": "markdown",
   "id": "9201fa51-ac72-4d3c-977c-aa798cd6a94c",
   "metadata": {},
   "source": [
    "6. Describe the five types of inheritance in Python. Provide a simple example of multiple inheritance."
   ]
  },
  {
   "cell_type": "markdown",
   "id": "37804b01-ba21-4e07-adfa-94f6893b2cc1",
   "metadata": {},
   "source": [
    "ans. Python supports the following five types of inheritance:\n",
    "\n",
    "Single Inheritance: A class inherits from a single parent class. This is the most common type of inheritance.\n",
    "Multiple Inheritance: A class inherits from multiple parent classes. This allows a class to combine the attributes and methods of multiple parent classes.\n",
    "Multilevel Inheritance: A class inherits from another class that itself inherits from a parent class. This creates a hierarchical relationship between the classes.\n",
    "Hierarchical Inheritance: Multiple classes inherit from a single parent class. This creates a tree-like structure where multiple classes share a common parent.\n",
    "Hybrid Inheritance: A combination of multiple inheritance, multilevel inheritance, and hierarchical inheritance."
   ]
  },
  {
   "cell_type": "code",
   "execution_count": 21,
   "id": "e17e1b34-b26a-4872-8201-3f5891d42b6b",
   "metadata": {},
   "outputs": [
    {
     "name": "stdout",
     "output_type": "stream",
     "text": [
      "This is a method from Parent1\n",
      "This is a method from Parent2\n",
      "This is a child method\n"
     ]
    }
   ],
   "source": [
    "class Parent1:\n",
    "    def method_parent1(self):\n",
    "        print(\"This is a method from Parent1\")\n",
    "\n",
    "class Parent2:\n",
    "    def method_parent2(self):\n",
    "        print(\"This is a method from Parent2\")\n",
    "\n",
    "class Child(Parent1, Parent2):\n",
    "    def child_method(self):\n",
    "        print(\"This is a child method\")\n",
    "\n",
    "\n",
    "obj = Child()\n",
    "obj.method_parent1()  \n",
    "obj.method_parent2() \n",
    "obj.child_method()    \n"
   ]
  },
  {
   "cell_type": "markdown",
   "id": "5ddcd26d-852e-49a0-bf0e-4f727f6ca2d7",
   "metadata": {},
   "source": [
    "7. What is the Method Resolution Order (MRO) in Python? How can you retrieve it programmatically?"
   ]
  },
  {
   "cell_type": "markdown",
   "id": "128f4c53-dc99-42d5-a3d8-2dc443929061",
   "metadata": {},
   "source": [
    "ans. Method Resolution Order (MRO) in Python determines the order in which methods are searched for when an attribute or method is accessed on an object. This is particularly important in multiple inheritance scenarios, where a class inherits from multiple parent classes.\n",
    "                                                                                                                                                                                                                     "
   ]
  },
  {
   "cell_type": "code",
   "execution_count": 22,
   "id": "f11ed32c-78fe-471b-a926-c2f4df3b0a32",
   "metadata": {},
   "outputs": [
    {
     "name": "stdout",
     "output_type": "stream",
     "text": [
      "(<class '__main__.D'>, <class '__main__.B'>, <class '__main__.C'>, <class '__main__.A'>, <class 'object'>)\n"
     ]
    }
   ],
   "source": [
    "#Retrieving MRO Programmatically:\n",
    "class A:\n",
    "    pass\n",
    "\n",
    "class B(A):\n",
    "    pass\n",
    "\n",
    "class C(A):\n",
    "    pass\n",
    "\n",
    "class D(B, C):\n",
    "    pass\n",
    "\n",
    "print(D.__mro__)"
   ]
  },
  {
   "cell_type": "markdown",
   "id": "a26231ec-c7fb-470e-af7a-68efd14a1fb9",
   "metadata": {},
   "source": [
    "8. Create an abstract base class `Shape` with an abstract method `area()`. Then create two subclasses\n",
    "`Circle` and `Rectangle` that implement the `area()` method."
   ]
  },
  {
   "cell_type": "code",
   "execution_count": 23,
   "id": "8f211b56-0fed-42a4-abe0-52ab6fa6f773",
   "metadata": {},
   "outputs": [
    {
     "name": "stdout",
     "output_type": "stream",
     "text": [
      "Area of the circle: 78.53981633974483\n",
      "Area of the rectangle: 24\n"
     ]
    }
   ],
   "source": [
    "from abc import ABC, abstractmethod\n",
    "import math\n",
    "\n",
    "class Shape(ABC):\n",
    "    @abstractmethod\n",
    "    def area(self):\n",
    "        pass\n",
    "\n",
    "class Circle(Shape):\n",
    "    def __init__(self, radius):\n",
    "        self.radius = radius\n",
    "\n",
    "    def area(self):\n",
    "        return math.pi * (self.radius ** 2)\n",
    "\n",
    "class Rectangle(Shape):\n",
    "    def __init__(self, width, height):\n",
    "        self.width = width\n",
    "        self.height = height\n",
    "\n",
    "    def area(self):\n",
    "        return self.width * self.height\n",
    "\n",
    "# Example usage\n",
    "circle = Circle(5)\n",
    "rectangle = Rectangle(4, 6)\n",
    "\n",
    "print(f\"Area of the circle: {circle.area()}\")         # Output: Area of the circle: 78.53981633974483\n",
    "print(f\"Area of the rectangle: {rectangle.area()}\")   # Output: Area of the rectangle: 24\n"
   ]
  },
  {
   "cell_type": "markdown",
   "id": "613501fd-44dd-401a-8c20-bc6b6b13e028",
   "metadata": {},
   "source": [
    "9. Demonstrate polymorphism by creating a function that can work with different shape objects to calculate\n",
    "and print their areas."
   ]
  },
  {
   "cell_type": "code",
   "execution_count": 24,
   "id": "c5b0594f-3887-4842-93a8-fd68562bc061",
   "metadata": {},
   "outputs": [
    {
     "name": "stdout",
     "output_type": "stream",
     "text": [
      "The area is: 78.53981633974483\n",
      "The area is: 24\n"
     ]
    }
   ],
   "source": [
    "from abc import ABC, abstractmethod\n",
    "import math\n",
    "\n",
    "class Shape(ABC):\n",
    "    @abstractmethod\n",
    "    def area(self):\n",
    "        pass\n",
    "\n",
    "class Circle(Shape):\n",
    "    def __init__(self, radius):\n",
    "        self.radius = radius\n",
    "\n",
    "    def area(self):\n",
    "        return math.pi * (self.radius ** 2)\n",
    "\n",
    "class Rectangle(Shape):\n",
    "    def __init__(self, width, height):\n",
    "        self.width = width\n",
    "        self.height = height\n",
    "\n",
    "    def area(self):\n",
    "        return self.width * self.height\n",
    "\n",
    "def print_area(shape: Shape):\n",
    "    print(f\"The area is: {shape.area()}\")\n",
    "\n",
    "\n",
    "shapes = [Circle(5), Rectangle(4, 6)]\n",
    "\n",
    "for shape in shapes:\n",
    "    print_area(shape)\n"
   ]
  },
  {
   "cell_type": "markdown",
   "id": "bba965d8-a6bb-47a5-b6ae-e67b285b89a3",
   "metadata": {},
   "source": [
    "10. Implement encapsulation in a `BankAccount` class with private attributes for `balance` and\n",
    "`account_number`. Include methods for deposit, withdrawal, and balance inquiry."
   ]
  },
  {
   "cell_type": "code",
   "execution_count": 25,
   "id": "be368fb8-627c-40f8-8421-6570ab8fa66b",
   "metadata": {},
   "outputs": [
    {
     "name": "stdout",
     "output_type": "stream",
     "text": [
      "Deposited 1000. New balance: 1000\n",
      "Withdrew 500. New balance: 500\n",
      "Current balance: 500\n"
     ]
    }
   ],
   "source": [
    "class BankAccount:\n",
    "    def __init__(self, account_number):\n",
    "        self.__balance = 0\n",
    "        self.__account_number = account_number\n",
    "\n",
    "    def deposit(self, amount):\n",
    "        if amount > 0:\n",
    "            self.__balance += amount\n",
    "            print(f\"Deposited {amount}. New balance: {self.__balance}\")\n",
    "        else:\n",
    "            print(\"Invalid deposit amount.\")\n",
    "\n",
    "    def withdraw(self, amount):\n",
    "        if amount > 0 and amount <= self.__balance:\n",
    "            self.__balance -= amount\n",
    "            print(f\"Withdrew {amount}. New balance: {self.__balance}\")\n",
    "        else:\n",
    "            print(\"Insufficient funds or invalid withdrawal amount.\")\n",
    "\n",
    "    def get_balance(self):\n",
    "        return self.__balance\n",
    "\n",
    "# Create a bank account object\n",
    "my_account = BankAccount(\"1234567890\")\n",
    "\n",
    "# Deposit and withdraw money\n",
    "my_account.deposit(1000)\n",
    "my_account.withdraw(500)\n",
    "\n",
    "# Check the balance\n",
    "balance = my_account.get_balance()\n",
    "print(f\"Current balance: {balance}\")"
   ]
  },
  {
   "cell_type": "markdown",
   "id": "e0dbbf7a-e55b-4e66-a5f2-6d9c370d22bd",
   "metadata": {},
   "source": [
    "11. Write a class that overrides the `__str__` and `__add__` magic methods. What will these methods allow\n",
    "you to do?"
   ]
  },
  {
   "cell_type": "code",
   "execution_count": 26,
   "id": "3745cd43-8fa3-4cb3-9e3b-a36b73feabeb",
   "metadata": {},
   "outputs": [
    {
     "name": "stdout",
     "output_type": "stream",
     "text": [
      "Vector(2, 3)\n",
      "Vector(4, 5)\n",
      "Vector(6, 8)\n"
     ]
    }
   ],
   "source": [
    "class Vector:\n",
    "    def __init__(self, x, y):\n",
    "        self.x = x\n",
    "        self.y = y\n",
    "\n",
    "    def __str__(self):\n",
    "        return f\"Vector({self.x}, {self.y})\"\n",
    "\n",
    "    def __add__(self, other):\n",
    "        if isinstance(other, Vector):\n",
    "            return Vector(self.x + other.x, self.y + other.y)\n",
    "        return NotImplemented\n",
    "\n",
    "\n",
    "v1 = Vector(2, 3)\n",
    "v2 = Vector(4, 5)\n",
    "\n",
    "print(v1)  \n",
    "print(v2)  \n",
    "\n",
    "v3 = v1 + v2\n",
    "print(v3)  \n"
   ]
  },
  {
   "cell_type": "markdown",
   "id": "3850cb26-998b-4efc-a93e-df358c34d83b",
   "metadata": {},
   "source": [
    "12. Create a decorator that measures and prints the execution time of a function."
   ]
  },
  {
   "cell_type": "code",
   "execution_count": 27,
   "id": "9accae22-d8c3-4f0d-af64-a80081049705",
   "metadata": {},
   "outputs": [
    {
     "name": "stdout",
     "output_type": "stream",
     "text": [
      "Sleeping for 2 seconds...\n",
      "Done sleeping\n",
      "Execution time of slow_function: 2.0010 seconds\n",
      "Finished\n"
     ]
    }
   ],
   "source": [
    "import time\n",
    "from functools import wraps\n",
    "\n",
    "def timing_decorator(func):\n",
    "    @wraps(func)\n",
    "    def wrapper(*args, **kwargs):\n",
    "        start_time = time.time()\n",
    "        result = func(*args, **kwargs)\n",
    "        end_time = time.time()\n",
    "        execution_time = end_time - start_time\n",
    "        print(f\"Execution time of {func.__name__}: {execution_time:.4f} seconds\")\n",
    "        return result\n",
    "    return wrapper\n",
    "\n",
    "@timing_decorator\n",
    "def slow_function(seconds):\n",
    "    print(f\"Sleeping for {seconds} seconds...\")\n",
    "    time.sleep(seconds)\n",
    "    print(\"Done sleeping\")\n",
    "    return \"Finished\"\n",
    "\n",
    "# Example usage\n",
    "result = slow_function(2)\n",
    "print(result)\n"
   ]
  },
  {
   "cell_type": "markdown",
   "id": "40f12d99-4e98-4969-aab9-d2246932d5a9",
   "metadata": {},
   "source": [
    "13. Explain the concept of the Diamond Problem in multiple inheritance. How does Python resolve it?"
   ]
  },
  {
   "cell_type": "markdown",
   "id": "6e766d53-64c3-4fcb-ba4b-b3f448e40e43",
   "metadata": {},
   "source": [
    "ans. The Diamond Problem in multiple inheritance occurs when a class inherits from two parent classes that share a common ancestor. This creates a diamond-shaped hierarchy where the child class has multiple paths to access the methods and attributes of the common ancestor."
   ]
  },
  {
   "cell_type": "markdown",
   "id": "cdcadc87-efd8-4cff-9126-38e5e501e39f",
   "metadata": {},
   "source": [
    "Python resolves the Diamond Problem using Method Resolution Order (MRO):\n",
    "MRO is a specific algorithm that determines the order in which methods are searched for when an attribute or method is accessed on an object. In Python, the MRO is calculated using the C3 linearization algorithm, which ensures that the following rules are followed:\n",
    "\n",
    "Parent before child: A parent class's methods are searched before the child class's methods.\n",
    "Left before right: In multiple inheritance, the leftmost parent class's methods are searched before the rightmost parent class's methods.\n",
    "No repeated ancestors: A class should not appear more than once in its own MRO."
   ]
  },
  {
   "cell_type": "code",
   "execution_count": 29,
   "id": "1236858f-dcfd-471b-a326-17766f5cb452",
   "metadata": {},
   "outputs": [
    {
     "name": "stdout",
     "output_type": "stream",
     "text": [
      "Method in B\n",
      "(<class '__main__.D'>, <class '__main__.B'>, <class '__main__.C'>, <class '__main__.A'>, <class 'object'>)\n"
     ]
    }
   ],
   "source": [
    "# Example\n",
    "class A:\n",
    "    def method(self):\n",
    "        print(\"Method in A\")\n",
    "\n",
    "class B(A):\n",
    "    def method(self):\n",
    "        print(\"Method in B\")\n",
    "\n",
    "class C(A):\n",
    "    def method(self):\n",
    "        print(\"Method in C\")\n",
    "\n",
    "class D(B, C):\n",
    "    pass\n",
    "\n",
    "d = D()\n",
    "d.method()\n",
    "\n",
    "\n",
    "print(D.__mro__)\n"
   ]
  },
  {
   "cell_type": "markdown",
   "id": "e393c993-df2c-4916-9727-f9ce1ac3653a",
   "metadata": {},
   "source": [
    "14. Write a class method that keeps track of the number of instances created from a class"
   ]
  },
  {
   "cell_type": "code",
   "execution_count": 30,
   "id": "79db6b70-c7c0-4e5d-bbf7-8929245a4e62",
   "metadata": {},
   "outputs": [
    {
     "name": "stdout",
     "output_type": "stream",
     "text": [
      "Number of instances created: 3\n"
     ]
    }
   ],
   "source": [
    "class MyClass:\n",
    "    count = 0\n",
    "\n",
    "    def __init__(self):\n",
    "        MyClass.count += 1\n",
    "\n",
    "    @classmethod\n",
    "    def get_instance_count(cls):\n",
    "        return cls.count\n",
    "\n",
    "# Create multiple instances\n",
    "obj1 = MyClass()\n",
    "obj2 = MyClass()\n",
    "obj3 = MyClass()\n",
    "\n",
    "count = MyClass.get_instance_count()\n",
    "print(\"Number of instances created:\", count)"
   ]
  },
  {
   "cell_type": "markdown",
   "id": "9030e626-ee92-46cf-98a3-0967bf954f3f",
   "metadata": {},
   "source": [
    "15. Implement a static method in a class that checks if a given year is a leap year"
   ]
  },
  {
   "cell_type": "code",
   "execution_count": 31,
   "id": "1ad91ea8-6e84-4223-86ef-11a56b010162",
   "metadata": {},
   "outputs": [
    {
     "name": "stdout",
     "output_type": "stream",
     "text": [
      "True\n",
      "False\n",
      "True\n",
      "False\n"
     ]
    }
   ],
   "source": [
    "class DateUtils:\n",
    "    @staticmethod\n",
    "    def is_leap_year(year):\n",
    "        \"\"\"Check if the given year is a leap year.\"\"\"\n",
    "        if year % 4 == 0:\n",
    "            if year % 100 == 0:\n",
    "                if year % 400 == 0:\n",
    "                    return True\n",
    "                else:\n",
    "                    return False\n",
    "            else:\n",
    "                return True\n",
    "        else:\n",
    "            return False\n",
    "\n",
    "# Example usage\n",
    "print(DateUtils.is_leap_year(2000)) \n",
    "print(DateUtils.is_leap_year(1900)) \n",
    "print(DateUtils.is_leap_year(2020))  \n",
    "print(DateUtils.is_leap_year(2021))  \n"
   ]
  },
  {
   "cell_type": "code",
   "execution_count": null,
   "id": "33c6ef3a-aacc-48fc-b9cd-ea48407c0660",
   "metadata": {},
   "outputs": [],
   "source": []
  }
 ],
 "metadata": {
  "kernelspec": {
   "display_name": "Python 3 (ipykernel)",
   "language": "python",
   "name": "python3"
  },
  "language_info": {
   "codemirror_mode": {
    "name": "ipython",
    "version": 3
   },
   "file_extension": ".py",
   "mimetype": "text/x-python",
   "name": "python",
   "nbconvert_exporter": "python",
   "pygments_lexer": "ipython3",
   "version": "3.11.4"
  }
 },
 "nbformat": 4,
 "nbformat_minor": 5
}
