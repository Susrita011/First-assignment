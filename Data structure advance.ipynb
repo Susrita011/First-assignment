{
 "cells": [
  {
   "cell_type": "markdown",
   "id": "76074cb9-392b-4858-ab6e-8a7334c9c881",
   "metadata": {},
   "source": [
    "1.  Write a  code to reverse a string."
   ]
  },
  {
   "cell_type": "code",
   "execution_count": 1,
   "id": "59a6155b-4642-4342-a7a3-b171ddb7dab5",
   "metadata": {},
   "outputs": [
    {
     "name": "stdout",
     "output_type": "stream",
     "text": [
      "Original string: Hello, World!\n",
      "Reversed string: !dlroW ,olleH\n"
     ]
    }
   ],
   "source": [
    "def reverse_string(s):\n",
    "    return s[::-1]\n",
    "\n",
    "\n",
    "input_string = \"Hello, World!\"\n",
    "reversed_string = reverse_string(input_string)\n",
    "print(\"Original string:\", input_string)\n",
    "print(\"Reversed string:\", reversed_string)\n"
   ]
  },
  {
   "cell_type": "markdown",
   "id": "02c13763-1315-44fe-9fe6-8d84f27a97eb",
   "metadata": {},
   "source": [
    "2. Write a code to count the number of vowels in a string."
   ]
  },
  {
   "cell_type": "code",
   "execution_count": 2,
   "id": "8ab985c2-c21b-4895-81ea-7c7932e61c9a",
   "metadata": {},
   "outputs": [
    {
     "name": "stdout",
     "output_type": "stream",
     "text": [
      "Original string: Tanmay Patnaik\n",
      "Number of vowels: 5\n"
     ]
    }
   ],
   "source": [
    "def count_vowels(s):\n",
    "    vowels = 'aeiouAEIOU'\n",
    "    count = 0\n",
    "    for char in s:\n",
    "        if char in vowels:\n",
    "            count += 1\n",
    "    return count\n",
    "\n",
    "\n",
    "input_string = \"Tanmay Patnaik\"\n",
    "vowel_count = count_vowels(input_string)\n",
    "print(\"Original string:\", input_string)\n",
    "print(\"Number of vowels:\", vowel_count)\n"
   ]
  },
  {
   "cell_type": "markdown",
   "id": "480bab16-817a-4ebc-8d7d-a23c8fa241b9",
   "metadata": {},
   "source": [
    " 3.  Write a code to check if a given string is a palindrome or not"
   ]
  },
  {
   "cell_type": "code",
   "execution_count": 4,
   "id": "ad247de6-53c1-4155-b911-2b93e949a31c",
   "metadata": {},
   "outputs": [
    {
     "name": "stdout",
     "output_type": "stream",
     "text": [
      "Original string: racecar\n",
      "Is palindrome: True\n"
     ]
    }
   ],
   "source": [
    "def is_palindrome(s):\n",
    "    cleaned_s = ''.join(char.lower() for char in s if char.isalnum())\n",
    "    return cleaned_s == cleaned_s[::-1]\n",
    "\n",
    "input_string =  \"racecar\"\n",
    "is_palindrome_result = is_palindrome(input_string)\n",
    "print(\"Original string:\", input_string)\n",
    "print(\"Is palindrome:\", is_palindrome_result)\n"
   ]
  },
  {
   "cell_type": "markdown",
   "id": "e420d0e2-65ad-49f8-9b69-6266ad238cbc",
   "metadata": {},
   "source": [
    "4.  Write a code to check if two given strings are anagrams of each other."
   ]
  },
  {
   "cell_type": "code",
   "execution_count": 7,
   "id": "fa20c1de-67d6-4baf-abee-eb2d369a5a5b",
   "metadata": {},
   "outputs": [
    {
     "name": "stdout",
     "output_type": "stream",
     "text": [
      "True\n"
     ]
    }
   ],
   "source": [
    "def are_anagrams(string1, string2):\n",
    "   string1 = string1.lower()\n",
    "   string2 = string2.lower()\n",
    "\n",
    "   sorted_string1 = sorted(string1)\n",
    "   sorted_string2 = sorted(string2)\n",
    "   return sorted_string1 == sorted_string2\n",
    "\n",
    "string1 = \"listen\"\n",
    "string2 = \"silent\"\n",
    "are_anagrams_result = are_anagrams(string1, string2)\n",
    "print(are_anagrams_result)  "
   ]
  },
  {
   "cell_type": "markdown",
   "id": "18ee2ce3-284d-4dc1-b42c-4e07c9d64431",
   "metadata": {},
   "source": [
    "5. Write a code to find all occurrences of a given substring within another strings."
   ]
  },
  {
   "cell_type": "code",
   "execution_count": 9,
   "id": "42ee280d-4d3a-46ef-8b81-db3afab740c8",
   "metadata": {},
   "outputs": [
    {
     "name": "stdout",
     "output_type": "stream",
     "text": [
      "[0, 13]\n"
     ]
    }
   ],
   "source": [
    "def find_substring_occurrences(string, substring):\n",
    "\n",
    "\n",
    "  occurrences = []\n",
    "  index = 0\n",
    "  while True:\n",
    "    index = string.find(substring, index)\n",
    "    if index == -1:\n",
    "      break\n",
    "    occurrences.append(index)\n",
    "    index += 1\n",
    "  return occurrences\n",
    "\n",
    "\n",
    "string_to_search = \"hello world, hello again\"\n",
    "substring_to_find = \"hello\"\n",
    "occurrences = find_substring_occurrences(string_to_search, substring_to_find)\n",
    "print(occurrences)  "
   ]
  },
  {
   "cell_type": "markdown",
   "id": "78e69559-9f4d-417d-8a3a-991d7cc19d6a",
   "metadata": {},
   "source": [
    "6. Write a code to perform basic string compression using the counts of repeated characters"
   ]
  },
  {
   "cell_type": "code",
   "execution_count": 10,
   "id": "50963cd0-6b6e-4a08-9842-a611dcb72acc",
   "metadata": {},
   "outputs": [
    {
     "name": "stdout",
     "output_type": "stream",
     "text": [
      "a2b1c5a3\n"
     ]
    }
   ],
   "source": [
    "def compress_string(string):\n",
    "  \n",
    "\n",
    "  compressed_string = \"\"\n",
    "  count = 1\n",
    "  for i in range(1, len(string)):\n",
    "    if string[i] == string[i-1]:\n",
    "      count += 1\n",
    "    else:\n",
    "      compressed_string += string[i-1] + str(count)\n",
    "      count = 1\n",
    "  compressed_string += string[-1] + str(count)\n",
    "  return compressed_string\n",
    "\n",
    "\n",
    "string_to_compress = \"aabcccccaaa\"\n",
    "compressed_string = compress_string(string_to_compress)\n",
    "print(compressed_string)  "
   ]
  },
  {
   "cell_type": "markdown",
   "id": "735a7fef-a750-44d2-92a1-6410f291ffdb",
   "metadata": {},
   "source": [
    "7. Write a code to determine if a string has all unique characters."
   ]
  },
  {
   "cell_type": "code",
   "execution_count": 66,
   "id": "991345d6-dd01-44e2-be5e-ee2d608e656a",
   "metadata": {},
   "outputs": [
    {
     "name": "stdout",
     "output_type": "stream",
     "text": [
      "False\n"
     ]
    }
   ],
   "source": [
    "def has_unique_characters(string):\n",
    "  unique_chars = set()\n",
    "  for char in string:\n",
    "    if char in unique_chars:\n",
    "      return False  \n",
    "    unique_chars.add(char)\n",
    "  return True  \n",
    "\n",
    "string_to_check = \"hello\"\n",
    "has_unique_result = has_unique_characters(string_to_check)\n",
    "print(has_unique_result) "
   ]
  },
  {
   "cell_type": "markdown",
   "id": "a8f9f403-e6a0-4da8-9c3c-35d7e5a98fc5",
   "metadata": {},
   "source": [
    "8. Write a code to convert a given string to uppercase or lowercase."
   ]
  },
  {
   "cell_type": "code",
   "execution_count": 13,
   "id": "7ca85155-00b0-40a4-a68d-6086ab83a6ee",
   "metadata": {},
   "outputs": [
    {
     "name": "stdout",
     "output_type": "stream",
     "text": [
      "Original string: Susrita Patnaik\n",
      "Uppercase string: SUSRITA PATNAIK\n",
      "Lowercase string: susrita patnaik\n"
     ]
    }
   ],
   "source": [
    "def to_uppercase(s):\n",
    "    return s.upper()\n",
    "\n",
    "def to_lowercase(s):\n",
    "    return s.lower()\n",
    "\n",
    "input_string = \"Susrita Patnaik\"\n",
    "uppercase_string = to_uppercase(input_string)\n",
    "lowercase_string = to_lowercase(input_string)\n",
    "print(f\"Original string: {input_string}\")\n",
    "print(f\"Uppercase string: {uppercase_string}\")\n",
    "print(f\"Lowercase string: {lowercase_string}\")\n"
   ]
  },
  {
   "cell_type": "markdown",
   "id": "7e819294-3b9a-414f-86c4-90bdcc63d7b5",
   "metadata": {},
   "source": [
    " 9. Write a code to count the number of words in a string."
   ]
  },
  {
   "cell_type": "code",
   "execution_count": 17,
   "id": "e14b802e-9ecb-459a-8d62-4b235ea54a16",
   "metadata": {},
   "outputs": [
    {
     "name": "stdout",
     "output_type": "stream",
     "text": [
      "7\n"
     ]
    }
   ],
   "source": [
    "def count_words(string):\n",
    "  words = string.split()\n",
    "  return len(words)\n",
    "\n",
    "string_to_analyze = \"Hello, world! This is my first coding\"\n",
    "word_count = count_words(string_to_analyze)\n",
    "print(word_count)  "
   ]
  },
  {
   "cell_type": "markdown",
   "id": "462d0aa0-d1de-4907-82df-00ce74ec6236",
   "metadata": {},
   "source": [
    "10. Write a code to concatenate two strings without using the + operator."
   ]
  },
  {
   "cell_type": "code",
   "execution_count": 16,
   "id": "371e85fe-9fe4-4936-a30e-50bc10879a9d",
   "metadata": {},
   "outputs": [
    {
     "name": "stdout",
     "output_type": "stream",
     "text": [
      "Concatenated string: YashiokaFutaba\n"
     ]
    }
   ],
   "source": [
    "def concatenate_strings(str1, str2):\n",
    "    return ''.join([str1, str2])\n",
    "\n",
    "string1 = \"Yashioka\"\n",
    "string2 = \"Futaba\"\n",
    "concatenated_string = concatenate_strings(string1, string2)\n",
    "print(f\"Concatenated string: {concatenated_string}\")\n"
   ]
  },
  {
   "cell_type": "markdown",
   "id": "4ab440a6-38d9-421c-8054-c45a0f5876da",
   "metadata": {},
   "source": [
    "11. Write a code to remove all occurrences of a specific element from a list. "
   ]
  },
  {
   "cell_type": "code",
   "execution_count": 18,
   "id": "5642d207-4dd5-4fd3-a9e3-b9707c8c6706",
   "metadata": {},
   "outputs": [
    {
     "name": "stdout",
     "output_type": "stream",
     "text": [
      "[1, 3, 4]\n"
     ]
    }
   ],
   "source": [
    "def remove_all_occurrences(lst, element):\n",
    "\n",
    "\n",
    "  while element in lst:\n",
    "    lst.remove(element)\n",
    "  return lst\n",
    "\n",
    "my_list = [1, 2, 3, 2, 4, 2]\n",
    "element_to_remove = 2\n",
    "modified_list = remove_all_occurrences(my_list, element_to_remove)\n",
    "print(modified_list)  # Output: [1, 3, 4]"
   ]
  },
  {
   "cell_type": "markdown",
   "id": "d9b796c4-c083-40c1-ae34-0632cac24628",
   "metadata": {},
   "source": [
    "12. Implement a code to find the second largest number in a given list of integers."
   ]
  },
  {
   "cell_type": "code",
   "execution_count": 20,
   "id": "d40de5fe-7904-46b0-bdba-3a38921ade92",
   "metadata": {},
   "outputs": [
    {
     "name": "stdout",
     "output_type": "stream",
     "text": [
      "7\n"
     ]
    }
   ],
   "source": [
    "def find_second_largest(numbers):\n",
    "  \n",
    "\n",
    "  if len(numbers) < 2:\n",
    "    return None\n",
    "\n",
    "  largest = numbers[0]\n",
    "  second_largest = numbers[1]\n",
    "\n",
    "  for num in numbers:\n",
    "    if num > largest:\n",
    "      second_largest = largest\n",
    "      largest = num\n",
    "    elif num > second_largest and num != largest:\n",
    "      second_largest = num\n",
    "\n",
    "  return second_largest\n",
    "\n",
    "\n",
    "numbers = [5, 2, 9, 1, 7]\n",
    "second_largest_number = find_second_largest(numbers)\n",
    "print(second_largest_number) "
   ]
  },
  {
   "cell_type": "markdown",
   "id": "4df87f65-1eb4-480c-8ea4-6fbb18e28bc8",
   "metadata": {},
   "source": [
    "13. Create a code to count the ocurrences of each element in a list and return a dictionary with elements as keys\n",
    " and their counts of values."
   ]
  },
  {
   "cell_type": "code",
   "execution_count": 21,
   "id": "9be9d7f1-59d5-4113-a71f-ba471b82a714",
   "metadata": {},
   "outputs": [
    {
     "name": "stdout",
     "output_type": "stream",
     "text": [
      "Occurrences of each element: {1: 2, 2: 3, 3: 2, 4: 1, 5: 1}\n"
     ]
    }
   ],
   "source": [
    "def count_occurrences(lst):\n",
    "    occurrence_dict = {}\n",
    "    for item in lst:\n",
    "        if item in occurrence_dict:\n",
    "            occurrence_dict[item] += 1\n",
    "        else:\n",
    "            occurrence_dict[item] = 1\n",
    "            \n",
    "    return occurrence_dict\n",
    "\n",
    "\n",
    "input_list = [1, 2, 2, 3, 1, 4, 3, 2, 5]\n",
    "occurrences = count_occurrences(input_list)\n",
    "print(\"Occurrences of each element:\", occurrences)\n"
   ]
  },
  {
   "cell_type": "markdown",
   "id": "267cf4fe-6cb6-4531-a8aa-6cdbdfd952ff",
   "metadata": {},
   "source": [
    "14.  Write a code to reverse a list in-place without using an built-in reverse functions"
   ]
  },
  {
   "cell_type": "code",
   "execution_count": 22,
   "id": "695f91cf-821f-49f8-94ce-d5d4e8acd629",
   "metadata": {},
   "outputs": [
    {
     "name": "stdout",
     "output_type": "stream",
     "text": [
      "Reversed list: [5, 4, 3, 2, 1]\n"
     ]
    }
   ],
   "source": [
    "def reverse_list_in_place(lst):\n",
    "    left = 0\n",
    "    right = len(lst) - 1\n",
    "    while left < right:\n",
    "        lst[left], lst[right] = lst[right], lst[left]\n",
    "        left += 1\n",
    "        right -= 1\n",
    "\n",
    "input_list = [1, 2, 3, 4, 5]\n",
    "reverse_list_in_place(input_list)\n",
    "print(\"Reversed list:\", input_list)\n"
   ]
  },
  {
   "cell_type": "markdown",
   "id": "4f065813-2014-4209-82e6-aa992b58557f",
   "metadata": {},
   "source": [
    "15. Implement a code to find and remove duplicates from a list while preserving the original order of\n",
    "elements."
   ]
  },
  {
   "cell_type": "code",
   "execution_count": 23,
   "id": "137255c3-9783-4b13-9945-8be88d94197c",
   "metadata": {},
   "outputs": [
    {
     "name": "stdout",
     "output_type": "stream",
     "text": [
      "Original list: [1, 2, 3, 2, 1, 4, 5, 3, 6]\n",
      "List after removing duplicates: [1, 2, 3, 4, 5, 6]\n"
     ]
    }
   ],
   "source": [
    "def remove_duplicates(original_list):\n",
    "    seen = set()\n",
    "    result = []\n",
    "    \n",
    "    for item in original_list:\n",
    "        if item not in seen:\n",
    "            seen.add(item)\n",
    "            result.append(item)\n",
    "    \n",
    "    return result\n",
    "\n",
    "input_list = [1, 2, 3, 2, 1, 4, 5, 3, 6]\n",
    "unique_list = remove_duplicates(input_list)\n",
    "print(\"Original list:\", input_list)\n",
    "print(\"List after removing duplicates:\", unique_list)\n"
   ]
  },
  {
   "cell_type": "markdown",
   "id": "6746d991-e39a-45da-bddc-633f017bfa85",
   "metadata": {},
   "source": [
    "16. Create a code to check if a given list is sorted (either in ascending or descending order) or not."
   ]
  },
  {
   "cell_type": "code",
   "execution_count": 25,
   "id": "4841de4d-84f2-4c42-b73d-ec2166d50b1c",
   "metadata": {},
   "outputs": [
    {
     "name": "stdout",
     "output_type": "stream",
     "text": [
      "True\n",
      "True\n",
      "False\n"
     ]
    }
   ],
   "source": [
    "def is_sorted(lst):\n",
    "  if all(lst[i] <= lst[i+1] for i in range(len(lst)-1)):\n",
    "    return True\n",
    "  if all(lst[i] >= lst[i+1] for i in range(len(lst)-1)):\n",
    "    return True\n",
    "\n",
    "  return False\n",
    "      \n",
    "ascending_list = [1, 2, 3, 4, 5]\n",
    "descending_list = [5, 4, 3, 2, 1]\n",
    "unsorted_list = [2, 5, 1, 3, 4]\n",
    "\n",
    "print(is_sorted(ascending_list))  \n",
    "print(is_sorted(descending_list))  \n",
    "print(is_sorted(unsorted_list))  "
   ]
  },
  {
   "cell_type": "markdown",
   "id": "f5c809ea-79d8-411e-b692-c74313c78df2",
   "metadata": {},
   "source": [
    "17. Write a code to merge two sorted lists into a single sorted list."
   ]
  },
  {
   "cell_type": "code",
   "execution_count": 26,
   "id": "50ff905c-c4f8-4992-b498-d7703db37500",
   "metadata": {},
   "outputs": [
    {
     "name": "stdout",
     "output_type": "stream",
     "text": [
      "Merged sorted list: [1, 2, 3, 4, 5, 6, 7, 8]\n"
     ]
    }
   ],
   "source": [
    "def merge_sorted_lists(list1, list2):\n",
    "    merged_list = []\n",
    "    i, j = 0, 0 \n",
    "\n",
    "   \n",
    "    while i < len(list1) and j < len(list2):\n",
    "        if list1[i] < list2[j]:\n",
    "            merged_list.append(list1[i])\n",
    "            i += 1\n",
    "        else:\n",
    "            merged_list.append(list2[j])\n",
    "            j += 1\n",
    "\n",
    "   \n",
    "    while i < len(list1):\n",
    "        merged_list.append(list1[i])\n",
    "        i += 1\n",
    "\n",
    "   \n",
    "    while j < len(list2):\n",
    "        merged_list.append(list2[j])\n",
    "        j += 1\n",
    "\n",
    "    return merged_list\n",
    "\n",
    "\n",
    "sorted_list1 = [1, 3, 5, 7]\n",
    "sorted_list2 = [2, 4, 6, 8]\n",
    "merged_sorted_list = merge_sorted_lists(sorted_list1, sorted_list2)\n",
    "print(\"Merged sorted list:\", merged_sorted_list)\n"
   ]
  },
  {
   "cell_type": "markdown",
   "id": "aa5b7669-9124-4a7a-b22c-ce3fd8f7f2be",
   "metadata": {},
   "source": [
    "18. Implement a code to find the intersection of two given lists"
   ]
  },
  {
   "cell_type": "code",
   "execution_count": 27,
   "id": "35906616-e1ab-4b13-a6e9-106f182025e2",
   "metadata": {},
   "outputs": [
    {
     "name": "stdout",
     "output_type": "stream",
     "text": [
      "Intersection of the two lists: [4, 5]\n"
     ]
    }
   ],
   "source": [
    "def intersection(list1, list2):\n",
    "    \n",
    "    set1 = set(list1)\n",
    "    \n",
    "    intersected = {item for item in list2 if item in set1}\n",
    "    return list(intersected)  \n",
    "\n",
    "list1 = [1, 2, 3, 4, 5]\n",
    "list2 = [4, 5, 6, 7, 8]\n",
    "intersected_list = intersection(list1, list2)\n",
    "print(\"Intersection of the two lists:\", intersected_list)\n"
   ]
  },
  {
   "cell_type": "markdown",
   "id": "d0ac5568-29e0-4a38-8929-2b32cfa3109c",
   "metadata": {},
   "source": [
    "19.  Create a code to find the union of two lists without duplicates."
   ]
  },
  {
   "cell_type": "code",
   "execution_count": 67,
   "id": "e2682ae6-e91c-4af4-9010-25c9d3ffd881",
   "metadata": {},
   "outputs": [
    {
     "name": "stdout",
     "output_type": "stream",
     "text": [
      "Union of the two lists: [1, 2, 3, 4, 5, 6, 7, 8]\n"
     ]
    }
   ],
   "source": [
    "def union(list1, list2):\n",
    "    return list(set(list1) | set(list2))\n",
    "\n",
    "list1 = [1, 2, 3, 4, 5]\n",
    "list2 = [4, 5, 6, 7, 8]\n",
    "union_list = union(list1, list2)\n",
    "print(\"Union of the two lists:\", union_list)\n"
   ]
  },
  {
   "cell_type": "markdown",
   "id": "8c41bbf8-d71e-4187-8047-d80be45b5a34",
   "metadata": {},
   "source": [
    "20.  Write a code to shuffle a given list randomly without using a built-in suffle functions."
   ]
  },
  {
   "cell_type": "code",
   "execution_count": 32,
   "id": "3a7d0e31-9b09-4003-aa68-33deb30dfe04",
   "metadata": {},
   "outputs": [
    {
     "name": "stdout",
     "output_type": "stream",
     "text": [
      "[5, 2, 3, 1, 4]\n"
     ]
    }
   ],
   "source": [
    "import random\n",
    "\n",
    "def shuffle_list(lst):\n",
    "  for i in range(len(lst)):\n",
    "    j = random.randint(i, len(lst) - 1)\n",
    "    lst[i], lst[j] = lst[j], lst[i]\n",
    "\n",
    "my_list = [1, 2, 3, 4, 5]\n",
    "shuffle_list(my_list)\n",
    "print(my_list)  "
   ]
  },
  {
   "cell_type": "markdown",
   "id": "1a99a131-59fc-4e43-9de4-6845a16fe2c3",
   "metadata": {},
   "source": [
    "21.  Write a code that takes two tuples as input and returns a new tuple containing elements that are common to both input tuples."
   ]
  },
  {
   "cell_type": "code",
   "execution_count": 33,
   "id": "7ee22b3e-6f99-4733-9d73-b259556e9080",
   "metadata": {},
   "outputs": [
    {
     "name": "stdout",
     "output_type": "stream",
     "text": [
      "(3, 4, 5)\n"
     ]
    }
   ],
   "source": [
    "def find_common_elements(tuple1, tuple2):\n",
    "  set1 = set(tuple1)\n",
    "  set2 = set(tuple2)\n",
    "  common_elements = set1.intersection(set2)\n",
    "  return tuple(common_elements)\n",
    "\n",
    "\n",
    "tuple1 = (1, 2, 3, 4, 5)\n",
    "tuple2 = (3, 4, 5, 6, 7)\n",
    "common_elements = find_common_elements(tuple1, tuple2)\n",
    "print(common_elements)  "
   ]
  },
  {
   "cell_type": "markdown",
   "id": "0850827d-e0c8-42b9-b17c-70406af682ab",
   "metadata": {},
   "source": [
    "22. Create a code that prompts the user to enter two sets of integers separated by commas. Then, print the\n",
    "intersection of these two sets. "
   ]
  },
  {
   "cell_type": "code",
   "execution_count": 37,
   "id": "78591f58-9f37-4b4e-a346-0cbcfdc46eee",
   "metadata": {},
   "outputs": [
    {
     "name": "stdin",
     "output_type": "stream",
     "text": [
      "Enter the first set of integers (separated by commas):  1,2,3,4,5,6,7,8\n",
      "Enter the second set of integers (separated by commas):  1,2,8,9,10,11,12\n"
     ]
    },
    {
     "name": "stdout",
     "output_type": "stream",
     "text": [
      "Intersection of the two sets: {8, 1, 2}\n"
     ]
    }
   ],
   "source": [
    "def get_set_from_input(prompt):\n",
    "    user_input = input(prompt)\n",
    "    return set(int(num.strip()) for num in user_input.split(','))\n",
    "\n",
    "set1 = get_set_from_input(\"Enter the first set of integers (separated by commas): \")\n",
    "set2 = get_set_from_input(\"Enter the second set of integers (separated by commas): \")\n",
    "intersection = set1 & set2\n",
    "\n",
    "\n",
    "print(\"Intersection of the two sets:\", intersection)\n"
   ]
  },
  {
   "cell_type": "markdown",
   "id": "83de6922-b633-4c9a-8eb9-ec5a8db67f52",
   "metadata": {},
   "source": [
    "23. Write a code to concatenate two tuples. The function should take two tuples as input and return a new\n",
    "tuple containing elements from both input tuples."
   ]
  },
  {
   "cell_type": "code",
   "execution_count": 38,
   "id": "3dc9946b-fb53-41c5-bd85-81299048e1f1",
   "metadata": {},
   "outputs": [
    {
     "name": "stdout",
     "output_type": "stream",
     "text": [
      "(1, 2, 3, 4, 5, 6)\n"
     ]
    }
   ],
   "source": [
    "def concatenate_tuples(tuple1, tuple2):\n",
    "  return tuple(tuple1) + tuple(tuple2)\n",
    "tuple1 = (1, 2, 3)\n",
    "tuple2 = (4, 5, 6)\n",
    "concatenated_tuple = concatenate_tuples(tuple1, tuple2)\n",
    "\n",
    "print(concatenated_tuple)  "
   ]
  },
  {
   "cell_type": "markdown",
   "id": "f8120197-8b22-4c01-ad4d-4297fba248ea",
   "metadata": {},
   "source": [
    "24. Develop a code that prompts the user to input two sets of strings. Then print the elements that are present in the first set but not in the second set."
   ]
  },
  {
   "cell_type": "code",
   "execution_count": 39,
   "id": "d25e66db-58bd-46c4-b5be-81d18a5511c1",
   "metadata": {},
   "outputs": [
    {
     "name": "stdin",
     "output_type": "stream",
     "text": [
      "Enter the first set of strings (separated by commas):  apple,banana,cherry,date\n",
      "Enter the second set of strings (separated by commas):  banana,date,orange\n"
     ]
    },
    {
     "name": "stdout",
     "output_type": "stream",
     "text": [
      "Elements in the first set but not in the second set: {'apple', 'cherry'}\n"
     ]
    }
   ],
   "source": [
    "def get_set_from_input(prompt):\n",
    "    user_input = input(prompt)\n",
    "    return set(string.strip() for string in user_input.split(','))\n",
    "\n",
    "set1 = get_set_from_input(\"Enter the first set of strings (separated by commas): \")\n",
    "set2 = get_set_from_input(\"Enter the second set of strings (separated by commas): \")\n",
    "difference = set1 - set2\n",
    "\n",
    "print(\"Elements in the first set but not in the second set:\", difference)\n"
   ]
  },
  {
   "cell_type": "markdown",
   "id": "06b01273-c879-47b5-a0d9-0251602b8b9b",
   "metadata": {},
   "source": [
    "25. Create a code that takes a tuple and two integers as input. The function should return a new tuple\n",
    "containing elements from the original tuple within the specified range of indices."
   ]
  },
  {
   "cell_type": "code",
   "execution_count": 42,
   "id": "9c59f48d-d1f1-48be-af19-6a50afb24656",
   "metadata": {},
   "outputs": [
    {
     "name": "stdout",
     "output_type": "stream",
     "text": [
      "(2, 3, 4)\n"
     ]
    }
   ],
   "source": [
    "def slice_tuple(tuple_input, start_index, end_index):\n",
    "  return tuple_input[start_index:end_index]\n",
    "\n",
    "my_tuple = (1, 2, 3, 4, 5)\n",
    "start_index = 1\n",
    "end_index = 4\n",
    "sliced_tuple = slice_tuple(my_tuple, start_index, end_index)\n",
    "print(sliced_tuple)  "
   ]
  },
  {
   "cell_type": "markdown",
   "id": "ab1d3f89-9b7e-412c-9c6a-995bfb0101ce",
   "metadata": {},
   "source": [
    "26. Write a code that prompts the user to input two sets of characters. Then print the union of these two sets."
   ]
  },
  {
   "cell_type": "code",
   "execution_count": 68,
   "id": "d7c385ad-00a7-46df-961f-ffadfc6f62a2",
   "metadata": {},
   "outputs": [
    {
     "name": "stdin",
     "output_type": "stream",
     "text": [
      "Enter the first set of characters (separated by spaces):  a b c\n",
      "Enter the second set of characters (separated by spaces):  b c d e\n"
     ]
    },
    {
     "name": "stdout",
     "output_type": "stream",
     "text": [
      "Union of the two sets: {'d', 'c', 'e', 'b', 'a'}\n"
     ]
    }
   ],
   "source": [
    "set1_input = input(\"Enter the first set of characters (separated by spaces): \")\n",
    "set1 = set(set1_input.split())  \n",
    "\n",
    "set2_input = input(\"Enter the second set of characters (separated by spaces): \")\n",
    "set2 = set(set2_input.split()) \n",
    "\n",
    "union_set = set1 | set2  \n",
    "print(\"Union of the two sets:\", union_set)\n"
   ]
  },
  {
   "cell_type": "markdown",
   "id": "745f889d-0d41-47c8-b987-c9cc75fbd0e7",
   "metadata": {},
   "source": [
    "27. Develop a code that takes a tuple of integers as input. The function should return the maximum and minimum values from the tuple using tuple unpacking"
   ]
  },
  {
   "cell_type": "code",
   "execution_count": 50,
   "id": "aa0ead25-c39c-4de9-bbe9-67af02f04fa2",
   "metadata": {},
   "outputs": [
    {
     "name": "stdout",
     "output_type": "stream",
     "text": [
      "Maximum value: 9\n",
      "Minimum value: 1\n"
     ]
    }
   ],
   "source": [
    "def find_max_min(numbers):\n",
    "    max_value = max(numbers)\n",
    "    min_value = min(numbers)\n",
    "    return max_value, min_value  \n",
    "\n",
    "input_tuple = (3, 1, 4, 1, 5, 9, 2)\n",
    "max_value, min_value = find_max_min(input_tuple)  \n",
    "print(\"Maximum value:\", max_value)\n",
    "print(\"Minimum value:\", min_value)\n"
   ]
  },
  {
   "cell_type": "markdown",
   "id": "189339e2-695c-44c8-97b5-5177e375e879",
   "metadata": {},
   "source": [
    "28. Create a code that defines two sets of integers. Then print the union intersection and difference of these\n",
    "two sets."
   ]
  },
  {
   "cell_type": "code",
   "execution_count": 51,
   "id": "96317f7d-32a8-468a-9539-4248fdab9b24",
   "metadata": {},
   "outputs": [
    {
     "name": "stdout",
     "output_type": "stream",
     "text": [
      "Set 1: {1, 2, 3, 4, 5}\n",
      "Set 2: {4, 5, 6, 7, 8}\n",
      "Union of set1 and set2: {1, 2, 3, 4, 5, 6, 7, 8}\n",
      "Intersection of set1 and set2: {4, 5}\n",
      "Difference of set1 and set2 (set1 - set2): {1, 2, 3}\n"
     ]
    }
   ],
   "source": [
    "set1 = {1, 2, 3, 4, 5}\n",
    "set2 = {4, 5, 6, 7, 8}\n",
    "\n",
    "union_set = set1 | set2  # Union\n",
    "intersection_set = set1 & set2  # Intersection\n",
    "difference_set = set1 - set2  # Difference (elements in set1 not in set2)\n",
    "\n",
    "\n",
    "print(\"Set 1:\", set1)\n",
    "print(\"Set 2:\", set2)\n",
    "print(\"Union of set1 and set2:\", union_set)\n",
    "print(\"Intersection of set1 and set2:\", intersection_set)\n",
    "print(\"Difference of set1 and set2 (set1 - set2):\", difference_set)\n"
   ]
  },
  {
   "cell_type": "markdown",
   "id": "675a69d4-0a8c-41ef-b398-1265d1632df3",
   "metadata": {},
   "source": [
    "29. Write a code that takes a tuple and an element as input. The function should return the count of occurrences of the given element in the tuple."
   ]
  },
  {
   "cell_type": "code",
   "execution_count": 53,
   "id": "50aec913-4993-4017-a830-1099f357293b",
   "metadata": {},
   "outputs": [
    {
     "name": "stdout",
     "output_type": "stream",
     "text": [
      "3\n"
     ]
    }
   ],
   "source": [
    "def count_occurrences(tuple_input, element):\n",
    "  \n",
    "  count = 0\n",
    "  for item in tuple_input:\n",
    "    if item == element:\n",
    "      count += 1\n",
    "  return count\n",
    "\n",
    "\n",
    "my_tuple = (1, 2, 3, 2, 4, 2)\n",
    "element_to_count = 2\n",
    "occurrences = count_occurrences(my_tuple, element_to_count)\n",
    "print(occurrences) "
   ]
  },
  {
   "cell_type": "markdown",
   "id": "2dbb0215-30da-491b-8836-c87bf2ac6216",
   "metadata": {},
   "source": [
    "30. Develop a code that prompts the user to input two sets of strings. Then print the symmetric difference of\n",
    "these two sets."
   ]
  },
  {
   "cell_type": "code",
   "execution_count": 54,
   "id": "0a3869cb-3da6-41c9-a46a-22528dd9d8d4",
   "metadata": {},
   "outputs": [
    {
     "name": "stdin",
     "output_type": "stream",
     "text": [
      "Enter the first set of strings (separated by commas):  apple,banana,cherry\n",
      "Enter the second set of strings (separated by commas):  banana,date,cherry\n"
     ]
    },
    {
     "name": "stdout",
     "output_type": "stream",
     "text": [
      "Symmetric difference of the two sets: {'date', 'apple'}\n"
     ]
    }
   ],
   "source": [
    "def get_set_from_input(prompt):\n",
    "   user_input = input(prompt)\n",
    "   return set(string.strip() for string in user_input.split(','))\n",
    "\n",
    "set1 = get_set_from_input(\"Enter the first set of strings (separated by commas): \")\n",
    "set2 = get_set_from_input(\"Enter the second set of strings (separated by commas): \")\n",
    "\n",
    "symmetric_difference_set = set1.symmetric_difference(set2)\n",
    "print(\"Symmetric difference of the two sets:\", symmetric_difference_set)\n"
   ]
  },
  {
   "cell_type": "markdown",
   "id": "fa083b89-6c4c-4c73-be6b-ac66486f54e4",
   "metadata": {},
   "source": [
    "31. Write a code that takes a list of words as input and returns a dictionary where the keys are unique words\n",
    "and the values are the frequencies of those words in the input list."
   ]
  },
  {
   "cell_type": "code",
   "execution_count": 59,
   "id": "ae35612d-f111-4c30-868e-61ee30d3e0e3",
   "metadata": {},
   "outputs": [
    {
     "name": "stdin",
     "output_type": "stream",
     "text": [
      "Enter a list of words (separated by spaces):  apple banana cherry apple banana cherry\n"
     ]
    },
    {
     "name": "stdout",
     "output_type": "stream",
     "text": [
      "Word frequencies: {'apple': 2, 'banana': 2, 'cherry': 2}\n"
     ]
    }
   ],
   "source": [
    "def count_word_frequencies(words_list):\n",
    "   word_frequencies = {}\n",
    "   for word in words_list:\n",
    "       if word in word_frequencies:\n",
    "            word_frequencies[word] += 1\n",
    "       else:\n",
    "            word_frequencies[word] = 1\n",
    "   return word_frequencies\n",
    "\n",
    "\n",
    "input_words = input(\"Enter a list of words (separated by spaces): \").split()\n",
    "word_frequencies = count_word_frequencies(input_words)\n",
    "print(\"Word frequencies:\", word_frequencies)\n"
   ]
  },
  {
   "cell_type": "markdown",
   "id": "0c35955f-396d-49bf-923a-ac1911ab29ae",
   "metadata": {},
   "source": [
    "32Write a code that takes two dictionaries as input and merges them into a single dictionary. If there are\n",
    "common kes the values should be added together"
   ]
  },
  {
   "cell_type": "code",
   "execution_count": 60,
   "id": "90e6f534-6247-46c4-89bb-57ba8f67018d",
   "metadata": {},
   "outputs": [
    {
     "name": "stdout",
     "output_type": "stream",
     "text": [
      "Merged dictionary: {'a': 1, 'b': 5, 'c': 7, 'd': 5}\n"
     ]
    }
   ],
   "source": [
    "def merge_dictionaries(dict1, dict2):\n",
    "   merged_dict = dict1.copy()\n",
    "   for key, value in dict2.items():\n",
    "        if key in merged_dict:\n",
    "            merged_dict[key] += value\n",
    "        else:\n",
    "            merged_dict[key] = value\n",
    "    \n",
    "   return merged_dict\n",
    "\n",
    "\n",
    "dict1 = {'a': 1, 'b': 2, 'c': 3}\n",
    "dict2 = {'b': 3, 'c': 4, 'd': 5}\n",
    "\n",
    "merged_dict = merge_dictionaries(dict1, dict2)\n",
    "\n",
    "\n",
    "print(\"Merged dictionary:\", merged_dict)\n"
   ]
  },
  {
   "cell_type": "markdown",
   "id": "839790aa-5945-4698-812f-2cac7a5592f1",
   "metadata": {},
   "source": [
    "33. Write a code to access a value in a nested dictionary. The function should take the dictionary and a list of\n",
    "keys as input and return the corresponding value. If any of the keys do not exist in the dictionary the\n",
    "function should return None."
   ]
  },
  {
   "cell_type": "code",
   "execution_count": 61,
   "id": "17cae2ba-4974-41a8-877f-7cbe04b93738",
   "metadata": {},
   "outputs": [
    {
     "name": "stdout",
     "output_type": "stream",
     "text": [
      "10\n"
     ]
    }
   ],
   "source": [
    "def access_nested_value(dictionary, keys):\n",
    "  \n",
    "\n",
    "  current_dict = dictionary\n",
    "  for key in keys:\n",
    "    if not isinstance(current_dict, dict) or key not in current_dict:\n",
    "      return None\n",
    "    current_dict = current_dict[key]\n",
    "  return current_dict\n",
    "\n",
    "# Example usage:\n",
    "nested_dict = {\n",
    "    \"a\": {\n",
    "        \"b\": {\n",
    "            \"c\": 10\n",
    "        }\n",
    "    }\n",
    "}\n",
    "keys_to_access = [\"a\", \"b\", \"c\"]\n",
    "value = access_nested_value(nested_dict, keys_to_access)\n",
    "print(value)  "
   ]
  },
  {
   "cell_type": "markdown",
   "id": "424ba329-7d5f-45cf-9232-def68d7785e1",
   "metadata": {},
   "source": [
    "34.  Write a code that takes a dictionary as input and returns a sorted version of it based on the values. You\n",
    "can choose whether to sort in ascending or descending order."
   ]
  },
  {
   "cell_type": "code",
   "execution_count": 63,
   "id": "22e06876-c611-4857-9ef3-fb94ceb271ad",
   "metadata": {},
   "outputs": [
    {
     "name": "stdout",
     "output_type": "stream",
     "text": [
      "Sorted dictionary (ascending): {'banana': 2, 'date': 3, 'apple': 5, 'cherry': 7}\n",
      "Sorted dictionary (descending): {'cherry': 7, 'apple': 5, 'date': 3, 'banana': 2}\n"
     ]
    }
   ],
   "source": [
    "def sort_dict_by_values(input_dict, ascending=True):\n",
    "   sorted_items = sorted(input_dict.items(), key=lambda item: item[1], reverse=not ascending)\n",
    "   sorted_dict = dict(sorted_items)\n",
    "   return sorted_dict\n",
    "\n",
    "input_dict = {'apple': 5,'banana': 2,'cherry': 7,'date': 3}\n",
    "\n",
    "sorted_dict_asc = sort_dict_by_values(input_dict, ascending=True)\n",
    "print(\"Sorted dictionary (ascending):\", sorted_dict_asc)\n",
    "\n",
    "sorted_dict_desc = sort_dict_by_values(input_dict, ascending=False)\n",
    "print(\"Sorted dictionary (descending):\", sorted_dict_desc)\n"
   ]
  },
  {
   "cell_type": "markdown",
   "id": "dec2ab16-7a31-42ad-b9f8-ad36fed8e384",
   "metadata": {},
   "source": [
    "35. Write a code that inverts a dictionary swapping keys and values. Ensure that the inverted dictionary\n",
    "correctly handles cases where multiple keys have the same value by storing the keys as a list in the\n",
    "inverted dictionary."
   ]
  },
  {
   "cell_type": "code",
   "execution_count": 65,
   "id": "69b2fe22-4699-4070-80dd-338bebc6ec93",
   "metadata": {},
   "outputs": [
    {
     "name": "stdout",
     "output_type": "stream",
     "text": [
      "{1: ['a', 'c'], 2: ['b']}\n"
     ]
    }
   ],
   "source": [
    "def invert_dictionary(dictionary):\n",
    "  inverted_dict = {}\n",
    "  for key, value in dictionary.items():\n",
    "    if value in inverted_dict:\n",
    "      inverted_dict[value].append(key)\n",
    "    else:\n",
    "      inverted_dict[value] = [key]\n",
    "  return inverted_dict\n",
    "\n",
    "\n",
    "my_dict = {\"a\": 1, \"b\": 2, \"c\": 1}\n",
    "inverted_dict = invert_dictionary(my_dict)\n",
    "print(inverted_dict) "
   ]
  }
 ],
 "metadata": {
  "kernelspec": {
   "display_name": "Python 3 (ipykernel)",
   "language": "python",
   "name": "python3"
  },
  "language_info": {
   "codemirror_mode": {
    "name": "ipython",
    "version": 3
   },
   "file_extension": ".py",
   "mimetype": "text/x-python",
   "name": "python",
   "nbconvert_exporter": "python",
   "pygments_lexer": "ipython3",
   "version": "3.11.4"
  }
 },
 "nbformat": 4,
 "nbformat_minor": 5
}
